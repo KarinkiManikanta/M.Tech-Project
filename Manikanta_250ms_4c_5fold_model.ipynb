{
 "cells": [
  {
   "cell_type": "code",
   "execution_count": 1,
   "metadata": {},
   "outputs": [],
   "source": [
    "from sklearn import preprocessing\n",
    "import matplotlib.pyplot as plt\n",
    "import numpy as np\n",
    "import pandas as pd\n",
    "import shutil\n",
    "import os\n",
    "import requests\n",
    "import base64\n",
    "\n",
    "\n",
    "# Encode text values to dummy variables(i.e. [1,0,0],[0,1,0],[0,0,1] for red,green,blue)\n",
    "def encode_text_dummy(df, name):\n",
    "    dummies = pd.get_dummies(df[name])\n",
    "    for x in dummies.columns:\n",
    "        dummy_name = \"{}-{}\".format(name, x)\n",
    "        df[dummy_name] = dummies[x]\n",
    "    df.drop(name, axis=1, inplace=True)\n",
    "\n",
    "\n",
    "# Encode text values to a single dummy variable.  The new columns (which do not replace the old) will have a 1\n",
    "# at every location where the original column (name) matches each of the target_values.  One column is added for\n",
    "# each target value.\n",
    "def encode_text_single_dummy(df, name, target_values):\n",
    "    for tv in target_values:\n",
    "        l = list(df[name].astype(str))\n",
    "        l = [1 if str(x) == str(tv) else 0 for x in l]\n",
    "        name2 = \"{}-{}\".format(name, tv)\n",
    "        df[name2] = l\n",
    "\n",
    "\n",
    "# Encode text values to indexes(i.e. [1],[2],[3] for red,green,blue).\n",
    "def encode_text_index(df, name):\n",
    "    le = preprocessing.LabelEncoder()\n",
    "    df[name] = le.fit_transform(df[name])\n",
    "    return le.classes_\n",
    "\n",
    "\n",
    "# Encode a numeric column as zscores\n",
    "def encode_numeric_zscore(df, name, mean=None, sd=None):\n",
    "    if mean is None:\n",
    "        mean = df[name].mean()\n",
    "\n",
    "    if sd is None:\n",
    "        sd = df[name].std()\n",
    "\n",
    "    df[name] = (df[name] - mean) / sd\n",
    "\n",
    "\n",
    "# Convert all missing values in the specified column to the median\n",
    "def missing_median(df, name):\n",
    "    med = df[name].median()\n",
    "    df[name] = df[name].fillna(med)\n",
    "\n",
    "\n",
    "# Convert all missing values in the specified column to the default\n",
    "def missing_default(df, name, default_value):\n",
    "    df[name] = df[name].fillna(default_value)\n",
    "\n",
    "\n",
    "# Convert a Pandas dataframe to the x,y inputs that TensorFlow needs\n",
    "def to_xy(df, target):\n",
    "    result = []\n",
    "    for x in df.columns:\n",
    "        if x != target:\n",
    "            result.append(x)\n",
    "    # find out the type of the target column.  Is it really this hard? :(\n",
    "    target_type = df[target].dtypes\n",
    "    target_type = target_type[0] if hasattr(target_type, '__iter__') else target_type\n",
    "    # Encode to int for classification, float otherwise. TensorFlow likes 32 bits.\n",
    "    if target_type in (np.int64, np.int32):\n",
    "        # Classification\n",
    "        dummies = pd.get_dummies(df[target])\n",
    "        return df.as_matrix(result).astype(np.float32), dummies.as_matrix().astype(np.float32)\n",
    "    else:\n",
    "        # Regression\n",
    "        return df.as_matrix(result).astype(np.float32), df.as_matrix([target]).astype(np.float32)\n",
    "\n",
    "# Nicely formatted time string\n",
    "def hms_string(sec_elapsed):\n",
    "    h = int(sec_elapsed / (60 * 60))\n",
    "    m = int((sec_elapsed % (60 * 60)) / 60)\n",
    "    s = sec_elapsed % 60\n",
    "    return \"{}:{:>02}:{:>05.2f}\".format(h, m, s)\n",
    "\n",
    "\n",
    "# Regression chart.\n",
    "def chart_regression(pred,y,sort=True):\n",
    "    t = pd.DataFrame({'pred' : pred, 'y' : y.flatten()})\n",
    "    if sort:\n",
    "        t.sort_values(by=['y'],inplace=True)\n",
    "    a = plt.plot(t['y'].tolist(),label='expected')\n",
    "    b = plt.plot(t['pred'].tolist(),label='prediction')\n",
    "    plt.ylabel('output')\n",
    "    plt.legend()\n",
    "    plt.show()\n",
    "\n",
    "# Remove all rows where the specified column is +/- sd standard deviations\n",
    "def remove_outliers(df, name, sd):\n",
    "    drop_rows = df.index[(np.abs(df[name] - df[name].mean()) >= (sd * df[name].std()))]\n",
    "    df.drop(drop_rows, axis=0, inplace=True)\n",
    "\n",
    "\n",
    "# Encode a column to a range between normalized_low and normalized_high.\n",
    "def encode_numeric_range(df, name, normalized_low=-1, normalized_high=1,\n",
    "                         data_low=None, data_high=None):\n",
    "    if data_low is None:\n",
    "        data_low = min(df[name])\n",
    "        data_high = max(df[name])\n",
    "\n",
    "    df[name] = ((df[name] - data_low) / (data_high - data_low)) \\\n",
    "               * (normalized_high - normalized_low) + normalized_low\n",
    "    %matplotlib inline\n",
    "    \n",
    "import matplotlib.pyplot as plt\n",
    "from sklearn.metrics import roc_curve, auc\n",
    "\n",
    "# Plot a confusion matrix.\n",
    "# cm is the confusion matrix, names are the names of the classes.\n",
    "def plot_confusion_matrix(cm, names, title='Confusion matrix', cmap=plt.cm.Blues):\n",
    "    plt.imshow(cm, interpolation='nearest', cmap=cmap)\n",
    "    plt.title(title)\n",
    "    plt.colorbar()\n",
    "    tick_marks = np.arange(len(names))\n",
    "    plt.xticks(tick_marks, names, rotation=45)\n",
    "    plt.yticks(tick_marks, names)\n",
    "    plt.tight_layout()\n",
    "    plt.ylabel('True label')\n",
    "    plt.xlabel('Predicted label')\n",
    "        "
   ]
  },
  {
   "cell_type": "code",
   "execution_count": 1,
   "metadata": {},
   "outputs": [
    {
     "name": "stderr",
     "output_type": "stream",
     "text": [
      "Using TensorFlow backend.\n"
     ]
    }
   ],
   "source": [
    "import pandas as pd\n",
    "import os\n",
    "import time\n",
    "import numpy as np\n",
    "import io\n",
    "import requests\n",
    "from sklearn import metrics\n",
    "from scipy.stats import zscore\n",
    "from sklearn.model_selection import train_test_split\n",
    "from sklearn.model_selection import KFold\n",
    "from keras.models import Sequential\n",
    "from keras.layers.core import Dense, Activation\n",
    "from keras.callbacks import EarlyStopping\n",
    "import tensorflow as tf\n",
    "from keras.callbacks import ModelCheckpoint\n",
    "import matplotlib.pyplot as plt\n",
    "from sklearn import svm, datasets\n",
    "from sklearn.metrics import confusion_matrix"
   ]
  },
  {
   "cell_type": "code",
   "execution_count": 3,
   "metadata": {},
   "outputs": [
    {
     "data": {
      "text/html": [
       "<div>\n",
       "<style scoped>\n",
       "    .dataframe tbody tr th:only-of-type {\n",
       "        vertical-align: middle;\n",
       "    }\n",
       "\n",
       "    .dataframe tbody tr th {\n",
       "        vertical-align: top;\n",
       "    }\n",
       "\n",
       "    .dataframe thead th {\n",
       "        text-align: right;\n",
       "    }\n",
       "</style>\n",
       "<table border=\"1\" class=\"dataframe\">\n",
       "  <thead>\n",
       "    <tr style=\"text-align: right;\">\n",
       "      <th></th>\n",
       "      <th>MFCC0</th>\n",
       "      <th>MFCC1</th>\n",
       "      <th>MFCC2</th>\n",
       "      <th>MFCC3</th>\n",
       "      <th>MFCC4</th>\n",
       "      <th>MFCC5</th>\n",
       "      <th>MFCC6</th>\n",
       "      <th>MFCC7</th>\n",
       "      <th>MFCC8</th>\n",
       "      <th>MFCC9</th>\n",
       "      <th>MFCC10</th>\n",
       "      <th>MFCC11</th>\n",
       "      <th>MFCC12</th>\n",
       "      <th>Label</th>\n",
       "    </tr>\n",
       "  </thead>\n",
       "  <tbody>\n",
       "    <tr>\n",
       "      <th>0</th>\n",
       "      <td>-1.156698</td>\n",
       "      <td>30.177571</td>\n",
       "      <td>14.660770</td>\n",
       "      <td>3.607221</td>\n",
       "      <td>0.288360</td>\n",
       "      <td>2.769165</td>\n",
       "      <td>-3.234655</td>\n",
       "      <td>6.639185</td>\n",
       "      <td>-1.344169</td>\n",
       "      <td>4.468443</td>\n",
       "      <td>-2.958039</td>\n",
       "      <td>2.068470</td>\n",
       "      <td>1.180088</td>\n",
       "      <td>AC &amp; FAN</td>\n",
       "    </tr>\n",
       "    <tr>\n",
       "      <th>1</th>\n",
       "      <td>-1.057954</td>\n",
       "      <td>30.020239</td>\n",
       "      <td>14.655350</td>\n",
       "      <td>4.016522</td>\n",
       "      <td>0.670491</td>\n",
       "      <td>2.716826</td>\n",
       "      <td>-2.725660</td>\n",
       "      <td>6.585149</td>\n",
       "      <td>-0.531257</td>\n",
       "      <td>5.018496</td>\n",
       "      <td>-1.769480</td>\n",
       "      <td>2.426556</td>\n",
       "      <td>1.197883</td>\n",
       "      <td>AC &amp; FAN</td>\n",
       "    </tr>\n",
       "    <tr>\n",
       "      <th>2</th>\n",
       "      <td>-1.038729</td>\n",
       "      <td>30.297200</td>\n",
       "      <td>14.477445</td>\n",
       "      <td>4.185600</td>\n",
       "      <td>-0.013551</td>\n",
       "      <td>2.507586</td>\n",
       "      <td>-2.385098</td>\n",
       "      <td>7.583516</td>\n",
       "      <td>0.821473</td>\n",
       "      <td>5.668451</td>\n",
       "      <td>-2.216360</td>\n",
       "      <td>1.834316</td>\n",
       "      <td>0.287000</td>\n",
       "      <td>AC &amp; FAN</td>\n",
       "    </tr>\n",
       "    <tr>\n",
       "      <th>3</th>\n",
       "      <td>-1.031753</td>\n",
       "      <td>30.308872</td>\n",
       "      <td>14.390459</td>\n",
       "      <td>4.556633</td>\n",
       "      <td>-0.998314</td>\n",
       "      <td>2.591629</td>\n",
       "      <td>-2.220589</td>\n",
       "      <td>7.024910</td>\n",
       "      <td>-0.051632</td>\n",
       "      <td>5.291946</td>\n",
       "      <td>-1.373251</td>\n",
       "      <td>1.892320</td>\n",
       "      <td>0.522117</td>\n",
       "      <td>AC &amp; FAN</td>\n",
       "    </tr>\n",
       "    <tr>\n",
       "      <th>4</th>\n",
       "      <td>-1.008919</td>\n",
       "      <td>30.663115</td>\n",
       "      <td>14.199688</td>\n",
       "      <td>3.618487</td>\n",
       "      <td>-2.098603</td>\n",
       "      <td>1.240299</td>\n",
       "      <td>-3.486570</td>\n",
       "      <td>8.769523</td>\n",
       "      <td>1.134318</td>\n",
       "      <td>5.685237</td>\n",
       "      <td>-0.009215</td>\n",
       "      <td>2.604023</td>\n",
       "      <td>0.304691</td>\n",
       "      <td>AC &amp; FAN</td>\n",
       "    </tr>\n",
       "  </tbody>\n",
       "</table>\n",
       "</div>"
      ],
      "text/plain": [
       "      MFCC0      MFCC1      MFCC2     MFCC3     MFCC4     MFCC5     MFCC6  \\\n",
       "0 -1.156698  30.177571  14.660770  3.607221  0.288360  2.769165 -3.234655   \n",
       "1 -1.057954  30.020239  14.655350  4.016522  0.670491  2.716826 -2.725660   \n",
       "2 -1.038729  30.297200  14.477445  4.185600 -0.013551  2.507586 -2.385098   \n",
       "3 -1.031753  30.308872  14.390459  4.556633 -0.998314  2.591629 -2.220589   \n",
       "4 -1.008919  30.663115  14.199688  3.618487 -2.098603  1.240299 -3.486570   \n",
       "\n",
       "      MFCC7     MFCC8     MFCC9    MFCC10    MFCC11    MFCC12     Label  \n",
       "0  6.639185 -1.344169  4.468443 -2.958039  2.068470  1.180088  AC & FAN  \n",
       "1  6.585149 -0.531257  5.018496 -1.769480  2.426556  1.197883  AC & FAN  \n",
       "2  7.583516  0.821473  5.668451 -2.216360  1.834316  0.287000  AC & FAN  \n",
       "3  7.024910 -0.051632  5.291946 -1.373251  1.892320  0.522117  AC & FAN  \n",
       "4  8.769523  1.134318  5.685237 -0.009215  2.604023  0.304691  AC & FAN  "
      ]
     },
     "execution_count": 3,
     "metadata": {},
     "output_type": "execute_result"
    }
   ],
   "source": [
    "# Read MFCCs feature CSV file of audio of 100ms block\n",
    "\n",
    "path=\"/home/bsplab/Desktop/manikanta/16khz_data/NEWFRAME_SHIFTING_DATA/FNN+MFCC_nesshifting/250ms/training\"\n",
    "#filename=os.path.join(path,\"5class_100ms_file.csv\")\n",
    "#filename=os.path.join(path,\"/home/iit/Desktop/project_mani/5classfet1.csv\")\n",
    "df=pd.read_csv(\"/home/bsplab/Desktop/manikanta/16khz_data/NEWFRAME_SHIFTING_DATA/FNN+MFCC_nesshifting/250ms/training/final_250ms.csv\")\n",
    "df.columns=['MFCC0', 'MFCC1','MFCC2','MFCC3','MFCC4','MFCC5','MFCC6','MFCC7','MFCC8', 'MFCC9', 'MFCC10' ,'MFCC11', 'MFCC12', 'Label']\n",
    "filename_write = os.path.join(path,\"/home/bsplab/Desktop/manikanta/16khz_data/NEWFRAME_SHIFTING_DATA/FNN+MFCC_nesshifting/250ms/training/4class_new250ms_write.csv\")\n",
    "#df=pd.read_csv(filename)\n",
    "df.head()"
   ]
  },
  {
   "cell_type": "code",
   "execution_count": 4,
   "metadata": {},
   "outputs": [],
   "source": [
    "# Shuffle\n",
    "np.random.seed(42)\n",
    "df = df.reindex(np.random.permutation(df.index))\n",
    "df.reset_index(inplace=True, drop=True)\n"
   ]
  },
  {
   "cell_type": "code",
   "execution_count": 5,
   "metadata": {},
   "outputs": [
    {
     "name": "stdout",
     "output_type": "stream",
     "text": [
      "Labelling is:['AC & FAN' 'CRYING' 'MUSIC' 'SPEECH']\n"
     ]
    },
    {
     "name": "stderr",
     "output_type": "stream",
     "text": [
      "/home/bsplab/anaconda3/lib/python3.6/site-packages/ipykernel_launcher.py:73: FutureWarning: Method .as_matrix will be removed in a future version. Use .values instead.\n"
     ]
    }
   ],
   "source": [
    "# Encode to a 2D matrix for training\n",
    "Label=encode_text_index(df,'Label')\n",
    "print(\"Labelling is:{}\".format(Label))\n",
    "\n",
    "############################################################################################\n",
    "\n",
    "# Sperating Independent variable and Target Variable\n",
    "x,y=to_xy(df,'Label')"
   ]
  },
  {
   "cell_type": "code",
   "execution_count": 6,
   "metadata": {},
   "outputs": [],
   "source": [
    "# Keep a 20% holdout\n",
    "x_main, x_holdout, y_main, y_holdout = train_test_split(    \n",
    "    x, y, test_size=0.20) "
   ]
  },
  {
   "cell_type": "code",
   "execution_count": 7,
   "metadata": {},
   "outputs": [
    {
     "name": "stdout",
     "output_type": "stream",
     "text": [
      "Shape of x : (1151855, 13)\n",
      "Shape of y : (1151855, 4)\n",
      "Shape of x_main : (921484, 13)\n",
      "Shape of x_holdout : (230371, 13)\n",
      "Shape of y_main : (921484, 4)\n",
      "Shape of y_holdout : (230371, 4)\n"
     ]
    }
   ],
   "source": [
    "print(\"Shape of x : {}\".format(x.shape))\n",
    "print(\"Shape of y : {}\".format(y.shape))\n",
    "print(\"Shape of x_main : {}\".format(x_main.shape))\n",
    "print(\"Shape of x_holdout : {}\".format(x_holdout.shape))\n",
    "print(\"Shape of y_main : {}\".format(y_main.shape))\n",
    "print(\"Shape of y_holdout : {}\".format(y_holdout.shape))"
   ]
  },
  {
   "cell_type": "code",
   "execution_count": 8,
   "metadata": {},
   "outputs": [
    {
     "name": "stdout",
     "output_type": "stream",
     "text": [
      "Fold #1\n",
      "Fold score (accuracy): 0.9805314248197203\n",
      "Elapsed time: 0:05:54.40\n",
      "Confusion matrix, without normalization\n",
      "[[45942     0     1     1]\n",
      " [    4 44955   550   422]\n",
      " [   10   336 44796   972]\n",
      " [    9   417   866 45016]]\n",
      "Fold #2\n",
      "Fold score (accuracy): 0.9805368508440181\n",
      "Elapsed time: 0:06:02.15\n",
      "Confusion matrix, without normalization\n",
      "[[45822     2     3     6]\n",
      " [    0 45401   539   467]\n",
      " [    6   378 44654  1055]\n",
      " [   10   329   792 44833]]\n",
      "Fold #3\n",
      "Fold score (accuracy): 0.9801190469730924\n",
      "Elapsed time: 0:06:11.09\n",
      "Confusion matrix, without normalization\n",
      "[[45836     7     5     0]\n",
      " [    1 45346   444   305]\n",
      " [   10   389 44905  1080]\n",
      " [   10   616   797 44546]]\n",
      "Fold #4\n",
      "Fold score (accuracy): 0.979674112980678\n",
      "Elapsed time: 0:06:18.46\n",
      "Confusion matrix, without normalization\n",
      "[[45990     2     3     0]\n",
      " [    0 44980   568   443]\n",
      " [   13   377 44649   929]\n",
      " [    6   447   958 44932]]\n",
      "Fold #5\n",
      "Fold score (accuracy): 0.9791585275860573\n",
      "Elapsed time: 0:06:29.03\n",
      "Confusion matrix, without normalization\n",
      "[[46533     0     1     2]\n",
      " [    2 45184   602   322]\n",
      " [    6   397 44299  1063]\n",
      " [   10   601   835 44439]]\n",
      "Final score (accuracy): 0.980003993558217\n",
      "_________________________________________________________________\n",
      "Layer (type)                 Output Shape              Param #   \n",
      "=================================================================\n",
      "dense_17 (Dense)             (None, 100)               1400      \n",
      "_________________________________________________________________\n",
      "dense_18 (Dense)             (None, 50)                5050      \n",
      "_________________________________________________________________\n",
      "dense_19 (Dense)             (None, 25)                1275      \n",
      "_________________________________________________________________\n",
      "dense_20 (Dense)             (None, 4)                 104       \n",
      "=================================================================\n",
      "Total params: 7,829\n",
      "Trainable params: 7,829\n",
      "Non-trainable params: 0\n",
      "_________________________________________________________________\n"
     ]
    }
   ],
   "source": [
    "# Cross-validate\n",
    "kf = KFold(5)\n",
    "epochs=30\n",
    "oos_y = []\n",
    "oos_pred = []\n",
    "fold = 0\n",
    "plot_loss = np.empty ((0,epochs))\n",
    "plot_acc = np.empty ((0,epochs))\n",
    "for train, test in kf.split(x_main):\n",
    "    fold+=1\n",
    "    print(\"Fold #{}\".format(fold))\n",
    "        \n",
    "    x_train = x_main[train]\n",
    "    y_train = y_main[train]\n",
    "    x_test = x_main[test]\n",
    "    y_test = y_main[test]\n",
    "#####################################################################################    \n",
    "# Training \n",
    "# Fully Connected Neural Network Model    \n",
    "    model = Sequential()\n",
    "    model.add(Dense(100, input_dim=x.shape[1], activation='relu')) # Hidden 1\n",
    "    model.add(Dense(50, activation='relu')) # Hidden 2\n",
    "    model.add(Dense(25, activation='relu')) # Hidden 3\n",
    "    model.add(Dense(y.shape[1],activation='softmax')) # Output\n",
    "    model.compile(loss='categorical_crossentropy', optimizer='adam',metrics=['acc'])\n",
    "    monitor = EarlyStopping(monitor='val_loss', min_delta=1e-3, patience=10, verbose=1, mode='auto') \n",
    "    checkpointer = ModelCheckpoint(filepath=\"best_weights_myFNN_new4C_250ms.hdf5\",\n",
    "                               verbose=2,\n",
    "                               save_best_only=True) # save best model\n",
    "\n",
    "    start_time = time.time()\n",
    "    history=model.fit(x_train,y_train,validation_data=(x_test,y_test),callbacks=[monitor],\n",
    "                      verbose=0,batch_size=128,epochs=epochs)\n",
    "    \n",
    "    #################################################################################\n",
    "    ## Testing \n",
    "    \n",
    "    pred = model.predict(x_test)\n",
    "    \n",
    "    oos_y.append(y_test)\n",
    "    pred = np.argmax(pred,axis=1) # raw probabilities to chosen class (highest probability)\n",
    "    oos_pred.append(pred)\n",
    "    \n",
    "#############################################################################################\n",
    "    \n",
    "    # Measure this fold's accuracy\n",
    "    y_compare = np.argmax(y_test,axis=1) # For accuracy calculation\n",
    "    score = metrics.accuracy_score(y_compare, pred)\n",
    "    print(\"Fold score (accuracy): {}\".format(score))\n",
    "    \n",
    "#######################\n",
    "    elapsed_time = time.time() - start_time\n",
    "    print(\"Elapsed time: {}\".format(hms_string(elapsed_time))) \n",
    "    \n",
    "####################################################################################################\n",
    "\n",
    "    ###############################################\n",
    "    loss = history.history['loss']\n",
    "    #plt.plot(epochs,loss,label=='Training loss')\n",
    "    acc = history.history['acc']\n",
    "    plot_loss = np.append (plot_loss, [loss],axis=0)\n",
    "    plot_acc = np.append (plot_acc, [acc],axis=0)\n",
    "    ###############################################\n",
    "    cm = confusion_matrix(y_compare,pred)\n",
    "    np.set_printoptions(precision=2)\n",
    "    print('Confusion matrix, without normalization')\n",
    "    print(cm)\n",
    "    ##############################################\n",
    "\n",
    "\n",
    "\n",
    "# Build the oos prediction list and calculate the error.\n",
    "oos_y = np.concatenate(oos_y)\n",
    "oos_pred = np.concatenate(oos_pred)\n",
    "oos_y_compare = np.argmax(oos_y,axis=1) # For accuracy calculation\n",
    "\n",
    "score = metrics.accuracy_score(oos_y_compare, oos_pred)\n",
    "print(\"Final score (accuracy): {}\".format(score))  \n",
    "\n",
    "#######################################################################################################    \n",
    "\n",
    "# Write the cross-validated prediction\n",
    "oos_y = pd.DataFrame(oos_y)\n",
    "oos_pred = pd.DataFrame(oos_pred)\n",
    "oosDF = pd.concat( [df, oos_y, oos_pred],axis=1 )\n",
    "oosDF.to_csv(filename_write,index=False)\n",
    "\n",
    "#####################################################################\n",
    "\n",
    "model.summary()"
   ]
  },
  {
   "cell_type": "code",
   "execution_count": 9,
   "metadata": {},
   "outputs": [
    {
     "data": {
      "image/png": "[encoded data removed]",
      "text/plain": [
       "<Figure size 432x288 with 1 Axes>"
      ]
     },
     "metadata": {
      "needs_background": "light"
     },
     "output_type": "display_data"
    }
   ],
   "source": [
    "plot_loss_graph = plot_loss\n",
    "itr=range(1,(epochs+1))\n",
    "for i in range(1,fold+1):\n",
    "    plt.plot(itr,plot_loss_graph[i-1],label=\"Fold #{}\".format(i))\n",
    "plt.title('Training and validation loss')\n",
    "plt.xlabel('Epochs')\n",
    "plt.ylabel('Loss')\n",
    "plt.legend()\n",
    "plt.grid()\n",
    "plt.savefig(\"mani_4C_loss_250ms.eps\")\n",
    "plt.savefig(\"mani_4class_loss_250ms.png\",dpi=150)\n",
    "plt.show()"
   ]
  },
  {
   "cell_type": "code",
   "execution_count": 10,
   "metadata": {},
   "outputs": [
    {
     "data": {
      "image/png": "[encoded data removed]",
      "text/plain": [
       "<Figure size 432x288 with 1 Axes>"
      ]
     },
     "metadata": {
      "needs_background": "light"
     },
     "output_type": "display_data"
    }
   ],
   "source": [
    "plt.clf()\n",
    "plot_acc_graph = plot_acc\n",
    "itr=range(1,(epochs+1))\n",
    "for i in range(1,fold+1):\n",
    "    plt.plot(itr,plot_acc_graph[i-1],label=\"Fold #{}\".format(i))\n",
    "plt.title('Training and validation accuracy')\n",
    "plt.xlabel('Epochs')\n",
    "plt.ylabel('Accuracy')\n",
    "plt.legend()\n",
    "plt.grid()\n",
    "plt.savefig(\"mani_k-fold_4C_acc_250ms.eps\",dpi=150)\n",
    "plt.savefig('mani_k-fold_4C_acc_250ms.png',dpi=150)\n",
    "plt.show()"
   ]
  },
  {
   "cell_type": "code",
   "execution_count": 11,
   "metadata": {},
   "outputs": [],
   "source": [
    "from keras.utils.vis_utils import plot_model\n",
    "#import pydot\n",
    "#import pydot as pydot\n",
    "import matplotlib.pyplot as plt\n",
    "#from keras.utils.vis_utils import plot_model\n",
    "plot_model(model, to_file='my_mani_250ms.png', show_shapes=True, show_layer_names=True)"
   ]
  },
  {
   "cell_type": "code",
   "execution_count": 12,
   "metadata": {},
   "outputs": [
    {
     "name": "stdout",
     "output_type": "stream",
     "text": [
      "Populating the interactive namespace from numpy and matplotlib\n"
     ]
    },
    {
     "name": "stderr",
     "output_type": "stream",
     "text": [
      "/home/bsplab/anaconda3/lib/python3.6/site-packages/IPython/core/magics/pylab.py:160: UserWarning: pylab import has clobbered these variables: ['cm', 'test']\n",
      "`%matplotlib` prevents importing * from pylab and numpy\n",
      "  \"\\n`%matplotlib` prevents importing * from pylab and numpy\"\n"
     ]
    },
    {
     "data": {
      "image/png": "[encoded data removed]",
      "text/plain": [
       "<Figure size 432x288 with 1 Axes>"
      ]
     },
     "metadata": {
      "needs_background": "light"
     },
     "output_type": "display_data"
    }
   ],
   "source": [
    "%pylab inline\n",
    "import matplotlib.pyplot as plt\n",
    "import matplotlib.image as mpimg\n",
    "img=mpimg.imread('my_mani_250ms.png')\n",
    "imgplot = plt.imshow(img)\n",
    "plt.show()\n",
    "from PIL import Image\n",
    "image = Image.open('my_mani_250ms.png')\n",
    "image.show()\n"
   ]
  },
  {
   "cell_type": "code",
   "execution_count": 13,
   "metadata": {},
   "outputs": [],
   "source": [
    "## Turn off the scintific notation \n",
    "np.set_printoptions(suppress=True)"
   ]
  },
  {
   "cell_type": "code",
   "execution_count": 14,
   "metadata": {},
   "outputs": [
    {
     "name": "stdout",
     "output_type": "stream",
     "text": [
      "3799.0341186523438ms\n"
     ]
    }
   ],
   "source": [
    "# Write the cross-validated prediction \n",
    "import time\n",
    "tic = time.time()\n",
    "holdout_pred = model.predict(x_holdout)\n",
    "toc = time.time()\n",
    "print(str(1000*(toc-tic))+\"ms\")"
   ]
  },
  {
   "cell_type": "code",
   "execution_count": 15,
   "metadata": {},
   "outputs": [
    {
     "name": "stdout",
     "output_type": "stream",
     "text": [
      "Log loss score of Holdout data: 0.05850444501906439\n"
     ]
    }
   ],
   "source": [
    "score = metrics.log_loss(y_holdout, holdout_pred)\n",
    "print(\"Log loss score of Holdout data: {}\".format(score))"
   ]
  },
  {
   "cell_type": "code",
   "execution_count": 16,
   "metadata": {},
   "outputs": [
    {
     "name": "stdout",
     "output_type": "stream",
     "text": [
      "Holdout accuracy: 0.9797196695764658\n",
      "Elapsed time: 0:07:02.88\n"
     ]
    }
   ],
   "source": [
    "# Measure accuracy\n",
    "holdout_pred = model.predict(x_holdout)\n",
    "holdout_pred = np.argmax(holdout_pred, axis=1)\n",
    "y_holdout_compare = np.argmax(y_holdout, axis=1)\n",
    "score = metrics.accuracy_score(y_holdout_compare, holdout_pred)\n",
    "print(\"Holdout accuracy: {}\".format(score))\n",
    "\n",
    "elapsed_time = time.time() - start_time\n",
    "print(\"Elapsed time: {}\".format(hms_string(elapsed_time)))"
   ]
  },
  {
   "cell_type": "code",
   "execution_count": 17,
   "metadata": {},
   "outputs": [
    {
     "name": "stdout",
     "output_type": "stream",
     "text": [
      "Confusion matrix, without normalization\n",
      "[[57807     0     0     0]\n",
      " [    0 56271   731   427]\n",
      " [    7   504 55768  1361]\n",
      " [   11   697   934 55853]]\n"
     ]
    },
    {
     "data": {
      "image/png": "[encoded data removed]",
      "text/plain": [
       "<Figure size 432x288 with 2 Axes>"
      ]
     },
     "metadata": {
      "needs_background": "light"
     },
     "output_type": "display_data"
    }
   ],
   "source": [
    "\n",
    "\n",
    "# Compute confusion matrix\n",
    "cm = confusion_matrix(y_holdout_compare, holdout_pred)\n",
    "np.set_printoptions(precision=2)\n",
    "print('Confusion matrix, without normalization')\n",
    "print(cm)\n",
    "plt.figure()\n",
    "plot_confusion_matrix(cm, Label)\n",
    "plt.savefig('cm_holdout_4C_myFNN_250ms.png',dpi=150)"
   ]
  },
  {
   "cell_type": "code",
   "execution_count": 18,
   "metadata": {},
   "outputs": [
    {
     "name": "stdout",
     "output_type": "stream",
     "text": [
      "Normalized confusion matrix\n",
      "[[1.   0.   0.   0.  ]\n",
      " [0.   0.98 0.01 0.01]\n",
      " [0.   0.01 0.97 0.02]\n",
      " [0.   0.01 0.02 0.97]]\n"
     ]
    },
    {
     "data": {
      "image/png": "[encoded data removed]",
      "text/plain": [
       "<Figure size 432x288 with 2 Axes>"
      ]
     },
     "metadata": {
      "needs_background": "light"
     },
     "output_type": "display_data"
    }
   ],
   "source": [
    "# Normalize the confusion matrix by row (i.e by the number of samples\n",
    "# in each class)\n",
    "cm_normalized = cm.astype('float') / cm.sum(axis=1)[:, np.newaxis]\n",
    "print('Normalized confusion matrix')\n",
    "print(cm_normalized)\n",
    "plt.figure()\n",
    "plot_confusion_matrix(cm_normalized, Label, title='Normalized confusion matrix of Holdout Prediction')\n",
    "plt.savefig('norm_cm_holdout_4C_myFNN.png',dpi=150)\n",
    "plt.show()"
   ]
  },
  {
   "cell_type": "code",
   "execution_count": 19,
   "metadata": {},
   "outputs": [
    {
     "name": "stdout",
     "output_type": "stream",
     "text": [
      "[[57807     0     0     0]\n",
      " [    0 56271   731   427]\n",
      " [    7   504 55768  1361]\n",
      " [   11   697   934 55853]]\n",
      "              precision    recall  f1-score   support\n",
      "\n",
      "           0       1.00      1.00      1.00     57807\n",
      "           1       0.98      0.98      0.98     57429\n",
      "           2       0.97      0.97      0.97     57640\n",
      "           3       0.97      0.97      0.97     57495\n",
      "\n",
      "   micro avg       0.98      0.98      0.98    230371\n",
      "   macro avg       0.98      0.98      0.98    230371\n",
      "weighted avg       0.98      0.98      0.98    230371\n",
      "\n"
     ]
    }
   ],
   "source": [
    "from sklearn.metrics import classification_report, confusion_matrix  \n",
    "print(confusion_matrix(y_holdout_compare, holdout_pred))  \n",
    "print(classification_report(y_holdout_compare, holdout_pred))"
   ]
  },
  {
   "cell_type": "code",
   "execution_count": 20,
   "metadata": {},
   "outputs": [
    {
     "name": "stdout",
     "output_type": "stream",
     "text": [
      "Confusion matrix, without normalization\n"
     ]
    },
    {
     "data": {
      "image/png": "[encoded data removed]",
      "text/plain": [
       "<Figure size 360x216 with 2 Axes>"
      ]
     },
     "metadata": {
      "needs_background": "light"
     },
     "output_type": "display_data"
    }
   ],
   "source": [
    "import matplotlib.pyplot as plt\n",
    "from sklearn.metrics import confusion_matrix\n",
    "import itertools\n",
    "def plot_confusion_matrix(cm, classes,\n",
    "                          normalize=False,\n",
    "                          title='Confusion matrix',\n",
    "                          cmap=plt.cm.Blues):\n",
    "    \"\"\"\n",
    "    This function prints and plots the confusion matrix.\n",
    "    Normalization can be applied by setting `normalize=True`.\n",
    "    \"\"\"\n",
    "    if normalize:\n",
    "        cm = cm.astype('float') / cm.sum(axis=1)[:, np.newaxis]\n",
    "        print(\"Normalized confusion matrix\")\n",
    "    else:\n",
    "        print('Confusion matrix, without normalization')\n",
    "\n",
    "    plt.imshow(cm, interpolation='nearest', cmap=cmap)\n",
    "    plt.title(title)\n",
    "    plt.colorbar()\n",
    "    tick_marks = np.arange(len(classes))\n",
    "    plt.xticks(tick_marks, classes, rotation=45)\n",
    "    plt.yticks(tick_marks, classes)\n",
    "\n",
    "    fmt = '.2f' if normalize else 'd'\n",
    "    thresh = cm.max() / 2.\n",
    "    for i, j in itertools.product(range(cm.shape[0]), range(cm.shape[1])):\n",
    "        plt.text(j, i, format(cm[i, j], fmt),\n",
    "                 horizontalalignment=\"center\",\n",
    "                 color=\"white\" if cm[i, j] > thresh else \"black\")\n",
    "\n",
    "    plt.tight_layout()\n",
    "    plt.ylabel('True label')\n",
    "    plt.xlabel('Predicted label')\n",
    "\n",
    "# Compute confusion matrix\n",
    "cnf_matrix = confusion_matrix(y_holdout_compare, holdout_pred)\n",
    "np.set_printoptions(precision=2)\n",
    "\n",
    "\n",
    "# Plot non-normalized confusion matrix\n",
    "plt.figure(figsize=(5,3))\n",
    "plot_confusion_matrix(cnf_matrix, classes=['AC & FAN', 'CRYING','MUSIC', 'SPEECH'],\n",
    "                      title='Confusion matrix_250')\n",
    "\n",
    "plt.savefig('kfold_fnn_mani_250ms.png')"
   ]
  },
  {
   "cell_type": "code",
   "execution_count": 21,
   "metadata": {},
   "outputs": [
    {
     "name": "stdout",
     "output_type": "stream",
     "text": [
      "Overall Accuracy:  97.97196695764659\n",
      "Precision:  97.97196695764659\n",
      "Sensitivity/Recall:  97.97196695764659\n",
      "Specificity:  97.97196695764659\n",
      "Error Rate:  2.0280330423534165\n",
      "F1-Score:  97.97196695764659\n"
     ]
    }
   ],
   "source": [
    "[[C1,E1,N1,S1],[C2,E2,N2,S2],[C3,E3,N3,S3],[C4,E4,N4,S4]]=cm\n",
    "\n",
    "TP=(cm[0][0]+cm[1][1]+cm[2][2]+cm[3][3])\n",
    "TN=(cm[0][0]+cm[1][1]+cm[2][2]+cm[3][3])\n",
    "FP=np.sum(cm)-TP\n",
    "FN=FP\n",
    "\n",
    "\n",
    "Acc=(cm[0][0]+cm[1][1]+cm[2][2]+cm[3][3])/np.sum(cm)\n",
    "print(\"Overall Accuracy: \",Acc*100)\n",
    "\n",
    "Pr=(TP)/(TP+FP)\n",
    "print(\"Precision: \",Pr*100)\n",
    "\n",
    "Se=(TP)/(TP+FN)\n",
    "print(\"Sensitivity/Recall: \",Se*100)\n",
    "\n",
    "Sp=(TN)/(TN+FP)\n",
    "print(\"Specificity: \",Sp*100)\n",
    "\n",
    "ER=1-Acc\n",
    "print(\"Error Rate: \",100*ER)\n",
    "\n",
    "F_score = 2*TP /(2*TP + FP + FN)\n",
    "print(\"F1-Score: \",F_score*100)"
   ]
  },
  {
   "cell_type": "code",
   "execution_count": 22,
   "metadata": {},
   "outputs": [
    {
     "name": "stdout",
     "output_type": "stream",
     "text": [
      "335.176944732666ms\n"
     ]
    }
   ],
   "source": [
    "tic = time.time()\n",
    "model.save('manikanta_FeedforwardNN_4class_250ms.h5')\n",
    "toc = time.time()\n",
    "print(str(1000*(toc-tic))+\"ms\")"
   ]
  },
  {
   "cell_type": "code",
   "execution_count": 3,
   "metadata": {},
   "outputs": [
    {
     "name": "stdout",
     "output_type": "stream",
     "text": [
      "928.9171695709229ms\n"
     ]
    }
   ],
   "source": [
    "from keras.models import load_model\n",
    "import time\n",
    "tic = time.time()\n",
    "loaded_mymodel= load_model('manikanta_FeedforwardNN_4class_250ms.h5')\n",
    "toc = time.time()\n",
    "print(str(1000*(toc-tic))+\"ms\")"
   ]
  },
  {
   "cell_type": "code",
   "execution_count": 4,
   "metadata": {},
   "outputs": [
    {
     "data": {
      "text/html": [
       "<div>\n",
       "<style scoped>\n",
       "    .dataframe tbody tr th:only-of-type {\n",
       "        vertical-align: middle;\n",
       "    }\n",
       "\n",
       "    .dataframe tbody tr th {\n",
       "        vertical-align: top;\n",
       "    }\n",
       "\n",
       "    .dataframe thead th {\n",
       "        text-align: right;\n",
       "    }\n",
       "</style>\n",
       "<table border=\"1\" class=\"dataframe\">\n",
       "  <thead>\n",
       "    <tr style=\"text-align: right;\">\n",
       "      <th></th>\n",
       "      <th>MFCC0</th>\n",
       "      <th>MFCC1</th>\n",
       "      <th>MFCC2</th>\n",
       "      <th>MFCC3</th>\n",
       "      <th>MFCC4</th>\n",
       "      <th>MFCC5</th>\n",
       "      <th>MFCC6</th>\n",
       "      <th>MFCC7</th>\n",
       "      <th>MFCC8</th>\n",
       "      <th>MFCC9</th>\n",
       "      <th>MFCC10</th>\n",
       "      <th>MFCC11</th>\n",
       "      <th>MFCC12</th>\n",
       "    </tr>\n",
       "  </thead>\n",
       "  <tbody>\n",
       "    <tr>\n",
       "      <th>0</th>\n",
       "      <td>-8.095517</td>\n",
       "      <td>-40.928589</td>\n",
       "      <td>-11.283037</td>\n",
       "      <td>-11.120009</td>\n",
       "      <td>-4.136025</td>\n",
       "      <td>0.669699</td>\n",
       "      <td>-4.562895</td>\n",
       "      <td>1.338511</td>\n",
       "      <td>-1.299369</td>\n",
       "      <td>1.942942</td>\n",
       "      <td>-8.822210</td>\n",
       "      <td>-6.907327</td>\n",
       "      <td>-4.427695</td>\n",
       "    </tr>\n",
       "    <tr>\n",
       "      <th>1</th>\n",
       "      <td>-7.880247</td>\n",
       "      <td>-40.343036</td>\n",
       "      <td>-10.699666</td>\n",
       "      <td>-13.257954</td>\n",
       "      <td>-6.047256</td>\n",
       "      <td>-1.898209</td>\n",
       "      <td>-5.260900</td>\n",
       "      <td>1.305905</td>\n",
       "      <td>-0.318195</td>\n",
       "      <td>3.280950</td>\n",
       "      <td>-6.743151</td>\n",
       "      <td>-6.882537</td>\n",
       "      <td>-3.812270</td>\n",
       "    </tr>\n",
       "    <tr>\n",
       "      <th>2</th>\n",
       "      <td>-7.722171</td>\n",
       "      <td>-38.703270</td>\n",
       "      <td>-8.784906</td>\n",
       "      <td>-12.351474</td>\n",
       "      <td>-5.241648</td>\n",
       "      <td>-1.322595</td>\n",
       "      <td>-3.209285</td>\n",
       "      <td>2.706275</td>\n",
       "      <td>0.683764</td>\n",
       "      <td>3.760362</td>\n",
       "      <td>-6.347248</td>\n",
       "      <td>-7.168957</td>\n",
       "      <td>-3.196146</td>\n",
       "    </tr>\n",
       "    <tr>\n",
       "      <th>3</th>\n",
       "      <td>-7.558341</td>\n",
       "      <td>-39.175531</td>\n",
       "      <td>-9.904624</td>\n",
       "      <td>-15.527202</td>\n",
       "      <td>-6.802992</td>\n",
       "      <td>-3.388236</td>\n",
       "      <td>-5.040289</td>\n",
       "      <td>0.199894</td>\n",
       "      <td>-1.262066</td>\n",
       "      <td>2.874513</td>\n",
       "      <td>-6.462555</td>\n",
       "      <td>-5.958353</td>\n",
       "      <td>-3.483960</td>\n",
       "    </tr>\n",
       "    <tr>\n",
       "      <th>4</th>\n",
       "      <td>-7.511335</td>\n",
       "      <td>-37.845630</td>\n",
       "      <td>-8.844158</td>\n",
       "      <td>-15.813363</td>\n",
       "      <td>-7.695126</td>\n",
       "      <td>-4.712958</td>\n",
       "      <td>-5.544584</td>\n",
       "      <td>0.323690</td>\n",
       "      <td>-0.175931</td>\n",
       "      <td>3.858462</td>\n",
       "      <td>-5.241707</td>\n",
       "      <td>-4.332614</td>\n",
       "      <td>-1.439539</td>\n",
       "    </tr>\n",
       "  </tbody>\n",
       "</table>\n",
       "</div>"
      ],
      "text/plain": [
       "      MFCC0      MFCC1      MFCC2      MFCC3     MFCC4     MFCC5     MFCC6  \\\n",
       "0 -8.095517 -40.928589 -11.283037 -11.120009 -4.136025  0.669699 -4.562895   \n",
       "1 -7.880247 -40.343036 -10.699666 -13.257954 -6.047256 -1.898209 -5.260900   \n",
       "2 -7.722171 -38.703270  -8.784906 -12.351474 -5.241648 -1.322595 -3.209285   \n",
       "3 -7.558341 -39.175531  -9.904624 -15.527202 -6.802992 -3.388236 -5.040289   \n",
       "4 -7.511335 -37.845630  -8.844158 -15.813363 -7.695126 -4.712958 -5.544584   \n",
       "\n",
       "      MFCC7     MFCC8     MFCC9    MFCC10    MFCC11    MFCC12  \n",
       "0  1.338511 -1.299369  1.942942 -8.822210 -6.907327 -4.427695  \n",
       "1  1.305905 -0.318195  3.280950 -6.743151 -6.882537 -3.812270  \n",
       "2  2.706275  0.683764  3.760362 -6.347248 -7.168957 -3.196146  \n",
       "3  0.199894 -1.262066  2.874513 -6.462555 -5.958353 -3.483960  \n",
       "4  0.323690 -0.175931  3.858462 -5.241707 -4.332614 -1.439539  "
      ]
     },
     "execution_count": 4,
     "metadata": {},
     "output_type": "execute_result"
    }
   ],
   "source": [
    "df1=pd.read_csv('/home/bsplab/Desktop/manikanta/16khz_data/NEWFRAME_SHIFTING_DATA/CNN+MFCC_newshifting/250ms/testing/cryingtest_250ms.csv')\n",
    "df1.columns=['MFCC0', 'MFCC1','MFCC2','MFCC3','MFCC4','MFCC5','MFCC6','MFCC7','MFCC8', 'MFCC9', 'MFCC10' ,'MFCC11', 'MFCC12']\n",
    "df1.head()"
   ]
  },
  {
   "cell_type": "code",
   "execution_count": 5,
   "metadata": {},
   "outputs": [
    {
     "name": "stdout",
     "output_type": "stream",
     "text": [
      "2046.9696521759033ms\n"
     ]
    },
    {
     "data": {
      "text/plain": [
       "(143981, 4)"
      ]
     },
     "execution_count": 5,
     "metadata": {},
     "output_type": "execute_result"
    }
   ],
   "source": [
    "\n",
    "tic = time.time()\n",
    "my_his=loaded_mymodel.predict(df1)\n",
    "toc = time.time()\n",
    "print(str(1000*(toc-tic))+\"ms\")\n",
    "\n",
    "my_his.shape\n"
   ]
  },
  {
   "cell_type": "code",
   "execution_count": 6,
   "metadata": {},
   "outputs": [
    {
     "name": "stdout",
     "output_type": "stream",
     "text": [
      "(143981,)\n"
     ]
    }
   ],
   "source": [
    "test_pred = np.argmax(my_his, axis=1)\n",
    "test_pred[150:380]\n",
    "print(test_pred.shape)"
   ]
  },
  {
   "cell_type": "code",
   "execution_count": 7,
   "metadata": {},
   "outputs": [
    {
     "data": {
      "text/plain": [
       "dtype('int64')"
      ]
     },
     "execution_count": 7,
     "metadata": {},
     "output_type": "execute_result"
    }
   ],
   "source": [
    "test_pred.dtype"
   ]
  },
  {
   "cell_type": "code",
   "execution_count": 12,
   "metadata": {},
   "outputs": [
    {
     "name": "stdout",
     "output_type": "stream",
     "text": [
      "Error\n",
      "Count is 18975\n"
     ]
    }
   ],
   "source": [
    "c =0\n",
    "for i in  test_pred:\n",
    "    if i== 3:\n",
    "         c += 1\n",
    "    else:\n",
    "        continue \n",
    "if c > test_pred.size/2:\n",
    "    print(\"The tested audio is Crying\")\n",
    "else:\n",
    "    print(\"Error\")\n",
    "       \n",
    "        \n",
    "print(\"Count is \" + str(c))\n",
    "\n",
    "\n",
    "    "
   ]
  },
  {
   "cell_type": "code",
   "execution_count": 31,
   "metadata": {},
   "outputs": [
    {
     "data": {
      "text/plain": [
       "99131"
      ]
     },
     "execution_count": 31,
     "metadata": {},
     "output_type": "execute_result"
    }
   ],
   "source": [
    "TP=sum(test_pred==1)\n",
    "TP"
   ]
  },
  {
   "cell_type": "code",
   "execution_count": 32,
   "metadata": {},
   "outputs": [
    {
     "name": "stdout",
     "output_type": "stream",
     "text": [
      "Accuracy is for testing with new environment data of Crying: 68.8500566046909\n"
     ]
    }
   ],
   "source": [
    "x=c/test_pred.size\n",
    "print('Accuracy is for testing with new environment data of Crying:',100*x)"
   ]
  },
  {
   "cell_type": "code",
   "execution_count": 13,
   "metadata": {},
   "outputs": [
    {
     "data": {
      "text/html": [
       "<div>\n",
       "<style scoped>\n",
       "    .dataframe tbody tr th:only-of-type {\n",
       "        vertical-align: middle;\n",
       "    }\n",
       "\n",
       "    .dataframe tbody tr th {\n",
       "        vertical-align: top;\n",
       "    }\n",
       "\n",
       "    .dataframe thead th {\n",
       "        text-align: right;\n",
       "    }\n",
       "</style>\n",
       "<table border=\"1\" class=\"dataframe\">\n",
       "  <thead>\n",
       "    <tr style=\"text-align: right;\">\n",
       "      <th></th>\n",
       "      <th>MFCC0</th>\n",
       "      <th>MFCC1</th>\n",
       "      <th>MFCC2</th>\n",
       "      <th>MFCC3</th>\n",
       "      <th>MFCC4</th>\n",
       "      <th>MFCC5</th>\n",
       "      <th>MFCC6</th>\n",
       "      <th>MFCC7</th>\n",
       "      <th>MFCC8</th>\n",
       "      <th>MFCC9</th>\n",
       "      <th>MFCC10</th>\n",
       "      <th>MFCC11</th>\n",
       "      <th>MFCC12</th>\n",
       "    </tr>\n",
       "  </thead>\n",
       "  <tbody>\n",
       "    <tr>\n",
       "      <th>0</th>\n",
       "      <td>-1.528069</td>\n",
       "      <td>24.999825</td>\n",
       "      <td>24.165910</td>\n",
       "      <td>12.674782</td>\n",
       "      <td>5.653173</td>\n",
       "      <td>7.214385</td>\n",
       "      <td>1.485795</td>\n",
       "      <td>8.789789</td>\n",
       "      <td>0.917394</td>\n",
       "      <td>6.621611</td>\n",
       "      <td>0.824606</td>\n",
       "      <td>1.492313</td>\n",
       "      <td>0.517273</td>\n",
       "    </tr>\n",
       "    <tr>\n",
       "      <th>1</th>\n",
       "      <td>-1.528101</td>\n",
       "      <td>25.323181</td>\n",
       "      <td>23.664504</td>\n",
       "      <td>13.609752</td>\n",
       "      <td>4.870912</td>\n",
       "      <td>8.285742</td>\n",
       "      <td>0.533066</td>\n",
       "      <td>9.859222</td>\n",
       "      <td>0.080067</td>\n",
       "      <td>7.785783</td>\n",
       "      <td>0.155050</td>\n",
       "      <td>2.907563</td>\n",
       "      <td>-0.180629</td>\n",
       "    </tr>\n",
       "    <tr>\n",
       "      <th>2</th>\n",
       "      <td>-1.662120</td>\n",
       "      <td>24.555502</td>\n",
       "      <td>27.534773</td>\n",
       "      <td>14.598178</td>\n",
       "      <td>3.038607</td>\n",
       "      <td>6.588641</td>\n",
       "      <td>-0.130420</td>\n",
       "      <td>10.277530</td>\n",
       "      <td>-1.088754</td>\n",
       "      <td>6.092309</td>\n",
       "      <td>-0.413334</td>\n",
       "      <td>3.373767</td>\n",
       "      <td>0.487513</td>\n",
       "    </tr>\n",
       "    <tr>\n",
       "      <th>3</th>\n",
       "      <td>-1.720085</td>\n",
       "      <td>25.011542</td>\n",
       "      <td>29.660180</td>\n",
       "      <td>15.009168</td>\n",
       "      <td>1.298934</td>\n",
       "      <td>6.233285</td>\n",
       "      <td>-0.534297</td>\n",
       "      <td>11.863069</td>\n",
       "      <td>-1.174127</td>\n",
       "      <td>5.151966</td>\n",
       "      <td>-0.809689</td>\n",
       "      <td>3.493457</td>\n",
       "      <td>0.284411</td>\n",
       "    </tr>\n",
       "    <tr>\n",
       "      <th>4</th>\n",
       "      <td>-1.617799</td>\n",
       "      <td>25.549126</td>\n",
       "      <td>29.992581</td>\n",
       "      <td>15.009510</td>\n",
       "      <td>1.345690</td>\n",
       "      <td>7.089722</td>\n",
       "      <td>-0.331442</td>\n",
       "      <td>12.892941</td>\n",
       "      <td>-1.058761</td>\n",
       "      <td>6.255099</td>\n",
       "      <td>-0.216735</td>\n",
       "      <td>3.898345</td>\n",
       "      <td>0.023903</td>\n",
       "    </tr>\n",
       "  </tbody>\n",
       "</table>\n",
       "</div>"
      ],
      "text/plain": [
       "      MFCC0      MFCC1      MFCC2      MFCC3     MFCC4     MFCC5     MFCC6  \\\n",
       "0 -1.528069  24.999825  24.165910  12.674782  5.653173  7.214385  1.485795   \n",
       "1 -1.528101  25.323181  23.664504  13.609752  4.870912  8.285742  0.533066   \n",
       "2 -1.662120  24.555502  27.534773  14.598178  3.038607  6.588641 -0.130420   \n",
       "3 -1.720085  25.011542  29.660180  15.009168  1.298934  6.233285 -0.534297   \n",
       "4 -1.617799  25.549126  29.992581  15.009510  1.345690  7.089722 -0.331442   \n",
       "\n",
       "       MFCC7     MFCC8     MFCC9    MFCC10    MFCC11    MFCC12  \n",
       "0   8.789789  0.917394  6.621611  0.824606  1.492313  0.517273  \n",
       "1   9.859222  0.080067  7.785783  0.155050  2.907563 -0.180629  \n",
       "2  10.277530 -1.088754  6.092309 -0.413334  3.373767  0.487513  \n",
       "3  11.863069 -1.174127  5.151966 -0.809689  3.493457  0.284411  \n",
       "4  12.892941 -1.058761  6.255099 -0.216735  3.898345  0.023903  "
      ]
     },
     "execution_count": 13,
     "metadata": {},
     "output_type": "execute_result"
    }
   ],
   "source": [
    "df2=pd.read_csv('/home/bsplab/Desktop/manikanta/16khz_data/NEWFRAME_SHIFTING_DATA/CNN+MFCC_newshifting/250ms/testing/fanactest_250ms.csv')\n",
    "df2.columns=['MFCC0', 'MFCC1','MFCC2','MFCC3','MFCC4','MFCC5','MFCC6','MFCC7','MFCC8', 'MFCC9', 'MFCC10' ,'MFCC11', 'MFCC12']\n",
    "df2.head()"
   ]
  },
  {
   "cell_type": "code",
   "execution_count": 14,
   "metadata": {},
   "outputs": [
    {
     "name": "stdout",
     "output_type": "stream",
     "text": [
      "2052.7780055999756ms\n"
     ]
    },
    {
     "data": {
      "text/plain": [
       "(143981, 4)"
      ]
     },
     "execution_count": 14,
     "metadata": {},
     "output_type": "execute_result"
    }
   ],
   "source": [
    "tic = time.time()\n",
    "my_his1=loaded_mymodel.predict(df2)\n",
    "toc = time.time()\n",
    "print(str(1000*(toc-tic))+\"ms\")\n",
    "\n",
    "my_his.shape\n"
   ]
  },
  {
   "cell_type": "code",
   "execution_count": 15,
   "metadata": {},
   "outputs": [
    {
     "name": "stdout",
     "output_type": "stream",
     "text": [
      "(143981,)\n"
     ]
    }
   ],
   "source": [
    "test_pred1 = np.argmax(my_his1, axis=1)\n",
    "test_pred1[150:380]\n",
    "print(test_pred1.shape)"
   ]
  },
  {
   "cell_type": "code",
   "execution_count": 21,
   "metadata": {},
   "outputs": [
    {
     "name": "stdout",
     "output_type": "stream",
     "text": [
      "The tested audio is acfan\n",
      "Count is 86025\n"
     ]
    }
   ],
   "source": [
    "c =0\n",
    "for i in  test_pred1:\n",
    "    if i== 0:\n",
    "         c += 1\n",
    "    else:\n",
    "        continue \n",
    "if c > test_pred1.size/2:\n",
    "    print(\"The tested audio is acfan\")\n",
    "else:\n",
    "    print(\"Error\")\n",
    "       \n",
    "        \n",
    "print(\"Count is \" + str(c))"
   ]
  },
  {
   "cell_type": "code",
   "execution_count": 37,
   "metadata": {},
   "outputs": [
    {
     "data": {
      "text/plain": [
       "86025"
      ]
     },
     "execution_count": 37,
     "metadata": {},
     "output_type": "execute_result"
    }
   ],
   "source": [
    "sum(test_pred1==0)"
   ]
  },
  {
   "cell_type": "code",
   "execution_count": 38,
   "metadata": {},
   "outputs": [
    {
     "name": "stdout",
     "output_type": "stream",
     "text": [
      "Accuracy is for testing with new environment data of acfan: 59.747466679631344\n"
     ]
    }
   ],
   "source": [
    "x=c/test_pred1.size\n",
    "print('Accuracy is for testing with new environment data of acfan:',100*x)"
   ]
  },
  {
   "cell_type": "code",
   "execution_count": 22,
   "metadata": {},
   "outputs": [
    {
     "data": {
      "text/html": [
       "<div>\n",
       "<style scoped>\n",
       "    .dataframe tbody tr th:only-of-type {\n",
       "        vertical-align: middle;\n",
       "    }\n",
       "\n",
       "    .dataframe tbody tr th {\n",
       "        vertical-align: top;\n",
       "    }\n",
       "\n",
       "    .dataframe thead th {\n",
       "        text-align: right;\n",
       "    }\n",
       "</style>\n",
       "<table border=\"1\" class=\"dataframe\">\n",
       "  <thead>\n",
       "    <tr style=\"text-align: right;\">\n",
       "      <th></th>\n",
       "      <th>MFCC0</th>\n",
       "      <th>MFCC1</th>\n",
       "      <th>MFCC2</th>\n",
       "      <th>MFCC3</th>\n",
       "      <th>MFCC4</th>\n",
       "      <th>MFCC5</th>\n",
       "      <th>MFCC6</th>\n",
       "      <th>MFCC7</th>\n",
       "      <th>MFCC8</th>\n",
       "      <th>MFCC9</th>\n",
       "      <th>MFCC10</th>\n",
       "      <th>MFCC11</th>\n",
       "      <th>MFCC12</th>\n",
       "    </tr>\n",
       "  </thead>\n",
       "  <tbody>\n",
       "    <tr>\n",
       "      <th>0</th>\n",
       "      <td>-1.134541</td>\n",
       "      <td>-20.487844</td>\n",
       "      <td>-13.760015</td>\n",
       "      <td>3.246202</td>\n",
       "      <td>-32.597762</td>\n",
       "      <td>17.587059</td>\n",
       "      <td>-33.695512</td>\n",
       "      <td>2.830326</td>\n",
       "      <td>1.710832</td>\n",
       "      <td>-8.700560</td>\n",
       "      <td>18.110851</td>\n",
       "      <td>-2.603898</td>\n",
       "      <td>8.202629</td>\n",
       "    </tr>\n",
       "    <tr>\n",
       "      <th>1</th>\n",
       "      <td>-1.179964</td>\n",
       "      <td>-20.141188</td>\n",
       "      <td>-13.259199</td>\n",
       "      <td>3.242886</td>\n",
       "      <td>-32.428630</td>\n",
       "      <td>17.984391</td>\n",
       "      <td>-33.479255</td>\n",
       "      <td>2.263041</td>\n",
       "      <td>2.143565</td>\n",
       "      <td>-7.287058</td>\n",
       "      <td>18.174474</td>\n",
       "      <td>-2.908441</td>\n",
       "      <td>8.665985</td>\n",
       "    </tr>\n",
       "    <tr>\n",
       "      <th>2</th>\n",
       "      <td>-1.215126</td>\n",
       "      <td>-20.138310</td>\n",
       "      <td>-14.068503</td>\n",
       "      <td>3.102818</td>\n",
       "      <td>-33.122855</td>\n",
       "      <td>16.316123</td>\n",
       "      <td>-33.694333</td>\n",
       "      <td>2.081717</td>\n",
       "      <td>1.175639</td>\n",
       "      <td>-8.196891</td>\n",
       "      <td>17.370584</td>\n",
       "      <td>-4.274559</td>\n",
       "      <td>8.534495</td>\n",
       "    </tr>\n",
       "    <tr>\n",
       "      <th>3</th>\n",
       "      <td>-1.253640</td>\n",
       "      <td>-18.963374</td>\n",
       "      <td>-15.976393</td>\n",
       "      <td>0.004072</td>\n",
       "      <td>-34.315426</td>\n",
       "      <td>18.325803</td>\n",
       "      <td>-26.561250</td>\n",
       "      <td>6.338449</td>\n",
       "      <td>-3.368631</td>\n",
       "      <td>-13.922574</td>\n",
       "      <td>14.799424</td>\n",
       "      <td>-3.884607</td>\n",
       "      <td>15.216122</td>\n",
       "    </tr>\n",
       "    <tr>\n",
       "      <th>4</th>\n",
       "      <td>-1.193043</td>\n",
       "      <td>-19.310359</td>\n",
       "      <td>-18.713185</td>\n",
       "      <td>0.081081</td>\n",
       "      <td>-36.636470</td>\n",
       "      <td>16.946856</td>\n",
       "      <td>-19.715096</td>\n",
       "      <td>5.869658</td>\n",
       "      <td>-8.002131</td>\n",
       "      <td>-13.980317</td>\n",
       "      <td>16.757785</td>\n",
       "      <td>-2.942272</td>\n",
       "      <td>18.947688</td>\n",
       "    </tr>\n",
       "  </tbody>\n",
       "</table>\n",
       "</div>"
      ],
      "text/plain": [
       "      MFCC0      MFCC1      MFCC2     MFCC3      MFCC4      MFCC5      MFCC6  \\\n",
       "0 -1.134541 -20.487844 -13.760015  3.246202 -32.597762  17.587059 -33.695512   \n",
       "1 -1.179964 -20.141188 -13.259199  3.242886 -32.428630  17.984391 -33.479255   \n",
       "2 -1.215126 -20.138310 -14.068503  3.102818 -33.122855  16.316123 -33.694333   \n",
       "3 -1.253640 -18.963374 -15.976393  0.004072 -34.315426  18.325803 -26.561250   \n",
       "4 -1.193043 -19.310359 -18.713185  0.081081 -36.636470  16.946856 -19.715096   \n",
       "\n",
       "      MFCC7     MFCC8      MFCC9     MFCC10    MFCC11     MFCC12  \n",
       "0  2.830326  1.710832  -8.700560  18.110851 -2.603898   8.202629  \n",
       "1  2.263041  2.143565  -7.287058  18.174474 -2.908441   8.665985  \n",
       "2  2.081717  1.175639  -8.196891  17.370584 -4.274559   8.534495  \n",
       "3  6.338449 -3.368631 -13.922574  14.799424 -3.884607  15.216122  \n",
       "4  5.869658 -8.002131 -13.980317  16.757785 -2.942272  18.947688  "
      ]
     },
     "execution_count": 22,
     "metadata": {},
     "output_type": "execute_result"
    }
   ],
   "source": [
    "df3=pd.read_csv('/home/bsplab/Desktop/manikanta/16khz_data/NEWFRAME_SHIFTING_DATA/CNN+MFCC_newshifting/250ms/testing/musictest_250ms.csv')\n",
    "df3.columns=['MFCC0', 'MFCC1','MFCC2','MFCC3','MFCC4','MFCC5','MFCC6','MFCC7','MFCC8', 'MFCC9', 'MFCC10' ,'MFCC11', 'MFCC12']\n",
    "df3.head()"
   ]
  },
  {
   "cell_type": "code",
   "execution_count": 23,
   "metadata": {},
   "outputs": [
    {
     "name": "stdout",
     "output_type": "stream",
     "text": [
      "2059.3788623809814ms\n"
     ]
    },
    {
     "data": {
      "text/plain": [
       "(143981, 4)"
      ]
     },
     "execution_count": 23,
     "metadata": {},
     "output_type": "execute_result"
    }
   ],
   "source": [
    "tic = time.time()\n",
    "my_his2=loaded_mymodel.predict(df3)\n",
    "toc = time.time()\n",
    "print(str(1000*(toc-tic))+\"ms\")\n",
    "\n",
    "my_his.shape"
   ]
  },
  {
   "cell_type": "code",
   "execution_count": 24,
   "metadata": {},
   "outputs": [
    {
     "name": "stdout",
     "output_type": "stream",
     "text": [
      "(143981,)\n"
     ]
    }
   ],
   "source": [
    "test_pred2 = np.argmax(my_his2, axis=1)\n",
    "test_pred2[150:380]\n",
    "print(test_pred2.shape)"
   ]
  },
  {
   "cell_type": "code",
   "execution_count": 29,
   "metadata": {},
   "outputs": [
    {
     "name": "stdout",
     "output_type": "stream",
     "text": [
      "The tested audio is Music\n",
      "Count is 119311\n"
     ]
    }
   ],
   "source": [
    "c =0\n",
    "for i in  test_pred2:\n",
    "    if i== 2:\n",
    "         c += 1\n",
    "    else:\n",
    "        continue \n",
    "if c > test_pred2.size/2:\n",
    "    print(\"The tested audio is Music\")\n",
    "else:\n",
    "    print(\"Error\")\n",
    "       \n",
    "        \n",
    "print(\"Count is \" + str(c))"
   ]
  },
  {
   "cell_type": "code",
   "execution_count": 43,
   "metadata": {},
   "outputs": [
    {
     "name": "stdout",
     "output_type": "stream",
     "text": [
      "Accuracy is for testing with new environment data of Music: 82.86579479236845\n"
     ]
    }
   ],
   "source": [
    "x=c/test_pred2.size\n",
    "print('Accuracy is for testing with new environment data of Music:',100*x)"
   ]
  },
  {
   "cell_type": "code",
   "execution_count": 30,
   "metadata": {},
   "outputs": [
    {
     "data": {
      "text/html": [
       "<div>\n",
       "<style scoped>\n",
       "    .dataframe tbody tr th:only-of-type {\n",
       "        vertical-align: middle;\n",
       "    }\n",
       "\n",
       "    .dataframe tbody tr th {\n",
       "        vertical-align: top;\n",
       "    }\n",
       "\n",
       "    .dataframe thead th {\n",
       "        text-align: right;\n",
       "    }\n",
       "</style>\n",
       "<table border=\"1\" class=\"dataframe\">\n",
       "  <thead>\n",
       "    <tr style=\"text-align: right;\">\n",
       "      <th></th>\n",
       "      <th>MFCC0</th>\n",
       "      <th>MFCC1</th>\n",
       "      <th>MFCC2</th>\n",
       "      <th>MFCC3</th>\n",
       "      <th>MFCC4</th>\n",
       "      <th>MFCC5</th>\n",
       "      <th>MFCC6</th>\n",
       "      <th>MFCC7</th>\n",
       "      <th>MFCC8</th>\n",
       "      <th>MFCC9</th>\n",
       "      <th>MFCC10</th>\n",
       "      <th>MFCC11</th>\n",
       "      <th>MFCC12</th>\n",
       "    </tr>\n",
       "  </thead>\n",
       "  <tbody>\n",
       "    <tr>\n",
       "      <th>0</th>\n",
       "      <td>-0.289875</td>\n",
       "      <td>2.258400</td>\n",
       "      <td>-41.914954</td>\n",
       "      <td>-4.024645</td>\n",
       "      <td>-7.902380</td>\n",
       "      <td>-19.871502</td>\n",
       "      <td>-13.919534</td>\n",
       "      <td>-1.636795</td>\n",
       "      <td>-0.808601</td>\n",
       "      <td>-35.921280</td>\n",
       "      <td>-5.589058</td>\n",
       "      <td>-10.004502</td>\n",
       "      <td>-11.870955</td>\n",
       "    </tr>\n",
       "    <tr>\n",
       "      <th>1</th>\n",
       "      <td>-0.932115</td>\n",
       "      <td>4.651622</td>\n",
       "      <td>-35.209450</td>\n",
       "      <td>-1.746077</td>\n",
       "      <td>-7.467012</td>\n",
       "      <td>-22.130116</td>\n",
       "      <td>-17.880100</td>\n",
       "      <td>-6.702932</td>\n",
       "      <td>-6.508224</td>\n",
       "      <td>-35.590233</td>\n",
       "      <td>-3.761109</td>\n",
       "      <td>-10.575987</td>\n",
       "      <td>-12.329757</td>\n",
       "    </tr>\n",
       "    <tr>\n",
       "      <th>2</th>\n",
       "      <td>-2.332744</td>\n",
       "      <td>9.115780</td>\n",
       "      <td>-20.119954</td>\n",
       "      <td>-1.832084</td>\n",
       "      <td>-8.780608</td>\n",
       "      <td>-25.854842</td>\n",
       "      <td>-24.363579</td>\n",
       "      <td>-2.415750</td>\n",
       "      <td>-7.440496</td>\n",
       "      <td>-37.154831</td>\n",
       "      <td>-1.612570</td>\n",
       "      <td>-15.719020</td>\n",
       "      <td>-8.436165</td>\n",
       "    </tr>\n",
       "    <tr>\n",
       "      <th>3</th>\n",
       "      <td>-3.042283</td>\n",
       "      <td>11.471622</td>\n",
       "      <td>-12.403395</td>\n",
       "      <td>6.392536</td>\n",
       "      <td>-20.568994</td>\n",
       "      <td>-21.510535</td>\n",
       "      <td>-38.058389</td>\n",
       "      <td>-11.107811</td>\n",
       "      <td>-4.817670</td>\n",
       "      <td>-23.795946</td>\n",
       "      <td>-9.637637</td>\n",
       "      <td>-25.883666</td>\n",
       "      <td>-7.959838</td>\n",
       "    </tr>\n",
       "    <tr>\n",
       "      <th>4</th>\n",
       "      <td>-3.085255</td>\n",
       "      <td>13.708118</td>\n",
       "      <td>-16.291657</td>\n",
       "      <td>-4.319005</td>\n",
       "      <td>-20.464945</td>\n",
       "      <td>-8.739739</td>\n",
       "      <td>-31.295461</td>\n",
       "      <td>-25.391509</td>\n",
       "      <td>-20.898807</td>\n",
       "      <td>-15.938178</td>\n",
       "      <td>-21.201083</td>\n",
       "      <td>-23.255454</td>\n",
       "      <td>-11.559138</td>\n",
       "    </tr>\n",
       "  </tbody>\n",
       "</table>\n",
       "</div>"
      ],
      "text/plain": [
       "      MFCC0      MFCC1      MFCC2     MFCC3      MFCC4      MFCC5      MFCC6  \\\n",
       "0 -0.289875   2.258400 -41.914954 -4.024645  -7.902380 -19.871502 -13.919534   \n",
       "1 -0.932115   4.651622 -35.209450 -1.746077  -7.467012 -22.130116 -17.880100   \n",
       "2 -2.332744   9.115780 -20.119954 -1.832084  -8.780608 -25.854842 -24.363579   \n",
       "3 -3.042283  11.471622 -12.403395  6.392536 -20.568994 -21.510535 -38.058389   \n",
       "4 -3.085255  13.708118 -16.291657 -4.319005 -20.464945  -8.739739 -31.295461   \n",
       "\n",
       "       MFCC7      MFCC8      MFCC9     MFCC10     MFCC11     MFCC12  \n",
       "0  -1.636795  -0.808601 -35.921280  -5.589058 -10.004502 -11.870955  \n",
       "1  -6.702932  -6.508224 -35.590233  -3.761109 -10.575987 -12.329757  \n",
       "2  -2.415750  -7.440496 -37.154831  -1.612570 -15.719020  -8.436165  \n",
       "3 -11.107811  -4.817670 -23.795946  -9.637637 -25.883666  -7.959838  \n",
       "4 -25.391509 -20.898807 -15.938178 -21.201083 -23.255454 -11.559138  "
      ]
     },
     "execution_count": 30,
     "metadata": {},
     "output_type": "execute_result"
    }
   ],
   "source": [
    "df4=pd.read_csv('/home/bsplab/Desktop/manikanta/16khz_data/NEWFRAME_SHIFTING_DATA/CNN+MFCC_newshifting/250ms/testing/speechtest_250.csv')\n",
    "df4.columns=['MFCC0', 'MFCC1','MFCC2','MFCC3','MFCC4','MFCC5','MFCC6','MFCC7','MFCC8', 'MFCC9', 'MFCC10' ,'MFCC11', 'MFCC12']\n",
    "df4.head()"
   ]
  },
  {
   "cell_type": "code",
   "execution_count": 31,
   "metadata": {},
   "outputs": [
    {
     "name": "stdout",
     "output_type": "stream",
     "text": [
      "2017.3802375793457ms\n"
     ]
    },
    {
     "data": {
      "text/plain": [
       "(143981, 4)"
      ]
     },
     "execution_count": 31,
     "metadata": {},
     "output_type": "execute_result"
    }
   ],
   "source": [
    "tic = time.time()\n",
    "my_his3=loaded_mymodel.predict(df4)\n",
    "toc = time.time()\n",
    "print(str(1000*(toc-tic))+\"ms\")\n",
    "\n",
    "my_his.shape"
   ]
  },
  {
   "cell_type": "code",
   "execution_count": 32,
   "metadata": {},
   "outputs": [
    {
     "name": "stdout",
     "output_type": "stream",
     "text": [
      "(143981,)\n"
     ]
    }
   ],
   "source": [
    "test_pred3 = np.argmax(my_his3, axis=1)\n",
    "test_pred3[150:380]\n",
    "print(test_pred3.shape)"
   ]
  },
  {
   "cell_type": "code",
   "execution_count": 37,
   "metadata": {},
   "outputs": [
    {
     "name": "stdout",
     "output_type": "stream",
     "text": [
      "The tested audio is speech\n",
      "Count is 130086\n"
     ]
    }
   ],
   "source": [
    "c =0\n",
    "for i in  test_pred3:\n",
    "    if i== 3:\n",
    "         c += 1\n",
    "    else:\n",
    "        continue \n",
    "if c > test_pred3.size/2:\n",
    "    print(\"The tested audio is speech\")\n",
    "else:\n",
    "    print(\"Error\")\n",
    "       \n",
    "        \n",
    "print(\"Count is \" + str(c))"
   ]
  },
  {
   "cell_type": "code",
   "execution_count": 49,
   "metadata": {},
   "outputs": [
    {
     "name": "stdout",
     "output_type": "stream",
     "text": [
      "Accuracy is for testing with new environment data of speech: 90.34942110417347\n"
     ]
    }
   ],
   "source": [
    "x=c/test_pred3.size\n",
    "print('Accuracy is for testing with new environment data of speech:',100*x)"
   ]
  },
  {
   "cell_type": "code",
   "execution_count": null,
   "metadata": {},
   "outputs": [],
   "source": [
    "sum(test_pred3==3)"
   ]
  },
  {
   "cell_type": "code",
   "execution_count": null,
   "metadata": {},
   "outputs": [],
   "source": []
  }
 ],
 "metadata": {
  "kernelspec": {
   "display_name": "Python 3",
   "language": "python",
   "name": "python3"
  },
  "language_info": {
   "codemirror_mode": {
    "name": "ipython",
    "version": 3
   },
   "file_extension": ".py",
   "mimetype": "text/x-python",
   "name": "python",
   "nbconvert_exporter": "python",
   "pygments_lexer": "ipython3",
   "version": "3.6.8"
  }
 },
 "nbformat": 4,
 "nbformat_minor": 2
}
