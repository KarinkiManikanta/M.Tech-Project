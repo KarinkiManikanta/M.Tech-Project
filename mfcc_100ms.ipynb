{
 "cells": [
  {
   "cell_type": "code",
   "execution_count": 1,
   "metadata": {},
   "outputs": [],
   "source": [
    "import python_speech_features\n",
    "import scipy.io.wavfile as wav\n",
    "import numpy as np"
   ]
  },
  {
   "cell_type": "code",
   "execution_count": 2,
   "metadata": {},
   "outputs": [
    {
     "name": "stdout",
     "output_type": "stream",
     "text": [
      "[ 0.1087982   0.12527143  0.13979783 ... -0.01059528 -0.02044178\n",
      " -0.02605766]\n",
      "16000\n",
      "(57600000,)\n"
     ]
    }
   ],
   "source": [
    "(rate1,sig1) = wav.read(\"A13.wav\")\n",
    "signal1 = sig1/max(abs(sig1))\n",
    "print(signal1)\n",
    "print(rate1)\n",
    "print(signal1.shape)"
   ]
  },
  {
   "cell_type": "code",
   "execution_count": 3,
   "metadata": {},
   "outputs": [],
   "source": [
    "mfcc_air = python_speech_features.base.mfcc(signal1, samplerate=rate1, winlen=0.1, winstep=0.05, numcep=13, \n",
    "                                            nfilt=26,\n",
    "                        nfft=2048, lowfreq=0, highfreq=None, preemph=0.97, ceplifter=22, appendEnergy=True)"
   ]
  },
  {
   "cell_type": "code",
   "execution_count": 4,
   "metadata": {},
   "outputs": [
    {
     "name": "stdout",
     "output_type": "stream",
     "text": [
      "[[ -0.51339713   7.01151641   5.22105253 ... -13.43369559  -9.6454868\n",
      "  -10.76139058]\n",
      " [ -0.63390448   7.62555201   5.4366534  ... -12.95053176 -10.45392687\n",
      "  -12.08142048]\n",
      " [ -0.74568675   7.57017296   5.39161839 ... -12.48973632  -9.51290543\n",
      "  -10.4519423 ]\n",
      " ...\n",
      " [  0.85297247   6.51923151   5.02297241 ... -15.75906505 -10.89277552\n",
      "  -13.05196419]\n",
      " [  0.92815351   7.20855346   5.50344958 ... -14.53411813  -9.30817128\n",
      "  -10.24177878]\n",
      " [  0.95191544   6.47982199   4.92554821 ... -16.64750073 -10.06992974\n",
      "  -12.88735336]]\n",
      "(14399, 13)\n"
     ]
    }
   ],
   "source": [
    "print(mfcc_air)\n",
    "print(mfcc_air.shape)"
   ]
  },
  {
   "cell_type": "code",
   "execution_count": 5,
   "metadata": {},
   "outputs": [],
   "source": [
    "import csv\n",
    "csvData = mfcc_air\n",
    "\n",
    "with open('A13.csv','w') as csvFile:\n",
    "    writer = csv.writer(csvFile)\n",
    "    writer.writerows(csvData)\n",
    "    \n",
    "csvFile.close()"
   ]
  }
 ],
 "metadata": {
  "kernelspec": {
   "display_name": "Python 3",
   "language": "python",
   "name": "python3"
  },
  "language_info": {
   "codemirror_mode": {
    "name": "ipython",
    "version": 3
   },
   "file_extension": ".py",
   "mimetype": "text/x-python",
   "name": "python",
   "nbconvert_exporter": "python",
   "pygments_lexer": "ipython3",
   "version": "3.6.5"
  }
 },
 "nbformat": 4,
 "nbformat_minor": 2
}
