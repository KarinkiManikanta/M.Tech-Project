{
 "cells": [
  {
   "cell_type": "code",
   "execution_count": 1,
   "metadata": {},
   "outputs": [],
   "source": [
    "from sklearn import preprocessing\n",
    "import matplotlib.pyplot as plt\n",
    "import numpy as np\n",
    "import pandas as pd\n",
    "import shutil\n",
    "import os\n",
    "import requests\n",
    "import base64\n",
    "\n",
    "\n",
    "# Encode text values to dummy variables(i.e. [1,0,0],[0,1,0],[0,0,1] for red,green,blue)\n",
    "def encode_text_dummy(df, name):\n",
    "    dummies = pd.get_dummies(df[name])\n",
    "    for x in dummies.columns:\n",
    "        dummy_name = \"{}-{}\".format(name, x)\n",
    "        df[dummy_name] = dummies[x]\n",
    "    df.drop(name, axis=1, inplace=True)\n",
    "\n",
    "\n",
    "# Encode text values to a single dummy variable.  The new columns (which do not replace the old) will have a 1\n",
    "# at every location where the original column (name) matches each of the target_values.  One column is added for\n",
    "# each target value.\n",
    "def encode_text_single_dummy(df, name, target_values):\n",
    "    for tv in target_values:\n",
    "        l = list(df[name].astype(str))\n",
    "        l = [1 if str(x) == str(tv) else 0 for x in l]\n",
    "        name2 = \"{}-{}\".format(name, tv)\n",
    "        df[name2] = l\n",
    "\n",
    "\n",
    "# Encode text values to indexes(i.e. [1],[2],[3] for red,green,blue).\n",
    "def encode_text_index(df, name):\n",
    "    le = preprocessing.LabelEncoder()\n",
    "    df[name] = le.fit_transform(df[name])\n",
    "    return le.classes_\n",
    "\n",
    "\n",
    "# Encode a numeric column as zscores\n",
    "def encode_numeric_zscore(df, name, mean=None, sd=None):\n",
    "    if mean is None:\n",
    "        mean = df[name].mean()\n",
    "\n",
    "    if sd is None:\n",
    "        sd = df[name].std()\n",
    "\n",
    "    df[name] = (df[name] - mean) / sd\n",
    "\n",
    "\n",
    "# Convert all missing values in the specified column to the median\n",
    "def missing_median(df, name):\n",
    "    med = df[name].median()\n",
    "    df[name] = df[name].fillna(med)\n",
    "\n",
    "\n",
    "# Convert all missing values in the specified column to the default\n",
    "def missing_default(df, name, default_value):\n",
    "    df[name] = df[name].fillna(default_value)\n",
    "\n",
    "\n",
    "# Convert a Pandas dataframe to the x,y inputs that TensorFlow needs\n",
    "def to_xy(df, target):\n",
    "    result = []\n",
    "    for x in df.columns:\n",
    "        if x != target:\n",
    "            result.append(x)\n",
    "    # find out the type of the target column.  Is it really this hard? :(\n",
    "    target_type = df[target].dtypes\n",
    "    target_type = target_type[0] if hasattr(target_type, '__iter__') else target_type\n",
    "    # Encode to int for classification, float otherwise. TensorFlow likes 32 bits.\n",
    "    if target_type in (np.int64, np.int32):\n",
    "        # Classification\n",
    "        dummies = pd.get_dummies(df[target])\n",
    "        return df.as_matrix(result).astype(np.float32), dummies.as_matrix().astype(np.float32)\n",
    "    else:\n",
    "        # Regression\n",
    "        return df.as_matrix(result).astype(np.float32), df.as_matrix([target]).astype(np.float32)\n",
    "\n",
    "# Nicely formatted time string\n",
    "def hms_string(sec_elapsed):\n",
    "    h = int(sec_elapsed / (60 * 60))\n",
    "    m = int((sec_elapsed % (60 * 60)) / 60)\n",
    "    s = sec_elapsed % 60\n",
    "    return \"{}:{:>02}:{:>05.2f}\".format(h, m, s)\n",
    "\n",
    "\n",
    "# Regression chart.\n",
    "def chart_regression(pred,y,sort=True):\n",
    "    t = pd.DataFrame({'pred' : pred, 'y' : y.flatten()})\n",
    "    if sort:\n",
    "        t.sort_values(by=['y'],inplace=True)\n",
    "    a = plt.plot(t['y'].tolist(),label='expected')\n",
    "    b = plt.plot(t['pred'].tolist(),label='prediction')\n",
    "    plt.ylabel('output')\n",
    "    plt.legend()\n",
    "    plt.show()\n",
    "\n",
    "# Remove all rows where the specified column is +/- sd standard deviations\n",
    "def remove_outliers(df, name, sd):\n",
    "    drop_rows = df.index[(np.abs(df[name] - df[name].mean()) >= (sd * df[name].std()))]\n",
    "    df.drop(drop_rows, axis=0, inplace=True)\n",
    "\n",
    "\n",
    "# Encode a column to a range between normalized_low and normalized_high.\n",
    "def encode_numeric_range(df, name, normalized_low=-1, normalized_high=1,\n",
    "                         data_low=None, data_high=None):\n",
    "    if data_low is None:\n",
    "        data_low = min(df[name])\n",
    "        data_high = max(df[name])\n",
    "\n",
    "    df[name] = ((df[name] - data_low) / (data_high - data_low)) \\\n",
    "               * (normalized_high - normalized_low) + normalized_low\n",
    "    %matplotlib inline\n",
    "    \n",
    "import matplotlib.pyplot as plt\n",
    "from sklearn.metrics import roc_curve, auc\n",
    "\n",
    "# Plot a confusion matrix.\n",
    "# cm is the confusion matrix, names are the names of the classes.\n",
    "def plot_confusion_matrix(cm, names, title='Confusion matrix', cmap=plt.cm.Blues):\n",
    "    plt.imshow(cm, interpolation='nearest', cmap=cmap)\n",
    "    plt.title(title)\n",
    "    plt.colorbar()\n",
    "    tick_marks = np.arange(len(names))\n",
    "    plt.xticks(tick_marks, names, rotation=45)\n",
    "    plt.yticks(tick_marks, names)\n",
    "    plt.tight_layout()\n",
    "    plt.ylabel('True label')\n",
    "    plt.xlabel('Predicted label')\n",
    "        "
   ]
  },
  {
   "cell_type": "code",
   "execution_count": 2,
   "metadata": {},
   "outputs": [
    {
     "name": "stderr",
     "output_type": "stream",
     "text": [
      "Using TensorFlow backend.\n"
     ]
    }
   ],
   "source": [
    "import pandas as pd\n",
    "import os\n",
    "import time\n",
    "import numpy as np\n",
    "import io\n",
    "import requests\n",
    "from sklearn import metrics\n",
    "from scipy.stats import zscore\n",
    "from sklearn.model_selection import train_test_split\n",
    "from sklearn.model_selection import KFold\n",
    "from keras.models import Sequential\n",
    "from keras.layers.core import Dense, Activation\n",
    "from keras.callbacks import EarlyStopping\n",
    "import tensorflow as tf\n",
    "from keras.callbacks import ModelCheckpoint\n",
    "import matplotlib.pyplot as plt\n",
    "from sklearn import svm, datasets\n",
    "from sklearn.metrics import confusion_matrix"
   ]
  },
  {
   "cell_type": "code",
   "execution_count": 3,
   "metadata": {},
   "outputs": [
    {
     "data": {
      "text/html": [
       "<div>\n",
       "<style scoped>\n",
       "    .dataframe tbody tr th:only-of-type {\n",
       "        vertical-align: middle;\n",
       "    }\n",
       "\n",
       "    .dataframe tbody tr th {\n",
       "        vertical-align: top;\n",
       "    }\n",
       "\n",
       "    .dataframe thead th {\n",
       "        text-align: right;\n",
       "    }\n",
       "</style>\n",
       "<table border=\"1\" class=\"dataframe\">\n",
       "  <thead>\n",
       "    <tr style=\"text-align: right;\">\n",
       "      <th></th>\n",
       "      <th>MFCC0</th>\n",
       "      <th>MFCC1</th>\n",
       "      <th>MFCC2</th>\n",
       "      <th>MFCC3</th>\n",
       "      <th>MFCC4</th>\n",
       "      <th>MFCC5</th>\n",
       "      <th>MFCC6</th>\n",
       "      <th>MFCC7</th>\n",
       "      <th>MFCC8</th>\n",
       "      <th>MFCC9</th>\n",
       "      <th>MFCC10</th>\n",
       "      <th>MFCC11</th>\n",
       "      <th>MFCC12</th>\n",
       "      <th>Label</th>\n",
       "    </tr>\n",
       "  </thead>\n",
       "  <tbody>\n",
       "    <tr>\n",
       "      <th>0</th>\n",
       "      <td>-0.361833</td>\n",
       "      <td>30.413287</td>\n",
       "      <td>14.026782</td>\n",
       "      <td>3.524097</td>\n",
       "      <td>-1.126189</td>\n",
       "      <td>1.995557</td>\n",
       "      <td>-2.024195</td>\n",
       "      <td>6.487043</td>\n",
       "      <td>-0.866477</td>\n",
       "      <td>7.117056</td>\n",
       "      <td>0.499036</td>\n",
       "      <td>4.950554</td>\n",
       "      <td>1.120927</td>\n",
       "      <td>AC &amp; FAN</td>\n",
       "    </tr>\n",
       "    <tr>\n",
       "      <th>1</th>\n",
       "      <td>-0.314923</td>\n",
       "      <td>30.727571</td>\n",
       "      <td>14.676690</td>\n",
       "      <td>3.474063</td>\n",
       "      <td>-1.228633</td>\n",
       "      <td>2.278191</td>\n",
       "      <td>-1.999299</td>\n",
       "      <td>6.654512</td>\n",
       "      <td>-0.886767</td>\n",
       "      <td>7.060178</td>\n",
       "      <td>0.484853</td>\n",
       "      <td>4.293945</td>\n",
       "      <td>0.555153</td>\n",
       "      <td>AC &amp; FAN</td>\n",
       "    </tr>\n",
       "    <tr>\n",
       "      <th>2</th>\n",
       "      <td>-0.322472</td>\n",
       "      <td>30.330372</td>\n",
       "      <td>14.470898</td>\n",
       "      <td>3.451456</td>\n",
       "      <td>-1.049604</td>\n",
       "      <td>2.263557</td>\n",
       "      <td>-2.018792</td>\n",
       "      <td>6.586320</td>\n",
       "      <td>0.119022</td>\n",
       "      <td>7.385747</td>\n",
       "      <td>0.928325</td>\n",
       "      <td>4.774701</td>\n",
       "      <td>0.638041</td>\n",
       "      <td>AC &amp; FAN</td>\n",
       "    </tr>\n",
       "    <tr>\n",
       "      <th>3</th>\n",
       "      <td>-0.242023</td>\n",
       "      <td>30.538032</td>\n",
       "      <td>15.071904</td>\n",
       "      <td>3.793800</td>\n",
       "      <td>-0.413262</td>\n",
       "      <td>2.643561</td>\n",
       "      <td>-2.797349</td>\n",
       "      <td>5.827424</td>\n",
       "      <td>-0.243589</td>\n",
       "      <td>7.820150</td>\n",
       "      <td>2.213806</td>\n",
       "      <td>6.117095</td>\n",
       "      <td>0.799352</td>\n",
       "      <td>AC &amp; FAN</td>\n",
       "    </tr>\n",
       "    <tr>\n",
       "      <th>4</th>\n",
       "      <td>-0.247731</td>\n",
       "      <td>30.773976</td>\n",
       "      <td>15.205313</td>\n",
       "      <td>3.309456</td>\n",
       "      <td>-1.786837</td>\n",
       "      <td>2.169586</td>\n",
       "      <td>-2.345875</td>\n",
       "      <td>5.909542</td>\n",
       "      <td>-0.580713</td>\n",
       "      <td>7.892582</td>\n",
       "      <td>1.763518</td>\n",
       "      <td>6.078295</td>\n",
       "      <td>1.073195</td>\n",
       "      <td>AC &amp; FAN</td>\n",
       "    </tr>\n",
       "  </tbody>\n",
       "</table>\n",
       "</div>"
      ],
      "text/plain": [
       "      MFCC0      MFCC1      MFCC2     MFCC3     MFCC4     MFCC5     MFCC6  \\\n",
       "0 -0.361833  30.413287  14.026782  3.524097 -1.126189  1.995557 -2.024195   \n",
       "1 -0.314923  30.727571  14.676690  3.474063 -1.228633  2.278191 -1.999299   \n",
       "2 -0.322472  30.330372  14.470898  3.451456 -1.049604  2.263557 -2.018792   \n",
       "3 -0.242023  30.538032  15.071904  3.793800 -0.413262  2.643561 -2.797349   \n",
       "4 -0.247731  30.773976  15.205313  3.309456 -1.786837  2.169586 -2.345875   \n",
       "\n",
       "      MFCC7     MFCC8     MFCC9    MFCC10    MFCC11    MFCC12     Label  \n",
       "0  6.487043 -0.866477  7.117056  0.499036  4.950554  1.120927  AC & FAN  \n",
       "1  6.654512 -0.886767  7.060178  0.484853  4.293945  0.555153  AC & FAN  \n",
       "2  6.586320  0.119022  7.385747  0.928325  4.774701  0.638041  AC & FAN  \n",
       "3  5.827424 -0.243589  7.820150  2.213806  6.117095  0.799352  AC & FAN  \n",
       "4  5.909542 -0.580713  7.892582  1.763518  6.078295  1.073195  AC & FAN  "
      ]
     },
     "execution_count": 3,
     "metadata": {},
     "output_type": "execute_result"
    }
   ],
   "source": [
    "# Read MFCCs feature CSV file of audio of 100ms block\n",
    "\n",
    "path=\"/home/bsplab/Desktop/manikanta/16khz_data/NEWFRAME_SHIFTING_DATA/FNN+MFCC_nesshifting/500ms/training\"\n",
    "#filename=os.path.join(path,\"5class_100ms_file.csv\")\n",
    "#filename=os.path.join(path,\"/home/iit/Desktop/project_mani/5classfet1.csv\")\n",
    "df=pd.read_csv(\"/home/bsplab/Desktop/manikanta/16khz_data/NEWFRAME_SHIFTING_DATA/FNN+MFCC_nesshifting/500ms/training/final_500ms.csv\")\n",
    "df.columns=['MFCC0', 'MFCC1','MFCC2','MFCC3','MFCC4','MFCC5','MFCC6','MFCC7','MFCC8', 'MFCC9', 'MFCC10' ,'MFCC11', 'MFCC12', 'Label']\n",
    "filename_write = os.path.join(path,\"/home/bsplab/Desktop/manikanta/16khz_data/NEWFRAME_SHIFTING_DATA/FNN+MFCC_nesshifting/500ms/training/4class_new100ms_write.csv\")\n",
    "#df=pd.read_csv(filename)\n",
    "df.head()"
   ]
  },
  {
   "cell_type": "code",
   "execution_count": 4,
   "metadata": {},
   "outputs": [],
   "source": [
    "# Shuffle\n",
    "np.random.seed(42)\n",
    "df = df.reindex(np.random.permutation(df.index))\n",
    "df.reset_index(inplace=True, drop=True)\n"
   ]
  },
  {
   "cell_type": "code",
   "execution_count": 5,
   "metadata": {},
   "outputs": [
    {
     "name": "stdout",
     "output_type": "stream",
     "text": [
      "Labelling is:['AC & FAN' 'CRYING' 'MUSIC' 'SPEECH']\n"
     ]
    },
    {
     "name": "stderr",
     "output_type": "stream",
     "text": [
      "/home/bsplab/anaconda3/lib/python3.6/site-packages/ipykernel_launcher.py:73: FutureWarning: Method .as_matrix will be removed in a future version. Use .values instead.\n"
     ]
    }
   ],
   "source": [
    "# Encode to a 2D matrix for training\n",
    "Label=encode_text_index(df,'Label')\n",
    "print(\"Labelling is:{}\".format(Label))\n",
    "\n",
    "############################################################################################\n",
    "\n",
    "# Sperating Independent variable and Target Variable\n",
    "x,y=to_xy(df,'Label')"
   ]
  },
  {
   "cell_type": "code",
   "execution_count": 6,
   "metadata": {},
   "outputs": [],
   "source": [
    "# Keep a 20% holdout\n",
    "x_main, x_holdout, y_main, y_holdout = train_test_split(    \n",
    "    x, y, test_size=0.20) "
   ]
  },
  {
   "cell_type": "code",
   "execution_count": 7,
   "metadata": {},
   "outputs": [
    {
     "name": "stdout",
     "output_type": "stream",
     "text": [
      "Shape of x : (575855, 13)\n",
      "Shape of y : (575855, 4)\n",
      "Shape of x_main : (460684, 13)\n",
      "Shape of x_holdout : (115171, 13)\n",
      "Shape of y_main : (460684, 4)\n",
      "Shape of y_holdout : (115171, 4)\n"
     ]
    }
   ],
   "source": [
    "print(\"Shape of x : {}\".format(x.shape))\n",
    "print(\"Shape of y : {}\".format(y.shape))\n",
    "print(\"Shape of x_main : {}\".format(x_main.shape))\n",
    "print(\"Shape of x_holdout : {}\".format(x_holdout.shape))\n",
    "print(\"Shape of y_main : {}\".format(y_main.shape))\n",
    "print(\"Shape of y_holdout : {}\".format(y_holdout.shape))"
   ]
  },
  {
   "cell_type": "code",
   "execution_count": 8,
   "metadata": {},
   "outputs": [
    {
     "name": "stdout",
     "output_type": "stream",
     "text": [
      "Fold #1\n",
      "Fold score (accuracy): 0.9861293508579615\n",
      "Elapsed time: 0:02:57.66\n",
      "Confusion matrix, without normalization\n",
      "[[23161     0     0     0]\n",
      " [    1 22579   116   195]\n",
      " [    3   125 22734   393]\n",
      " [    6   152   287 22385]]\n",
      "Fold #2\n",
      "Fold score (accuracy): 0.9852719320142831\n",
      "Elapsed time: 0:03:01.04\n",
      "Confusion matrix, without normalization\n",
      "[[22964     1     4     5]\n",
      " [    0 22792   121   153]\n",
      " [    0   153 22256   479]\n",
      " [    3   206   232 22768]]\n",
      "Fold #3\n",
      "Fold score (accuracy): 0.9855866807037347\n",
      "Elapsed time: 0:03:08.22\n",
      "Confusion matrix, without normalization\n",
      "[[23130     0     0     1]\n",
      " [    0 22584   156   322]\n",
      " [    1   100 22521   306]\n",
      " [    2    83   357 22574]]\n",
      "Fold #4\n",
      "Fold score (accuracy): 0.9852176649988604\n",
      "Elapsed time: 0:03:12.84\n",
      "Confusion matrix, without normalization\n",
      "[[23030     0     2     0]\n",
      " [    1 22694    83   201]\n",
      " [    8   219 22227   443]\n",
      " [    4   141   260 22824]]\n",
      "Fold #5\n",
      "Fold score (accuracy): 0.984294955283494\n",
      "Elapsed time: 0:03:16.57\n",
      "Confusion matrix, without normalization\n",
      "[[22888     0     0     6]\n",
      " [    0 22690   151   193]\n",
      " [    4   156 22343   507]\n",
      " [    3   157   270 22768]]\n",
      "Final score (accuracy): 0.9853001189535561\n",
      "_________________________________________________________________\n",
      "Layer (type)                 Output Shape              Param #   \n",
      "=================================================================\n",
      "dense_17 (Dense)             (None, 100)               1400      \n",
      "_________________________________________________________________\n",
      "dense_18 (Dense)             (None, 50)                5050      \n",
      "_________________________________________________________________\n",
      "dense_19 (Dense)             (None, 25)                1275      \n",
      "_________________________________________________________________\n",
      "dense_20 (Dense)             (None, 4)                 104       \n",
      "=================================================================\n",
      "Total params: 7,829\n",
      "Trainable params: 7,829\n",
      "Non-trainable params: 0\n",
      "_________________________________________________________________\n"
     ]
    }
   ],
   "source": [
    "# Cross-validate\n",
    "kf = KFold(5)\n",
    "epochs=30\n",
    "oos_y = []\n",
    "oos_pred = []\n",
    "fold = 0\n",
    "plot_loss = np.empty ((0,epochs))\n",
    "plot_acc = np.empty ((0,epochs))\n",
    "for train, test in kf.split(x_main):\n",
    "    fold+=1\n",
    "    print(\"Fold #{}\".format(fold))\n",
    "        \n",
    "    x_train = x_main[train]\n",
    "    y_train = y_main[train]\n",
    "    x_test = x_main[test]\n",
    "    y_test = y_main[test]\n",
    "#####################################################################################    \n",
    "# Training \n",
    "# Fully Connected Neural Network Model    \n",
    "    model = Sequential()\n",
    "    model.add(Dense(100, input_dim=x.shape[1], activation='relu')) # Hidden 1\n",
    "    model.add(Dense(50, activation='relu')) # Hidden 2\n",
    "    model.add(Dense(25, activation='relu')) # Hidden 3\n",
    "    model.add(Dense(y.shape[1],activation='softmax')) # Output\n",
    "    model.compile(loss='categorical_crossentropy', optimizer='adam',metrics=['acc'])\n",
    "    monitor = EarlyStopping(monitor='val_loss', min_delta=1e-3, patience=10, verbose=1, mode='auto') \n",
    "    checkpointer = ModelCheckpoint(filepath=\"best_weights_myFNN_new4C_500ms.hdf5\",\n",
    "                               verbose=2,\n",
    "                               save_best_only=True) # save best model\n",
    "\n",
    "    start_time = time.time()\n",
    "    history=model.fit(x_train,y_train,validation_data=(x_test,y_test),callbacks=[monitor],\n",
    "                      verbose=0,batch_size=128,epochs=epochs)\n",
    "    \n",
    "    #################################################################################\n",
    "    ## Testing \n",
    "    \n",
    "    pred = model.predict(x_test)\n",
    "    \n",
    "    oos_y.append(y_test)\n",
    "    pred = np.argmax(pred,axis=1) # raw probabilities to chosen class (highest probability)\n",
    "    oos_pred.append(pred)\n",
    "    \n",
    "#############################################################################################\n",
    "    \n",
    "    # Measure this fold's accuracy\n",
    "    y_compare = np.argmax(y_test,axis=1) # For accuracy calculation\n",
    "    score = metrics.accuracy_score(y_compare, pred)\n",
    "    print(\"Fold score (accuracy): {}\".format(score))\n",
    "    \n",
    "#######################\n",
    "    elapsed_time = time.time() - start_time\n",
    "    print(\"Elapsed time: {}\".format(hms_string(elapsed_time))) \n",
    "    \n",
    "####################################################################################################\n",
    "\n",
    "    ###############################################\n",
    "    loss = history.history['loss']\n",
    "    #plt.plot(epochs,loss,label=='Training loss')\n",
    "    acc = history.history['acc']\n",
    "    plot_loss = np.append (plot_loss, [loss],axis=0)\n",
    "    plot_acc = np.append (plot_acc, [acc],axis=0)\n",
    "    ###############################################\n",
    "    cm = confusion_matrix(y_compare,pred)\n",
    "    np.set_printoptions(precision=2)\n",
    "    print('Confusion matrix, without normalization')\n",
    "    print(cm)\n",
    "    ##############################################\n",
    "\n",
    "\n",
    "\n",
    "# Build the oos prediction list and calculate the error.\n",
    "oos_y = np.concatenate(oos_y)\n",
    "oos_pred = np.concatenate(oos_pred)\n",
    "oos_y_compare = np.argmax(oos_y,axis=1) # For accuracy calculation\n",
    "\n",
    "score = metrics.accuracy_score(oos_y_compare, oos_pred)\n",
    "print(\"Final score (accuracy): {}\".format(score))  \n",
    "\n",
    "#######################################################################################################    \n",
    "\n",
    "# Write the cross-validated prediction\n",
    "oos_y = pd.DataFrame(oos_y)\n",
    "oos_pred = pd.DataFrame(oos_pred)\n",
    "oosDF = pd.concat( [df, oos_y, oos_pred],axis=1 )\n",
    "oosDF.to_csv(filename_write,index=False)\n",
    "\n",
    "#####################################################################\n",
    "\n",
    "model.summary()"
   ]
  },
  {
   "cell_type": "code",
   "execution_count": 9,
   "metadata": {},
   "outputs": [
    {
     "data": {
      "image/png": "[encoded data removed]",
      "text/plain": [
       "<Figure size 432x288 with 1 Axes>"
      ]
     },
     "metadata": {
      "needs_background": "light"
     },
     "output_type": "display_data"
    }
   ],
   "source": [
    "plot_loss_graph = plot_loss\n",
    "itr=range(1,(epochs+1))\n",
    "for i in range(1,fold+1):\n",
    "    plt.plot(itr,plot_loss_graph[i-1],label=\"Fold #{}\".format(i))\n",
    "plt.title('Training and validation loss')\n",
    "plt.xlabel('Epochs')\n",
    "plt.ylabel('Loss')\n",
    "plt.legend()\n",
    "plt.grid()\n",
    "plt.savefig(\"mani_4C_loss_500ms.eps\")\n",
    "plt.savefig(\"mani_4class_loss_500ms.png\",dpi=150)\n",
    "plt.show()"
   ]
  },
  {
   "cell_type": "code",
   "execution_count": 10,
   "metadata": {},
   "outputs": [
    {
     "data": {
      "image/png": "[encoded data removed]",
      "text/plain": [
       "<Figure size 432x288 with 1 Axes>"
      ]
     },
     "metadata": {
      "needs_background": "light"
     },
     "output_type": "display_data"
    }
   ],
   "source": [
    "plt.clf()\n",
    "plot_acc_graph = plot_acc\n",
    "itr=range(1,(epochs+1))\n",
    "for i in range(1,fold+1):\n",
    "    plt.plot(itr,plot_acc_graph[i-1],label=\"Fold #{}\".format(i))\n",
    "plt.title('Training and validation accuracy')\n",
    "plt.xlabel('Epochs')\n",
    "plt.ylabel('Accuracy')\n",
    "plt.legend()\n",
    "plt.grid()\n",
    "plt.savefig(\"mani_k-fold_4C_acc_500ms.eps\",dpi=150)\n",
    "plt.savefig('mani_k-fold_4C_acc_500ms.png',dpi=150)\n",
    "plt.show()"
   ]
  },
  {
   "cell_type": "code",
   "execution_count": 11,
   "metadata": {},
   "outputs": [],
   "source": [
    "from keras.utils.vis_utils import plot_model\n",
    "#import pydot\n",
    "#import pydot as pydot\n",
    "import matplotlib.pyplot as plt\n",
    "#from keras.utils.vis_utils import plot_model\n",
    "plot_model(model, to_file='my_mani_500ms.png', show_shapes=True, show_layer_names=True)"
   ]
  },
  {
   "cell_type": "code",
   "execution_count": 12,
   "metadata": {},
   "outputs": [
    {
     "name": "stdout",
     "output_type": "stream",
     "text": [
      "Populating the interactive namespace from numpy and matplotlib\n"
     ]
    },
    {
     "name": "stderr",
     "output_type": "stream",
     "text": [
      "/home/bsplab/anaconda3/lib/python3.6/site-packages/IPython/core/magics/pylab.py:160: UserWarning: pylab import has clobbered these variables: ['test', 'cm']\n",
      "`%matplotlib` prevents importing * from pylab and numpy\n",
      "  \"\\n`%matplotlib` prevents importing * from pylab and numpy\"\n"
     ]
    },
    {
     "data": {
      "image/png": "[encoded data removed]",
      "text/plain": [
       "<Figure size 432x288 with 1 Axes>"
      ]
     },
     "metadata": {
      "needs_background": "light"
     },
     "output_type": "display_data"
    }
   ],
   "source": [
    "%pylab inline\n",
    "import matplotlib.pyplot as plt\n",
    "import matplotlib.image as mpimg\n",
    "img=mpimg.imread('my_mani_500ms.png')\n",
    "imgplot = plt.imshow(img)\n",
    "plt.show()\n",
    "from PIL import Image\n",
    "image = Image.open('my_mani_500ms.png')\n",
    "image.show()\n"
   ]
  },
  {
   "cell_type": "code",
   "execution_count": 13,
   "metadata": {},
   "outputs": [],
   "source": [
    "## Turn off the scintific notation \n",
    "np.set_printoptions(suppress=True)"
   ]
  },
  {
   "cell_type": "code",
   "execution_count": 14,
   "metadata": {},
   "outputs": [
    {
     "name": "stdout",
     "output_type": "stream",
     "text": [
      "1930.7584762573242ms\n"
     ]
    }
   ],
   "source": [
    "# Write the cross-validated prediction \n",
    "import time\n",
    "tic = time.time()\n",
    "holdout_pred = model.predict(x_holdout)\n",
    "toc = time.time()\n",
    "print(str(1000*(toc-tic))+\"ms\")"
   ]
  },
  {
   "cell_type": "code",
   "execution_count": 15,
   "metadata": {},
   "outputs": [
    {
     "name": "stdout",
     "output_type": "stream",
     "text": [
      "Log loss score of Holdout data: 0.04951144941897229\n"
     ]
    }
   ],
   "source": [
    "score = metrics.log_loss(y_holdout, holdout_pred)\n",
    "print(\"Log loss score of Holdout data: {}\".format(score))"
   ]
  },
  {
   "cell_type": "code",
   "execution_count": 16,
   "metadata": {},
   "outputs": [
    {
     "name": "stdout",
     "output_type": "stream",
     "text": [
      "Holdout accuracy: 0.9839369285670873\n",
      "Elapsed time: 0:03:33.40\n"
     ]
    }
   ],
   "source": [
    "# Measure accuracy\n",
    "holdout_pred = model.predict(x_holdout)\n",
    "holdout_pred = np.argmax(holdout_pred, axis=1)\n",
    "y_holdout_compare = np.argmax(y_holdout, axis=1)\n",
    "score = metrics.accuracy_score(y_holdout_compare, holdout_pred)\n",
    "print(\"Holdout accuracy: {}\".format(score))\n",
    "\n",
    "elapsed_time = time.time() - start_time\n",
    "print(\"Elapsed time: {}\".format(hms_string(elapsed_time)))"
   ]
  },
  {
   "cell_type": "code",
   "execution_count": 17,
   "metadata": {},
   "outputs": [
    {
     "name": "stdout",
     "output_type": "stream",
     "text": [
      "Confusion matrix, without normalization\n",
      "[[28766     0     1     4]\n",
      " [    0 28456   198   278]\n",
      " [    3   220 28123   640]\n",
      " [    5   189   312 27976]]\n"
     ]
    },
    {
     "data": {
      "image/png": "[encoded data removed]",
      "text/plain": [
       "<Figure size 432x288 with 2 Axes>"
      ]
     },
     "metadata": {
      "needs_background": "light"
     },
     "output_type": "display_data"
    }
   ],
   "source": [
    "\n",
    "\n",
    "# Compute confusion matrix\n",
    "cm = confusion_matrix(y_holdout_compare, holdout_pred)\n",
    "np.set_printoptions(precision=2)\n",
    "print('Confusion matrix, without normalization')\n",
    "print(cm)\n",
    "plt.figure()\n",
    "plot_confusion_matrix(cm, Label)\n",
    "plt.savefig('cm_holdout_4C_myFNN_500ms.png',dpi=150)"
   ]
  },
  {
   "cell_type": "code",
   "execution_count": 18,
   "metadata": {},
   "outputs": [
    {
     "name": "stdout",
     "output_type": "stream",
     "text": [
      "Normalized confusion matrix\n",
      "[[1.   0.   0.   0.  ]\n",
      " [0.   0.98 0.01 0.01]\n",
      " [0.   0.01 0.97 0.02]\n",
      " [0.   0.01 0.01 0.98]]\n"
     ]
    },
    {
     "data": {
      "image/png": "[encoded data removed]",
      "text/plain": [
       "<Figure size 432x288 with 2 Axes>"
      ]
     },
     "metadata": {
      "needs_background": "light"
     },
     "output_type": "display_data"
    }
   ],
   "source": [
    "# Normalize the confusion matrix by row (i.e by the number of samples\n",
    "# in each class)\n",
    "cm_normalized = cm.astype('float') / cm.sum(axis=1)[:, np.newaxis]\n",
    "print('Normalized confusion matrix')\n",
    "print(cm_normalized)\n",
    "plt.figure()\n",
    "plot_confusion_matrix(cm_normalized, Label, title='Normalized confusion matrix of Holdout Prediction')\n",
    "plt.savefig('norm_cm_holdout_4C_myFNN.png',dpi=150)\n",
    "plt.show()"
   ]
  },
  {
   "cell_type": "code",
   "execution_count": 19,
   "metadata": {},
   "outputs": [
    {
     "name": "stdout",
     "output_type": "stream",
     "text": [
      "[[28766     0     1     4]\n",
      " [    0 28456   198   278]\n",
      " [    3   220 28123   640]\n",
      " [    5   189   312 27976]]\n",
      "              precision    recall  f1-score   support\n",
      "\n",
      "           0       1.00      1.00      1.00     28771\n",
      "           1       0.99      0.98      0.98     28932\n",
      "           2       0.98      0.97      0.98     28986\n",
      "           3       0.97      0.98      0.98     28482\n",
      "\n",
      "   micro avg       0.98      0.98      0.98    115171\n",
      "   macro avg       0.98      0.98      0.98    115171\n",
      "weighted avg       0.98      0.98      0.98    115171\n",
      "\n"
     ]
    }
   ],
   "source": [
    "from sklearn.metrics import classification_report, confusion_matrix  \n",
    "print(confusion_matrix(y_holdout_compare, holdout_pred))  \n",
    "print(classification_report(y_holdout_compare, holdout_pred))"
   ]
  },
  {
   "cell_type": "code",
   "execution_count": 20,
   "metadata": {},
   "outputs": [
    {
     "name": "stdout",
     "output_type": "stream",
     "text": [
      "Confusion matrix, without normalization\n"
     ]
    },
    {
     "data": {
      "image/png": "[encoded data removed]",
      "text/plain": [
       "<Figure size 360x216 with 2 Axes>"
      ]
     },
     "metadata": {
      "needs_background": "light"
     },
     "output_type": "display_data"
    }
   ],
   "source": [
    "import matplotlib.pyplot as plt\n",
    "from sklearn.metrics import confusion_matrix\n",
    "import itertools\n",
    "def plot_confusion_matrix(cm, classes,\n",
    "                          normalize=False,\n",
    "                          title='Confusion matrix',\n",
    "                          cmap=plt.cm.Blues):\n",
    "    \"\"\"\n",
    "    This function prints and plots the confusion matrix.\n",
    "    Normalization can be applied by setting `normalize=True`.\n",
    "    \"\"\"\n",
    "    if normalize:\n",
    "        cm = cm.astype('float') / cm.sum(axis=1)[:, np.newaxis]\n",
    "        print(\"Normalized confusion matrix\")\n",
    "    else:\n",
    "        print('Confusion matrix, without normalization')\n",
    "\n",
    "    plt.imshow(cm, interpolation='nearest', cmap=cmap)\n",
    "    plt.title(title)\n",
    "    plt.colorbar()\n",
    "    tick_marks = np.arange(len(classes))\n",
    "    plt.xticks(tick_marks, classes, rotation=45)\n",
    "    plt.yticks(tick_marks, classes)\n",
    "\n",
    "    fmt = '.2f' if normalize else 'd'\n",
    "    thresh = cm.max() / 2.\n",
    "    for i, j in itertools.product(range(cm.shape[0]), range(cm.shape[1])):\n",
    "        plt.text(j, i, format(cm[i, j], fmt),\n",
    "                 horizontalalignment=\"center\",\n",
    "                 color=\"white\" if cm[i, j] > thresh else \"black\")\n",
    "\n",
    "    plt.tight_layout()\n",
    "    plt.ylabel('True label')\n",
    "    plt.xlabel('Predicted label')\n",
    "\n",
    "# Compute confusion matrix\n",
    "cnf_matrix = confusion_matrix(y_holdout_compare, holdout_pred)\n",
    "np.set_printoptions(precision=2)\n",
    "\n",
    "\n",
    "# Plot non-normalized confusion matrix\n",
    "plt.figure(figsize=(5,3))\n",
    "plot_confusion_matrix(cnf_matrix, classes=['AC & FAN', 'CRYING','MUSIC', 'SPEECH'],\n",
    "                      title='Confusion matrix_500')\n",
    "\n",
    "plt.savefig('kfold_fnn_mani_500ms.png')"
   ]
  },
  {
   "cell_type": "code",
   "execution_count": 21,
   "metadata": {},
   "outputs": [
    {
     "name": "stdout",
     "output_type": "stream",
     "text": [
      "Overall Accuracy:  98.39369285670873\n",
      "Precision:  98.39369285670873\n",
      "Sensitivity/Recall:  98.39369285670873\n",
      "Specificity:  98.39369285670873\n",
      "Error Rate:  1.6063071432912746\n",
      "F1-Score:  98.39369285670873\n"
     ]
    }
   ],
   "source": [
    "[[C1,E1,N1,S1],[C2,E2,N2,S2],[C3,E3,N3,S3],[C4,E4,N4,S4]]=cm\n",
    "\n",
    "TP=(cm[0][0]+cm[1][1]+cm[2][2]+cm[3][3])\n",
    "TN=(cm[0][0]+cm[1][1]+cm[2][2]+cm[3][3])\n",
    "FP=np.sum(cm)-TP\n",
    "FN=FP\n",
    "\n",
    "\n",
    "Acc=(cm[0][0]+cm[1][1]+cm[2][2]+cm[3][3])/np.sum(cm)\n",
    "print(\"Overall Accuracy: \",Acc*100)\n",
    "\n",
    "Pr=(TP)/(TP+FP)\n",
    "print(\"Precision: \",Pr*100)\n",
    "\n",
    "Se=(TP)/(TP+FN)\n",
    "print(\"Sensitivity/Recall: \",Se*100)\n",
    "\n",
    "Sp=(TN)/(TN+FP)\n",
    "print(\"Specificity: \",Sp*100)\n",
    "\n",
    "ER=1-Acc\n",
    "print(\"Error Rate: \",100*ER)\n",
    "\n",
    "F_score = 2*TP /(2*TP + FP + FN)\n",
    "print(\"F1-Score: \",F_score*100)"
   ]
  },
  {
   "cell_type": "code",
   "execution_count": 22,
   "metadata": {},
   "outputs": [
    {
     "name": "stdout",
     "output_type": "stream",
     "text": [
      "255.42640686035156ms\n"
     ]
    }
   ],
   "source": [
    "tic = time.time()\n",
    "model.save('manikanta_FeedforwardNN_4class_500ms.h5')\n",
    "toc = time.time()\n",
    "print(str(1000*(toc-tic))+\"ms\")"
   ]
  },
  {
   "cell_type": "code",
   "execution_count": 25,
   "metadata": {},
   "outputs": [
    {
     "name": "stdout",
     "output_type": "stream",
     "text": [
      "1522.765874862671ms\n"
     ]
    }
   ],
   "source": [
    "from keras.models import load_model\n",
    "import time\n",
    "tic = time.time()\n",
    "loaded_mymodel= load_model('manikanta_FeedforwardNN_4class_500ms.h5')\n",
    "toc = time.time()\n",
    "print(str(1000*(toc-tic))+\"ms\")"
   ]
  },
  {
   "cell_type": "code",
   "execution_count": 31,
   "metadata": {},
   "outputs": [
    {
     "data": {
      "text/html": [
       "<div>\n",
       "<style scoped>\n",
       "    .dataframe tbody tr th:only-of-type {\n",
       "        vertical-align: middle;\n",
       "    }\n",
       "\n",
       "    .dataframe tbody tr th {\n",
       "        vertical-align: top;\n",
       "    }\n",
       "\n",
       "    .dataframe thead th {\n",
       "        text-align: right;\n",
       "    }\n",
       "</style>\n",
       "<table border=\"1\" class=\"dataframe\">\n",
       "  <thead>\n",
       "    <tr style=\"text-align: right;\">\n",
       "      <th></th>\n",
       "      <th>MFCC0</th>\n",
       "      <th>MFCC1</th>\n",
       "      <th>MFCC2</th>\n",
       "      <th>MFCC3</th>\n",
       "      <th>MFCC4</th>\n",
       "      <th>MFCC5</th>\n",
       "      <th>MFCC6</th>\n",
       "      <th>MFCC7</th>\n",
       "      <th>MFCC8</th>\n",
       "      <th>MFCC9</th>\n",
       "      <th>MFCC10</th>\n",
       "      <th>MFCC11</th>\n",
       "      <th>MFCC12</th>\n",
       "    </tr>\n",
       "  </thead>\n",
       "  <tbody>\n",
       "    <tr>\n",
       "      <th>0</th>\n",
       "      <td>0.608042</td>\n",
       "      <td>-30.940753</td>\n",
       "      <td>-27.159607</td>\n",
       "      <td>5.345244</td>\n",
       "      <td>25.946790</td>\n",
       "      <td>-6.822781</td>\n",
       "      <td>-13.691598</td>\n",
       "      <td>7.267448</td>\n",
       "      <td>-6.761558</td>\n",
       "      <td>18.124799</td>\n",
       "      <td>-21.399074</td>\n",
       "      <td>-5.863374</td>\n",
       "      <td>26.848989</td>\n",
       "    </tr>\n",
       "    <tr>\n",
       "      <th>1</th>\n",
       "      <td>2.566048</td>\n",
       "      <td>-38.049089</td>\n",
       "      <td>-42.226694</td>\n",
       "      <td>-17.603180</td>\n",
       "      <td>-2.100800</td>\n",
       "      <td>-19.395015</td>\n",
       "      <td>-13.348083</td>\n",
       "      <td>13.026216</td>\n",
       "      <td>7.050743</td>\n",
       "      <td>20.365930</td>\n",
       "      <td>-24.065191</td>\n",
       "      <td>0.415657</td>\n",
       "      <td>20.892712</td>\n",
       "    </tr>\n",
       "    <tr>\n",
       "      <th>2</th>\n",
       "      <td>2.578959</td>\n",
       "      <td>-40.044976</td>\n",
       "      <td>-45.729119</td>\n",
       "      <td>-22.430032</td>\n",
       "      <td>-7.769700</td>\n",
       "      <td>-25.052723</td>\n",
       "      <td>-19.106227</td>\n",
       "      <td>7.284098</td>\n",
       "      <td>1.478592</td>\n",
       "      <td>14.785409</td>\n",
       "      <td>-29.064009</td>\n",
       "      <td>-4.092647</td>\n",
       "      <td>16.663434</td>\n",
       "    </tr>\n",
       "    <tr>\n",
       "      <th>3</th>\n",
       "      <td>2.979923</td>\n",
       "      <td>-34.028767</td>\n",
       "      <td>-41.768890</td>\n",
       "      <td>-26.959979</td>\n",
       "      <td>-15.497842</td>\n",
       "      <td>-11.995418</td>\n",
       "      <td>-1.491131</td>\n",
       "      <td>24.434800</td>\n",
       "      <td>1.733556</td>\n",
       "      <td>9.399367</td>\n",
       "      <td>-29.313156</td>\n",
       "      <td>-4.852593</td>\n",
       "      <td>25.135717</td>\n",
       "    </tr>\n",
       "    <tr>\n",
       "      <th>4</th>\n",
       "      <td>3.486683</td>\n",
       "      <td>-31.588030</td>\n",
       "      <td>-38.511233</td>\n",
       "      <td>-25.265812</td>\n",
       "      <td>-14.348102</td>\n",
       "      <td>0.705937</td>\n",
       "      <td>3.463126</td>\n",
       "      <td>26.816061</td>\n",
       "      <td>-10.173797</td>\n",
       "      <td>15.004500</td>\n",
       "      <td>-19.319196</td>\n",
       "      <td>1.847799</td>\n",
       "      <td>26.732329</td>\n",
       "    </tr>\n",
       "  </tbody>\n",
       "</table>\n",
       "</div>"
      ],
      "text/plain": [
       "      MFCC0      MFCC1      MFCC2      MFCC3      MFCC4      MFCC5      MFCC6  \\\n",
       "0  0.608042 -30.940753 -27.159607   5.345244  25.946790  -6.822781 -13.691598   \n",
       "1  2.566048 -38.049089 -42.226694 -17.603180  -2.100800 -19.395015 -13.348083   \n",
       "2  2.578959 -40.044976 -45.729119 -22.430032  -7.769700 -25.052723 -19.106227   \n",
       "3  2.979923 -34.028767 -41.768890 -26.959979 -15.497842 -11.995418  -1.491131   \n",
       "4  3.486683 -31.588030 -38.511233 -25.265812 -14.348102   0.705937   3.463126   \n",
       "\n",
       "       MFCC7      MFCC8      MFCC9     MFCC10    MFCC11     MFCC12  \n",
       "0   7.267448  -6.761558  18.124799 -21.399074 -5.863374  26.848989  \n",
       "1  13.026216   7.050743  20.365930 -24.065191  0.415657  20.892712  \n",
       "2   7.284098   1.478592  14.785409 -29.064009 -4.092647  16.663434  \n",
       "3  24.434800   1.733556   9.399367 -29.313156 -4.852593  25.135717  \n",
       "4  26.816061 -10.173797  15.004500 -19.319196  1.847799  26.732329  "
      ]
     },
     "execution_count": 31,
     "metadata": {},
     "output_type": "execute_result"
    }
   ],
   "source": [
    "df1=pd.read_csv('/home/bsplab/Desktop/manikanta/16khz_data/NEWFRAME_SHIFTING_DATA/FNN+MFCC_nesshifting/500ms/testing/crytest_500ms.csv')\n",
    "df1.columns=['MFCC0', 'MFCC1','MFCC2','MFCC3','MFCC4','MFCC5','MFCC6','MFCC7','MFCC8', 'MFCC9', 'MFCC10' ,'MFCC11', 'MFCC12']\n",
    "df1.head()"
   ]
  },
  {
   "cell_type": "code",
   "execution_count": 32,
   "metadata": {},
   "outputs": [
    {
     "name": "stdout",
     "output_type": "stream",
     "text": [
      "1736.4706993103027ms\n"
     ]
    },
    {
     "data": {
      "text/plain": [
       "(71981, 4)"
      ]
     },
     "execution_count": 32,
     "metadata": {},
     "output_type": "execute_result"
    }
   ],
   "source": [
    "\n",
    "tic = time.time()\n",
    "my_his=loaded_mymodel.predict(df1)\n",
    "toc = time.time()\n",
    "print(str(1000*(toc-tic))+\"ms\")\n",
    "\n",
    "my_his.shape\n"
   ]
  },
  {
   "cell_type": "code",
   "execution_count": 33,
   "metadata": {},
   "outputs": [
    {
     "name": "stdout",
     "output_type": "stream",
     "text": [
      "(71981,)\n"
     ]
    }
   ],
   "source": [
    "test_pred = np.argmax(my_his, axis=1)\n",
    "test_pred[150:380]\n",
    "print(test_pred.shape)"
   ]
  },
  {
   "cell_type": "code",
   "execution_count": 34,
   "metadata": {},
   "outputs": [
    {
     "data": {
      "text/plain": [
       "dtype('int64')"
      ]
     },
     "execution_count": 34,
     "metadata": {},
     "output_type": "execute_result"
    }
   ],
   "source": [
    "test_pred.dtype"
   ]
  },
  {
   "cell_type": "code",
   "execution_count": 57,
   "metadata": {},
   "outputs": [
    {
     "name": "stdout",
     "output_type": "stream",
     "text": [
      "The tested audio is Crying\n",
      "Count is 50834\n"
     ]
    }
   ],
   "source": [
    "c =0\n",
    "for i in  test_pred:\n",
    "    if i== 1:\n",
    "         c += 1\n",
    "    else:\n",
    "        continue \n",
    "if c > test_pred.size/2:\n",
    "    print(\"The tested audio is Crying\")\n",
    "else:\n",
    "    print(\"Error\")\n",
    "       \n",
    "        \n",
    "print(\"Count is \" + str(c))\n",
    "\n",
    "\n",
    "    "
   ]
  },
  {
   "cell_type": "code",
   "execution_count": 36,
   "metadata": {},
   "outputs": [
    {
     "data": {
      "text/plain": [
       "50834"
      ]
     },
     "execution_count": 36,
     "metadata": {},
     "output_type": "execute_result"
    }
   ],
   "source": [
    "TP=sum(test_pred==1)\n",
    "TP"
   ]
  },
  {
   "cell_type": "code",
   "execution_count": 37,
   "metadata": {},
   "outputs": [
    {
     "name": "stdout",
     "output_type": "stream",
     "text": [
      "Accuracy is for testing with new environment data of Crying: 70.62141398424583\n"
     ]
    }
   ],
   "source": [
    "x=c/test_pred.size\n",
    "print('Accuracy is for testing with new environment data of Crying:',100*x)"
   ]
  },
  {
   "cell_type": "code",
   "execution_count": 38,
   "metadata": {},
   "outputs": [
    {
     "data": {
      "text/html": [
       "<div>\n",
       "<style scoped>\n",
       "    .dataframe tbody tr th:only-of-type {\n",
       "        vertical-align: middle;\n",
       "    }\n",
       "\n",
       "    .dataframe tbody tr th {\n",
       "        vertical-align: top;\n",
       "    }\n",
       "\n",
       "    .dataframe thead th {\n",
       "        text-align: right;\n",
       "    }\n",
       "</style>\n",
       "<table border=\"1\" class=\"dataframe\">\n",
       "  <thead>\n",
       "    <tr style=\"text-align: right;\">\n",
       "      <th></th>\n",
       "      <th>MFCC0</th>\n",
       "      <th>MFCC1</th>\n",
       "      <th>MFCC2</th>\n",
       "      <th>MFCC3</th>\n",
       "      <th>MFCC4</th>\n",
       "      <th>MFCC5</th>\n",
       "      <th>MFCC6</th>\n",
       "      <th>MFCC7</th>\n",
       "      <th>MFCC8</th>\n",
       "      <th>MFCC9</th>\n",
       "      <th>MFCC10</th>\n",
       "      <th>MFCC11</th>\n",
       "      <th>MFCC12</th>\n",
       "    </tr>\n",
       "  </thead>\n",
       "  <tbody>\n",
       "    <tr>\n",
       "      <th>0</th>\n",
       "      <td>-1.147305</td>\n",
       "      <td>24.926870</td>\n",
       "      <td>25.196984</td>\n",
       "      <td>14.598969</td>\n",
       "      <td>4.701556</td>\n",
       "      <td>8.285125</td>\n",
       "      <td>-0.387873</td>\n",
       "      <td>9.159251</td>\n",
       "      <td>-1.549527</td>\n",
       "      <td>7.663207</td>\n",
       "      <td>-0.889826</td>\n",
       "      <td>4.114196</td>\n",
       "      <td>-1.260702</td>\n",
       "    </tr>\n",
       "    <tr>\n",
       "      <th>1</th>\n",
       "      <td>-1.264855</td>\n",
       "      <td>23.237898</td>\n",
       "      <td>30.027120</td>\n",
       "      <td>16.835693</td>\n",
       "      <td>0.792283</td>\n",
       "      <td>7.430119</td>\n",
       "      <td>-0.566533</td>\n",
       "      <td>9.629534</td>\n",
       "      <td>-2.370927</td>\n",
       "      <td>6.388160</td>\n",
       "      <td>-0.454941</td>\n",
       "      <td>2.907120</td>\n",
       "      <td>0.160224</td>\n",
       "    </tr>\n",
       "    <tr>\n",
       "      <th>2</th>\n",
       "      <td>-1.255745</td>\n",
       "      <td>23.550951</td>\n",
       "      <td>29.823715</td>\n",
       "      <td>16.480579</td>\n",
       "      <td>1.063072</td>\n",
       "      <td>8.235484</td>\n",
       "      <td>-0.655905</td>\n",
       "      <td>9.443653</td>\n",
       "      <td>-2.376108</td>\n",
       "      <td>6.149231</td>\n",
       "      <td>-0.587636</td>\n",
       "      <td>2.157115</td>\n",
       "      <td>-0.059677</td>\n",
       "    </tr>\n",
       "    <tr>\n",
       "      <th>3</th>\n",
       "      <td>-1.228085</td>\n",
       "      <td>23.886075</td>\n",
       "      <td>30.329935</td>\n",
       "      <td>16.424163</td>\n",
       "      <td>0.971652</td>\n",
       "      <td>8.169525</td>\n",
       "      <td>-0.706878</td>\n",
       "      <td>9.646453</td>\n",
       "      <td>-2.547504</td>\n",
       "      <td>5.528921</td>\n",
       "      <td>-0.723708</td>\n",
       "      <td>2.201908</td>\n",
       "      <td>-0.420058</td>\n",
       "    </tr>\n",
       "    <tr>\n",
       "      <th>4</th>\n",
       "      <td>-1.397908</td>\n",
       "      <td>22.029001</td>\n",
       "      <td>29.486513</td>\n",
       "      <td>17.742132</td>\n",
       "      <td>3.249137</td>\n",
       "      <td>9.685773</td>\n",
       "      <td>0.063827</td>\n",
       "      <td>9.184852</td>\n",
       "      <td>-1.831122</td>\n",
       "      <td>6.013339</td>\n",
       "      <td>-0.467628</td>\n",
       "      <td>1.773869</td>\n",
       "      <td>-1.748630</td>\n",
       "    </tr>\n",
       "  </tbody>\n",
       "</table>\n",
       "</div>"
      ],
      "text/plain": [
       "      MFCC0      MFCC1      MFCC2      MFCC3     MFCC4     MFCC5     MFCC6  \\\n",
       "0 -1.147305  24.926870  25.196984  14.598969  4.701556  8.285125 -0.387873   \n",
       "1 -1.264855  23.237898  30.027120  16.835693  0.792283  7.430119 -0.566533   \n",
       "2 -1.255745  23.550951  29.823715  16.480579  1.063072  8.235484 -0.655905   \n",
       "3 -1.228085  23.886075  30.329935  16.424163  0.971652  8.169525 -0.706878   \n",
       "4 -1.397908  22.029001  29.486513  17.742132  3.249137  9.685773  0.063827   \n",
       "\n",
       "      MFCC7     MFCC8     MFCC9    MFCC10    MFCC11    MFCC12  \n",
       "0  9.159251 -1.549527  7.663207 -0.889826  4.114196 -1.260702  \n",
       "1  9.629534 -2.370927  6.388160 -0.454941  2.907120  0.160224  \n",
       "2  9.443653 -2.376108  6.149231 -0.587636  2.157115 -0.059677  \n",
       "3  9.646453 -2.547504  5.528921 -0.723708  2.201908 -0.420058  \n",
       "4  9.184852 -1.831122  6.013339 -0.467628  1.773869 -1.748630  "
      ]
     },
     "execution_count": 38,
     "metadata": {},
     "output_type": "execute_result"
    }
   ],
   "source": [
    "df2=pd.read_csv('/home/bsplab/Desktop/manikanta/16khz_data/NEWFRAME_SHIFTING_DATA/FNN+MFCC_nesshifting/500ms/testing/fanactest_500ms.csv')\n",
    "df2.columns=['MFCC0', 'MFCC1','MFCC2','MFCC3','MFCC4','MFCC5','MFCC6','MFCC7','MFCC8', 'MFCC9', 'MFCC10' ,'MFCC11', 'MFCC12']\n",
    "df2.head()"
   ]
  },
  {
   "cell_type": "code",
   "execution_count": 39,
   "metadata": {},
   "outputs": [
    {
     "name": "stdout",
     "output_type": "stream",
     "text": [
      "1493.7686920166016ms\n"
     ]
    },
    {
     "data": {
      "text/plain": [
       "(71981, 4)"
      ]
     },
     "execution_count": 39,
     "metadata": {},
     "output_type": "execute_result"
    }
   ],
   "source": [
    "tic = time.time()\n",
    "my_his1=loaded_mymodel.predict(df2)\n",
    "toc = time.time()\n",
    "print(str(1000*(toc-tic))+\"ms\")\n",
    "\n",
    "my_his.shape\n"
   ]
  },
  {
   "cell_type": "code",
   "execution_count": 40,
   "metadata": {},
   "outputs": [
    {
     "name": "stdout",
     "output_type": "stream",
     "text": [
      "(71981,)\n"
     ]
    }
   ],
   "source": [
    "test_pred1 = np.argmax(my_his1, axis=1)\n",
    "test_pred1[150:380]\n",
    "print(test_pred1.shape)"
   ]
  },
  {
   "cell_type": "code",
   "execution_count": 61,
   "metadata": {},
   "outputs": [
    {
     "name": "stdout",
     "output_type": "stream",
     "text": [
      "The tested audio is acfan\n",
      "Count is 37750\n"
     ]
    }
   ],
   "source": [
    "c =0\n",
    "for i in  test_pred1:\n",
    "    if i== 0:\n",
    "         c += 1\n",
    "    else:\n",
    "        continue \n",
    "if c > test_pred1.size/2:\n",
    "    print(\"The tested audio is acfan\")\n",
    "else:\n",
    "    print(\"Error\")\n",
    "       \n",
    "        \n",
    "print(\"Count is \" + str(c))"
   ]
  },
  {
   "cell_type": "code",
   "execution_count": 42,
   "metadata": {},
   "outputs": [
    {
     "data": {
      "text/plain": [
       "37750"
      ]
     },
     "execution_count": 42,
     "metadata": {},
     "output_type": "execute_result"
    }
   ],
   "source": [
    "sum(test_pred1==0)"
   ]
  },
  {
   "cell_type": "code",
   "execution_count": 43,
   "metadata": {},
   "outputs": [
    {
     "name": "stdout",
     "output_type": "stream",
     "text": [
      "Accuracy is for testing with new environment data of acfan: 52.4443950486934\n"
     ]
    }
   ],
   "source": [
    "x=c/test_pred1.size\n",
    "print('Accuracy is for testing with new environment data of acfan:',100*x)"
   ]
  },
  {
   "cell_type": "code",
   "execution_count": 44,
   "metadata": {},
   "outputs": [
    {
     "data": {
      "text/html": [
       "<div>\n",
       "<style scoped>\n",
       "    .dataframe tbody tr th:only-of-type {\n",
       "        vertical-align: middle;\n",
       "    }\n",
       "\n",
       "    .dataframe tbody tr th {\n",
       "        vertical-align: top;\n",
       "    }\n",
       "\n",
       "    .dataframe thead th {\n",
       "        text-align: right;\n",
       "    }\n",
       "</style>\n",
       "<table border=\"1\" class=\"dataframe\">\n",
       "  <thead>\n",
       "    <tr style=\"text-align: right;\">\n",
       "      <th></th>\n",
       "      <th>MFCC0</th>\n",
       "      <th>MFCC1</th>\n",
       "      <th>MFCC2</th>\n",
       "      <th>MFCC3</th>\n",
       "      <th>MFCC4</th>\n",
       "      <th>MFCC5</th>\n",
       "      <th>MFCC6</th>\n",
       "      <th>MFCC7</th>\n",
       "      <th>MFCC8</th>\n",
       "      <th>MFCC9</th>\n",
       "      <th>MFCC10</th>\n",
       "      <th>MFCC11</th>\n",
       "      <th>MFCC12</th>\n",
       "    </tr>\n",
       "  </thead>\n",
       "  <tbody>\n",
       "    <tr>\n",
       "      <th>0</th>\n",
       "      <td>0.136233</td>\n",
       "      <td>-21.402960</td>\n",
       "      <td>-25.454186</td>\n",
       "      <td>2.895125</td>\n",
       "      <td>-39.349499</td>\n",
       "      <td>16.982320</td>\n",
       "      <td>-12.056873</td>\n",
       "      <td>4.795090</td>\n",
       "      <td>3.897037</td>\n",
       "      <td>-11.572799</td>\n",
       "      <td>-4.980875</td>\n",
       "      <td>5.784769</td>\n",
       "      <td>28.804548</td>\n",
       "    </tr>\n",
       "    <tr>\n",
       "      <th>1</th>\n",
       "      <td>0.238459</td>\n",
       "      <td>-21.757170</td>\n",
       "      <td>-26.597538</td>\n",
       "      <td>1.907582</td>\n",
       "      <td>-38.983246</td>\n",
       "      <td>16.698487</td>\n",
       "      <td>-11.133345</td>\n",
       "      <td>6.984631</td>\n",
       "      <td>5.745933</td>\n",
       "      <td>-12.307385</td>\n",
       "      <td>-10.134391</td>\n",
       "      <td>6.409964</td>\n",
       "      <td>29.380517</td>\n",
       "    </tr>\n",
       "    <tr>\n",
       "      <th>2</th>\n",
       "      <td>0.406369</td>\n",
       "      <td>-22.204507</td>\n",
       "      <td>-26.661082</td>\n",
       "      <td>1.527427</td>\n",
       "      <td>-38.352845</td>\n",
       "      <td>17.471265</td>\n",
       "      <td>-12.856707</td>\n",
       "      <td>7.922898</td>\n",
       "      <td>6.859795</td>\n",
       "      <td>-12.191982</td>\n",
       "      <td>-11.659023</td>\n",
       "      <td>6.821548</td>\n",
       "      <td>30.606710</td>\n",
       "    </tr>\n",
       "    <tr>\n",
       "      <th>3</th>\n",
       "      <td>0.550474</td>\n",
       "      <td>-20.960420</td>\n",
       "      <td>-25.793995</td>\n",
       "      <td>1.560045</td>\n",
       "      <td>-37.519118</td>\n",
       "      <td>21.369094</td>\n",
       "      <td>-9.940701</td>\n",
       "      <td>9.826418</td>\n",
       "      <td>5.211300</td>\n",
       "      <td>-14.883692</td>\n",
       "      <td>-12.423846</td>\n",
       "      <td>7.916328</td>\n",
       "      <td>31.444307</td>\n",
       "    </tr>\n",
       "    <tr>\n",
       "      <th>4</th>\n",
       "      <td>0.646697</td>\n",
       "      <td>-21.985081</td>\n",
       "      <td>-27.201796</td>\n",
       "      <td>-1.861396</td>\n",
       "      <td>-37.519102</td>\n",
       "      <td>22.671990</td>\n",
       "      <td>-5.777302</td>\n",
       "      <td>9.324819</td>\n",
       "      <td>4.191169</td>\n",
       "      <td>-17.409886</td>\n",
       "      <td>-10.568379</td>\n",
       "      <td>11.364492</td>\n",
       "      <td>33.958904</td>\n",
       "    </tr>\n",
       "  </tbody>\n",
       "</table>\n",
       "</div>"
      ],
      "text/plain": [
       "      MFCC0      MFCC1      MFCC2     MFCC3      MFCC4      MFCC5      MFCC6  \\\n",
       "0  0.136233 -21.402960 -25.454186  2.895125 -39.349499  16.982320 -12.056873   \n",
       "1  0.238459 -21.757170 -26.597538  1.907582 -38.983246  16.698487 -11.133345   \n",
       "2  0.406369 -22.204507 -26.661082  1.527427 -38.352845  17.471265 -12.856707   \n",
       "3  0.550474 -20.960420 -25.793995  1.560045 -37.519118  21.369094  -9.940701   \n",
       "4  0.646697 -21.985081 -27.201796 -1.861396 -37.519102  22.671990  -5.777302   \n",
       "\n",
       "      MFCC7     MFCC8      MFCC9     MFCC10     MFCC11     MFCC12  \n",
       "0  4.795090  3.897037 -11.572799  -4.980875   5.784769  28.804548  \n",
       "1  6.984631  5.745933 -12.307385 -10.134391   6.409964  29.380517  \n",
       "2  7.922898  6.859795 -12.191982 -11.659023   6.821548  30.606710  \n",
       "3  9.826418  5.211300 -14.883692 -12.423846   7.916328  31.444307  \n",
       "4  9.324819  4.191169 -17.409886 -10.568379  11.364492  33.958904  "
      ]
     },
     "execution_count": 44,
     "metadata": {},
     "output_type": "execute_result"
    }
   ],
   "source": [
    "df3=pd.read_csv('/home/bsplab/Desktop/manikanta/16khz_data/NEWFRAME_SHIFTING_DATA/FNN+MFCC_nesshifting/500ms/testing/musictest_500ms.csv')\n",
    "df3.columns=['MFCC0', 'MFCC1','MFCC2','MFCC3','MFCC4','MFCC5','MFCC6','MFCC7','MFCC8', 'MFCC9', 'MFCC10' ,'MFCC11', 'MFCC12']\n",
    "df3.head()"
   ]
  },
  {
   "cell_type": "code",
   "execution_count": 45,
   "metadata": {},
   "outputs": [
    {
     "name": "stdout",
     "output_type": "stream",
     "text": [
      "1489.884853363037ms\n"
     ]
    },
    {
     "data": {
      "text/plain": [
       "(71981, 4)"
      ]
     },
     "execution_count": 45,
     "metadata": {},
     "output_type": "execute_result"
    }
   ],
   "source": [
    "tic = time.time()\n",
    "my_his2=loaded_mymodel.predict(df3)\n",
    "toc = time.time()\n",
    "print(str(1000*(toc-tic))+\"ms\")\n",
    "\n",
    "my_his.shape"
   ]
  },
  {
   "cell_type": "code",
   "execution_count": 46,
   "metadata": {},
   "outputs": [
    {
     "name": "stdout",
     "output_type": "stream",
     "text": [
      "(71981,)\n"
     ]
    }
   ],
   "source": [
    "test_pred2 = np.argmax(my_his2, axis=1)\n",
    "test_pred2[150:380]\n",
    "print(test_pred2.shape)"
   ]
  },
  {
   "cell_type": "code",
   "execution_count": 65,
   "metadata": {},
   "outputs": [
    {
     "name": "stdout",
     "output_type": "stream",
     "text": [
      "The tested audio is Music\n",
      "Count is 58236\n"
     ]
    }
   ],
   "source": [
    "c =0\n",
    "for i in  test_pred2:\n",
    "    if i== 2:\n",
    "         c += 1\n",
    "    else:\n",
    "        continue \n",
    "if c > test_pred2.size/2:\n",
    "    print(\"The tested audio is Music\")\n",
    "else:\n",
    "    print(\"Error\")\n",
    "       \n",
    "        \n",
    "print(\"Count is \" + str(c))"
   ]
  },
  {
   "cell_type": "code",
   "execution_count": 48,
   "metadata": {},
   "outputs": [
    {
     "name": "stdout",
     "output_type": "stream",
     "text": [
      "Accuracy is for testing with new environment data of Music: 80.90468318028368\n"
     ]
    }
   ],
   "source": [
    "x=c/test_pred2.size\n",
    "print('Accuracy is for testing with new environment data of Music:',100*x)"
   ]
  },
  {
   "cell_type": "code",
   "execution_count": 49,
   "metadata": {},
   "outputs": [
    {
     "data": {
      "text/html": [
       "<div>\n",
       "<style scoped>\n",
       "    .dataframe tbody tr th:only-of-type {\n",
       "        vertical-align: middle;\n",
       "    }\n",
       "\n",
       "    .dataframe tbody tr th {\n",
       "        vertical-align: top;\n",
       "    }\n",
       "\n",
       "    .dataframe thead th {\n",
       "        text-align: right;\n",
       "    }\n",
       "</style>\n",
       "<table border=\"1\" class=\"dataframe\">\n",
       "  <thead>\n",
       "    <tr style=\"text-align: right;\">\n",
       "      <th></th>\n",
       "      <th>MFCC0</th>\n",
       "      <th>MFCC1</th>\n",
       "      <th>MFCC2</th>\n",
       "      <th>MFCC3</th>\n",
       "      <th>MFCC4</th>\n",
       "      <th>MFCC5</th>\n",
       "      <th>MFCC6</th>\n",
       "      <th>MFCC7</th>\n",
       "      <th>MFCC8</th>\n",
       "      <th>MFCC9</th>\n",
       "      <th>MFCC10</th>\n",
       "      <th>MFCC11</th>\n",
       "      <th>MFCC12</th>\n",
       "    </tr>\n",
       "  </thead>\n",
       "  <tbody>\n",
       "    <tr>\n",
       "      <th>0</th>\n",
       "      <td>-0.645231</td>\n",
       "      <td>6.840059</td>\n",
       "      <td>-34.698966</td>\n",
       "      <td>-5.163873</td>\n",
       "      <td>-16.421513</td>\n",
       "      <td>-26.127300</td>\n",
       "      <td>-24.478998</td>\n",
       "      <td>-13.912648</td>\n",
       "      <td>-11.309976</td>\n",
       "      <td>-35.330644</td>\n",
       "      <td>-6.705617</td>\n",
       "      <td>-16.910202</td>\n",
       "      <td>-15.692434</td>\n",
       "    </tr>\n",
       "    <tr>\n",
       "      <th>1</th>\n",
       "      <td>-1.667391</td>\n",
       "      <td>11.200022</td>\n",
       "      <td>-23.022258</td>\n",
       "      <td>-5.891074</td>\n",
       "      <td>-34.590220</td>\n",
       "      <td>-14.549208</td>\n",
       "      <td>-21.365258</td>\n",
       "      <td>-27.976360</td>\n",
       "      <td>-15.429641</td>\n",
       "      <td>-16.015957</td>\n",
       "      <td>-8.283700</td>\n",
       "      <td>-26.623802</td>\n",
       "      <td>-17.272402</td>\n",
       "    </tr>\n",
       "    <tr>\n",
       "      <th>2</th>\n",
       "      <td>-1.585208</td>\n",
       "      <td>10.116967</td>\n",
       "      <td>-22.687469</td>\n",
       "      <td>-2.415676</td>\n",
       "      <td>-38.096010</td>\n",
       "      <td>-16.526405</td>\n",
       "      <td>-16.803405</td>\n",
       "      <td>-30.404819</td>\n",
       "      <td>-21.994861</td>\n",
       "      <td>-7.813076</td>\n",
       "      <td>-4.934756</td>\n",
       "      <td>-26.487692</td>\n",
       "      <td>-12.165320</td>\n",
       "    </tr>\n",
       "    <tr>\n",
       "      <th>3</th>\n",
       "      <td>-1.516908</td>\n",
       "      <td>7.832669</td>\n",
       "      <td>-25.530028</td>\n",
       "      <td>-6.600405</td>\n",
       "      <td>-44.508747</td>\n",
       "      <td>-23.148706</td>\n",
       "      <td>-24.789159</td>\n",
       "      <td>-36.507218</td>\n",
       "      <td>-28.861830</td>\n",
       "      <td>-11.091044</td>\n",
       "      <td>-6.928644</td>\n",
       "      <td>-26.393281</td>\n",
       "      <td>-10.738367</td>\n",
       "    </tr>\n",
       "    <tr>\n",
       "      <th>4</th>\n",
       "      <td>-1.507291</td>\n",
       "      <td>3.994814</td>\n",
       "      <td>-15.046565</td>\n",
       "      <td>-11.634594</td>\n",
       "      <td>-36.561951</td>\n",
       "      <td>-21.951056</td>\n",
       "      <td>-20.664525</td>\n",
       "      <td>-30.408666</td>\n",
       "      <td>-34.948488</td>\n",
       "      <td>-0.227105</td>\n",
       "      <td>-12.399686</td>\n",
       "      <td>-22.507579</td>\n",
       "      <td>-16.058356</td>\n",
       "    </tr>\n",
       "  </tbody>\n",
       "</table>\n",
       "</div>"
      ],
      "text/plain": [
       "      MFCC0      MFCC1      MFCC2      MFCC3      MFCC4      MFCC5      MFCC6  \\\n",
       "0 -0.645231   6.840059 -34.698966  -5.163873 -16.421513 -26.127300 -24.478998   \n",
       "1 -1.667391  11.200022 -23.022258  -5.891074 -34.590220 -14.549208 -21.365258   \n",
       "2 -1.585208  10.116967 -22.687469  -2.415676 -38.096010 -16.526405 -16.803405   \n",
       "3 -1.516908   7.832669 -25.530028  -6.600405 -44.508747 -23.148706 -24.789159   \n",
       "4 -1.507291   3.994814 -15.046565 -11.634594 -36.561951 -21.951056 -20.664525   \n",
       "\n",
       "       MFCC7      MFCC8      MFCC9     MFCC10     MFCC11     MFCC12  \n",
       "0 -13.912648 -11.309976 -35.330644  -6.705617 -16.910202 -15.692434  \n",
       "1 -27.976360 -15.429641 -16.015957  -8.283700 -26.623802 -17.272402  \n",
       "2 -30.404819 -21.994861  -7.813076  -4.934756 -26.487692 -12.165320  \n",
       "3 -36.507218 -28.861830 -11.091044  -6.928644 -26.393281 -10.738367  \n",
       "4 -30.408666 -34.948488  -0.227105 -12.399686 -22.507579 -16.058356  "
      ]
     },
     "execution_count": 49,
     "metadata": {},
     "output_type": "execute_result"
    }
   ],
   "source": [
    "df4=pd.read_csv('/home/bsplab/Desktop/manikanta/16khz_data/NEWFRAME_SHIFTING_DATA/FNN+MFCC_nesshifting/500ms/testing/speechtest_500ms.csv')\n",
    "df4.columns=['MFCC0', 'MFCC1','MFCC2','MFCC3','MFCC4','MFCC5','MFCC6','MFCC7','MFCC8', 'MFCC9', 'MFCC10' ,'MFCC11', 'MFCC12']\n",
    "df4.head()"
   ]
  },
  {
   "cell_type": "code",
   "execution_count": 50,
   "metadata": {},
   "outputs": [
    {
     "name": "stdout",
     "output_type": "stream",
     "text": [
      "1471.9579219818115ms\n"
     ]
    },
    {
     "data": {
      "text/plain": [
       "(71981, 4)"
      ]
     },
     "execution_count": 50,
     "metadata": {},
     "output_type": "execute_result"
    }
   ],
   "source": [
    "tic = time.time()\n",
    "my_his3=loaded_mymodel.predict(df4)\n",
    "toc = time.time()\n",
    "print(str(1000*(toc-tic))+\"ms\")\n",
    "\n",
    "my_his.shape"
   ]
  },
  {
   "cell_type": "code",
   "execution_count": 51,
   "metadata": {},
   "outputs": [
    {
     "name": "stdout",
     "output_type": "stream",
     "text": [
      "(71981,)\n"
     ]
    }
   ],
   "source": [
    "test_pred3 = np.argmax(my_his3, axis=1)\n",
    "test_pred3[150:380]\n",
    "print(test_pred3.shape)"
   ]
  },
  {
   "cell_type": "code",
   "execution_count": 69,
   "metadata": {},
   "outputs": [
    {
     "name": "stdout",
     "output_type": "stream",
     "text": [
      "The tested audio is speech\n",
      "Count is 66040\n"
     ]
    }
   ],
   "source": [
    "c =0\n",
    "for i in  test_pred3:\n",
    "    if i== 3:\n",
    "         c += 1\n",
    "    else:\n",
    "        continue \n",
    "if c > test_pred3.size/2:\n",
    "    print(\"The tested audio is speech\")\n",
    "else:\n",
    "    print(\"Error\")\n",
    "       \n",
    "        \n",
    "print(\"Count is \" + str(c))"
   ]
  },
  {
   "cell_type": "code",
   "execution_count": 53,
   "metadata": {},
   "outputs": [
    {
     "name": "stdout",
     "output_type": "stream",
     "text": [
      "Accuracy is for testing with new environment data of speech: 91.74643308650894\n"
     ]
    }
   ],
   "source": [
    "x=c/test_pred3.size\n",
    "print('Accuracy is for testing with new environment data of speech:',100*x)"
   ]
  },
  {
   "cell_type": "code",
   "execution_count": null,
   "metadata": {},
   "outputs": [],
   "source": [
    "sum(test_pred3==3)"
   ]
  },
  {
   "cell_type": "code",
   "execution_count": null,
   "metadata": {},
   "outputs": [],
   "source": []
  }
 ],
 "metadata": {
  "kernelspec": {
   "display_name": "Python 3",
   "language": "python",
   "name": "python3"
  },
  "language_info": {
   "codemirror_mode": {
    "name": "ipython",
    "version": 3
   },
   "file_extension": ".py",
   "mimetype": "text/x-python",
   "name": "python",
   "nbconvert_exporter": "python",
   "pygments_lexer": "ipython3",
   "version": "3.6.8"
  }
 },
 "nbformat": 4,
 "nbformat_minor": 2
}
