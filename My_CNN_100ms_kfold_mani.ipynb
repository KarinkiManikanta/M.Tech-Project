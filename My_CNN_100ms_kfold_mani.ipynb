{
 "cells": [
  {
   "cell_type": "markdown",
   "metadata": {},
   "source": [
    "# Helpful Functions"
   ]
  },
  {
   "cell_type": "code",
   "execution_count": 1,
   "metadata": {},
   "outputs": [],
   "source": [
    "from sklearn import preprocessing\n",
    "import matplotlib.pyplot as plt\n",
    "import numpy as np\n",
    "import pandas as pd\n",
    "import shutil\n",
    "import os\n",
    "import requests\n",
    "import base64\n",
    "\n",
    "\n",
    "# Encode text values to dummy variables(i.e. [1,0,0],[0,1,0],[0,0,1] for red,green,blue)\n",
    "def encode_text_dummy(df, name):\n",
    "    dummies = pd.get_dummies(df[name])\n",
    "    for x in dummies.columns:\n",
    "        dummy_name = \"{}-{}\".format(name, x)\n",
    "        df[dummy_name] = dummies[x]\n",
    "    df.drop(name, axis=1, inplace=True)\n",
    "\n",
    "\n",
    "# Encode text values to a single dummy variable.  The new columns (which do not replace the old) will have a 1\n",
    "# at every location where the original column (name) matches each of the target_values.  One column is added for\n",
    "# each target value.\n",
    "def encode_text_single_dummy(df, name, target_values):\n",
    "    for tv in target_values:\n",
    "        l = list(df[name].astype(str))\n",
    "        l = [1 if str(x) == str(tv) else 0 for x in l]\n",
    "        name2 = \"{}-{}\".format(name, tv)\n",
    "        df[name2] = l\n",
    "\n",
    "\n",
    "# Encode text values to indexes(i.e. [1],[2],[3] for red,green,blue).\n",
    "def encode_text_index(df, name):\n",
    "    le = preprocessing.LabelEncoder()\n",
    "    df[name] = le.fit_transform(df[name])\n",
    "    return le.classes_\n",
    "\n",
    "\n",
    "# Encode a numeric column as zscores\n",
    "def encode_numeric_zscore(df, name, mean=None, sd=None):\n",
    "    if mean is None:\n",
    "        mean = df[name].mean()\n",
    "\n",
    "    if sd is None:\n",
    "        sd = df[name].std()\n",
    "\n",
    "    df[name] = (df[name] - mean) / sd\n",
    "\n",
    "\n",
    "# Convert all missing values in the specified column to the median\n",
    "def missing_median(df, name):\n",
    "    med = df[name].median()\n",
    "    df[name] = df[name].fillna(med)\n",
    "\n",
    "\n",
    "# Convert all missing values in the specified column to the default\n",
    "def missing_default(df, name, default_value):\n",
    "    df[name] = df[name].fillna(default_value)\n",
    "\n",
    "\n",
    "# Convert a Pandas dataframe to the x,y inputs that TensorFlow needs\n",
    "def to_xy(df, target):\n",
    "    result = []\n",
    "    for x in df.columns:\n",
    "        if x != target:\n",
    "            result.append(x)\n",
    "    # find out the type of the target column.  Is it really this hard? :(\n",
    "    target_type = df[target].dtypes\n",
    "    target_type = target_type[0] if hasattr(target_type, '__iter__') else target_type\n",
    "    # Encode to int for classification, float otherwise. TensorFlow likes 32 bits.\n",
    "    if target_type in (np.int64, np.int32):\n",
    "        # Classification\n",
    "        dummies = pd.get_dummies(df[target])\n",
    "        return df.as_matrix(result).astype(np.float32), dummies.as_matrix().astype(np.float32)\n",
    "    else:\n",
    "        # Regression\n",
    "        return df.as_matrix(result).astype(np.float32), df.as_matrix([target]).astype(np.float32)\n",
    "\n",
    "# Nicely formatted time string\n",
    "def hms_string(sec_elapsed):\n",
    "    h = int(sec_elapsed / (60 * 60))\n",
    "    m = int((sec_elapsed % (60 * 60)) / 60)\n",
    "    s = sec_elapsed % 60\n",
    "    return \"{}:{:>02}:{:>05.2f}\".format(h, m, s)\n",
    "\n",
    "\n",
    "# Regression chart.\n",
    "def chart_regression(pred,y,sort=True):\n",
    "    t = pd.DataFrame({'pred' : pred, 'y' : y.flatten()})\n",
    "    if sort:\n",
    "        t.sort_values(by=['y'],inplace=True)\n",
    "    a = plt.plot(t['y'].tolist(),label='expected')\n",
    "    b = plt.plot(t['pred'].tolist(),label='prediction')\n",
    "    plt.ylabel('output')\n",
    "    plt.legend()\n",
    "    plt.show()\n",
    "\n",
    "# Remove all rows where the specified column is +/- sd standard deviations\n",
    "def remove_outliers(df, name, sd):\n",
    "    drop_rows = df.index[(np.abs(df[name] - df[name].mean()) >= (sd * df[name].std()))]\n",
    "    df.drop(drop_rows, axis=0, inplace=True)\n",
    "\n",
    "\n",
    "# Encode a column to a range between normalized_low and normalized_high.\n",
    "def encode_numeric_range(df, name, normalized_low=-1, normalized_high=1,\n",
    "                         data_low=None, data_high=None):\n",
    "    if data_low is None:\n",
    "        data_low = min(df[name])\n",
    "        data_high = max(df[name])\n",
    "\n",
    "    df[name] = ((df[name] - data_low) / (data_high - data_low)) \\\n",
    "               * (normalized_high - normalized_low) + normalized_low\n"
   ]
  },
  {
   "cell_type": "code",
   "execution_count": 1,
   "metadata": {},
   "outputs": [
    {
     "name": "stderr",
     "output_type": "stream",
     "text": [
      "Using TensorFlow backend.\n"
     ]
    }
   ],
   "source": [
    "import pandas as pd\n",
    "import os\n",
    "import numpy as np\n",
    "from sklearn import metrics\n",
    "from scipy.stats import zscore\n",
    "from sklearn.model_selection import KFold\n",
    "from keras.models import Sequential\n",
    "from keras import layers\n",
    "from keras.callbacks import EarlyStopping\n",
    "import keras\n",
    "from sklearn.model_selection import train_test_split\n",
    "import tensorflow as tf\n",
    "from keras.callbacks import ModelCheckpoint\n",
    "from keras import backend as K\n",
    "import matplotlib.pyplot as plt\n",
    "from sklearn.metrics import confusion_matrix\n",
    "import time\n",
    "from keras.layers import Dense, Dropout, Flatten, Reshape, GlobalAveragePooling1D\n"
   ]
  },
  {
   "cell_type": "code",
   "execution_count": 3,
   "metadata": {},
   "outputs": [
    {
     "name": "stdout",
     "output_type": "stream",
     "text": [
      "(2879855, 14)\n"
     ]
    },
    {
     "data": {
      "text/html": [
       "<div>\n",
       "<style scoped>\n",
       "    .dataframe tbody tr th:only-of-type {\n",
       "        vertical-align: middle;\n",
       "    }\n",
       "\n",
       "    .dataframe tbody tr th {\n",
       "        vertical-align: top;\n",
       "    }\n",
       "\n",
       "    .dataframe thead th {\n",
       "        text-align: right;\n",
       "    }\n",
       "</style>\n",
       "<table border=\"1\" class=\"dataframe\">\n",
       "  <thead>\n",
       "    <tr style=\"text-align: right;\">\n",
       "      <th></th>\n",
       "      <th>MFCC0</th>\n",
       "      <th>MFCC1</th>\n",
       "      <th>MFCC2</th>\n",
       "      <th>MFCC3</th>\n",
       "      <th>MFCC4</th>\n",
       "      <th>MFCC5</th>\n",
       "      <th>MFCC6</th>\n",
       "      <th>MFCC7</th>\n",
       "      <th>MFCC8</th>\n",
       "      <th>MFCC9</th>\n",
       "      <th>MFCC10</th>\n",
       "      <th>MFCC11</th>\n",
       "      <th>MFCC12</th>\n",
       "      <th>Label</th>\n",
       "    </tr>\n",
       "  </thead>\n",
       "  <tbody>\n",
       "    <tr>\n",
       "      <th>0</th>\n",
       "      <td>-2.177482</td>\n",
       "      <td>28.989668</td>\n",
       "      <td>13.514783</td>\n",
       "      <td>3.274898</td>\n",
       "      <td>0.596447</td>\n",
       "      <td>0.398882</td>\n",
       "      <td>-0.708436</td>\n",
       "      <td>3.897990</td>\n",
       "      <td>-2.568868</td>\n",
       "      <td>4.084522</td>\n",
       "      <td>-3.458008</td>\n",
       "      <td>3.329399</td>\n",
       "      <td>0.502433</td>\n",
       "      <td>AC &amp; FAN</td>\n",
       "    </tr>\n",
       "    <tr>\n",
       "      <th>1</th>\n",
       "      <td>-2.217528</td>\n",
       "      <td>29.009960</td>\n",
       "      <td>14.496528</td>\n",
       "      <td>3.937856</td>\n",
       "      <td>0.885757</td>\n",
       "      <td>0.382850</td>\n",
       "      <td>-3.029734</td>\n",
       "      <td>3.721529</td>\n",
       "      <td>-1.249983</td>\n",
       "      <td>5.907419</td>\n",
       "      <td>-4.396610</td>\n",
       "      <td>5.099895</td>\n",
       "      <td>-0.134206</td>\n",
       "      <td>AC &amp; FAN</td>\n",
       "    </tr>\n",
       "    <tr>\n",
       "      <th>2</th>\n",
       "      <td>-2.157077</td>\n",
       "      <td>29.629701</td>\n",
       "      <td>14.559298</td>\n",
       "      <td>3.647526</td>\n",
       "      <td>0.612399</td>\n",
       "      <td>1.271464</td>\n",
       "      <td>-3.784228</td>\n",
       "      <td>2.127398</td>\n",
       "      <td>-2.638736</td>\n",
       "      <td>3.369799</td>\n",
       "      <td>-3.730211</td>\n",
       "      <td>5.022815</td>\n",
       "      <td>1.037247</td>\n",
       "      <td>AC &amp; FAN</td>\n",
       "    </tr>\n",
       "    <tr>\n",
       "      <th>3</th>\n",
       "      <td>-2.078407</td>\n",
       "      <td>29.166139</td>\n",
       "      <td>15.066271</td>\n",
       "      <td>3.693529</td>\n",
       "      <td>1.686593</td>\n",
       "      <td>0.728231</td>\n",
       "      <td>-3.368825</td>\n",
       "      <td>3.075890</td>\n",
       "      <td>-2.924258</td>\n",
       "      <td>5.053575</td>\n",
       "      <td>-1.145492</td>\n",
       "      <td>3.734177</td>\n",
       "      <td>1.093625</td>\n",
       "      <td>AC &amp; FAN</td>\n",
       "    </tr>\n",
       "    <tr>\n",
       "      <th>4</th>\n",
       "      <td>-2.085620</td>\n",
       "      <td>29.093788</td>\n",
       "      <td>13.834518</td>\n",
       "      <td>3.553311</td>\n",
       "      <td>0.222944</td>\n",
       "      <td>-0.190377</td>\n",
       "      <td>-2.344441</td>\n",
       "      <td>4.263392</td>\n",
       "      <td>-1.810713</td>\n",
       "      <td>5.807317</td>\n",
       "      <td>-2.152727</td>\n",
       "      <td>1.521383</td>\n",
       "      <td>0.662543</td>\n",
       "      <td>AC &amp; FAN</td>\n",
       "    </tr>\n",
       "  </tbody>\n",
       "</table>\n",
       "</div>"
      ],
      "text/plain": [
       "      MFCC0      MFCC1      MFCC2     MFCC3     MFCC4     MFCC5     MFCC6  \\\n",
       "0 -2.177482  28.989668  13.514783  3.274898  0.596447  0.398882 -0.708436   \n",
       "1 -2.217528  29.009960  14.496528  3.937856  0.885757  0.382850 -3.029734   \n",
       "2 -2.157077  29.629701  14.559298  3.647526  0.612399  1.271464 -3.784228   \n",
       "3 -2.078407  29.166139  15.066271  3.693529  1.686593  0.728231 -3.368825   \n",
       "4 -2.085620  29.093788  13.834518  3.553311  0.222944 -0.190377 -2.344441   \n",
       "\n",
       "      MFCC7     MFCC8     MFCC9    MFCC10    MFCC11    MFCC12     Label  \n",
       "0  3.897990 -2.568868  4.084522 -3.458008  3.329399  0.502433  AC & FAN  \n",
       "1  3.721529 -1.249983  5.907419 -4.396610  5.099895 -0.134206  AC & FAN  \n",
       "2  2.127398 -2.638736  3.369799 -3.730211  5.022815  1.037247  AC & FAN  \n",
       "3  3.075890 -2.924258  5.053575 -1.145492  3.734177  1.093625  AC & FAN  \n",
       "4  4.263392 -1.810713  5.807317 -2.152727  1.521383  0.662543  AC & FAN  "
      ]
     },
     "execution_count": 3,
     "metadata": {},
     "output_type": "execute_result"
    }
   ],
   "source": [
    "# Read MFCCs feature CSV file of audio of 100ms block\n",
    "\n",
    "path=\"/home/bsplab/Desktop/manikanta/16khz_data/NEWFRAME_SHIFTING_DATA/CNN+MFCC_newshifting/100ms/training\"\n",
    "#filename=os.path.join(path,\"100ms_7C.csv\")\n",
    "df=pd.read_csv(\"/home/bsplab/Desktop/manikanta/16khz_data/NEWFRAME_SHIFTING_DATA/CNN+MFCC_newshifting/100ms/training/final_100ms.csv\",na_values=['NA','?'])\n",
    "df.columns=['MFCC0', 'MFCC1','MFCC2','MFCC3','MFCC4','MFCC5','MFCC6','MFCC7','MFCC8', \n",
    "            'MFCC9', 'MFCC10' ,'MFCC11', 'MFCC12', 'Label']\n",
    "#df=pd.read_csv(filename,na_values=['NA','?'])\n",
    "filename_write = os.path.join(path,\"/home/bsplab/Desktop/manikanta/16khz_data/NEWFRAME_SHIFTING_DATA/CNN+MFCC_newshifting/100ms/training/output_cnnkfold_100ms.csv\")\n",
    "print(df.shape)\n",
    "df.head()"
   ]
  },
  {
   "cell_type": "code",
   "execution_count": 4,
   "metadata": {},
   "outputs": [
    {
     "name": "stdout",
     "output_type": "stream",
     "text": [
      "Label has na? False\n"
     ]
    }
   ],
   "source": [
    "print(\"Label has na? {}\".format(pd.isnull(df['Label']).values.any()))"
   ]
  },
  {
   "cell_type": "code",
   "execution_count": 5,
   "metadata": {},
   "outputs": [
    {
     "data": {
      "text/plain": [
       "(2879855, 14)"
      ]
     },
     "execution_count": 5,
     "metadata": {},
     "output_type": "execute_result"
    }
   ],
   "source": [
    "df=df.dropna()\n",
    "df.shape"
   ]
  },
  {
   "cell_type": "code",
   "execution_count": 6,
   "metadata": {},
   "outputs": [
    {
     "name": "stdout",
     "output_type": "stream",
     "text": [
      "Label has na? False\n"
     ]
    }
   ],
   "source": [
    "print(\"Label has na? {}\".format(pd.isnull(df['Label']).values.any()))"
   ]
  },
  {
   "cell_type": "code",
   "execution_count": 7,
   "metadata": {},
   "outputs": [
    {
     "data": {
      "text/html": [
       "<div>\n",
       "<style scoped>\n",
       "    .dataframe tbody tr th:only-of-type {\n",
       "        vertical-align: middle;\n",
       "    }\n",
       "\n",
       "    .dataframe tbody tr th {\n",
       "        vertical-align: top;\n",
       "    }\n",
       "\n",
       "    .dataframe thead th {\n",
       "        text-align: right;\n",
       "    }\n",
       "</style>\n",
       "<table border=\"1\" class=\"dataframe\">\n",
       "  <thead>\n",
       "    <tr style=\"text-align: right;\">\n",
       "      <th></th>\n",
       "      <th>MFCC0</th>\n",
       "      <th>MFCC1</th>\n",
       "      <th>MFCC2</th>\n",
       "      <th>MFCC3</th>\n",
       "      <th>MFCC4</th>\n",
       "      <th>MFCC5</th>\n",
       "      <th>MFCC6</th>\n",
       "      <th>MFCC7</th>\n",
       "      <th>MFCC8</th>\n",
       "      <th>MFCC9</th>\n",
       "      <th>MFCC10</th>\n",
       "      <th>MFCC11</th>\n",
       "      <th>MFCC12</th>\n",
       "      <th>Label</th>\n",
       "    </tr>\n",
       "  </thead>\n",
       "  <tbody>\n",
       "    <tr>\n",
       "      <th>0</th>\n",
       "      <td>-8.674390</td>\n",
       "      <td>-15.782101</td>\n",
       "      <td>-9.014501</td>\n",
       "      <td>-23.598510</td>\n",
       "      <td>-14.720270</td>\n",
       "      <td>-9.394463</td>\n",
       "      <td>8.632519</td>\n",
       "      <td>33.632657</td>\n",
       "      <td>-9.083369</td>\n",
       "      <td>-12.988056</td>\n",
       "      <td>-14.929171</td>\n",
       "      <td>-8.657153</td>\n",
       "      <td>1.998997</td>\n",
       "      <td>CRYING</td>\n",
       "    </tr>\n",
       "    <tr>\n",
       "      <th>1</th>\n",
       "      <td>-1.911238</td>\n",
       "      <td>-18.842382</td>\n",
       "      <td>-34.766056</td>\n",
       "      <td>3.829446</td>\n",
       "      <td>-24.594156</td>\n",
       "      <td>21.327238</td>\n",
       "      <td>7.549542</td>\n",
       "      <td>20.037894</td>\n",
       "      <td>-5.151323</td>\n",
       "      <td>-12.387786</td>\n",
       "      <td>-23.254159</td>\n",
       "      <td>9.522837</td>\n",
       "      <td>-17.909693</td>\n",
       "      <td>CRYING</td>\n",
       "    </tr>\n",
       "    <tr>\n",
       "      <th>2</th>\n",
       "      <td>0.281290</td>\n",
       "      <td>-14.679353</td>\n",
       "      <td>-29.949752</td>\n",
       "      <td>-5.299863</td>\n",
       "      <td>-45.347970</td>\n",
       "      <td>27.561231</td>\n",
       "      <td>6.183920</td>\n",
       "      <td>24.620650</td>\n",
       "      <td>-30.354956</td>\n",
       "      <td>-20.189063</td>\n",
       "      <td>0.107409</td>\n",
       "      <td>39.142069</td>\n",
       "      <td>7.633437</td>\n",
       "      <td>CRYING</td>\n",
       "    </tr>\n",
       "    <tr>\n",
       "      <th>3</th>\n",
       "      <td>-2.586621</td>\n",
       "      <td>-17.097926</td>\n",
       "      <td>6.881091</td>\n",
       "      <td>17.884864</td>\n",
       "      <td>-40.547504</td>\n",
       "      <td>-29.503349</td>\n",
       "      <td>-40.105238</td>\n",
       "      <td>12.979943</td>\n",
       "      <td>-24.573659</td>\n",
       "      <td>18.821428</td>\n",
       "      <td>21.814856</td>\n",
       "      <td>-11.700079</td>\n",
       "      <td>16.268420</td>\n",
       "      <td>SPEECH</td>\n",
       "    </tr>\n",
       "    <tr>\n",
       "      <th>4</th>\n",
       "      <td>-6.926440</td>\n",
       "      <td>9.224743</td>\n",
       "      <td>-2.142383</td>\n",
       "      <td>-1.558457</td>\n",
       "      <td>-26.140506</td>\n",
       "      <td>-17.126806</td>\n",
       "      <td>-13.105883</td>\n",
       "      <td>-7.250446</td>\n",
       "      <td>6.386086</td>\n",
       "      <td>-1.025086</td>\n",
       "      <td>-9.002003</td>\n",
       "      <td>-5.823928</td>\n",
       "      <td>-3.466868</td>\n",
       "      <td>SPEECH</td>\n",
       "    </tr>\n",
       "  </tbody>\n",
       "</table>\n",
       "</div>"
      ],
      "text/plain": [
       "      MFCC0      MFCC1      MFCC2      MFCC3      MFCC4      MFCC5      MFCC6  \\\n",
       "0 -8.674390 -15.782101  -9.014501 -23.598510 -14.720270  -9.394463   8.632519   \n",
       "1 -1.911238 -18.842382 -34.766056   3.829446 -24.594156  21.327238   7.549542   \n",
       "2  0.281290 -14.679353 -29.949752  -5.299863 -45.347970  27.561231   6.183920   \n",
       "3 -2.586621 -17.097926   6.881091  17.884864 -40.547504 -29.503349 -40.105238   \n",
       "4 -6.926440   9.224743  -2.142383  -1.558457 -26.140506 -17.126806 -13.105883   \n",
       "\n",
       "       MFCC7      MFCC8      MFCC9     MFCC10     MFCC11     MFCC12   Label  \n",
       "0  33.632657  -9.083369 -12.988056 -14.929171  -8.657153   1.998997  CRYING  \n",
       "1  20.037894  -5.151323 -12.387786 -23.254159   9.522837 -17.909693  CRYING  \n",
       "2  24.620650 -30.354956 -20.189063   0.107409  39.142069   7.633437  CRYING  \n",
       "3  12.979943 -24.573659  18.821428  21.814856 -11.700079  16.268420  SPEECH  \n",
       "4  -7.250446   6.386086  -1.025086  -9.002003  -5.823928  -3.466868  SPEECH  "
      ]
     },
     "execution_count": 7,
     "metadata": {},
     "output_type": "execute_result"
    }
   ],
   "source": [
    "# Shuffle\n",
    "np.random.seed(42)# set a seed so that the results are consistent\n",
    "df = df.reindex(np.random.permutation(df.index))\n",
    "df.reset_index(inplace=True, drop=True)\n",
    "df.head()"
   ]
  },
  {
   "cell_type": "code",
   "execution_count": 8,
   "metadata": {},
   "outputs": [
    {
     "name": "stdout",
     "output_type": "stream",
     "text": [
      "Labelling is:['AC & FAN' 'CRYING' 'MUSIC' 'SPEECH']\n"
     ]
    },
    {
     "name": "stderr",
     "output_type": "stream",
     "text": [
      "/home/bsplab/anaconda3/lib/python3.6/site-packages/ipykernel_launcher.py:73: FutureWarning: Method .as_matrix will be removed in a future version. Use .values instead.\n"
     ]
    }
   ],
   "source": [
    "# Encode to a 2D matrix for training\n",
    "Label = encode_text_index(df,'Label')\n",
    "print(\"Labelling is:{}\".format(Label))\n",
    "\n",
    "############################################################################################\n",
    "\n",
    "# Sperating Independent variable and Target Variable\n",
    "x,y=to_xy(df,'Label')"
   ]
  },
  {
   "cell_type": "code",
   "execution_count": 9,
   "metadata": {},
   "outputs": [],
   "source": [
    "# Keep a 20% holdout\n",
    "x_main, x_holdout, y_main, y_holdout = train_test_split(    \n",
    "    x, y, test_size=0.20)"
   ]
  },
  {
   "cell_type": "code",
   "execution_count": 10,
   "metadata": {},
   "outputs": [
    {
     "name": "stdout",
     "output_type": "stream",
     "text": [
      "Shape of x : (2879855, 13)\n",
      "Shape of y : (2879855, 4)\n",
      "Shape of x_main : (2303884, 13)\n",
      "Shape of x_holdout : (575971, 13)\n",
      "Shape of y_main : (2303884, 4)\n",
      "Shape of y_holdout : (575971, 4)\n"
     ]
    }
   ],
   "source": [
    "print(\"Shape of x : {}\".format(x.shape))\n",
    "print(\"Shape of y : {}\".format(y.shape))\n",
    "print(\"Shape of x_main : {}\".format(x_main.shape))\n",
    "print(\"Shape of x_holdout : {}\".format(x_holdout.shape))\n",
    "print(\"Shape of y_main : {}\".format(y_main.shape))\n",
    "print(\"Shape of y_holdout : {}\".format(y_holdout.shape))"
   ]
  },
  {
   "cell_type": "code",
   "execution_count": 11,
   "metadata": {},
   "outputs": [
    {
     "name": "stdout",
     "output_type": "stream",
     "text": [
      "Fold #1\n",
      "Fold score (accuracy): 0.9744171258548061\n",
      "Elapsed time: 0:39:58.29\n",
      "Confusion matrix, without normalization\n",
      "[[115380      0     31      5]\n",
      " [     0 110985   2604   1894]\n",
      " [    27    703 111526   2509]\n",
      " [    20    994   3001 111098]]\n",
      "Fold #2\n",
      "Fold score (accuracy): 0.9747187902173937\n",
      "Elapsed time: 1:19:52.52\n",
      "Confusion matrix, without normalization\n",
      "[[115074      1     72      7]\n",
      " [     0 112235   1928   1391]\n",
      " [    12   1146 110471   3415]\n",
      " [    10   1454   2213 111348]]\n",
      "Fold #3\n",
      "Fold score (accuracy): 0.9736249856221122\n",
      "Elapsed time: 1:59:58.49\n",
      "Confusion matrix, without normalization\n",
      "[[114673      0     14      1]\n",
      " [     5 110808   2713   1681]\n",
      " [    43    765 111607   3151]\n",
      " [    25   1182   2573 111536]]\n",
      "Fold #4\n",
      "Fold score (accuracy): 0.9736228153748994\n",
      "Elapsed time: 2:40:19.03\n",
      "Confusion matrix, without normalization\n",
      "[[115308      2     19      1]\n",
      " [     6 110468   2615   1641]\n",
      " [    35    788 111650   2751]\n",
      " [    18   1151   3127 111197]]\n",
      "Fold #5\n",
      "Fold score (accuracy): 0.9745125614181294\n",
      "Elapsed time: 3:21:02.33\n",
      "Confusion matrix, without normalization\n",
      "[[115219      2     16      4]\n",
      " [     1 111859   1736   1817]\n",
      " [    25   1295 109803   3906]\n",
      " [     7   1146   1789 112151]]\n",
      "_________________________________________________________________\n",
      "Layer (type)                 Output Shape              Param #   \n",
      "=================================================================\n",
      "conv1d_17 (Conv1D)           (None, 12, 50)            150       \n",
      "_________________________________________________________________\n",
      "conv1d_18 (Conv1D)           (None, 11, 50)            5050      \n",
      "_________________________________________________________________\n",
      "max_pooling1d_5 (MaxPooling1 (None, 5, 50)             0         \n",
      "_________________________________________________________________\n",
      "conv1d_19 (Conv1D)           (None, 4, 100)            10100     \n",
      "_________________________________________________________________\n",
      "conv1d_20 (Conv1D)           (None, 3, 100)            20100     \n",
      "_________________________________________________________________\n",
      "flatten_5 (Flatten)          (None, 300)               0         \n",
      "_________________________________________________________________\n",
      "dropout_9 (Dropout)          (None, 300)               0         \n",
      "_________________________________________________________________\n",
      "dense_9 (Dense)              (None, 100)               30100     \n",
      "_________________________________________________________________\n",
      "dropout_10 (Dropout)         (None, 100)               0         \n",
      "_________________________________________________________________\n",
      "dense_10 (Dense)             (None, 4)                 404       \n",
      "=================================================================\n",
      "Total params: 65,904\n",
      "Trainable params: 65,904\n",
      "Non-trainable params: 0\n",
      "_________________________________________________________________\n",
      "None\n",
      "Final score (accuracy): 0.9741792555527969\n"
     ]
    }
   ],
   "source": [
    "epochs=30\n",
    "batch_size = 128\n",
    "num_classes = 4\n",
    "start_time = time.time()\n",
    "# Cross-validate\n",
    "kf = KFold(5)\n",
    "    \n",
    "oos_y = []\n",
    "oos_pred = []\n",
    "fold = 0\n",
    "plot_loss = np.empty ((0,epochs))\n",
    "plot_acc = np.empty ((0,epochs))\n",
    "\n",
    "for train, test in kf.split(x_main):\n",
    "    fold+=1\n",
    "    print(\"Fold #{}\".format(fold))\n",
    "        \n",
    "    x_train = x_main[train]\n",
    "    y_train = y_main[train]\n",
    "    x_test = x_main[test]\n",
    "    y_test = y_main[test]\n",
    "    \n",
    "    X_train = np.expand_dims(x_train, axis=2) # reshape (569, 30) to (569, 30, 1) \n",
    "    #y_train = np.expand_dims(y_train, axis=2)\n",
    "    #y_test = np.expand_dims(y_test, axis=2)\n",
    "    X_test = np.expand_dims(x_test, axis=2)\n",
    "   \n",
    "\n",
    "    model = Sequential()\n",
    "    model.add(layers.Conv1D(50,2,activation='relu',input_shape=(13,1)))\n",
    "    model.add(layers.Conv1D(50,2,activation='relu'))\n",
    "    model.add(layers.MaxPooling1D(2))\n",
    "    model.add(layers.Conv1D(100,2,activation='relu'))\n",
    "    model.add(layers.Conv1D(100,2,activation='relu'))\n",
    "    model.add(layers.Flatten())\n",
    "    model.add(Dropout(0.2))\n",
    "    model.add(layers.Dense(100, activation='relu'))\n",
    "    model.add(Dropout(0.2))\n",
    "    model.add(layers.Dense(y_train.shape[1],activation='softmax'))\n",
    "    #model.summary()\n",
    "    model.compile(loss='categorical_crossentropy',optimizer='adam', metrics=['accuracy'])\n",
    "    monitor = [ EarlyStopping(monitor='val_loss',\n",
    "                            min_delta=1e-3,\n",
    "                            patience=10,\n",
    "                            verbose=0,\n",
    "                            mode='auto'),ModelCheckpoint(filepath=\"best_weights_mycnn_100ms_mani.h5\",\n",
    "                                   verbose=0,\n",
    "                                   save_best_only=True)] # save best model\n",
    "\n",
    "    history = model.fit(X_train, y_train,\n",
    "                        batch_size=batch_size,\n",
    "                        epochs=epochs,\n",
    "                        callbacks= monitor,\n",
    "                        verbose=0,\n",
    "                        validation_data=(X_test, y_test))\n",
    "   # model.compile(loss='categorical_crossentropy',optimizer='adam', metrics=['accuracy'])\n",
    "\n",
    "    \n",
    "   \n",
    "    \n",
    "    \n",
    "    \n",
    "    \n",
    "\n",
    "\n",
    "\n",
    "    ####################\n",
    "    pred = model.predict(X_test)\n",
    "    \n",
    "    oos_y.append(y_test)\n",
    "    pred = np.argmax(pred,axis=1) # raw probabilities to chosen class (highest probability)\n",
    "    oos_pred.append(pred)        \n",
    "\n",
    "    # Measure this fold's accuracy\n",
    "    y_compare = np.argmax(y_test,axis=1) # For accuracy calculation\n",
    "    score = metrics.accuracy_score(y_compare, pred)\n",
    "    print(\"Fold score (accuracy): {}\".format(score))\n",
    "    \n",
    "    #######################\n",
    "    elapsed_time = time.time() - start_time\n",
    "    print(\"Elapsed time: {}\".format(hms_string(elapsed_time))) \n",
    "    \n",
    "    ###############################################\n",
    "    loss = history.history['loss']\n",
    "    #plt.plot(epochs,loss,label=='Training loss')\n",
    "    acc = history.history['acc']\n",
    "    plot_loss = np.append (plot_loss, [loss],axis=0)\n",
    "    plot_acc = np.append (plot_acc, [acc],axis=0)\n",
    "    ###############################################\n",
    "    cm = confusion_matrix(y_compare,pred)\n",
    "    np.set_printoptions(precision=2)\n",
    "    print('Confusion matrix, without normalization')\n",
    "    print(cm)\n",
    "\n",
    "print(model.summary())\n",
    "    \n",
    "    \n",
    "# Build the oos prediction list and calculate the error.\n",
    "oos_y = np.concatenate(oos_y)\n",
    "oos_pred = np.concatenate(oos_pred)\n",
    "oos_y_compare = np.argmax(oos_y,axis=1) # For accuracy calculation\n",
    "\n",
    "score = metrics.accuracy_score(oos_y_compare, oos_pred)\n",
    "\n",
    "print(\"Final score (accuracy): {}\".format(score))    \n",
    "    \n",
    "# Write the cross-validated prediction\n",
    "oos_y = pd.DataFrame(oos_y)\n",
    "oos_pred = pd.DataFrame(oos_pred)\n",
    "oosDF = pd.concat( [df, oos_y, oos_pred],axis=1 )\n",
    "oosDF.to_csv(filename_write,index=False)\n",
    "\n"
   ]
  },
  {
   "cell_type": "code",
   "execution_count": 12,
   "metadata": {},
   "outputs": [
    {
     "data": {
      "image/png": "[encoded data removed]",
      "text/plain": [
       "<Figure size 432x288 with 1 Axes>"
      ]
     },
     "metadata": {
      "needs_background": "light"
     },
     "output_type": "display_data"
    }
   ],
   "source": [
    "plot_loss_graph = plot_loss\n",
    "itr=range(1,(epochs+1))\n",
    "for i in range(1,fold+1):\n",
    "    plt.plot(itr,plot_loss_graph[i-1],label=\"Fold #{}\".format(i))\n",
    "plt.xlabel('Epochs')\n",
    "plt.ylabel('Loss')\n",
    "plt.legend()\n",
    "plt.grid()\n",
    "plt.savefig(\"k-fold_loss_cnn_100ms_mani.eps\")\n",
    "plt.savefig(\"k-fold_loss_cnn_100ms_mani.png\",dpi=150)\n",
    "plt.show()"
   ]
  },
  {
   "cell_type": "code",
   "execution_count": 13,
   "metadata": {},
   "outputs": [
    {
     "data": {
      "image/png": "[encoded data removed]",
      "text/plain": [
       "<Figure size 432x288 with 1 Axes>"
      ]
     },
     "metadata": {
      "needs_background": "light"
     },
     "output_type": "display_data"
    }
   ],
   "source": [
    "plt.clf()\n",
    "plot_acc_graph = plot_acc\n",
    "itr=range(1,(epochs+1))\n",
    "for i in range(1,fold+1):\n",
    "    plt.plot(itr,plot_acc_graph[i-1],label=\"Fold #{}\".format(i))\n",
    "\n",
    "plt.xlabel('Epochs')\n",
    "plt.ylabel('Accuracy')\n",
    "plt.legend()\n",
    "plt.grid()\n",
    "plt.savefig(\"k-fold_acc_cnn_100ms_mani.eps\",dpi=150)\n",
    "plt.savefig('k-fold_acc_cnn_100ms_mani.png',dpi=150)\n",
    "plt.show()"
   ]
  },
  {
   "cell_type": "code",
   "execution_count": 14,
   "metadata": {
    "scrolled": true
   },
   "outputs": [
    {
     "name": "stdout",
     "output_type": "stream",
     "text": [
      "31721.54450416565ms\n"
     ]
    }
   ],
   "source": [
    "# Write the cross-validated prediction (from the last neural network)\n",
    "import time\n",
    "tic=time.time()\n",
    "X_holdout = np.expand_dims(x_holdout, axis=2)\n",
    "holdout_pred = model.predict(X_holdout)\n",
    "toc=time.time()\n",
    "print(str(1000*(toc-tic))+\"ms\")\n"
   ]
  },
  {
   "cell_type": "code",
   "execution_count": 15,
   "metadata": {},
   "outputs": [
    {
     "name": "stdout",
     "output_type": "stream",
     "text": [
      "Holdout score (accuracy): 0.9747261580878204\n"
     ]
    }
   ],
   "source": [
    "holdout_pred1 = np.argmax(holdout_pred, axis=1)\n",
    "y_holdout_compare = np.argmax(y_holdout, axis=1)\n",
    "score = metrics.accuracy_score(y_holdout_compare,holdout_pred1)\n",
    "print(\"Holdout score (accuracy): {}\".format(score))"
   ]
  },
  {
   "cell_type": "code",
   "execution_count": 16,
   "metadata": {},
   "outputs": [
    {
     "name": "stdout",
     "output_type": "stream",
     "text": [
      "Log loss score: 0.07007190694118855\n"
     ]
    }
   ],
   "source": [
    "#X_holdout = np.expand_dims(x_holdout, axis=2)\n",
    "#holdout_pred = model.predict(X_holdout)\n",
    "score = metrics.log_loss(y_holdout, holdout_pred)\n",
    "print(\"Log loss score: {}\".format(score))"
   ]
  },
  {
   "cell_type": "code",
   "execution_count": 17,
   "metadata": {},
   "outputs": [],
   "source": [
    "%matplotlib inline\n",
    "import matplotlib.pyplot as plt\n",
    "from sklearn.metrics import roc_curve, auc\n",
    "import numpy as np\n",
    "from sklearn import svm, datasets\n",
    "from sklearn.model_selection import train_test_split\n",
    "from sklearn.metrics import confusion_matrix\n",
    "\n",
    "# Plot a confusion matrix.\n",
    "# cm is the confusion matrix, names are the names of the classes.\n",
    "def plot_confusion_matrix(cm, names, title='Confusion matrix', cmap=plt.cm.Blues):\n",
    "    plt.imshow(cm, interpolation='nearest', cmap=cmap)\n",
    "    plt.title(title)\n",
    "    plt.colorbar()\n",
    "    tick_marks = np.arange(len(names))\n",
    "    plt.xticks(tick_marks, names, rotation=45)\n",
    "    plt.yticks(tick_marks, names)\n",
    "    plt.tight_layout()\n",
    "    plt.ylabel('True label')\n",
    "    plt.xlabel('Predicted label')\n",
    "    "
   ]
  },
  {
   "cell_type": "code",
   "execution_count": 18,
   "metadata": {},
   "outputs": [],
   "source": [
    "## Turn off the scintific notation \n",
    "np.set_printoptions(suppress=True)"
   ]
  },
  {
   "cell_type": "code",
   "execution_count": 19,
   "metadata": {
    "scrolled": false
   },
   "outputs": [
    {
     "name": "stdout",
     "output_type": "stream",
     "text": [
      "Confusion matrix, without normalization\n",
      "[[144098      3     27      6]\n",
      " [     1 139244   2114   2218]\n",
      " [    44   1602 137947   4743]\n",
      " [    12   1489   2298 140125]]\n"
     ]
    },
    {
     "data": {
      "image/png": "[encoded data removed]",
      "text/plain": [
       "<Figure size 432x288 with 2 Axes>"
      ]
     },
     "metadata": {
      "needs_background": "light"
     },
     "output_type": "display_data"
    }
   ],
   "source": [
    "\n",
    "# Compute confusion matrix\n",
    "cm = confusion_matrix(y_holdout_compare, holdout_pred1)\n",
    "np.set_printoptions(precision=2)\n",
    "print('Confusion matrix, without normalization')\n",
    "print(cm)\n",
    "plt.figure()\n",
    "plot_confusion_matrix(cm, Label)\n",
    "plt.savefig('cm_cnn_100ms_mani.png',dpi=150)\n",
    "plt.savefig('cm_cnn_100ms_mani.eps',dpi=150)\n",
    "\n"
   ]
  },
  {
   "cell_type": "code",
   "execution_count": 20,
   "metadata": {},
   "outputs": [
    {
     "name": "stdout",
     "output_type": "stream",
     "text": [
      "[[144098      3     27      6]\n",
      " [     1 139244   2114   2218]\n",
      " [    44   1602 137947   4743]\n",
      " [    12   1489   2298 140125]]\n",
      "              precision    recall  f1-score   support\n",
      "\n",
      "           0       1.00      1.00      1.00    144134\n",
      "           1       0.98      0.97      0.97    143577\n",
      "           2       0.97      0.96      0.96    144336\n",
      "           3       0.95      0.97      0.96    143924\n",
      "\n",
      "   micro avg       0.97      0.97      0.97    575971\n",
      "   macro avg       0.97      0.97      0.97    575971\n",
      "weighted avg       0.97      0.97      0.97    575971\n",
      "\n"
     ]
    }
   ],
   "source": [
    "from sklearn.metrics import classification_report, confusion_matrix  \n",
    "print(confusion_matrix(y_holdout_compare, holdout_pred1))  \n",
    "print(classification_report(y_holdout_compare, holdout_pred1))"
   ]
  },
  {
   "cell_type": "code",
   "execution_count": 21,
   "metadata": {},
   "outputs": [
    {
     "name": "stdout",
     "output_type": "stream",
     "text": [
      "Confusion matrix, without normalization\n"
     ]
    },
    {
     "data": {
      "image/png": "[encoded data removed]",
      "text/plain": [
       "<Figure size 360x216 with 2 Axes>"
      ]
     },
     "metadata": {
      "needs_background": "light"
     },
     "output_type": "display_data"
    }
   ],
   "source": [
    "import matplotlib.pyplot as plt\n",
    "from sklearn.metrics import confusion_matrix\n",
    "import itertools\n",
    "def plot_confusion_matrix(cm, classes,\n",
    "                          normalize=False,\n",
    "                          title='Confusion matrix',\n",
    "                          cmap=plt.cm.Blues):\n",
    "    \"\"\"\n",
    "    This function prints and plots the confusion matrix.\n",
    "    Normalization can be applied by setting `normalize=True`.\n",
    "    \"\"\"\n",
    "    if normalize:\n",
    "        cm = cm.astype('float') / cm.sum(axis=1)[:, np.newaxis]\n",
    "        print(\"Normalized confusion matrix\")\n",
    "    else:\n",
    "        print('Confusion matrix, without normalization')\n",
    "\n",
    "    plt.imshow(cm, interpolation='nearest', cmap=cmap)\n",
    "    plt.title(title)\n",
    "    plt.colorbar()\n",
    "    tick_marks = np.arange(len(classes))\n",
    "    plt.xticks(tick_marks, classes, rotation=45)\n",
    "    plt.yticks(tick_marks, classes)\n",
    "\n",
    "    fmt = '.2f' if normalize else 'd'\n",
    "    thresh = cm.max() / 2.\n",
    "    for i, j in itertools.product(range(cm.shape[0]), range(cm.shape[1])):\n",
    "        plt.text(j, i, format(cm[i, j], fmt),\n",
    "                 horizontalalignment=\"center\",\n",
    "                 color=\"white\" if cm[i, j] > thresh else \"black\")\n",
    "\n",
    "    plt.tight_layout()\n",
    "    plt.ylabel('True label')\n",
    "    plt.xlabel('Predicted label')\n",
    "\n",
    "# Compute confusion matrix\n",
    "cnf_matrix = confusion_matrix(y_holdout_compare, holdout_pred1)\n",
    "np.set_printoptions(precision=2)\n",
    "\n",
    "\n",
    "# Plot non-normalized confusion matrix\n",
    "plt.figure(figsize=(5,3))\n",
    "plot_confusion_matrix(cnf_matrix, classes=['AC & FAN', 'CRYING','MUSIC', 'SPEECH'],\n",
    "                      title='Confusion matrix_100ms')\n",
    "\n",
    "plt.savefig('cnn_confusiponmatrix_100ms.png')"
   ]
  },
  {
   "cell_type": "code",
   "execution_count": 22,
   "metadata": {},
   "outputs": [
    {
     "name": "stdout",
     "output_type": "stream",
     "text": [
      "Overall Accuracy:  97.47261580878204\n",
      "Precision:  97.47261580878204\n",
      "Sensitivity/Recall:  97.47261580878204\n",
      "Specificity:  97.47261580878204\n",
      "Error Rate:  2.527384191217963\n",
      "F1-Score:  97.47261580878204\n"
     ]
    }
   ],
   "source": [
    "[[B1,C1,M1,N1],[B2,C2,M2,N2],[B3,C3,M3,N3],\n",
    " [B4,C4,M4,N4]]=cm\n",
    "\n",
    "TP=(cm[0][0]+cm[1][1]+cm[2][2]+cm[3][3])\n",
    "TN=(cm[0][0]+cm[1][1]+cm[2][2]+cm[3][3])\n",
    "FP=np.sum(cm)-TP\n",
    "FN=FP\n",
    "\n",
    "\n",
    "Acc=(cm[0][0]+cm[1][1]+cm[2][2]+cm[3][3])/np.sum(cm)\n",
    "print(\"Overall Accuracy: \",Acc*100)\n",
    "\n",
    "Pr=(TP)/(TP+FP)\n",
    "print(\"Precision: \",Pr*100)\n",
    "\n",
    "Se=(TP)/(TP+FN)\n",
    "print(\"Sensitivity/Recall: \",Se*100)\n",
    "\n",
    "Sp=(TN)/(TN+FP)\n",
    "print(\"Specificity: \",Sp*100)\n",
    "\n",
    "ER=1-Acc\n",
    "print(\"Error Rate: \",100*ER)\n",
    "\n",
    "F_score = 2*TP /(2*TP + FP + FN)\n",
    "print(\"F1-Score: \",F_score*100)"
   ]
  },
  {
   "cell_type": "code",
   "execution_count": 23,
   "metadata": {},
   "outputs": [
    {
     "name": "stdout",
     "output_type": "stream",
     "text": [
      "1298.9726066589355ms\n"
     ]
    }
   ],
   "source": [
    "tic=time.time()\n",
    "model.save('my_CNN_100ms_mani.h5')\n",
    "toc=time.time()\n",
    "print(str(1000*(toc-tic))+\"ms\")"
   ]
  },
  {
   "cell_type": "code",
   "execution_count": 6,
   "metadata": {},
   "outputs": [
    {
     "name": "stdout",
     "output_type": "stream",
     "text": [
      "1700.143575668335ms\n"
     ]
    }
   ],
   "source": [
    "from keras.models import load_model\n",
    "import time\n",
    "tic=time.time()\n",
    "my_model=load_model('my_CNN_100ms_mani.h5')\n",
    "toc=time.time()\n",
    "print(str(1000*(toc-tic))+\"ms\")"
   ]
  },
  {
   "cell_type": "code",
   "execution_count": 7,
   "metadata": {},
   "outputs": [
    {
     "data": {
      "text/plain": [
       "(359981, 13)"
      ]
     },
     "execution_count": 7,
     "metadata": {},
     "output_type": "execute_result"
    }
   ],
   "source": [
    "df1=pd.read_csv(\"/home/bsplab/Desktop/manikanta/16khz_data/NEWFRAME_SHIFTING_DATA/CNN+MFCC_newshifting/100ms/testing/fanactest_100ms.csv\")\n",
    "df1.columns=['MFCC0', 'MFCC1','MFCC2','MFCC3','MFCC4','MFCC5','MFCC6','MFCC7','MFCC8', 'MFCC9', 'MFCC10' ,'MFCC11', 'MFCC12']\n",
    "df1.head()\n",
    "df1.shape"
   ]
  },
  {
   "cell_type": "code",
   "execution_count": 8,
   "metadata": {},
   "outputs": [
    {
     "data": {
      "text/plain": [
       "(359981, 13, 1)"
      ]
     },
     "execution_count": 8,
     "metadata": {},
     "output_type": "execute_result"
    }
   ],
   "source": [
    "df2 = np.expand_dims(df1, axis=2)# We have to add 1dimension more for testing\n",
    "df2.shape"
   ]
  },
  {
   "cell_type": "code",
   "execution_count": 9,
   "metadata": {},
   "outputs": [
    {
     "name": "stdout",
     "output_type": "stream",
     "text": [
      "17531.02445602417ms\n"
     ]
    }
   ],
   "source": [
    "tic=time.time()\n",
    "my_his1=my_model.predict(df2)\n",
    "toc=time.time()\n",
    "print(str(1000*(toc-tic))+\"ms\")"
   ]
  },
  {
   "cell_type": "code",
   "execution_count": 10,
   "metadata": {},
   "outputs": [
    {
     "name": "stdout",
     "output_type": "stream",
     "text": [
      "(359981,)\n"
     ]
    }
   ],
   "source": [
    "test_pred1 = np.argmax(my_his1, axis=1)\n",
    "test_pred1[150:380]\n",
    "print(test_pred1.shape)"
   ]
  },
  {
   "cell_type": "code",
   "execution_count": 15,
   "metadata": {},
   "outputs": [
    {
     "name": "stdout",
     "output_type": "stream",
     "text": [
      "The tested audio is AC & FAN\n",
      "Count is 238506\n"
     ]
    }
   ],
   "source": [
    "c =0\n",
    "for i in  test_pred1:\n",
    "    if i== 0:\n",
    "         c += 1\n",
    "    else:\n",
    "        continue \n",
    "if c > test_pred1.size/2:\n",
    "    print(\"The tested audio is AC & FAN\")\n",
    "else:\n",
    "    print(\"Error\")\n",
    "       \n",
    "        \n",
    "print(\"Count is \" + str(c))"
   ]
  },
  {
   "cell_type": "code",
   "execution_count": 9,
   "metadata": {},
   "outputs": [
    {
     "name": "stdout",
     "output_type": "stream",
     "text": [
      "Accuracy is for testing with new environment data of AC & FAN: 66.25516346696075\n"
     ]
    }
   ],
   "source": [
    "x=c/test_pred1.size\n",
    "print('Accuracy is for testing with new environment data of AC & FAN:',100*x)"
   ]
  },
  {
   "cell_type": "code",
   "execution_count": 16,
   "metadata": {},
   "outputs": [
    {
     "data": {
      "text/html": [
       "<div>\n",
       "<style scoped>\n",
       "    .dataframe tbody tr th:only-of-type {\n",
       "        vertical-align: middle;\n",
       "    }\n",
       "\n",
       "    .dataframe tbody tr th {\n",
       "        vertical-align: top;\n",
       "    }\n",
       "\n",
       "    .dataframe thead th {\n",
       "        text-align: right;\n",
       "    }\n",
       "</style>\n",
       "<table border=\"1\" class=\"dataframe\">\n",
       "  <thead>\n",
       "    <tr style=\"text-align: right;\">\n",
       "      <th></th>\n",
       "      <th>MFCC0</th>\n",
       "      <th>MFCC1</th>\n",
       "      <th>MFCC2</th>\n",
       "      <th>MFCC3</th>\n",
       "      <th>MFCC4</th>\n",
       "      <th>MFCC5</th>\n",
       "      <th>MFCC6</th>\n",
       "      <th>MFCC7</th>\n",
       "      <th>MFCC8</th>\n",
       "      <th>MFCC9</th>\n",
       "      <th>MFCC10</th>\n",
       "      <th>MFCC11</th>\n",
       "      <th>MFCC12</th>\n",
       "    </tr>\n",
       "  </thead>\n",
       "  <tbody>\n",
       "    <tr>\n",
       "      <th>0</th>\n",
       "      <td>-11.532925</td>\n",
       "      <td>-41.439816</td>\n",
       "      <td>-10.013638</td>\n",
       "      <td>-5.886042</td>\n",
       "      <td>1.759984</td>\n",
       "      <td>5.037223</td>\n",
       "      <td>-7.673149</td>\n",
       "      <td>-9.511770</td>\n",
       "      <td>-16.812402</td>\n",
       "      <td>4.153761</td>\n",
       "      <td>10.477659</td>\n",
       "      <td>2.287526</td>\n",
       "      <td>-3.059897</td>\n",
       "    </tr>\n",
       "    <tr>\n",
       "      <th>1</th>\n",
       "      <td>-11.132136</td>\n",
       "      <td>-36.726535</td>\n",
       "      <td>-6.075866</td>\n",
       "      <td>-2.412740</td>\n",
       "      <td>3.656523</td>\n",
       "      <td>5.991037</td>\n",
       "      <td>-6.274219</td>\n",
       "      <td>-5.948665</td>\n",
       "      <td>-12.675685</td>\n",
       "      <td>3.190814</td>\n",
       "      <td>8.824465</td>\n",
       "      <td>1.740878</td>\n",
       "      <td>-4.977975</td>\n",
       "    </tr>\n",
       "    <tr>\n",
       "      <th>2</th>\n",
       "      <td>-10.583627</td>\n",
       "      <td>-40.753876</td>\n",
       "      <td>-7.334856</td>\n",
       "      <td>-3.710782</td>\n",
       "      <td>-0.050616</td>\n",
       "      <td>6.511381</td>\n",
       "      <td>-3.357559</td>\n",
       "      <td>-2.911659</td>\n",
       "      <td>-8.063696</td>\n",
       "      <td>2.940719</td>\n",
       "      <td>7.065572</td>\n",
       "      <td>2.832189</td>\n",
       "      <td>-4.986748</td>\n",
       "    </tr>\n",
       "    <tr>\n",
       "      <th>3</th>\n",
       "      <td>-10.230430</td>\n",
       "      <td>-42.837300</td>\n",
       "      <td>-9.278788</td>\n",
       "      <td>-3.923623</td>\n",
       "      <td>1.156336</td>\n",
       "      <td>8.304230</td>\n",
       "      <td>-2.481578</td>\n",
       "      <td>-2.876568</td>\n",
       "      <td>-7.910415</td>\n",
       "      <td>0.070745</td>\n",
       "      <td>2.850507</td>\n",
       "      <td>2.495628</td>\n",
       "      <td>-2.261219</td>\n",
       "    </tr>\n",
       "    <tr>\n",
       "      <th>4</th>\n",
       "      <td>-9.770289</td>\n",
       "      <td>-43.105286</td>\n",
       "      <td>-8.304959</td>\n",
       "      <td>-4.162195</td>\n",
       "      <td>2.176433</td>\n",
       "      <td>10.053204</td>\n",
       "      <td>-4.267742</td>\n",
       "      <td>-5.939098</td>\n",
       "      <td>-9.613048</td>\n",
       "      <td>1.381759</td>\n",
       "      <td>1.189527</td>\n",
       "      <td>2.285791</td>\n",
       "      <td>-3.813635</td>\n",
       "    </tr>\n",
       "  </tbody>\n",
       "</table>\n",
       "</div>"
      ],
      "text/plain": [
       "       MFCC0      MFCC1      MFCC2     MFCC3     MFCC4      MFCC5     MFCC6  \\\n",
       "0 -11.532925 -41.439816 -10.013638 -5.886042  1.759984   5.037223 -7.673149   \n",
       "1 -11.132136 -36.726535  -6.075866 -2.412740  3.656523   5.991037 -6.274219   \n",
       "2 -10.583627 -40.753876  -7.334856 -3.710782 -0.050616   6.511381 -3.357559   \n",
       "3 -10.230430 -42.837300  -9.278788 -3.923623  1.156336   8.304230 -2.481578   \n",
       "4  -9.770289 -43.105286  -8.304959 -4.162195  2.176433  10.053204 -4.267742   \n",
       "\n",
       "      MFCC7      MFCC8     MFCC9     MFCC10    MFCC11    MFCC12  \n",
       "0 -9.511770 -16.812402  4.153761  10.477659  2.287526 -3.059897  \n",
       "1 -5.948665 -12.675685  3.190814   8.824465  1.740878 -4.977975  \n",
       "2 -2.911659  -8.063696  2.940719   7.065572  2.832189 -4.986748  \n",
       "3 -2.876568  -7.910415  0.070745   2.850507  2.495628 -2.261219  \n",
       "4 -5.939098  -9.613048  1.381759   1.189527  2.285791 -3.813635  "
      ]
     },
     "execution_count": 16,
     "metadata": {},
     "output_type": "execute_result"
    }
   ],
   "source": [
    "df3=pd.read_csv(\"/home/bsplab/Desktop/manikanta/16khz_data/NEWFRAME_SHIFTING_DATA/CNN+MFCC_newshifting/100ms/testing/cryingtest_100ms.csv\")\n",
    "df3.columns=['MFCC0', 'MFCC1','MFCC2','MFCC3','MFCC4','MFCC5','MFCC6','MFCC7','MFCC8', 'MFCC9', 'MFCC10' ,'MFCC11', 'MFCC12']\n",
    "df3.head()"
   ]
  },
  {
   "cell_type": "code",
   "execution_count": 17,
   "metadata": {},
   "outputs": [
    {
     "data": {
      "text/plain": [
       "(359981, 13, 1)"
      ]
     },
     "execution_count": 17,
     "metadata": {},
     "output_type": "execute_result"
    }
   ],
   "source": [
    "df4= np.expand_dims(df3, axis=2)# We have to add 1dimension more for testing\n",
    "df4.shape"
   ]
  },
  {
   "cell_type": "code",
   "execution_count": 18,
   "metadata": {},
   "outputs": [
    {
     "name": "stdout",
     "output_type": "stream",
     "text": [
      "17945.713758468628ms\n"
     ]
    }
   ],
   "source": [
    "tic=time.time()\n",
    "my_his2=my_model.predict(df4)\n",
    "toc=time.time()\n",
    "print(str(1000*(toc-tic))+\"ms\")"
   ]
  },
  {
   "cell_type": "code",
   "execution_count": 19,
   "metadata": {},
   "outputs": [
    {
     "name": "stdout",
     "output_type": "stream",
     "text": [
      "(359981,)\n"
     ]
    }
   ],
   "source": [
    "test_pred2 = np.argmax(my_his2, axis=1)\n",
    "test_pred2[150:380]\n",
    "print(test_pred2.shape)"
   ]
  },
  {
   "cell_type": "code",
   "execution_count": 23,
   "metadata": {},
   "outputs": [
    {
     "name": "stdout",
     "output_type": "stream",
     "text": [
      "The tested audio is crying\n",
      "Count is 230654\n"
     ]
    }
   ],
   "source": [
    "c =0\n",
    "for i in  test_pred2:\n",
    "    if i== 1:\n",
    "         c += 1\n",
    "    else:\n",
    "        continue \n",
    "if c > test_pred2.size/2:\n",
    "    print(\"The tested audio is crying\")\n",
    "else:\n",
    "    print(\"Error\")\n",
    "       \n",
    "        \n",
    "print(\"Count is \" + str(c))"
   ]
  },
  {
   "cell_type": "code",
   "execution_count": 15,
   "metadata": {},
   "outputs": [
    {
     "name": "stdout",
     "output_type": "stream",
     "text": [
      "Accuracy is for testing with new environment data of crying: 64.07393723557632\n"
     ]
    }
   ],
   "source": [
    "x=c/test_pred1.size\n",
    "print('Accuracy is for testing with new environment data of crying:',100*x)"
   ]
  },
  {
   "cell_type": "code",
   "execution_count": 24,
   "metadata": {},
   "outputs": [
    {
     "data": {
      "text/html": [
       "<div>\n",
       "<style scoped>\n",
       "    .dataframe tbody tr th:only-of-type {\n",
       "        vertical-align: middle;\n",
       "    }\n",
       "\n",
       "    .dataframe tbody tr th {\n",
       "        vertical-align: top;\n",
       "    }\n",
       "\n",
       "    .dataframe thead th {\n",
       "        text-align: right;\n",
       "    }\n",
       "</style>\n",
       "<table border=\"1\" class=\"dataframe\">\n",
       "  <thead>\n",
       "    <tr style=\"text-align: right;\">\n",
       "      <th></th>\n",
       "      <th>MFCC0</th>\n",
       "      <th>MFCC1</th>\n",
       "      <th>MFCC2</th>\n",
       "      <th>MFCC3</th>\n",
       "      <th>MFCC4</th>\n",
       "      <th>MFCC5</th>\n",
       "      <th>MFCC6</th>\n",
       "      <th>MFCC7</th>\n",
       "      <th>MFCC8</th>\n",
       "      <th>MFCC9</th>\n",
       "      <th>MFCC10</th>\n",
       "      <th>MFCC11</th>\n",
       "      <th>MFCC12</th>\n",
       "    </tr>\n",
       "  </thead>\n",
       "  <tbody>\n",
       "    <tr>\n",
       "      <th>0</th>\n",
       "      <td>-1.990123</td>\n",
       "      <td>-20.350678</td>\n",
       "      <td>-13.696701</td>\n",
       "      <td>3.631777</td>\n",
       "      <td>-31.725385</td>\n",
       "      <td>18.816110</td>\n",
       "      <td>-32.790862</td>\n",
       "      <td>2.403541</td>\n",
       "      <td>1.389364</td>\n",
       "      <td>-11.520431</td>\n",
       "      <td>18.829357</td>\n",
       "      <td>-2.981085</td>\n",
       "      <td>3.315220</td>\n",
       "    </tr>\n",
       "    <tr>\n",
       "      <th>1</th>\n",
       "      <td>-2.034620</td>\n",
       "      <td>-20.375766</td>\n",
       "      <td>-14.148921</td>\n",
       "      <td>3.194243</td>\n",
       "      <td>-31.738763</td>\n",
       "      <td>17.667094</td>\n",
       "      <td>-34.605984</td>\n",
       "      <td>2.908558</td>\n",
       "      <td>2.646545</td>\n",
       "      <td>-10.007036</td>\n",
       "      <td>19.021114</td>\n",
       "      <td>-1.875224</td>\n",
       "      <td>4.326378</td>\n",
       "    </tr>\n",
       "    <tr>\n",
       "      <th>2</th>\n",
       "      <td>-1.998620</td>\n",
       "      <td>-20.559211</td>\n",
       "      <td>-13.643551</td>\n",
       "      <td>4.088526</td>\n",
       "      <td>-31.637999</td>\n",
       "      <td>18.423230</td>\n",
       "      <td>-33.526329</td>\n",
       "      <td>3.590790</td>\n",
       "      <td>3.255856</td>\n",
       "      <td>-10.863344</td>\n",
       "      <td>18.494604</td>\n",
       "      <td>-1.581670</td>\n",
       "      <td>4.125259</td>\n",
       "    </tr>\n",
       "    <tr>\n",
       "      <th>3</th>\n",
       "      <td>-2.065147</td>\n",
       "      <td>-20.240945</td>\n",
       "      <td>-13.253146</td>\n",
       "      <td>5.043625</td>\n",
       "      <td>-30.390824</td>\n",
       "      <td>20.188941</td>\n",
       "      <td>-32.118361</td>\n",
       "      <td>4.604216</td>\n",
       "      <td>3.135303</td>\n",
       "      <td>-10.431314</td>\n",
       "      <td>15.644117</td>\n",
       "      <td>-2.382577</td>\n",
       "      <td>6.251958</td>\n",
       "    </tr>\n",
       "    <tr>\n",
       "      <th>4</th>\n",
       "      <td>-2.045668</td>\n",
       "      <td>-20.793000</td>\n",
       "      <td>-13.539983</td>\n",
       "      <td>4.327684</td>\n",
       "      <td>-31.059524</td>\n",
       "      <td>20.450706</td>\n",
       "      <td>-30.022440</td>\n",
       "      <td>6.100895</td>\n",
       "      <td>4.484121</td>\n",
       "      <td>-9.060196</td>\n",
       "      <td>17.732819</td>\n",
       "      <td>-2.039893</td>\n",
       "      <td>5.342894</td>\n",
       "    </tr>\n",
       "  </tbody>\n",
       "</table>\n",
       "</div>"
      ],
      "text/plain": [
       "      MFCC0      MFCC1      MFCC2     MFCC3      MFCC4      MFCC5      MFCC6  \\\n",
       "0 -1.990123 -20.350678 -13.696701  3.631777 -31.725385  18.816110 -32.790862   \n",
       "1 -2.034620 -20.375766 -14.148921  3.194243 -31.738763  17.667094 -34.605984   \n",
       "2 -1.998620 -20.559211 -13.643551  4.088526 -31.637999  18.423230 -33.526329   \n",
       "3 -2.065147 -20.240945 -13.253146  5.043625 -30.390824  20.188941 -32.118361   \n",
       "4 -2.045668 -20.793000 -13.539983  4.327684 -31.059524  20.450706 -30.022440   \n",
       "\n",
       "      MFCC7     MFCC8      MFCC9     MFCC10    MFCC11    MFCC12  \n",
       "0  2.403541  1.389364 -11.520431  18.829357 -2.981085  3.315220  \n",
       "1  2.908558  2.646545 -10.007036  19.021114 -1.875224  4.326378  \n",
       "2  3.590790  3.255856 -10.863344  18.494604 -1.581670  4.125259  \n",
       "3  4.604216  3.135303 -10.431314  15.644117 -2.382577  6.251958  \n",
       "4  6.100895  4.484121  -9.060196  17.732819 -2.039893  5.342894  "
      ]
     },
     "execution_count": 24,
     "metadata": {},
     "output_type": "execute_result"
    }
   ],
   "source": [
    "df7=pd.read_csv(\"/home/bsplab/Desktop/manikanta/16khz_data/NEWFRAME_SHIFTING_DATA/CNN+MFCC_newshifting/100ms/testing/musictest_100ms.csv\")\n",
    "df7.columns=['MFCC0', 'MFCC1','MFCC2','MFCC3','MFCC4','MFCC5','MFCC6','MFCC7','MFCC8', 'MFCC9', 'MFCC10' ,'MFCC11', 'MFCC12']\n",
    "df7.head()"
   ]
  },
  {
   "cell_type": "code",
   "execution_count": 25,
   "metadata": {},
   "outputs": [
    {
     "data": {
      "text/plain": [
       "(359981, 13, 1)"
      ]
     },
     "execution_count": 25,
     "metadata": {},
     "output_type": "execute_result"
    }
   ],
   "source": [
    "df8 = np.expand_dims(df7, axis=2)# We have to add 1dimension more for testing\n",
    "df8.shape"
   ]
  },
  {
   "cell_type": "code",
   "execution_count": 26,
   "metadata": {},
   "outputs": [
    {
     "name": "stdout",
     "output_type": "stream",
     "text": [
      "18289.352655410767ms\n"
     ]
    }
   ],
   "source": [
    "tic=time.time()\n",
    "my_his4=my_model.predict(df8)\n",
    "toc=time.time()\n",
    "print(str(1000*(toc-tic))+\"ms\")"
   ]
  },
  {
   "cell_type": "code",
   "execution_count": 27,
   "metadata": {},
   "outputs": [
    {
     "name": "stdout",
     "output_type": "stream",
     "text": [
      "(359981,)\n"
     ]
    }
   ],
   "source": [
    "test_pred4 = np.argmax(my_his4, axis=1)\n",
    "test_pred4[150:380]\n",
    "print(test_pred4.shape)"
   ]
  },
  {
   "cell_type": "code",
   "execution_count": 31,
   "metadata": {},
   "outputs": [
    {
     "name": "stdout",
     "output_type": "stream",
     "text": [
      "The tested audio is music\n",
      "Count is 295565\n"
     ]
    }
   ],
   "source": [
    "c =0\n",
    "for i in  test_pred4:\n",
    "    if i== 2:\n",
    "         c += 1\n",
    "    else:\n",
    "        continue \n",
    "if c > test_pred4.size/2:\n",
    "    print(\"The tested audio is music\")\n",
    "else:\n",
    "    print(\"Error\")\n",
    "       \n",
    "        \n",
    "print(\"Count is \" + str(c))"
   ]
  },
  {
   "cell_type": "code",
   "execution_count": 21,
   "metadata": {},
   "outputs": [
    {
     "name": "stdout",
     "output_type": "stream",
     "text": [
      "Accuracy is for testing with new environment data of music: 82.10572224645189\n"
     ]
    }
   ],
   "source": [
    "x=c/test_pred1.size\n",
    "print('Accuracy is for testing with new environment data of music:',100*x)"
   ]
  },
  {
   "cell_type": "code",
   "execution_count": 33,
   "metadata": {},
   "outputs": [
    {
     "data": {
      "text/html": [
       "<div>\n",
       "<style scoped>\n",
       "    .dataframe tbody tr th:only-of-type {\n",
       "        vertical-align: middle;\n",
       "    }\n",
       "\n",
       "    .dataframe tbody tr th {\n",
       "        vertical-align: top;\n",
       "    }\n",
       "\n",
       "    .dataframe thead th {\n",
       "        text-align: right;\n",
       "    }\n",
       "</style>\n",
       "<table border=\"1\" class=\"dataframe\">\n",
       "  <thead>\n",
       "    <tr style=\"text-align: right;\">\n",
       "      <th></th>\n",
       "      <th>MFCC0</th>\n",
       "      <th>MFCC1</th>\n",
       "      <th>MFCC2</th>\n",
       "      <th>MFCC3</th>\n",
       "      <th>MFCC4</th>\n",
       "      <th>MFCC5</th>\n",
       "      <th>MFCC6</th>\n",
       "      <th>MFCC7</th>\n",
       "      <th>MFCC8</th>\n",
       "      <th>MFCC9</th>\n",
       "      <th>MFCC10</th>\n",
       "      <th>MFCC11</th>\n",
       "      <th>MFCC12</th>\n",
       "    </tr>\n",
       "  </thead>\n",
       "  <tbody>\n",
       "    <tr>\n",
       "      <th>0</th>\n",
       "      <td>-0.050201</td>\n",
       "      <td>-1.459950</td>\n",
       "      <td>-47.080772</td>\n",
       "      <td>-7.018598</td>\n",
       "      <td>-11.433996</td>\n",
       "      <td>-20.761678</td>\n",
       "      <td>-12.831117</td>\n",
       "      <td>-0.354264</td>\n",
       "      <td>3.782690</td>\n",
       "      <td>-34.074036</td>\n",
       "      <td>-3.161392</td>\n",
       "      <td>-7.593636</td>\n",
       "      <td>-11.672030</td>\n",
       "    </tr>\n",
       "    <tr>\n",
       "      <th>1</th>\n",
       "      <td>-0.222368</td>\n",
       "      <td>-1.292799</td>\n",
       "      <td>-46.186094</td>\n",
       "      <td>-8.490439</td>\n",
       "      <td>-10.644840</td>\n",
       "      <td>-21.136131</td>\n",
       "      <td>-12.568691</td>\n",
       "      <td>0.842650</td>\n",
       "      <td>2.782625</td>\n",
       "      <td>-32.947479</td>\n",
       "      <td>-4.579298</td>\n",
       "      <td>-9.013817</td>\n",
       "      <td>-12.850303</td>\n",
       "    </tr>\n",
       "    <tr>\n",
       "      <th>2</th>\n",
       "      <td>-0.371657</td>\n",
       "      <td>0.892316</td>\n",
       "      <td>-42.921003</td>\n",
       "      <td>-3.493762</td>\n",
       "      <td>-5.445394</td>\n",
       "      <td>-14.351058</td>\n",
       "      <td>-4.787823</td>\n",
       "      <td>8.354385</td>\n",
       "      <td>10.320699</td>\n",
       "      <td>-26.221010</td>\n",
       "      <td>3.089642</td>\n",
       "      <td>-4.833432</td>\n",
       "      <td>-8.600031</td>\n",
       "    </tr>\n",
       "    <tr>\n",
       "      <th>3</th>\n",
       "      <td>-0.513524</td>\n",
       "      <td>-2.672771</td>\n",
       "      <td>-44.943169</td>\n",
       "      <td>-7.844133</td>\n",
       "      <td>-9.566689</td>\n",
       "      <td>-20.073346</td>\n",
       "      <td>-11.331026</td>\n",
       "      <td>1.852691</td>\n",
       "      <td>3.706034</td>\n",
       "      <td>-28.943520</td>\n",
       "      <td>-2.017533</td>\n",
       "      <td>-9.360505</td>\n",
       "      <td>-15.007542</td>\n",
       "    </tr>\n",
       "    <tr>\n",
       "      <th>4</th>\n",
       "      <td>-0.971738</td>\n",
       "      <td>-0.565293</td>\n",
       "      <td>-42.097997</td>\n",
       "      <td>-7.001646</td>\n",
       "      <td>-9.542562</td>\n",
       "      <td>-19.810856</td>\n",
       "      <td>-11.306753</td>\n",
       "      <td>1.330879</td>\n",
       "      <td>2.200913</td>\n",
       "      <td>-29.802182</td>\n",
       "      <td>0.201652</td>\n",
       "      <td>-10.412355</td>\n",
       "      <td>-14.063427</td>\n",
       "    </tr>\n",
       "  </tbody>\n",
       "</table>\n",
       "</div>"
      ],
      "text/plain": [
       "      MFCC0     MFCC1      MFCC2     MFCC3      MFCC4      MFCC5      MFCC6  \\\n",
       "0 -0.050201 -1.459950 -47.080772 -7.018598 -11.433996 -20.761678 -12.831117   \n",
       "1 -0.222368 -1.292799 -46.186094 -8.490439 -10.644840 -21.136131 -12.568691   \n",
       "2 -0.371657  0.892316 -42.921003 -3.493762  -5.445394 -14.351058  -4.787823   \n",
       "3 -0.513524 -2.672771 -44.943169 -7.844133  -9.566689 -20.073346 -11.331026   \n",
       "4 -0.971738 -0.565293 -42.097997 -7.001646  -9.542562 -19.810856 -11.306753   \n",
       "\n",
       "      MFCC7      MFCC8      MFCC9    MFCC10     MFCC11     MFCC12  \n",
       "0 -0.354264   3.782690 -34.074036 -3.161392  -7.593636 -11.672030  \n",
       "1  0.842650   2.782625 -32.947479 -4.579298  -9.013817 -12.850303  \n",
       "2  8.354385  10.320699 -26.221010  3.089642  -4.833432  -8.600031  \n",
       "3  1.852691   3.706034 -28.943520 -2.017533  -9.360505 -15.007542  \n",
       "4  1.330879   2.200913 -29.802182  0.201652 -10.412355 -14.063427  "
      ]
     },
     "execution_count": 33,
     "metadata": {},
     "output_type": "execute_result"
    }
   ],
   "source": [
    "df9=pd.read_csv(\"/home/bsplab/Desktop/manikanta/16khz_data/NEWFRAME_SHIFTING_DATA/CNN+MFCC_newshifting/100ms/testing/speechtest_100ms.csv\")\n",
    "df9.columns=['MFCC0', 'MFCC1','MFCC2','MFCC3','MFCC4','MFCC5','MFCC6','MFCC7','MFCC8', 'MFCC9', 'MFCC10' ,'MFCC11', 'MFCC12']\n",
    "df9.head()"
   ]
  },
  {
   "cell_type": "code",
   "execution_count": 34,
   "metadata": {},
   "outputs": [
    {
     "data": {
      "text/plain": [
       "(359981, 13, 1)"
      ]
     },
     "execution_count": 34,
     "metadata": {},
     "output_type": "execute_result"
    }
   ],
   "source": [
    "df10 = np.expand_dims(df9, axis=2)# We have to add 1dimension more for testing\n",
    "df10.shape"
   ]
  },
  {
   "cell_type": "code",
   "execution_count": 35,
   "metadata": {},
   "outputs": [
    {
     "name": "stdout",
     "output_type": "stream",
     "text": [
      "17582.232236862183ms\n"
     ]
    }
   ],
   "source": [
    "tic=time.time()\n",
    "my_his5=my_model.predict(df10)\n",
    "toc=time.time()\n",
    "print(str(1000*(toc-tic))+\"ms\")"
   ]
  },
  {
   "cell_type": "code",
   "execution_count": 36,
   "metadata": {},
   "outputs": [
    {
     "name": "stdout",
     "output_type": "stream",
     "text": [
      "(359981,)\n"
     ]
    }
   ],
   "source": [
    "test_pred5 = np.argmax(my_his5, axis=1)\n",
    "test_pred5[150:380]\n",
    "print(test_pred5.shape)"
   ]
  },
  {
   "cell_type": "code",
   "execution_count": 40,
   "metadata": {},
   "outputs": [
    {
     "name": "stdout",
     "output_type": "stream",
     "text": [
      "The tested audio is speech\n",
      "Count is 334248\n"
     ]
    }
   ],
   "source": [
    "c =0\n",
    "for i in  test_pred5:\n",
    "    if i== 3:\n",
    "         c += 1\n",
    "    else:\n",
    "        continue \n",
    "if c > test_pred5.size/2:\n",
    "    print(\"The tested audio is speech\")\n",
    "else:\n",
    "    print(\"Error\")\n",
    "       \n",
    "        \n",
    "print(\"Count is \" + str(c))"
   ]
  },
  {
   "cell_type": "code",
   "execution_count": 27,
   "metadata": {},
   "outputs": [
    {
     "name": "stdout",
     "output_type": "stream",
     "text": [
      "Accuracy is for testing with new environment data of speech: 92.85156716604487\n"
     ]
    }
   ],
   "source": [
    "x=c/test_pred1.size\n",
    "print('Accuracy is for testing with new environment data of speech:',100*x)"
   ]
  },
  {
   "cell_type": "code",
   "execution_count": null,
   "metadata": {},
   "outputs": [],
   "source": []
  }
 ],
 "metadata": {
  "kernelspec": {
   "display_name": "Python 3",
   "language": "python",
   "name": "python3"
  },
  "language_info": {
   "codemirror_mode": {
    "name": "ipython",
    "version": 3
   },
   "file_extension": ".py",
   "mimetype": "text/x-python",
   "name": "python",
   "nbconvert_exporter": "python",
   "pygments_lexer": "ipython3",
   "version": "3.6.8"
  }
 },
 "nbformat": 4,
 "nbformat_minor": 2
}
