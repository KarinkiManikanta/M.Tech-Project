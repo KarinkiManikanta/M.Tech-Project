{
 "cells": [
  {
   "cell_type": "markdown",
   "metadata": {},
   "source": [
    "## SVM model for 4class audio with 100ms frame size"
   ]
  },
  {
   "cell_type": "markdown",
   "metadata": {},
   "source": [
    "## Important Libraries "
   ]
  },
  {
   "cell_type": "code",
   "execution_count": 2,
   "metadata": {},
   "outputs": [
    {
     "name": "stderr",
     "output_type": "stream",
     "text": [
      "Using TensorFlow backend.\n"
     ]
    }
   ],
   "source": [
    "import io\n",
    "import time\n",
    "from sklearn import metrics\n",
    "from scipy.stats import zscore\n",
    "from sklearn.model_selection import train_test_split\n",
    "from sklearn.model_selection import KFold\n",
    "from keras.models import Sequential\n",
    "from keras.layers.core import Dense, Activation\n",
    "from keras.callbacks import EarlyStopping\n",
    "import tensorflow as tf\n",
    "from sklearn import svm, datasets\n",
    "import matplotlib.pyplot as plt\n",
    "%matplotlib inline\n",
    "from sklearn.svm import SVC\n",
    "from sklearn.metrics import accuracy_score\n",
    "from sklearn.metrics import classification_report, confusion_matrix  \n",
    "from sklearn.model_selection import cross_val_score\n",
    "from sklearn.model_selection import learning_curve\n",
    "import pickle\n",
    "from sklearn.metrics import roc_curve, auc\n",
    "from sklearn.metrics import log_loss\n",
    "\n",
    "from sklearn import preprocessing\n",
    "import matplotlib.pyplot as plt\n",
    "import numpy as np\n",
    "import pandas as pd\n",
    "import shutil\n",
    "import os\n",
    "import requests\n",
    "import base64"
   ]
  },
  {
   "cell_type": "markdown",
   "metadata": {},
   "source": [
    "### Useful Functions"
   ]
  },
  {
   "cell_type": "code",
   "execution_count": 3,
   "metadata": {},
   "outputs": [],
   "source": [
    "\n",
    "# Encode text values to dummy variables(i.e. [1,0,0],[0,1,0],[0,0,1] for red,green,blue)\n",
    "def encode_text_dummy(df, name):\n",
    "    dummies = pd.get_dummies(df[name])\n",
    "    for x in dummies.columns:\n",
    "        dummy_name = \"{}-{}\".format(name, x)\n",
    "        df[dummy_name] = dummies[x]\n",
    "    df.drop(name, axis=1, inplace=True)\n",
    "\n",
    "\n",
    "# Encode text values to a single dummy variable.  The new columns (which do not replace the old) will have a 1\n",
    "# at every location where the original column (name) matches each of the target_values.  One column is added for\n",
    "# each target value.\n",
    "def encode_text_single_dummy(df, name, target_values):\n",
    "    for tv in target_values:\n",
    "        l = list(df[name].astype(str))\n",
    "        l = [1 if str(x) == str(tv) else 0 for x in l]\n",
    "        name2 = \"{}-{}\".format(name, tv)\n",
    "        df[name2] = l\n",
    "\n",
    "\n",
    "# Encode text values to indexes(i.e. [1],[2],[3] for red,green,blue).\n",
    "def encode_text_index(df, name):\n",
    "    le = preprocessing.LabelEncoder()\n",
    "    df[name] = le.fit_transform(df[name])\n",
    "    return le.classes_\n",
    "\n",
    "\n",
    "# Encode a numeric column as zscores\n",
    "def encode_numeric_zscore(df, name, mean=None, sd=None):\n",
    "    if mean is None:\n",
    "        mean = df[name].mean()\n",
    "\n",
    "    if sd is None:\n",
    "        sd = df[name].std()\n",
    "\n",
    "    df[name] = (df[name] - mean) / sd\n",
    "\n",
    "\n",
    "# Convert all missing values in the specified column to the median\n",
    "def missing_median(df, name):\n",
    "    med = df[name].median()\n",
    "    df[name] = df[name].fillna(med)\n",
    "\n",
    "\n",
    "# Convert all missing values in the specified column to the default\n",
    "def missing_default(df, name, default_value):\n",
    "    df[name] = df[name].fillna(default_value)\n",
    "\n",
    "\n",
    "# Convert a Pandas dataframe to the x,y inputs that TensorFlow needs\n",
    "def to_xy(df, target):\n",
    "    result = []\n",
    "    for x in df.columns:\n",
    "        if x != target:\n",
    "            result.append(x)\n",
    "    # find out the type of the target column.  Is it really this hard? :(\n",
    "    target_type = df[target].dtypes\n",
    "    target_type = target_type[0] if hasattr(target_type, '__iter__') else target_type\n",
    "    # Encode to int for classification, float otherwise. TensorFlow likes 32 bits.\n",
    "    if target_type in (np.int64, np.int32):\n",
    "        # Classification\n",
    "        dummies = pd.get_dummies(df[target])\n",
    "        return df.as_matrix(result).astype(np.float32), dummies.as_matrix().astype(np.float32)\n",
    "    else:\n",
    "        # Regression\n",
    "        return df.as_matrix(result).astype(np.float32), df.as_matrix([target]).astype(np.float32)\n",
    "\n",
    "# Nicely formatted time string\n",
    "def hms_string(sec_elapsed):\n",
    "    h = int(sec_elapsed / (60 * 60))\n",
    "    m = int((sec_elapsed % (60 * 60)) / 60)\n",
    "    s = sec_elapsed % 60\n",
    "    return \"{}:{:>02}:{:>05.2f}\".format(h, m, s)\n",
    "\n",
    "\n",
    "# Regression chart.\n",
    "def chart_regression(pred,y,sort=True):\n",
    "    t = pd.DataFrame({'pred' : pred, 'y' : y.flatten()})\n",
    "    if sort:\n",
    "        t.sort_values(by=['y'],inplace=True)\n",
    "    a = plt.plot(t['y'].tolist(),label='expected')\n",
    "    b = plt.plot(t['pred'].tolist(),label='prediction')\n",
    "    plt.ylabel('output')\n",
    "    plt.legend()\n",
    "    plt.show()\n",
    "\n",
    "# Remove all rows where the specified column is +/- sd standard deviations\n",
    "def remove_outliers(df, name, sd):\n",
    "    drop_rows = df.index[(np.abs(df[name] - df[name].mean()) >= (sd * df[name].std()))]\n",
    "    df.drop(drop_rows, axis=0, inplace=True)\n",
    "\n",
    "\n",
    "# Encode a column to a range between normalized_low and normalized_high.\n",
    "def encode_numeric_range(df, name, normalized_low=-1, normalized_high=1,\n",
    "                         data_low=None, data_high=None):\n",
    "    if data_low is None:\n",
    "        data_low = min(df[name])\n",
    "        data_high = max(df[name])\n",
    "\n",
    "    df[name] = ((df[name] - data_low) / (data_high - data_low)) \\\n",
    "               * (normalized_high - normalized_low) + normalized_low\n",
    "\n",
    "    # Plot a confusion matrix.\n",
    "# cm is the confusion matrix, names are the names of the classes.\n",
    "def plot_confusion_matrix(cm, names, title='Confusion matrix', cmap=plt.cm.Blues):\n",
    "    plt.imshow(cm, interpolation='nearest', cmap=cmap)\n",
    "    plt.title(title)\n",
    "    plt.colorbar()\n",
    "    tick_marks = np.arange(len(names))\n",
    "    plt.xticks(tick_marks, names, rotation=45)\n",
    "    plt.yticks(tick_marks, names)\n",
    "    plt.tight_layout()\n",
    "    plt.ylabel('True label')\n",
    "    plt.xlabel('Predicted label')"
   ]
  },
  {
   "cell_type": "markdown",
   "metadata": {},
   "source": [
    "#### Read MFCCs feature CSV file of audio of 500ms block"
   ]
  },
  {
   "cell_type": "code",
   "execution_count": 5,
   "metadata": {},
   "outputs": [
    {
     "data": {
      "text/html": [
       "<div>\n",
       "<style scoped>\n",
       "    .dataframe tbody tr th:only-of-type {\n",
       "        vertical-align: middle;\n",
       "    }\n",
       "\n",
       "    .dataframe tbody tr th {\n",
       "        vertical-align: top;\n",
       "    }\n",
       "\n",
       "    .dataframe thead th {\n",
       "        text-align: right;\n",
       "    }\n",
       "</style>\n",
       "<table border=\"1\" class=\"dataframe\">\n",
       "  <thead>\n",
       "    <tr style=\"text-align: right;\">\n",
       "      <th></th>\n",
       "      <th>MFCC0</th>\n",
       "      <th>MFCC1</th>\n",
       "      <th>MFCC2</th>\n",
       "      <th>MFCC3</th>\n",
       "      <th>MFCC4</th>\n",
       "      <th>MFCC5</th>\n",
       "      <th>MFCC6</th>\n",
       "      <th>MFCC7</th>\n",
       "      <th>MFCC8</th>\n",
       "      <th>MFCC9</th>\n",
       "      <th>MFCC10</th>\n",
       "      <th>MFCC11</th>\n",
       "      <th>MFCC12</th>\n",
       "      <th>Label</th>\n",
       "    </tr>\n",
       "  </thead>\n",
       "  <tbody>\n",
       "    <tr>\n",
       "      <th>0</th>\n",
       "      <td>-10.339339</td>\n",
       "      <td>-58.503360</td>\n",
       "      <td>28.969193</td>\n",
       "      <td>-16.135848</td>\n",
       "      <td>-0.850935</td>\n",
       "      <td>-7.166208</td>\n",
       "      <td>24.007454</td>\n",
       "      <td>-25.177117</td>\n",
       "      <td>7.820241</td>\n",
       "      <td>1.586773</td>\n",
       "      <td>-0.016230</td>\n",
       "      <td>-4.160415</td>\n",
       "      <td>-2.928838</td>\n",
       "      <td>crying</td>\n",
       "    </tr>\n",
       "    <tr>\n",
       "      <th>1</th>\n",
       "      <td>-10.255503</td>\n",
       "      <td>-58.766382</td>\n",
       "      <td>28.839630</td>\n",
       "      <td>-15.665957</td>\n",
       "      <td>0.201420</td>\n",
       "      <td>-7.582272</td>\n",
       "      <td>24.395316</td>\n",
       "      <td>-24.310047</td>\n",
       "      <td>9.044284</td>\n",
       "      <td>1.180245</td>\n",
       "      <td>1.338979</td>\n",
       "      <td>-2.547351</td>\n",
       "      <td>-3.876356</td>\n",
       "      <td>crying</td>\n",
       "    </tr>\n",
       "    <tr>\n",
       "      <th>2</th>\n",
       "      <td>-10.219711</td>\n",
       "      <td>-47.300163</td>\n",
       "      <td>29.763146</td>\n",
       "      <td>-17.593168</td>\n",
       "      <td>3.772775</td>\n",
       "      <td>-9.047093</td>\n",
       "      <td>18.010719</td>\n",
       "      <td>-21.991444</td>\n",
       "      <td>12.146181</td>\n",
       "      <td>-2.855262</td>\n",
       "      <td>-0.514320</td>\n",
       "      <td>-0.502388</td>\n",
       "      <td>-3.394465</td>\n",
       "      <td>crying</td>\n",
       "    </tr>\n",
       "    <tr>\n",
       "      <th>3</th>\n",
       "      <td>-10.335775</td>\n",
       "      <td>-36.359484</td>\n",
       "      <td>28.162880</td>\n",
       "      <td>-7.049695</td>\n",
       "      <td>27.120645</td>\n",
       "      <td>-3.100069</td>\n",
       "      <td>16.331104</td>\n",
       "      <td>-2.871143</td>\n",
       "      <td>28.954943</td>\n",
       "      <td>-1.509898</td>\n",
       "      <td>1.557353</td>\n",
       "      <td>5.172644</td>\n",
       "      <td>-2.621226</td>\n",
       "      <td>crying</td>\n",
       "    </tr>\n",
       "    <tr>\n",
       "      <th>4</th>\n",
       "      <td>-10.328217</td>\n",
       "      <td>-20.086843</td>\n",
       "      <td>13.868843</td>\n",
       "      <td>-5.345090</td>\n",
       "      <td>23.884885</td>\n",
       "      <td>-9.032826</td>\n",
       "      <td>10.503083</td>\n",
       "      <td>0.159714</td>\n",
       "      <td>21.487532</td>\n",
       "      <td>-3.494115</td>\n",
       "      <td>4.201391</td>\n",
       "      <td>3.049172</td>\n",
       "      <td>6.644954</td>\n",
       "      <td>crying</td>\n",
       "    </tr>\n",
       "  </tbody>\n",
       "</table>\n",
       "</div>"
      ],
      "text/plain": [
       "       MFCC0      MFCC1      MFCC2      MFCC3      MFCC4     MFCC5      MFCC6  \\\n",
       "0 -10.339339 -58.503360  28.969193 -16.135848  -0.850935 -7.166208  24.007454   \n",
       "1 -10.255503 -58.766382  28.839630 -15.665957   0.201420 -7.582272  24.395316   \n",
       "2 -10.219711 -47.300163  29.763146 -17.593168   3.772775 -9.047093  18.010719   \n",
       "3 -10.335775 -36.359484  28.162880  -7.049695  27.120645 -3.100069  16.331104   \n",
       "4 -10.328217 -20.086843  13.868843  -5.345090  23.884885 -9.032826  10.503083   \n",
       "\n",
       "       MFCC7      MFCC8     MFCC9    MFCC10    MFCC11    MFCC12   Label  \n",
       "0 -25.177117   7.820241  1.586773 -0.016230 -4.160415 -2.928838  crying  \n",
       "1 -24.310047   9.044284  1.180245  1.338979 -2.547351 -3.876356  crying  \n",
       "2 -21.991444  12.146181 -2.855262 -0.514320 -0.502388 -3.394465  crying  \n",
       "3  -2.871143  28.954943 -1.509898  1.557353  5.172644 -2.621226  crying  \n",
       "4   0.159714  21.487532 -3.494115  4.201391  3.049172  6.644954  crying  "
      ]
     },
     "execution_count": 5,
     "metadata": {},
     "output_type": "execute_result"
    }
   ],
   "source": [
    "path=\"/home/bsplab/Desktop/manikanta/SVM_Kflod/Traing_100ms/CRYING\"\n",
    "df=pd.read_csv(\"/home/bsplab/Desktop/manikanta/SVM_Kflod/Traing_100ms/CRYING/individual_100ms.csv\",na_values=['NA','?'])\n",
    "df.columns=['MFCC0', 'MFCC1','MFCC2','MFCC3','MFCC4','MFCC5','MFCC6','MFCC7','MFCC8', \n",
    "            'MFCC9', 'MFCC10' ,'MFCC11', 'MFCC12', 'Label']\n",
    "filename_write = os.path.join(path,\"7class-out-of-sample_mySVM_100ms.csv\")\n",
    "df.head()\n"
   ]
  },
  {
   "cell_type": "markdown",
   "metadata": {},
   "source": [
    "#### Shuffle"
   ]
  },
  {
   "cell_type": "code",
   "execution_count": 6,
   "metadata": {},
   "outputs": [
    {
     "data": {
      "text/plain": [
       "Index(['MFCC0', 'MFCC1', 'MFCC2', 'MFCC3', 'MFCC4', 'MFCC5', 'MFCC6', 'MFCC7',\n",
       "       'MFCC8', 'MFCC9', 'MFCC10', 'MFCC11', 'MFCC12', 'Label'],\n",
       "      dtype='object')"
      ]
     },
     "execution_count": 6,
     "metadata": {},
     "output_type": "execute_result"
    }
   ],
   "source": [
    "np.random.seed(42)\n",
    "df = df.reindex(np.random.permutation(df.index))\n",
    "df.reset_index(inplace=True, drop=True)\n",
    "df.columns"
   ]
  },
  {
   "cell_type": "code",
   "execution_count": 7,
   "metadata": {},
   "outputs": [
    {
     "data": {
      "text/html": [
       "<div>\n",
       "<style scoped>\n",
       "    .dataframe tbody tr th:only-of-type {\n",
       "        vertical-align: middle;\n",
       "    }\n",
       "\n",
       "    .dataframe tbody tr th {\n",
       "        vertical-align: top;\n",
       "    }\n",
       "\n",
       "    .dataframe thead th {\n",
       "        text-align: right;\n",
       "    }\n",
       "</style>\n",
       "<table border=\"1\" class=\"dataframe\">\n",
       "  <thead>\n",
       "    <tr style=\"text-align: right;\">\n",
       "      <th></th>\n",
       "      <th>MFCC0</th>\n",
       "      <th>MFCC1</th>\n",
       "      <th>MFCC2</th>\n",
       "      <th>MFCC3</th>\n",
       "      <th>MFCC4</th>\n",
       "      <th>MFCC5</th>\n",
       "      <th>MFCC6</th>\n",
       "      <th>MFCC7</th>\n",
       "      <th>MFCC8</th>\n",
       "      <th>MFCC9</th>\n",
       "      <th>MFCC10</th>\n",
       "      <th>MFCC11</th>\n",
       "      <th>MFCC12</th>\n",
       "      <th>Label</th>\n",
       "    </tr>\n",
       "  </thead>\n",
       "  <tbody>\n",
       "    <tr>\n",
       "      <th>0</th>\n",
       "      <td>-5.604626</td>\n",
       "      <td>-8.172296</td>\n",
       "      <td>5.206748</td>\n",
       "      <td>-2.383627</td>\n",
       "      <td>-21.005279</td>\n",
       "      <td>16.550854</td>\n",
       "      <td>-22.240188</td>\n",
       "      <td>-2.184232</td>\n",
       "      <td>17.962110</td>\n",
       "      <td>-38.702665</td>\n",
       "      <td>30.683808</td>\n",
       "      <td>-23.026454</td>\n",
       "      <td>4.921159</td>\n",
       "      <td>speech</td>\n",
       "    </tr>\n",
       "    <tr>\n",
       "      <th>1</th>\n",
       "      <td>-1.771606</td>\n",
       "      <td>13.864471</td>\n",
       "      <td>-32.058541</td>\n",
       "      <td>10.250745</td>\n",
       "      <td>-21.167710</td>\n",
       "      <td>8.608871</td>\n",
       "      <td>-22.244622</td>\n",
       "      <td>-18.606278</td>\n",
       "      <td>2.309756</td>\n",
       "      <td>-15.449925</td>\n",
       "      <td>3.155800</td>\n",
       "      <td>-9.158134</td>\n",
       "      <td>3.111149</td>\n",
       "      <td>music</td>\n",
       "    </tr>\n",
       "    <tr>\n",
       "      <th>2</th>\n",
       "      <td>-2.758959</td>\n",
       "      <td>-6.394277</td>\n",
       "      <td>2.617576</td>\n",
       "      <td>1.732703</td>\n",
       "      <td>-27.661945</td>\n",
       "      <td>29.846086</td>\n",
       "      <td>-30.306968</td>\n",
       "      <td>0.760964</td>\n",
       "      <td>20.359883</td>\n",
       "      <td>-40.511891</td>\n",
       "      <td>41.736541</td>\n",
       "      <td>-25.518602</td>\n",
       "      <td>14.693751</td>\n",
       "      <td>speech</td>\n",
       "    </tr>\n",
       "    <tr>\n",
       "      <th>3</th>\n",
       "      <td>-3.917437</td>\n",
       "      <td>14.327343</td>\n",
       "      <td>-16.532813</td>\n",
       "      <td>0.810541</td>\n",
       "      <td>-12.540902</td>\n",
       "      <td>9.442987</td>\n",
       "      <td>-25.251732</td>\n",
       "      <td>-29.238576</td>\n",
       "      <td>10.375724</td>\n",
       "      <td>-26.777831</td>\n",
       "      <td>4.799518</td>\n",
       "      <td>-8.528685</td>\n",
       "      <td>-3.050550</td>\n",
       "      <td>music</td>\n",
       "    </tr>\n",
       "    <tr>\n",
       "      <th>4</th>\n",
       "      <td>-1.644729</td>\n",
       "      <td>-37.392616</td>\n",
       "      <td>-1.961913</td>\n",
       "      <td>48.395111</td>\n",
       "      <td>-30.597397</td>\n",
       "      <td>34.214259</td>\n",
       "      <td>8.289310</td>\n",
       "      <td>-25.629234</td>\n",
       "      <td>-2.689849</td>\n",
       "      <td>-10.126319</td>\n",
       "      <td>-8.749178</td>\n",
       "      <td>4.808536</td>\n",
       "      <td>-10.116423</td>\n",
       "      <td>speech</td>\n",
       "    </tr>\n",
       "  </tbody>\n",
       "</table>\n",
       "</div>"
      ],
      "text/plain": [
       "      MFCC0      MFCC1      MFCC2      MFCC3      MFCC4      MFCC5      MFCC6  \\\n",
       "0 -5.604626  -8.172296   5.206748  -2.383627 -21.005279  16.550854 -22.240188   \n",
       "1 -1.771606  13.864471 -32.058541  10.250745 -21.167710   8.608871 -22.244622   \n",
       "2 -2.758959  -6.394277   2.617576   1.732703 -27.661945  29.846086 -30.306968   \n",
       "3 -3.917437  14.327343 -16.532813   0.810541 -12.540902   9.442987 -25.251732   \n",
       "4 -1.644729 -37.392616  -1.961913  48.395111 -30.597397  34.214259   8.289310   \n",
       "\n",
       "       MFCC7      MFCC8      MFCC9     MFCC10     MFCC11     MFCC12   Label  \n",
       "0  -2.184232  17.962110 -38.702665  30.683808 -23.026454   4.921159  speech  \n",
       "1 -18.606278   2.309756 -15.449925   3.155800  -9.158134   3.111149   music  \n",
       "2   0.760964  20.359883 -40.511891  41.736541 -25.518602  14.693751  speech  \n",
       "3 -29.238576  10.375724 -26.777831   4.799518  -8.528685  -3.050550   music  \n",
       "4 -25.629234  -2.689849 -10.126319  -8.749178   4.808536 -10.116423  speech  "
      ]
     },
     "execution_count": 7,
     "metadata": {},
     "output_type": "execute_result"
    }
   ],
   "source": [
    "df.head()"
   ]
  },
  {
   "cell_type": "markdown",
   "metadata": {},
   "source": [
    "#### Sperating Independent variable and Target Variable"
   ]
  },
  {
   "cell_type": "code",
   "execution_count": 8,
   "metadata": {},
   "outputs": [],
   "source": [
    "X = df[['MFCC0', 'MFCC1', 'MFCC2', 'MFCC3', 'MFCC4', 'MFCC5', 'MFCC6', 'MFCC7',\n",
    "       'MFCC8', 'MFCC9', 'MFCC10', 'MFCC11', 'MFCC12']]\n",
    "y = df['Label']"
   ]
  },
  {
   "cell_type": "markdown",
   "metadata": {},
   "source": [
    "#### Encode to a 2D matrix for training"
   ]
  },
  {
   "cell_type": "code",
   "execution_count": 9,
   "metadata": {},
   "outputs": [
    {
     "name": "stdout",
     "output_type": "stream",
     "text": [
      "Labelling is:['ac' 'crying' 'music' 'speech']\n"
     ]
    }
   ],
   "source": [
    "# Encode to a 2D matrix for training\n",
    "Label=encode_text_index(df,'Label')\n",
    "print(\"Labelling is:{}\".format(Label))"
   ]
  },
  {
   "cell_type": "markdown",
   "metadata": {},
   "source": [
    "#### Keeping Holdout Data"
   ]
  },
  {
   "cell_type": "code",
   "execution_count": 10,
   "metadata": {},
   "outputs": [],
   "source": [
    "# 25 % holdout data\n",
    "x_main, x_holdout, y_main, y_holdout = train_test_split(X, y, test_size=0.25,random_state = 0)"
   ]
  },
  {
   "cell_type": "code",
   "execution_count": 11,
   "metadata": {},
   "outputs": [
    {
     "name": "stdout",
     "output_type": "stream",
     "text": [
      "Shape of X : (575983, 13)\n",
      "Shape of y : (575983,)\n",
      "Shape of x_main : (431987, 13)\n",
      "Shape of x_holdout : (143996, 13)\n",
      "Shape of y_main : (431987,)\n",
      "Shape of y_holdout : (143996,)\n"
     ]
    }
   ],
   "source": [
    "print(\"Shape of X : {}\".format(X.shape))\n",
    "print(\"Shape of y : {}\".format(y.shape))\n",
    "print(\"Shape of x_main : {}\".format(x_main.shape))\n",
    "print(\"Shape of x_holdout : {}\".format(x_holdout.shape))\n",
    "print(\"Shape of y_main : {}\".format(y_main.shape))\n",
    "print(\"Shape of y_holdout : {}\".format(y_holdout.shape))"
   ]
  },
  {
   "cell_type": "markdown",
   "metadata": {},
   "source": [
    "#### dividing X, y into train and test data"
   ]
  },
  {
   "cell_type": "code",
   "execution_count": 12,
   "metadata": {},
   "outputs": [],
   "source": [
    "# dividing X, y into train and test data\n",
    "x_train, x_test, y_train, y_test = train_test_split(x_main, y_main, test_size=0.20,random_state = 0)"
   ]
  },
  {
   "cell_type": "code",
   "execution_count": 13,
   "metadata": {},
   "outputs": [
    {
     "name": "stdout",
     "output_type": "stream",
     "text": [
      "Shape of x_train : (345589, 13)\n",
      "Shape of x_test : (86398, 13)\n",
      "Shape of y_train : (345589,)\n",
      "Shape of y_test : (86398,)\n"
     ]
    }
   ],
   "source": [
    "print(\"Shape of x_train : {}\".format(x_train.shape))\n",
    "print(\"Shape of x_test : {}\".format(x_test.shape))\n",
    "print(\"Shape of y_train : {}\".format(y_train.shape))\n",
    "print(\"Shape of y_test : {}\".format(y_test.shape))"
   ]
  },
  {
   "cell_type": "markdown",
   "metadata": {},
   "source": [
    "#### preprocessing of training data, testing data , holdout data"
   ]
  },
  {
   "cell_type": "code",
   "execution_count": 14,
   "metadata": {},
   "outputs": [],
   "source": [
    "# preprocessing of training data\n",
    "scaler = preprocessing.StandardScaler().fit(x_train)\n",
    "#scaler"
   ]
  },
  {
   "cell_type": "code",
   "execution_count": 15,
   "metadata": {},
   "outputs": [],
   "source": [
    "X_train = scaler.transform(x_train)\n",
    "X_holdout = scaler.transform(x_holdout) \n",
    "# preprocessing of testing data\n",
    "X_test= scaler.transform(x_test) "
   ]
  },
  {
   "cell_type": "code",
   "execution_count": 16,
   "metadata": {},
   "outputs": [
    {
     "data": {
      "text/plain": [
       "['my_scaler_100.save']"
      ]
     },
     "execution_count": 16,
     "metadata": {},
     "output_type": "execute_result"
    }
   ],
   "source": [
    "from sklearn.externals import joblib\n",
    "scaler_file = \"my_scaler_100.save\"\n",
    "joblib.dump(scaler, scaler_file) "
   ]
  },
  {
   "cell_type": "markdown",
   "metadata": {},
   "source": [
    "## Model Creation"
   ]
  },
  {
   "cell_type": "markdown",
   "metadata": {},
   "source": [
    "## RBF kernel"
   ]
  },
  {
   "cell_type": "markdown",
   "metadata": {},
   "source": [
    "### Training"
   ]
  },
  {
   "cell_type": "code",
   "execution_count": 17,
   "metadata": {},
   "outputs": [
    {
     "name": "stdout",
     "output_type": "stream",
     "text": [
      "[LibSVM]"
     ]
    },
    {
     "name": "stderr",
     "output_type": "stream",
     "text": [
      "/home/bsplab/anaconda3/lib/python3.6/site-packages/sklearn/svm/base.py:196: FutureWarning: The default value of gamma will change from 'auto' to 'scale' in version 0.22 to account better for unscaled features. Set gamma explicitly to 'auto' or 'scale' to avoid this warning.\n",
      "  \"avoid this warning.\", FutureWarning)\n"
     ]
    },
    {
     "name": "stdout",
     "output_type": "stream",
     "text": [
      "[LibSVM]"
     ]
    },
    {
     "name": "stderr",
     "output_type": "stream",
     "text": [
      "/home/bsplab/anaconda3/lib/python3.6/site-packages/sklearn/svm/base.py:196: FutureWarning: The default value of gamma will change from 'auto' to 'scale' in version 0.22 to account better for unscaled features. Set gamma explicitly to 'auto' or 'scale' to avoid this warning.\n",
      "  \"avoid this warning.\", FutureWarning)\n"
     ]
    },
    {
     "name": "stdout",
     "output_type": "stream",
     "text": [
      "[LibSVM]"
     ]
    },
    {
     "name": "stderr",
     "output_type": "stream",
     "text": [
      "/home/bsplab/anaconda3/lib/python3.6/site-packages/sklearn/svm/base.py:196: FutureWarning: The default value of gamma will change from 'auto' to 'scale' in version 0.22 to account better for unscaled features. Set gamma explicitly to 'auto' or 'scale' to avoid this warning.\n",
      "  \"avoid this warning.\", FutureWarning)\n"
     ]
    },
    {
     "name": "stdout",
     "output_type": "stream",
     "text": [
      "[LibSVM]"
     ]
    },
    {
     "name": "stderr",
     "output_type": "stream",
     "text": [
      "/home/bsplab/anaconda3/lib/python3.6/site-packages/sklearn/svm/base.py:196: FutureWarning: The default value of gamma will change from 'auto' to 'scale' in version 0.22 to account better for unscaled features. Set gamma explicitly to 'auto' or 'scale' to avoid this warning.\n",
      "  \"avoid this warning.\", FutureWarning)\n"
     ]
    },
    {
     "name": "stdout",
     "output_type": "stream",
     "text": [
      "[LibSVM]"
     ]
    },
    {
     "name": "stderr",
     "output_type": "stream",
     "text": [
      "/home/bsplab/anaconda3/lib/python3.6/site-packages/sklearn/svm/base.py:196: FutureWarning: The default value of gamma will change from 'auto' to 'scale' in version 0.22 to account better for unscaled features. Set gamma explicitly to 'auto' or 'scale' to avoid this warning.\n",
      "  \"avoid this warning.\", FutureWarning)\n"
     ]
    },
    {
     "name": "stdout",
     "output_type": "stream",
     "text": [
      "[LibSVM]11101797.080516815ms\n"
     ]
    }
   ],
   "source": [
    "## RBF kernel training\n",
    "#### Training\n",
    "tic=time.time()\n",
    "svclassifier_rbf = SVC(kernel='rbf',C=1, max_iter=-1,verbose=True,probability=True) \n",
    "svclassifier_rbf.fit(X_train, y_train)\n",
    "scores = cross_val_score( svclassifier_rbf, X_train, y_train, cv=5,scoring='f1_macro')\n",
    "toc=time.time()\n",
    "print(str(1000*(toc-tic))+\"ms\")"
   ]
  },
  {
   "cell_type": "code",
   "execution_count": 18,
   "metadata": {},
   "outputs": [
    {
     "name": "stdout",
     "output_type": "stream",
     "text": [
      "5-Fold score of rbf kernel SVM is: [0.9894592  0.98964748 0.98966194 0.98979244 0.99022717]\n"
     ]
    }
   ],
   "source": [
    "print(\"5-Fold score of rbf kernel SVM is: {}\".format(scores))"
   ]
  },
  {
   "cell_type": "markdown",
   "metadata": {},
   "source": [
    "### Validation"
   ]
  },
  {
   "cell_type": "code",
   "execution_count": 19,
   "metadata": {},
   "outputs": [
    {
     "name": "stdout",
     "output_type": "stream",
     "text": [
      "55502.808809280396ms\n"
     ]
    }
   ],
   "source": [
    "## Testing\n",
    "\n",
    "tic=time.time()\n",
    "y_rbf = svclassifier_rbf.predict(X_test)\n",
    "toc=time.time()\n",
    "print(str(1000*(toc-tic))+\"ms\")"
   ]
  },
  {
   "cell_type": "code",
   "execution_count": 20,
   "metadata": {},
   "outputs": [
    {
     "name": "stdout",
     "output_type": "stream",
     "text": [
      "0.9904511678511077\n"
     ]
    }
   ],
   "source": [
    "# model accuracy for X_test  \n",
    "accuracy = accuracy_score(y_test, y_rbf)\n",
    "print (accuracy)"
   ]
  },
  {
   "cell_type": "code",
   "execution_count": 21,
   "metadata": {},
   "outputs": [
    {
     "name": "stdout",
     "output_type": "stream",
     "text": [
      "[[21686     0     0     1]\n",
      " [    5 21322   172   105]\n",
      " [    6   114 21226   128]\n",
      " [   11   164   119 21339]]\n",
      "              precision    recall  f1-score   support\n",
      "\n",
      "          ac       1.00      1.00      1.00     21687\n",
      "      crying       0.99      0.99      0.99     21604\n",
      "       music       0.99      0.99      0.99     21474\n",
      "      speech       0.99      0.99      0.99     21633\n",
      "\n",
      "   micro avg       0.99      0.99      0.99     86398\n",
      "   macro avg       0.99      0.99      0.99     86398\n",
      "weighted avg       0.99      0.99      0.99     86398\n",
      "\n"
     ]
    }
   ],
   "source": [
    "## Evaluation of Algorithm\n",
    "print(confusion_matrix(y_test, y_rbf))  \n",
    "print(classification_report(y_test, y_rbf))"
   ]
  },
  {
   "cell_type": "markdown",
   "metadata": {},
   "source": [
    "### Saving RBF kernel Trained Model"
   ]
  },
  {
   "cell_type": "code",
   "execution_count": 22,
   "metadata": {},
   "outputs": [],
   "source": [
    "# save the model to disk\n",
    "filename = 'SVM_100ms_Rbf_model_mani.save'\n",
    "joblib.dump(svclassifier_rbf, open(filename, 'wb'))"
   ]
  },
  {
   "cell_type": "code",
   "execution_count": 23,
   "metadata": {},
   "outputs": [],
   "source": [
    " # load the model from disk\n",
    "loaded_model_rbf = joblib.load(open(filename, 'rb'))"
   ]
  },
  {
   "cell_type": "markdown",
   "metadata": {},
   "source": [
    "### Holdout Predction"
   ]
  },
  {
   "cell_type": "code",
   "execution_count": 24,
   "metadata": {},
   "outputs": [
    {
     "name": "stdout",
     "output_type": "stream",
     "text": [
      "92494.46105957031ms\n"
     ]
    }
   ],
   "source": [
    "tic=time.time()\n",
    "holdout_pred_rbf = loaded_model_rbf.predict(X_holdout)\n",
    "toc=time.time()\n",
    "print(str(1000*(toc-tic))+\"ms\")"
   ]
  },
  {
   "cell_type": "code",
   "execution_count": 25,
   "metadata": {},
   "outputs": [
    {
     "name": "stdout",
     "output_type": "stream",
     "text": [
      "Holdout accuracy with rbf kernel is: 0.989833050918081\n"
     ]
    }
   ],
   "source": [
    "rbf_score = accuracy_score(y_holdout, holdout_pred_rbf)\n",
    "print(\"Holdout accuracy with rbf kernel is: {}\".format(rbf_score))"
   ]
  },
  {
   "cell_type": "code",
   "execution_count": 26,
   "metadata": {},
   "outputs": [],
   "source": [
    "## Turn off the scintific notation \n",
    "np.set_printoptions(suppress=True)"
   ]
  },
  {
   "cell_type": "code",
   "execution_count": 27,
   "metadata": {},
   "outputs": [
    {
     "name": "stdout",
     "output_type": "stream",
     "text": [
      "Confusion matrix, without normalization\n",
      "[[35742     0     0     1]\n",
      " [    5 35500   300   202]\n",
      " [   11   187 35715   261]\n",
      " [   18   283   196 35575]]\n"
     ]
    },
    {
     "data": {
      "image/png": "[encoded data removed]",
      "text/plain": [
       "<Figure size 432x288 with 2 Axes>"
      ]
     },
     "metadata": {
      "needs_background": "light"
     },
     "output_type": "display_data"
    }
   ],
   "source": [
    "cm = confusion_matrix(y_holdout, holdout_pred_rbf)\n",
    "np.set_printoptions(precision=2)\n",
    "print('Confusion matrix, without normalization')\n",
    "print(cm)\n",
    "plt.figure()\n",
    "plot_confusion_matrix(cm, Label)\n",
    "plt.savefig('cm_holdout_mySVM_100ms_rbf_mani.png',dpi=150)"
   ]
  },
  {
   "cell_type": "code",
   "execution_count": 59,
   "metadata": {},
   "outputs": [
    {
     "name": "stdout",
     "output_type": "stream",
     "text": [
      "Confusion matrix, without normalization\n"
     ]
    },
    {
     "data": {
      "image/png": "[encoded data removed]",
      "text/plain": [
       "<Figure size 360x216 with 2 Axes>"
      ]
     },
     "metadata": {
      "needs_background": "light"
     },
     "output_type": "display_data"
    }
   ],
   "source": [
    "import matplotlib.pyplot as plt\n",
    "from sklearn.metrics import confusion_matrix\n",
    "import itertools\n",
    "def plot_confusion_matrix(cm, classes,\n",
    "                          normalize=False,\n",
    "                          title='Confusion matrix',\n",
    "                          cmap=plt.cm.Blues):\n",
    "    \"\"\"\n",
    "    This function prints and plots the confusion matrix.\n",
    "    Normalization can be applied by setting `normalize=True`.\n",
    "    \"\"\"\n",
    "    if normalize:\n",
    "        cm = cm.astype('float') / cm.sum(axis=1)[:, np.newaxis]\n",
    "        print(\"Normalized confusion matrix\")\n",
    "    else:\n",
    "        print('Confusion matrix, without normalization')\n",
    "\n",
    "    plt.imshow(cm, interpolation='nearest', cmap=cmap)\n",
    "    plt.title(title)\n",
    "    plt.colorbar()\n",
    "    tick_marks = np.arange(len(classes))\n",
    "    plt.xticks(tick_marks, classes, rotation=45)\n",
    "    plt.yticks(tick_marks, classes)\n",
    "\n",
    "    fmt = '.2f' if normalize else 'd'\n",
    "    thresh = cm.max() / 2.\n",
    "    for i, j in itertools.product(range(cm.shape[0]), range(cm.shape[1])):\n",
    "        plt.text(j, i, format(cm[i, j], fmt),\n",
    "                 horizontalalignment=\"center\",\n",
    "                 color=\"white\" if cm[i, j] > thresh else \"black\")\n",
    "\n",
    "    plt.tight_layout()\n",
    "    plt.ylabel('True label')\n",
    "    plt.xlabel('Predicted label')\n",
    "\n",
    "# Compute confusion matrix\n",
    "cnf_matrix = confusion_matrix(y_holdout, holdout_pred_rbf)\n",
    "np.set_printoptions(precision=2)\n",
    "\n",
    "\n",
    "# Plot non-normalized confusion matrix\n",
    "plt.figure(figsize=(5,3))\n",
    "plot_confusion_matrix(cnf_matrix, classes=['ac&fan', 'crying','music', 'speech'],\n",
    "                      title='Confusion matrix')\n",
    "\n",
    "plt.savefig('kfold1.png')"
   ]
  },
  {
   "cell_type": "code",
   "execution_count": 28,
   "metadata": {},
   "outputs": [
    {
     "name": "stdout",
     "output_type": "stream",
     "text": [
      "Normalized confusion matrix\n",
      "[[1.   0.   0.   0.  ]\n",
      " [0.   0.99 0.01 0.01]\n",
      " [0.   0.01 0.99 0.01]\n",
      " [0.   0.01 0.01 0.99]]\n"
     ]
    },
    {
     "data": {
      "image/png": "[encoded data removed]",
      "text/plain": [
       "<Figure size 432x288 with 2 Axes>"
      ]
     },
     "metadata": {
      "needs_background": "light"
     },
     "output_type": "display_data"
    }
   ],
   "source": [
    "cm_normalized = cm.astype('float') / cm.sum(axis=1)[:, np.newaxis]\n",
    "print('Normalized confusion matrix')\n",
    "print(cm_normalized)\n",
    "plt.figure()\n",
    "plot_confusion_matrix(cm_normalized, Label, title='Normalized confusion matrix of Holdout Prediction')\n",
    "plt.savefig('norm_cm_holdout_mySVM_100_rbf_mani.png',dpi=150)\n",
    "plt.show()"
   ]
  },
  {
   "cell_type": "code",
   "execution_count": 58,
   "metadata": {},
   "outputs": [
    {
     "name": "stdout",
     "output_type": "stream",
     "text": [
      "Confusion matrix, without normalization\n"
     ]
    },
    {
     "data": {
      "image/png": "[encoded data removed]",
      "text/plain": [
       "<Figure size 720x216 with 2 Axes>"
      ]
     },
     "metadata": {
      "needs_background": "light"
     },
     "output_type": "display_data"
    }
   ],
   "source": [
    "import matplotlib.pyplot as plt\n",
    "from sklearn.metrics import confusion_matrix\n",
    "import itertools\n",
    "def plot_confusion_matrix(cm, classes,\n",
    "                          normalize=False,\n",
    "                          title='Confusion matrix',\n",
    "                          cmap=plt.cm.Blues):\n",
    "    \"\"\"\n",
    "    This function prints and plots the confusion matrix.\n",
    "    Normalization can be applied by setting `normalize=True`.\n",
    "    \"\"\"\n",
    "    if normalize:\n",
    "        cm = cm.astype('float') / cm.sum(axis=1)[:, np.newaxis]\n",
    "        print(\"Normalized confusion matrix\")\n",
    "    else:\n",
    "        print('Confusion matrix, without normalization')\n",
    "\n",
    "    plt.imshow(cm, interpolation='nearest', cmap=cmap)\n",
    "    plt.title(title)\n",
    "    plt.colorbar()\n",
    "    tick_marks = np.arange(len(classes))\n",
    "    plt.xticks(tick_marks, classes, rotation=45)\n",
    "    plt.yticks(tick_marks, classes)\n",
    "\n",
    "    fmt = '.2f' if normalize else 'd'\n",
    "    thresh = cm.max() / 2.\n",
    "    for i, j in itertools.product(range(cm.shape[0]), range(cm.shape[1])):\n",
    "        plt.text(j, i, format(cm[i, j], fmt),\n",
    "                 horizontalalignment=\"center\",\n",
    "                 color=\"white\" if cm[i, j] > thresh else \"black\")\n",
    "\n",
    "    plt.tight_layout()\n",
    "    plt.ylabel('True label')\n",
    "    plt.xlabel('Predicted label')\n",
    "\n",
    "# Compute confusion matrix\n",
    "cnf_matrix = confusion_matrix(y_holdout, holdout_pred_rbf)\n",
    "np.set_printoptions(precision=2)\n",
    "\n",
    "\n",
    "# Plot non-normalized confusion matrix\n",
    "plt.figure(figsize=(10,3))\n",
    "plot_confusion_matrix(cnf_matrix, classes=['ac&fan', 'crying','music', 'speech'],\n",
    "                      title='Normalized confusion matrix of Holdout Prediction')\n",
    "\n",
    "plt.savefig('kfold2.png')"
   ]
  },
  {
   "cell_type": "code",
   "execution_count": 29,
   "metadata": {},
   "outputs": [
    {
     "name": "stdout",
     "output_type": "stream",
     "text": [
      "              precision    recall  f1-score   support\n",
      "\n",
      "          ac       1.00      1.00      1.00     35743\n",
      "      crying       0.99      0.99      0.99     36007\n",
      "       music       0.99      0.99      0.99     36174\n",
      "      speech       0.99      0.99      0.99     36072\n",
      "\n",
      "   micro avg       0.99      0.99      0.99    143996\n",
      "   macro avg       0.99      0.99      0.99    143996\n",
      "weighted avg       0.99      0.99      0.99    143996\n",
      "\n"
     ]
    }
   ],
   "source": [
    "print(classification_report(y_holdout, holdout_pred_rbf))"
   ]
  },
  {
   "cell_type": "code",
   "execution_count": 30,
   "metadata": {},
   "outputs": [
    {
     "name": "stdout",
     "output_type": "stream",
     "text": [
      "Log loss score of Holdout data for RBF kernel: 0.03325325415086988\n"
     ]
    }
   ],
   "source": [
    "model_prob_rbf = loaded_model_rbf.predict_proba(X_holdout) ##need prob for getting logloss\n",
    "rbf_log_loss = log_loss(y_holdout, model_prob_rbf)\n",
    "print(\"Log loss score of Holdout data for RBF kernel: {}\".format(rbf_log_loss))"
   ]
  },
  {
   "cell_type": "markdown",
   "metadata": {},
   "source": [
    "## Loading Saved Model"
   ]
  },
  {
   "cell_type": "code",
   "execution_count": 2,
   "metadata": {},
   "outputs": [],
   "source": [
    "from sklearn.externals import joblib\n",
    "import pandas as pd\n",
    "import numpy as np\n",
    "import time"
   ]
  },
  {
   "cell_type": "code",
   "execution_count": 3,
   "metadata": {},
   "outputs": [],
   "source": [
    "filename = '/home/bsplab/Desktop/manikanta/SVM_Kflod/SVM_100ms_Rbf_model_mani.save' # call first saved model file"
   ]
  },
  {
   "cell_type": "code",
   "execution_count": 4,
   "metadata": {},
   "outputs": [],
   "source": [
    " # load the model from disk\n",
    "loaded_model_rbf1 = joblib.load(open(filename, 'rb'))"
   ]
  },
  {
   "cell_type": "markdown",
   "metadata": {},
   "source": [
    "### A"
   ]
  },
  {
   "cell_type": "code",
   "execution_count": 5,
   "metadata": {},
   "outputs": [
    {
     "data": {
      "text/html": [
       "<div>\n",
       "<style scoped>\n",
       "    .dataframe tbody tr th:only-of-type {\n",
       "        vertical-align: middle;\n",
       "    }\n",
       "\n",
       "    .dataframe tbody tr th {\n",
       "        vertical-align: top;\n",
       "    }\n",
       "\n",
       "    .dataframe thead th {\n",
       "        text-align: right;\n",
       "    }\n",
       "</style>\n",
       "<table border=\"1\" class=\"dataframe\">\n",
       "  <thead>\n",
       "    <tr style=\"text-align: right;\">\n",
       "      <th></th>\n",
       "      <th>MFCC0</th>\n",
       "      <th>MFCC1</th>\n",
       "      <th>MFCC2</th>\n",
       "      <th>MFCC3</th>\n",
       "      <th>MFCC4</th>\n",
       "      <th>MFCC5</th>\n",
       "      <th>MFCC6</th>\n",
       "      <th>MFCC7</th>\n",
       "      <th>MFCC8</th>\n",
       "      <th>MFCC9</th>\n",
       "      <th>MFCC10</th>\n",
       "      <th>MFCC11</th>\n",
       "      <th>MFCC12</th>\n",
       "    </tr>\n",
       "  </thead>\n",
       "  <tbody>\n",
       "    <tr>\n",
       "      <th>0</th>\n",
       "      <td>-10.166330</td>\n",
       "      <td>-28.840257</td>\n",
       "      <td>-37.230772</td>\n",
       "      <td>14.160532</td>\n",
       "      <td>-10.673806</td>\n",
       "      <td>3.915022</td>\n",
       "      <td>10.506053</td>\n",
       "      <td>9.558074</td>\n",
       "      <td>3.383239</td>\n",
       "      <td>-2.278555</td>\n",
       "      <td>-4.451030</td>\n",
       "      <td>-3.077933</td>\n",
       "      <td>-1.077127</td>\n",
       "    </tr>\n",
       "    <tr>\n",
       "      <th>1</th>\n",
       "      <td>-9.132246</td>\n",
       "      <td>-28.308959</td>\n",
       "      <td>-39.586994</td>\n",
       "      <td>19.144334</td>\n",
       "      <td>-16.303967</td>\n",
       "      <td>6.448080</td>\n",
       "      <td>4.509218</td>\n",
       "      <td>5.940498</td>\n",
       "      <td>0.490428</td>\n",
       "      <td>0.088990</td>\n",
       "      <td>-2.799367</td>\n",
       "      <td>-2.585552</td>\n",
       "      <td>2.802776</td>\n",
       "    </tr>\n",
       "    <tr>\n",
       "      <th>2</th>\n",
       "      <td>-8.793318</td>\n",
       "      <td>-26.725370</td>\n",
       "      <td>-39.885100</td>\n",
       "      <td>14.762905</td>\n",
       "      <td>-21.725920</td>\n",
       "      <td>8.523211</td>\n",
       "      <td>-2.380727</td>\n",
       "      <td>5.415342</td>\n",
       "      <td>-5.052203</td>\n",
       "      <td>3.935676</td>\n",
       "      <td>2.095260</td>\n",
       "      <td>3.037759</td>\n",
       "      <td>6.023214</td>\n",
       "    </tr>\n",
       "    <tr>\n",
       "      <th>3</th>\n",
       "      <td>-8.566548</td>\n",
       "      <td>-25.436487</td>\n",
       "      <td>-37.422073</td>\n",
       "      <td>14.051592</td>\n",
       "      <td>-29.393727</td>\n",
       "      <td>5.823137</td>\n",
       "      <td>-8.774367</td>\n",
       "      <td>3.093728</td>\n",
       "      <td>-6.019697</td>\n",
       "      <td>2.182583</td>\n",
       "      <td>2.267267</td>\n",
       "      <td>4.949162</td>\n",
       "      <td>2.867329</td>\n",
       "    </tr>\n",
       "    <tr>\n",
       "      <th>4</th>\n",
       "      <td>-8.246559</td>\n",
       "      <td>-25.085498</td>\n",
       "      <td>-33.691972</td>\n",
       "      <td>18.270865</td>\n",
       "      <td>-35.307783</td>\n",
       "      <td>4.511325</td>\n",
       "      <td>-10.158296</td>\n",
       "      <td>2.634234</td>\n",
       "      <td>-5.470373</td>\n",
       "      <td>1.663351</td>\n",
       "      <td>0.142699</td>\n",
       "      <td>2.060347</td>\n",
       "      <td>2.477675</td>\n",
       "    </tr>\n",
       "  </tbody>\n",
       "</table>\n",
       "</div>"
      ],
      "text/plain": [
       "       MFCC0      MFCC1      MFCC2      MFCC3      MFCC4     MFCC5      MFCC6  \\\n",
       "0 -10.166330 -28.840257 -37.230772  14.160532 -10.673806  3.915022  10.506053   \n",
       "1  -9.132246 -28.308959 -39.586994  19.144334 -16.303967  6.448080   4.509218   \n",
       "2  -8.793318 -26.725370 -39.885100  14.762905 -21.725920  8.523211  -2.380727   \n",
       "3  -8.566548 -25.436487 -37.422073  14.051592 -29.393727  5.823137  -8.774367   \n",
       "4  -8.246559 -25.085498 -33.691972  18.270865 -35.307783  4.511325 -10.158296   \n",
       "\n",
       "      MFCC7     MFCC8     MFCC9    MFCC10    MFCC11    MFCC12  \n",
       "0  9.558074  3.383239 -2.278555 -4.451030 -3.077933 -1.077127  \n",
       "1  5.940498  0.490428  0.088990 -2.799367 -2.585552  2.802776  \n",
       "2  5.415342 -5.052203  3.935676  2.095260  3.037759  6.023214  \n",
       "3  3.093728 -6.019697  2.182583  2.267267  4.949162  2.867329  \n",
       "4  2.634234 -5.470373  1.663351  0.142699  2.060347  2.477675  "
      ]
     },
     "execution_count": 5,
     "metadata": {},
     "output_type": "execute_result"
    }
   ],
   "source": [
    "df1=pd.read_csv(\"/home/bsplab/Desktop/manikanta/SVM_Kflod/Testing_100ms/CRYING/crying_testing.csv\",na_values=['NA','?'])\n",
    "df1.columns=['MFCC0', 'MFCC1','MFCC2','MFCC3','MFCC4','MFCC5','MFCC6','MFCC7','MFCC8', \n",
    "            'MFCC9', 'MFCC10' ,'MFCC11', 'MFCC12']\n",
    "#filename_write = os.path.join(path,\"7class-out-of-sample_mySVM_500ms.csv\")\n",
    "df1.head()"
   ]
  },
  {
   "cell_type": "code",
   "execution_count": 6,
   "metadata": {},
   "outputs": [],
   "source": [
    "scaler_file = \"/home/bsplab/Desktop/manikanta/SVM_Kflod/my_scaler_100.save\"\n",
    "scaler = joblib.load(scaler_file) "
   ]
  },
  {
   "cell_type": "code",
   "execution_count": 7,
   "metadata": {},
   "outputs": [],
   "source": [
    "X = scaler.transform(df1) ## Performing preprocessing on tested data"
   ]
  },
  {
   "cell_type": "code",
   "execution_count": null,
   "metadata": {},
   "outputs": [],
   "source": [
    "tic=time.time()\n",
    "holdout_pred_rbf1 = loaded_model_rbf1.predict(X)\n",
    "toc=time.time()\n",
    "print(str(1000*(toc-tic))+\"ms\")"
   ]
  },
  {
   "cell_type": "code",
   "execution_count": 9,
   "metadata": {},
   "outputs": [
    {
     "name": "stdout",
     "output_type": "stream",
     "text": [
      "The size of prediction 71997\n",
      "Total no. of predcited crying 67024\n",
      "The accuracy os the new environment crying data is 93.09276775421198 percent\n"
     ]
    }
   ],
   "source": [
    "p1=holdout_pred_rbf1.size\n",
    "print(\"The size of prediction \" + str (p1))\n",
    "a1=sum(holdout_pred_rbf1==\"crying\")\n",
    "print(\"Total no. of predcited crying \"+str(a1))\n",
    "Acc1=a1/p1*100\n",
    "print(\"The accuracy os the new environment crying data is \"+ str(Acc1)+ \" percent\")"
   ]
  },
  {
   "cell_type": "markdown",
   "metadata": {},
   "source": [
    "### V"
   ]
  },
  {
   "cell_type": "code",
   "execution_count": 11,
   "metadata": {},
   "outputs": [
    {
     "name": "stdout",
     "output_type": "stream",
     "text": [
      "47414.23749923706ms\n",
      "The size of prediction 71997\n",
      "Total no. of predcited fan&ac 62364\n",
      "The accuracy of the new environment fan&ac data is 86.62027584482686 percent\n"
     ]
    }
   ],
   "source": [
    "df6=pd.read_csv(\"/home/bsplab/Desktop/manikanta/SVM_Kflod/Testing_100ms/FAN_AC/acfan_testing.csv\",na_values=['NA','?'])\n",
    "df6.columns=['MFCC0', 'MFCC1','MFCC2','MFCC3','MFCC4','MFCC5','MFCC6','MFCC7','MFCC8', \n",
    "            'MFCC9', 'MFCC10' ,'MFCC11', 'MFCC12']\n",
    "#filename_write = os.path.join(path,\"7class-out-of-sample_mySVM_500ms.csv\")\n",
    "\n",
    "X6= scaler.transform(df6) ## Direct Do this\n",
    "tic=time.time()\n",
    "holdout_pred_rbf6 = loaded_model_rbf1.predict(X6)\n",
    "toc=time.time()\n",
    "print(str(1000*(toc-tic))+\"ms\")\n",
    "p6=holdout_pred_rbf6.size\n",
    "print(\"The size of prediction \" + str (p6))\n",
    "a6=sum(holdout_pred_rbf6==\"ac\")\n",
    "print(\"Total no. of predcited fan&ac \"+str(a6))\n",
    "Acc6=a6/p6*100\n",
    "print(\"The accuracy of the new environment fan&ac data is \"+ str(Acc6)+ \" percent\")"
   ]
  },
  {
   "cell_type": "code",
   "execution_count": 12,
   "metadata": {},
   "outputs": [
    {
     "name": "stdout",
     "output_type": "stream",
     "text": [
      "47789.74199295044ms\n",
      "The size of prediction 71997\n",
      "Total no. of predcited music 65746\n",
      "The accuracy of the new environment music data is 91.31769379279692 percent\n"
     ]
    }
   ],
   "source": [
    "df7=pd.read_csv(\"/home/bsplab/Desktop/manikanta/SVM_Kflod/Testing_100ms/MUSIC/music_testing.csv\",na_values=['NA','?'])\n",
    "df7.columns=['MFCC0', 'MFCC1','MFCC2','MFCC3','MFCC4','MFCC5','MFCC6','MFCC7','MFCC8', \n",
    "            'MFCC9', 'MFCC10' ,'MFCC11', 'MFCC12']\n",
    "#filename_write = os.path.join(path,\"7class-out-of-sample_mySVM_500ms.csv\")\n",
    "df7.head()\n",
    "X7= scaler.transform(df7) ## Direct Do this\n",
    "tic=time.time()\n",
    "holdout_pred_rbf7 = loaded_model_rbf1.predict(X7)\n",
    "toc=time.time()\n",
    "print(str(1000*(toc-tic))+\"ms\")\n",
    "p7=holdout_pred_rbf7.size\n",
    "print(\"The size of prediction \" + str (p7))\n",
    "a7=sum(holdout_pred_rbf7==\"music\")\n",
    "print(\"Total no. of predcited music \"+str(a7))\n",
    "Acc7=a7/p7*100\n",
    "print(\"The accuracy of the new environment music data is \"+ str(Acc7)+ \" percent\")"
   ]
  },
  {
   "cell_type": "code",
   "execution_count": 13,
   "metadata": {},
   "outputs": [
    {
     "name": "stdout",
     "output_type": "stream",
     "text": [
      "46579.66923713684ms\n",
      "The size of prediction 71997\n",
      "Total no. of predcited speech 64279\n",
      "The accuracy of the new environment speech data is 89.28010889342612 percent\n"
     ]
    }
   ],
   "source": [
    "df4=pd.read_csv(\"/home/bsplab/Desktop/manikanta/SVM_Kflod/Testing_100ms/SPEECH/speech_testing.csv\",na_values=['NA','?'])\n",
    "df4.columns=['MFCC0', 'MFCC1','MFCC2','MFCC3','MFCC4','MFCC5','MFCC6','MFCC7','MFCC8', \n",
    "            'MFCC9', 'MFCC10' ,'MFCC11', 'MFCC12']\n",
    "\n",
    "X4= scaler.transform(df4) ## Direct Do this\n",
    "\n",
    "tic=time.time()\n",
    "holdout_pred_rbf4 = loaded_model_rbf1.predict(X4)\n",
    "toc=time.time()\n",
    "print(str(1000*(toc-tic))+\"ms\")\n",
    "\n",
    "p4=holdout_pred_rbf4.size\n",
    "print(\"The size of prediction \" + str (p4))\n",
    "a4=sum(holdout_pred_rbf4==\"speech\")\n",
    "print(\"Total no. of predcited speech \"+str(a4))\n",
    "Acc4=a4/p4*100\n",
    "print(\"The accuracy of the new environment speech data is \"+ str(Acc4)+ \" percent\")"
   ]
  },
  {
   "cell_type": "code",
   "execution_count": null,
   "metadata": {},
   "outputs": [],
   "source": []
  }
 ],
 "metadata": {
  "kernelspec": {
   "display_name": "Python 3",
   "language": "python",
   "name": "python3"
  },
  "language_info": {
   "codemirror_mode": {
    "name": "ipython",
    "version": 3
   },
   "file_extension": ".py",
   "mimetype": "text/x-python",
   "name": "python",
   "nbconvert_exporter": "python",
   "pygments_lexer": "ipython3",
   "version": "3.6.8"
  }
 },
 "nbformat": 4,
 "nbformat_minor": 2
}
