{
 "cells": [
  {
   "cell_type": "markdown",
   "metadata": {},
   "source": [
    "## SVM model for 4class audio with 100ms frame size"
   ]
  },
  {
   "cell_type": "markdown",
   "metadata": {},
   "source": [
    "## Important Libraries "
   ]
  },
  {
   "cell_type": "code",
   "execution_count": 1,
   "metadata": {},
   "outputs": [
    {
     "name": "stderr",
     "output_type": "stream",
     "text": [
      "Using TensorFlow backend.\n"
     ]
    }
   ],
   "source": [
    "import io\n",
    "import time\n",
    "from sklearn import metrics\n",
    "from scipy.stats import zscore\n",
    "from sklearn.model_selection import train_test_split\n",
    "from sklearn.model_selection import KFold\n",
    "from keras.models import Sequential\n",
    "from keras.layers.core import Dense, Activation\n",
    "from keras.callbacks import EarlyStopping\n",
    "import tensorflow as tf\n",
    "from sklearn import svm, datasets\n",
    "import matplotlib.pyplot as plt\n",
    "%matplotlib inline\n",
    "from sklearn.svm import SVC\n",
    "from sklearn.metrics import accuracy_score\n",
    "from sklearn.metrics import classification_report, confusion_matrix  \n",
    "from sklearn.model_selection import cross_val_score\n",
    "from sklearn.model_selection import learning_curve\n",
    "import pickle\n",
    "from sklearn.metrics import roc_curve, auc\n",
    "from sklearn.metrics import log_loss\n",
    "\n",
    "from sklearn import preprocessing\n",
    "import matplotlib.pyplot as plt\n",
    "import numpy as np\n",
    "import pandas as pd\n",
    "import shutil\n",
    "import os\n",
    "import requests\n",
    "import base64"
   ]
  },
  {
   "cell_type": "markdown",
   "metadata": {},
   "source": [
    "### Useful Functions"
   ]
  },
  {
   "cell_type": "code",
   "execution_count": 2,
   "metadata": {},
   "outputs": [],
   "source": [
    "\n",
    "# Encode text values to dummy variables(i.e. [1,0,0],[0,1,0],[0,0,1] for red,green,blue)\n",
    "def encode_text_dummy(df, name):\n",
    "    dummies = pd.get_dummies(df[name])\n",
    "    for x in dummies.columns:\n",
    "        dummy_name = \"{}-{}\".format(name, x)\n",
    "        df[dummy_name] = dummies[x]\n",
    "    df.drop(name, axis=1, inplace=True)\n",
    "\n",
    "\n",
    "# Encode text values to a single dummy variable.  The new columns (which do not replace the old) will have a 1\n",
    "# at every location where the original column (name) matches each of the target_values.  One column is added for\n",
    "# each target value.\n",
    "def encode_text_single_dummy(df, name, target_values):\n",
    "    for tv in target_values:\n",
    "        l = list(df[name].astype(str))\n",
    "        l = [1 if str(x) == str(tv) else 0 for x in l]\n",
    "        name2 = \"{}-{}\".format(name, tv)\n",
    "        df[name2] = l\n",
    "\n",
    "\n",
    "# Encode text values to indexes(i.e. [1],[2],[3] for red,green,blue).\n",
    "def encode_text_index(df, name):\n",
    "    le = preprocessing.LabelEncoder()\n",
    "    df[name] = le.fit_transform(df[name])\n",
    "    return le.classes_\n",
    "\n",
    "\n",
    "# Encode a numeric column as zscores\n",
    "def encode_numeric_zscore(df, name, mean=None, sd=None):\n",
    "    if mean is None:\n",
    "        mean = df[name].mean()\n",
    "\n",
    "    if sd is None:\n",
    "        sd = df[name].std()\n",
    "\n",
    "    df[name] = (df[name] - mean) / sd\n",
    "\n",
    "\n",
    "# Convert all missing values in the specified column to the median\n",
    "def missing_median(df, name):\n",
    "    med = df[name].median()\n",
    "    df[name] = df[name].fillna(med)\n",
    "\n",
    "\n",
    "# Convert all missing values in the specified column to the default\n",
    "def missing_default(df, name, default_value):\n",
    "    df[name] = df[name].fillna(default_value)\n",
    "\n",
    "\n",
    "# Convert a Pandas dataframe to the x,y inputs that TensorFlow needs\n",
    "def to_xy(df, target):\n",
    "    result = []\n",
    "    for x in df.columns:\n",
    "        if x != target:\n",
    "            result.append(x)\n",
    "    # find out the type of the target column.  Is it really this hard? :(\n",
    "    target_type = df[target].dtypes\n",
    "    target_type = target_type[0] if hasattr(target_type, '__iter__') else target_type\n",
    "    # Encode to int for classification, float otherwise. TensorFlow likes 32 bits.\n",
    "    if target_type in (np.int64, np.int32):\n",
    "        # Classification\n",
    "        dummies = pd.get_dummies(df[target])\n",
    "        return df.as_matrix(result).astype(np.float32), dummies.as_matrix().astype(np.float32)\n",
    "    else:\n",
    "        # Regression\n",
    "        return df.as_matrix(result).astype(np.float32), df.as_matrix([target]).astype(np.float32)\n",
    "\n",
    "# Nicely formatted time string\n",
    "def hms_string(sec_elapsed):\n",
    "    h = int(sec_elapsed / (60 * 60))\n",
    "    m = int((sec_elapsed % (60 * 60)) / 60)\n",
    "    s = sec_elapsed % 60\n",
    "    return \"{}:{:>02}:{:>05.2f}\".format(h, m, s)\n",
    "\n",
    "\n",
    "# Regression chart.\n",
    "def chart_regression(pred,y,sort=True):\n",
    "    t = pd.DataFrame({'pred' : pred, 'y' : y.flatten()})\n",
    "    if sort:\n",
    "        t.sort_values(by=['y'],inplace=True)\n",
    "    a = plt.plot(t['y'].tolist(),label='expected')\n",
    "    b = plt.plot(t['pred'].tolist(),label='prediction')\n",
    "    plt.ylabel('output')\n",
    "    plt.legend()\n",
    "    plt.show()\n",
    "\n",
    "# Remove all rows where the specified column is +/- sd standard deviations\n",
    "def remove_outliers(df, name, sd):\n",
    "    drop_rows = df.index[(np.abs(df[name] - df[name].mean()) >= (sd * df[name].std()))]\n",
    "    df.drop(drop_rows, axis=0, inplace=True)\n",
    "\n",
    "\n",
    "# Encode a column to a range between normalized_low and normalized_high.\n",
    "def encode_numeric_range(df, name, normalized_low=-1, normalized_high=1,\n",
    "                         data_low=None, data_high=None):\n",
    "    if data_low is None:\n",
    "        data_low = min(df[name])\n",
    "        data_high = max(df[name])\n",
    "\n",
    "    df[name] = ((df[name] - data_low) / (data_high - data_low)) \\\n",
    "               * (normalized_high - normalized_low) + normalized_low\n",
    "\n",
    "    # Plot a confusion matrix.\n",
    "# cm is the confusion matrix, names are the names of the classes.\n",
    "def plot_confusion_matrix(cm, names, title='Confusion matrix', cmap=plt.cm.Blues):\n",
    "    plt.imshow(cm, interpolation='nearest', cmap=cmap)\n",
    "    plt.title(title)\n",
    "    plt.colorbar()\n",
    "    tick_marks = np.arange(len(names))\n",
    "    plt.xticks(tick_marks, names, rotation=45)\n",
    "    plt.yticks(tick_marks, names)\n",
    "    plt.tight_layout()\n",
    "    plt.ylabel('True label')\n",
    "    plt.xlabel('Predicted label')"
   ]
  },
  {
   "cell_type": "markdown",
   "metadata": {},
   "source": [
    "#### Read MFCCs feature CSV file of audio of 500ms block"
   ]
  },
  {
   "cell_type": "code",
   "execution_count": 3,
   "metadata": {},
   "outputs": [
    {
     "data": {
      "text/html": [
       "<div>\n",
       "<style scoped>\n",
       "    .dataframe tbody tr th:only-of-type {\n",
       "        vertical-align: middle;\n",
       "    }\n",
       "\n",
       "    .dataframe tbody tr th {\n",
       "        vertical-align: top;\n",
       "    }\n",
       "\n",
       "    .dataframe thead th {\n",
       "        text-align: right;\n",
       "    }\n",
       "</style>\n",
       "<table border=\"1\" class=\"dataframe\">\n",
       "  <thead>\n",
       "    <tr style=\"text-align: right;\">\n",
       "      <th></th>\n",
       "      <th>MFCC0</th>\n",
       "      <th>MFCC1</th>\n",
       "      <th>MFCC2</th>\n",
       "      <th>MFCC3</th>\n",
       "      <th>MFCC4</th>\n",
       "      <th>MFCC5</th>\n",
       "      <th>MFCC6</th>\n",
       "      <th>MFCC7</th>\n",
       "      <th>MFCC8</th>\n",
       "      <th>MFCC9</th>\n",
       "      <th>MFCC10</th>\n",
       "      <th>MFCC11</th>\n",
       "      <th>MFCC12</th>\n",
       "      <th>Label</th>\n",
       "    </tr>\n",
       "  </thead>\n",
       "  <tbody>\n",
       "    <tr>\n",
       "      <th>0</th>\n",
       "      <td>-2.177482</td>\n",
       "      <td>28.989668</td>\n",
       "      <td>13.514783</td>\n",
       "      <td>3.274898</td>\n",
       "      <td>0.596447</td>\n",
       "      <td>0.398882</td>\n",
       "      <td>-0.708436</td>\n",
       "      <td>3.897990</td>\n",
       "      <td>-2.568868</td>\n",
       "      <td>4.084522</td>\n",
       "      <td>-3.458008</td>\n",
       "      <td>3.329399</td>\n",
       "      <td>0.502433</td>\n",
       "      <td>AC &amp; FAN</td>\n",
       "    </tr>\n",
       "    <tr>\n",
       "      <th>1</th>\n",
       "      <td>-2.217528</td>\n",
       "      <td>29.009960</td>\n",
       "      <td>14.496528</td>\n",
       "      <td>3.937856</td>\n",
       "      <td>0.885757</td>\n",
       "      <td>0.382850</td>\n",
       "      <td>-3.029734</td>\n",
       "      <td>3.721529</td>\n",
       "      <td>-1.249983</td>\n",
       "      <td>5.907419</td>\n",
       "      <td>-4.396610</td>\n",
       "      <td>5.099895</td>\n",
       "      <td>-0.134206</td>\n",
       "      <td>AC &amp; FAN</td>\n",
       "    </tr>\n",
       "    <tr>\n",
       "      <th>2</th>\n",
       "      <td>-2.157077</td>\n",
       "      <td>29.629701</td>\n",
       "      <td>14.559298</td>\n",
       "      <td>3.647526</td>\n",
       "      <td>0.612399</td>\n",
       "      <td>1.271464</td>\n",
       "      <td>-3.784228</td>\n",
       "      <td>2.127398</td>\n",
       "      <td>-2.638736</td>\n",
       "      <td>3.369799</td>\n",
       "      <td>-3.730211</td>\n",
       "      <td>5.022815</td>\n",
       "      <td>1.037247</td>\n",
       "      <td>AC &amp; FAN</td>\n",
       "    </tr>\n",
       "    <tr>\n",
       "      <th>3</th>\n",
       "      <td>-2.078407</td>\n",
       "      <td>29.166139</td>\n",
       "      <td>15.066271</td>\n",
       "      <td>3.693529</td>\n",
       "      <td>1.686593</td>\n",
       "      <td>0.728231</td>\n",
       "      <td>-3.368825</td>\n",
       "      <td>3.075890</td>\n",
       "      <td>-2.924258</td>\n",
       "      <td>5.053575</td>\n",
       "      <td>-1.145492</td>\n",
       "      <td>3.734177</td>\n",
       "      <td>1.093625</td>\n",
       "      <td>AC &amp; FAN</td>\n",
       "    </tr>\n",
       "    <tr>\n",
       "      <th>4</th>\n",
       "      <td>-2.085620</td>\n",
       "      <td>29.093788</td>\n",
       "      <td>13.834518</td>\n",
       "      <td>3.553311</td>\n",
       "      <td>0.222944</td>\n",
       "      <td>-0.190377</td>\n",
       "      <td>-2.344441</td>\n",
       "      <td>4.263392</td>\n",
       "      <td>-1.810713</td>\n",
       "      <td>5.807317</td>\n",
       "      <td>-2.152727</td>\n",
       "      <td>1.521383</td>\n",
       "      <td>0.662543</td>\n",
       "      <td>AC &amp; FAN</td>\n",
       "    </tr>\n",
       "  </tbody>\n",
       "</table>\n",
       "</div>"
      ],
      "text/plain": [
       "      MFCC0      MFCC1      MFCC2     MFCC3     MFCC4     MFCC5     MFCC6  \\\n",
       "0 -2.177482  28.989668  13.514783  3.274898  0.596447  0.398882 -0.708436   \n",
       "1 -2.217528  29.009960  14.496528  3.937856  0.885757  0.382850 -3.029734   \n",
       "2 -2.157077  29.629701  14.559298  3.647526  0.612399  1.271464 -3.784228   \n",
       "3 -2.078407  29.166139  15.066271  3.693529  1.686593  0.728231 -3.368825   \n",
       "4 -2.085620  29.093788  13.834518  3.553311  0.222944 -0.190377 -2.344441   \n",
       "\n",
       "      MFCC7     MFCC8     MFCC9    MFCC10    MFCC11    MFCC12     Label  \n",
       "0  3.897990 -2.568868  4.084522 -3.458008  3.329399  0.502433  AC & FAN  \n",
       "1  3.721529 -1.249983  5.907419 -4.396610  5.099895 -0.134206  AC & FAN  \n",
       "2  2.127398 -2.638736  3.369799 -3.730211  5.022815  1.037247  AC & FAN  \n",
       "3  3.075890 -2.924258  5.053575 -1.145492  3.734177  1.093625  AC & FAN  \n",
       "4  4.263392 -1.810713  5.807317 -2.152727  1.521383  0.662543  AC & FAN  "
      ]
     },
     "execution_count": 3,
     "metadata": {},
     "output_type": "execute_result"
    }
   ],
   "source": [
    "path=\"/home/bsplab/Desktop/manikanta/16khz_data/NEWFRAME_SHIFTING_DATA/SVM+MFCC_newshifting/100ms/training\"\n",
    "df=pd.read_csv(\"/home/bsplab/Desktop/manikanta/16khz_data/NEWFRAME_SHIFTING_DATA/SVM+MFCC_newshifting/100ms/training/final_100ms.csv\",na_values=['NA','?'])\n",
    "df.columns=['MFCC0', 'MFCC1','MFCC2','MFCC3','MFCC4','MFCC5','MFCC6','MFCC7','MFCC8', \n",
    "            'MFCC9', 'MFCC10' ,'MFCC11', 'MFCC12', 'Label']\n",
    "filename_write = os.path.join(path,\"/home/bsplab/Desktop/manikanta/16khz_data/NEWFRAME_SHIFTING_DATA/SVM+MFCC_newshifting/100ms/training/out-of-sample_mySVM_100ms.csv\")\n",
    "df.head()\n"
   ]
  },
  {
   "cell_type": "markdown",
   "metadata": {},
   "source": [
    "#### Shuffle"
   ]
  },
  {
   "cell_type": "code",
   "execution_count": 4,
   "metadata": {},
   "outputs": [
    {
     "data": {
      "text/plain": [
       "Index(['MFCC0', 'MFCC1', 'MFCC2', 'MFCC3', 'MFCC4', 'MFCC5', 'MFCC6', 'MFCC7',\n",
       "       'MFCC8', 'MFCC9', 'MFCC10', 'MFCC11', 'MFCC12', 'Label'],\n",
       "      dtype='object')"
      ]
     },
     "execution_count": 4,
     "metadata": {},
     "output_type": "execute_result"
    }
   ],
   "source": [
    "np.random.seed(42)\n",
    "df = df.reindex(np.random.permutation(df.index))\n",
    "df.reset_index(inplace=True, drop=True)\n",
    "df.columns"
   ]
  },
  {
   "cell_type": "code",
   "execution_count": 5,
   "metadata": {},
   "outputs": [
    {
     "data": {
      "text/html": [
       "<div>\n",
       "<style scoped>\n",
       "    .dataframe tbody tr th:only-of-type {\n",
       "        vertical-align: middle;\n",
       "    }\n",
       "\n",
       "    .dataframe tbody tr th {\n",
       "        vertical-align: top;\n",
       "    }\n",
       "\n",
       "    .dataframe thead th {\n",
       "        text-align: right;\n",
       "    }\n",
       "</style>\n",
       "<table border=\"1\" class=\"dataframe\">\n",
       "  <thead>\n",
       "    <tr style=\"text-align: right;\">\n",
       "      <th></th>\n",
       "      <th>MFCC0</th>\n",
       "      <th>MFCC1</th>\n",
       "      <th>MFCC2</th>\n",
       "      <th>MFCC3</th>\n",
       "      <th>MFCC4</th>\n",
       "      <th>MFCC5</th>\n",
       "      <th>MFCC6</th>\n",
       "      <th>MFCC7</th>\n",
       "      <th>MFCC8</th>\n",
       "      <th>MFCC9</th>\n",
       "      <th>MFCC10</th>\n",
       "      <th>MFCC11</th>\n",
       "      <th>MFCC12</th>\n",
       "      <th>Label</th>\n",
       "    </tr>\n",
       "  </thead>\n",
       "  <tbody>\n",
       "    <tr>\n",
       "      <th>0</th>\n",
       "      <td>-8.674390</td>\n",
       "      <td>-15.782101</td>\n",
       "      <td>-9.014501</td>\n",
       "      <td>-23.598510</td>\n",
       "      <td>-14.720270</td>\n",
       "      <td>-9.394463</td>\n",
       "      <td>8.632519</td>\n",
       "      <td>33.632657</td>\n",
       "      <td>-9.083369</td>\n",
       "      <td>-12.988056</td>\n",
       "      <td>-14.929171</td>\n",
       "      <td>-8.657153</td>\n",
       "      <td>1.998997</td>\n",
       "      <td>CRYING</td>\n",
       "    </tr>\n",
       "    <tr>\n",
       "      <th>1</th>\n",
       "      <td>-1.911238</td>\n",
       "      <td>-18.842382</td>\n",
       "      <td>-34.766056</td>\n",
       "      <td>3.829446</td>\n",
       "      <td>-24.594156</td>\n",
       "      <td>21.327238</td>\n",
       "      <td>7.549542</td>\n",
       "      <td>20.037894</td>\n",
       "      <td>-5.151323</td>\n",
       "      <td>-12.387786</td>\n",
       "      <td>-23.254159</td>\n",
       "      <td>9.522837</td>\n",
       "      <td>-17.909693</td>\n",
       "      <td>CRYING</td>\n",
       "    </tr>\n",
       "    <tr>\n",
       "      <th>2</th>\n",
       "      <td>0.281290</td>\n",
       "      <td>-14.679353</td>\n",
       "      <td>-29.949752</td>\n",
       "      <td>-5.299863</td>\n",
       "      <td>-45.347970</td>\n",
       "      <td>27.561231</td>\n",
       "      <td>6.183920</td>\n",
       "      <td>24.620650</td>\n",
       "      <td>-30.354956</td>\n",
       "      <td>-20.189063</td>\n",
       "      <td>0.107409</td>\n",
       "      <td>39.142069</td>\n",
       "      <td>7.633437</td>\n",
       "      <td>CRYING</td>\n",
       "    </tr>\n",
       "    <tr>\n",
       "      <th>3</th>\n",
       "      <td>-2.586621</td>\n",
       "      <td>-17.097926</td>\n",
       "      <td>6.881091</td>\n",
       "      <td>17.884864</td>\n",
       "      <td>-40.547504</td>\n",
       "      <td>-29.503349</td>\n",
       "      <td>-40.105238</td>\n",
       "      <td>12.979943</td>\n",
       "      <td>-24.573659</td>\n",
       "      <td>18.821428</td>\n",
       "      <td>21.814856</td>\n",
       "      <td>-11.700079</td>\n",
       "      <td>16.268420</td>\n",
       "      <td>SPEECH</td>\n",
       "    </tr>\n",
       "    <tr>\n",
       "      <th>4</th>\n",
       "      <td>-6.926440</td>\n",
       "      <td>9.224743</td>\n",
       "      <td>-2.142383</td>\n",
       "      <td>-1.558457</td>\n",
       "      <td>-26.140506</td>\n",
       "      <td>-17.126806</td>\n",
       "      <td>-13.105883</td>\n",
       "      <td>-7.250446</td>\n",
       "      <td>6.386086</td>\n",
       "      <td>-1.025086</td>\n",
       "      <td>-9.002003</td>\n",
       "      <td>-5.823928</td>\n",
       "      <td>-3.466868</td>\n",
       "      <td>SPEECH</td>\n",
       "    </tr>\n",
       "  </tbody>\n",
       "</table>\n",
       "</div>"
      ],
      "text/plain": [
       "      MFCC0      MFCC1      MFCC2      MFCC3      MFCC4      MFCC5      MFCC6  \\\n",
       "0 -8.674390 -15.782101  -9.014501 -23.598510 -14.720270  -9.394463   8.632519   \n",
       "1 -1.911238 -18.842382 -34.766056   3.829446 -24.594156  21.327238   7.549542   \n",
       "2  0.281290 -14.679353 -29.949752  -5.299863 -45.347970  27.561231   6.183920   \n",
       "3 -2.586621 -17.097926   6.881091  17.884864 -40.547504 -29.503349 -40.105238   \n",
       "4 -6.926440   9.224743  -2.142383  -1.558457 -26.140506 -17.126806 -13.105883   \n",
       "\n",
       "       MFCC7      MFCC8      MFCC9     MFCC10     MFCC11     MFCC12   Label  \n",
       "0  33.632657  -9.083369 -12.988056 -14.929171  -8.657153   1.998997  CRYING  \n",
       "1  20.037894  -5.151323 -12.387786 -23.254159   9.522837 -17.909693  CRYING  \n",
       "2  24.620650 -30.354956 -20.189063   0.107409  39.142069   7.633437  CRYING  \n",
       "3  12.979943 -24.573659  18.821428  21.814856 -11.700079  16.268420  SPEECH  \n",
       "4  -7.250446   6.386086  -1.025086  -9.002003  -5.823928  -3.466868  SPEECH  "
      ]
     },
     "execution_count": 5,
     "metadata": {},
     "output_type": "execute_result"
    }
   ],
   "source": [
    "df.head()"
   ]
  },
  {
   "cell_type": "markdown",
   "metadata": {},
   "source": [
    "#### Sperating Independent variable and Target Variable"
   ]
  },
  {
   "cell_type": "code",
   "execution_count": 6,
   "metadata": {},
   "outputs": [],
   "source": [
    "X = df[['MFCC0', 'MFCC1', 'MFCC2', 'MFCC3', 'MFCC4', 'MFCC5', 'MFCC6', 'MFCC7',\n",
    "       'MFCC8', 'MFCC9', 'MFCC10', 'MFCC11', 'MFCC12']]\n",
    "y = df['Label']"
   ]
  },
  {
   "cell_type": "markdown",
   "metadata": {},
   "source": [
    "#### Encode to a 2D matrix for training"
   ]
  },
  {
   "cell_type": "code",
   "execution_count": 7,
   "metadata": {},
   "outputs": [
    {
     "name": "stdout",
     "output_type": "stream",
     "text": [
      "Labelling is:['AC & FAN' 'CRYING' 'MUSIC' 'SPEECH']\n"
     ]
    }
   ],
   "source": [
    "# Encode to a 2D matrix for training\n",
    "Label=encode_text_index(df,'Label')\n",
    "print(\"Labelling is:{}\".format(Label))"
   ]
  },
  {
   "cell_type": "markdown",
   "metadata": {},
   "source": [
    "#### Keeping Holdout Data"
   ]
  },
  {
   "cell_type": "code",
   "execution_count": 8,
   "metadata": {},
   "outputs": [],
   "source": [
    "# 25 % holdout data\n",
    "x_main, x_holdout, y_main, y_holdout = train_test_split(X, y, test_size=0.20,random_state = 0)"
   ]
  },
  {
   "cell_type": "code",
   "execution_count": 9,
   "metadata": {},
   "outputs": [
    {
     "name": "stdout",
     "output_type": "stream",
     "text": [
      "Shape of X : (2879855, 13)\n",
      "Shape of y : (2879855,)\n",
      "Shape of x_main : (2303884, 13)\n",
      "Shape of x_holdout : (575971, 13)\n",
      "Shape of y_main : (2303884,)\n",
      "Shape of y_holdout : (575971,)\n"
     ]
    }
   ],
   "source": [
    "print(\"Shape of X : {}\".format(X.shape))\n",
    "print(\"Shape of y : {}\".format(y.shape))\n",
    "print(\"Shape of x_main : {}\".format(x_main.shape))\n",
    "print(\"Shape of x_holdout : {}\".format(x_holdout.shape))\n",
    "print(\"Shape of y_main : {}\".format(y_main.shape))\n",
    "print(\"Shape of y_holdout : {}\".format(y_holdout.shape))"
   ]
  },
  {
   "cell_type": "markdown",
   "metadata": {},
   "source": [
    "#### dividing X, y into train and test data"
   ]
  },
  {
   "cell_type": "code",
   "execution_count": 10,
   "metadata": {},
   "outputs": [],
   "source": [
    "# dividing X, y into train and test data\n",
    "x_train, x_test, y_train, y_test = train_test_split(x_main, y_main, test_size=0.20,random_state = 0)"
   ]
  },
  {
   "cell_type": "code",
   "execution_count": 11,
   "metadata": {},
   "outputs": [
    {
     "name": "stdout",
     "output_type": "stream",
     "text": [
      "Shape of x_train : (1843107, 13)\n",
      "Shape of x_test : (460777, 13)\n",
      "Shape of y_train : (1843107,)\n",
      "Shape of y_test : (460777,)\n"
     ]
    }
   ],
   "source": [
    "print(\"Shape of x_train : {}\".format(x_train.shape))\n",
    "print(\"Shape of x_test : {}\".format(x_test.shape))\n",
    "print(\"Shape of y_train : {}\".format(y_train.shape))\n",
    "print(\"Shape of y_test : {}\".format(y_test.shape))"
   ]
  },
  {
   "cell_type": "markdown",
   "metadata": {},
   "source": [
    "#### preprocessing of training data, testing data , holdout data"
   ]
  },
  {
   "cell_type": "code",
   "execution_count": 12,
   "metadata": {},
   "outputs": [],
   "source": [
    "# preprocessing of training data\n",
    "scaler = preprocessing.StandardScaler().fit(x_train)\n",
    "#scaler"
   ]
  },
  {
   "cell_type": "code",
   "execution_count": 13,
   "metadata": {},
   "outputs": [],
   "source": [
    "X_train = scaler.transform(x_train)\n",
    "X_holdout = scaler.transform(x_holdout) \n",
    "# preprocessing of testing data\n",
    "X_test= scaler.transform(x_test) "
   ]
  },
  {
   "cell_type": "code",
   "execution_count": 14,
   "metadata": {},
   "outputs": [
    {
     "data": {
      "text/plain": [
       "['my_scaler_100ms.save']"
      ]
     },
     "execution_count": 14,
     "metadata": {},
     "output_type": "execute_result"
    }
   ],
   "source": [
    "from sklearn.externals import joblib\n",
    "scaler_file = \"my_scaler_100ms.save\"\n",
    "joblib.dump(scaler, scaler_file) "
   ]
  },
  {
   "cell_type": "markdown",
   "metadata": {},
   "source": [
    "## Model Creation"
   ]
  },
  {
   "cell_type": "markdown",
   "metadata": {},
   "source": [
    "## RBF kernel"
   ]
  },
  {
   "cell_type": "markdown",
   "metadata": {},
   "source": [
    "### Training"
   ]
  },
  {
   "cell_type": "code",
   "execution_count": 15,
   "metadata": {},
   "outputs": [
    {
     "name": "stdout",
     "output_type": "stream",
     "text": [
      "[LibSVM]154234497.8029728ms\n"
     ]
    }
   ],
   "source": [
    "## RBF kernel training\n",
    "#### Training\n",
    "tic=time.time()\n",
    "svclassifier_rbf = SVC(kernel='rbf',C=1, max_iter=-1,verbose=True,probability=True) \n",
    "svclassifier_rbf.fit(X_train, y_train)\n",
    "#scores = cross_val_score( svclassifier_rbf, X_train, y_train, cv=5,scoring='f1_macro')\n",
    "toc=time.time()\n",
    "print(str(1000*(toc-tic))+\"ms\")"
   ]
  },
  {
   "cell_type": "markdown",
   "metadata": {},
   "source": [
    "### Validation"
   ]
  },
  {
   "cell_type": "code",
   "execution_count": 16,
   "metadata": {},
   "outputs": [
    {
     "name": "stdout",
     "output_type": "stream",
     "text": [
      "3206649.7983932495ms\n"
     ]
    }
   ],
   "source": [
    "## Testing\n",
    "\n",
    "tic=time.time()\n",
    "y_rbf = svclassifier_rbf.predict(X_test)\n",
    "toc=time.time()\n",
    "print(str(1000*(toc-tic))+\"ms\")"
   ]
  },
  {
   "cell_type": "code",
   "execution_count": 17,
   "metadata": {},
   "outputs": [
    {
     "name": "stdout",
     "output_type": "stream",
     "text": [
      "0.9712333731935405\n"
     ]
    }
   ],
   "source": [
    "# model accuracy for X_test  \n",
    "accuracy = accuracy_score(y_test, y_rbf)\n",
    "print (accuracy)"
   ]
  },
  {
   "cell_type": "code",
   "execution_count": 18,
   "metadata": {},
   "outputs": [
    {
     "name": "stdout",
     "output_type": "stream",
     "text": [
      "[[115295      0     26      1]\n",
      " [    11 110454   1982   2211]\n",
      " [   116   1433 110291   3267]\n",
      " [    61   1827   2320 111482]]\n",
      "              precision    recall  f1-score   support\n",
      "\n",
      "    AC & FAN       1.00      1.00      1.00    115322\n",
      "      CRYING       0.97      0.96      0.97    114658\n",
      "       MUSIC       0.96      0.96      0.96    115107\n",
      "      SPEECH       0.95      0.96      0.96    115690\n",
      "\n",
      "   micro avg       0.97      0.97      0.97    460777\n",
      "   macro avg       0.97      0.97      0.97    460777\n",
      "weighted avg       0.97      0.97      0.97    460777\n",
      "\n"
     ]
    }
   ],
   "source": [
    "## Evaluation of Algorithm\n",
    "print(confusion_matrix(y_test, y_rbf))  \n",
    "print(classification_report(y_test, y_rbf))"
   ]
  },
  {
   "cell_type": "markdown",
   "metadata": {},
   "source": [
    "### Saving RBF kernel Trained Model"
   ]
  },
  {
   "cell_type": "code",
   "execution_count": 19,
   "metadata": {},
   "outputs": [],
   "source": [
    "# save the model to disk\n",
    "filename = 'SVM_100ms_Rbf_model.save'\n",
    "joblib.dump(svclassifier_rbf, open(filename, 'wb'))"
   ]
  },
  {
   "cell_type": "code",
   "execution_count": 20,
   "metadata": {},
   "outputs": [],
   "source": [
    " # load the model from disk\n",
    "loaded_model_rbf = joblib.load(open(filename, 'rb'))"
   ]
  },
  {
   "cell_type": "markdown",
   "metadata": {},
   "source": [
    "### Holdout Predction"
   ]
  },
  {
   "cell_type": "code",
   "execution_count": 21,
   "metadata": {},
   "outputs": [
    {
     "name": "stdout",
     "output_type": "stream",
     "text": [
      "3935774.5110988617ms\n"
     ]
    }
   ],
   "source": [
    "tic=time.time()\n",
    "holdout_pred_rbf = loaded_model_rbf.predict(X_holdout)\n",
    "toc=time.time()\n",
    "print(str(1000*(toc-tic))+\"ms\")"
   ]
  },
  {
   "cell_type": "code",
   "execution_count": 22,
   "metadata": {},
   "outputs": [
    {
     "name": "stdout",
     "output_type": "stream",
     "text": [
      "Holdout accuracy with rbf kernel is: 0.9707710978504126\n"
     ]
    }
   ],
   "source": [
    "rbf_score = accuracy_score(y_holdout, holdout_pred_rbf)\n",
    "print(\"Holdout accuracy with rbf kernel is: {}\".format(rbf_score))"
   ]
  },
  {
   "cell_type": "code",
   "execution_count": 23,
   "metadata": {},
   "outputs": [],
   "source": [
    "## Turn off the scintific notation \n",
    "np.set_printoptions(suppress=True)"
   ]
  },
  {
   "cell_type": "code",
   "execution_count": 24,
   "metadata": {},
   "outputs": [
    {
     "name": "stdout",
     "output_type": "stream",
     "text": [
      "Confusion matrix, without normalization\n",
      "[[143299      0     33      9]\n",
      " [    16 139427   2480   2728]\n",
      " [   184   1809 137337   4146]\n",
      " [    74   2459   2897 139073]]\n"
     ]
    },
    {
     "data": {
      "image/png": "[encoded data removed]",
      "text/plain": [
       "<Figure size 432x288 with 2 Axes>"
      ]
     },
     "metadata": {
      "needs_background": "light"
     },
     "output_type": "display_data"
    }
   ],
   "source": [
    "cm = confusion_matrix(y_holdout, holdout_pred_rbf)\n",
    "np.set_printoptions(precision=2)\n",
    "print('Confusion matrix, without normalization')\n",
    "print(cm)\n",
    "plt.figure()\n",
    "plot_confusion_matrix(cm, Label)\n",
    "plt.savefig('cm_holdout_mySVM_100ms_mani_rbf.png',dpi=150)"
   ]
  },
  {
   "cell_type": "code",
   "execution_count": 25,
   "metadata": {},
   "outputs": [
    {
     "name": "stdout",
     "output_type": "stream",
     "text": [
      "Confusion matrix, without normalization\n"
     ]
    },
    {
     "data": {
      "image/png": "[encoded data removed]",
      "text/plain": [
       "<Figure size 360x216 with 2 Axes>"
      ]
     },
     "metadata": {
      "needs_background": "light"
     },
     "output_type": "display_data"
    }
   ],
   "source": [
    "import matplotlib.pyplot as plt\n",
    "from sklearn.metrics import confusion_matrix\n",
    "import itertools\n",
    "def plot_confusion_matrix(cm, classes,\n",
    "                          normalize=False,\n",
    "                          title='Confusion matrix',\n",
    "                          cmap=plt.cm.Blues):\n",
    "    \"\"\"\n",
    "    This function prints and plots the confusion matrix.\n",
    "    Normalization can be applied by setting `normalize=True`.\n",
    "    \"\"\"\n",
    "    if normalize:\n",
    "        cm = cm.astype('float') / cm.sum(axis=1)[:, np.newaxis]\n",
    "        print(\"Normalized confusion matrix\")\n",
    "    else:\n",
    "        print('Confusion matrix, without normalization')\n",
    "\n",
    "    plt.imshow(cm, interpolation='nearest', cmap=cmap)\n",
    "    plt.title(title)\n",
    "    plt.colorbar()\n",
    "    tick_marks = np.arange(len(classes))\n",
    "    plt.xticks(tick_marks, classes, rotation=45)\n",
    "    plt.yticks(tick_marks, classes)\n",
    "\n",
    "    fmt = '.2f' if normalize else 'd'\n",
    "    thresh = cm.max() / 2.\n",
    "    for i, j in itertools.product(range(cm.shape[0]), range(cm.shape[1])):\n",
    "        plt.text(j, i, format(cm[i, j], fmt),\n",
    "                 horizontalalignment=\"center\",\n",
    "                 color=\"white\" if cm[i, j] > thresh else \"black\")\n",
    "\n",
    "    plt.tight_layout()\n",
    "    plt.ylabel('True label')\n",
    "    plt.xlabel('Predicted label')\n",
    "\n",
    "# Compute confusion matrix\n",
    "cnf_matrix = confusion_matrix(y_holdout, holdout_pred_rbf)\n",
    "np.set_printoptions(precision=2)\n",
    "\n",
    "\n",
    "# Plot non-normalized confusion matrix\n",
    "plt.figure(figsize=(5,3))\n",
    "plot_confusion_matrix(cnf_matrix, classes=['ac&fan', 'crying','music', 'speech'],\n",
    "                      title='Confusion matrix')\n",
    "\n",
    "plt.savefig('mani1.png')"
   ]
  },
  {
   "cell_type": "code",
   "execution_count": 26,
   "metadata": {},
   "outputs": [
    {
     "name": "stdout",
     "output_type": "stream",
     "text": [
      "              precision    recall  f1-score   support\n",
      "\n",
      "    AC & FAN       1.00      1.00      1.00    143341\n",
      "      CRYING       0.97      0.96      0.97    144651\n",
      "       MUSIC       0.96      0.96      0.96    143476\n",
      "      SPEECH       0.95      0.96      0.96    144503\n",
      "\n",
      "   micro avg       0.97      0.97      0.97    575971\n",
      "   macro avg       0.97      0.97      0.97    575971\n",
      "weighted avg       0.97      0.97      0.97    575971\n",
      "\n"
     ]
    }
   ],
   "source": [
    "print(classification_report(y_holdout, holdout_pred_rbf))"
   ]
  },
  {
   "cell_type": "code",
   "execution_count": 27,
   "metadata": {},
   "outputs": [
    {
     "name": "stdout",
     "output_type": "stream",
     "text": [
      "Log loss score of Holdout data for RBF kernel: 0.08552377075014907\n"
     ]
    }
   ],
   "source": [
    "model_prob_rbf = loaded_model_rbf.predict_proba(X_holdout) ##need prob for getting logloss\n",
    "rbf_log_loss = log_loss(y_holdout, model_prob_rbf)\n",
    "print(\"Log loss score of Holdout data for RBF kernel: {}\".format(rbf_log_loss))"
   ]
  },
  {
   "cell_type": "markdown",
   "metadata": {},
   "source": [
    "## Loading Saved Model"
   ]
  },
  {
   "cell_type": "code",
   "execution_count": 28,
   "metadata": {},
   "outputs": [],
   "source": [
    "from sklearn.externals import joblib\n",
    "import pandas as pd\n",
    "import numpy as np\n",
    "import time"
   ]
  },
  {
   "cell_type": "code",
   "execution_count": 29,
   "metadata": {},
   "outputs": [],
   "source": [
    "filename = 'SVM_100ms_Rbf_model.save' # call first saved model file"
   ]
  },
  {
   "cell_type": "code",
   "execution_count": 30,
   "metadata": {},
   "outputs": [],
   "source": [
    " # load the model from disk\n",
    "loaded_model_rbf1 = joblib.load(open(filename, 'rb'))"
   ]
  },
  {
   "cell_type": "markdown",
   "metadata": {},
   "source": [
    "### A"
   ]
  },
  {
   "cell_type": "code",
   "execution_count": 31,
   "metadata": {},
   "outputs": [
    {
     "ename": "FileNotFoundError",
     "evalue": "[Errno 2] File b'/home/bsplab/Desktop/manikanta/16khz_data/NEWFRAME_SHIFTING_DATA/SVM+MFCC_newshifting/100ms/testing/cryingtest_100ms.csv' does not exist: b'/home/bsplab/Desktop/manikanta/16khz_data/NEWFRAME_SHIFTING_DATA/SVM+MFCC_newshifting/100ms/testing/cryingtest_100ms.csv'",
     "output_type": "error",
     "traceback": [
      "\u001b[0;31m---------------------------------------------------------------------------\u001b[0m",
      "\u001b[0;31mFileNotFoundError\u001b[0m                         Traceback (most recent call last)",
      "\u001b[0;32m<ipython-input-31-1eb81221cee2>\u001b[0m in \u001b[0;36m<module>\u001b[0;34m\u001b[0m\n\u001b[0;32m----> 1\u001b[0;31m \u001b[0mdf1\u001b[0m\u001b[0;34m=\u001b[0m\u001b[0mpd\u001b[0m\u001b[0;34m.\u001b[0m\u001b[0mread_csv\u001b[0m\u001b[0;34m(\u001b[0m\u001b[0;34m\"/home/bsplab/Desktop/manikanta/16khz_data/NEWFRAME_SHIFTING_DATA/SVM+MFCC_newshifting/100ms/testing/cryingtest_100ms.csv\"\u001b[0m\u001b[0;34m,\u001b[0m\u001b[0mna_values\u001b[0m\u001b[0;34m=\u001b[0m\u001b[0;34m[\u001b[0m\u001b[0;34m'NA'\u001b[0m\u001b[0;34m,\u001b[0m\u001b[0;34m'?'\u001b[0m\u001b[0;34m]\u001b[0m\u001b[0;34m)\u001b[0m\u001b[0;34m\u001b[0m\u001b[0;34m\u001b[0m\u001b[0m\n\u001b[0m\u001b[1;32m      2\u001b[0m df1.columns=['MFCC0', 'MFCC1','MFCC2','MFCC3','MFCC4','MFCC5','MFCC6','MFCC7','MFCC8', \n\u001b[1;32m      3\u001b[0m             'MFCC9', 'MFCC10' ,'MFCC11', 'MFCC12']\n\u001b[1;32m      4\u001b[0m \u001b[0;31m#filename_write = os.path.join(path,\"7class-out-of-sample_mySVM_500ms.csv\")\u001b[0m\u001b[0;34m\u001b[0m\u001b[0;34m\u001b[0m\u001b[0;34m\u001b[0m\u001b[0m\n\u001b[1;32m      5\u001b[0m \u001b[0mdf1\u001b[0m\u001b[0;34m.\u001b[0m\u001b[0mhead\u001b[0m\u001b[0;34m(\u001b[0m\u001b[0;34m)\u001b[0m\u001b[0;34m\u001b[0m\u001b[0;34m\u001b[0m\u001b[0m\n",
      "\u001b[0;32m~/anaconda3/lib/python3.6/site-packages/pandas/io/parsers.py\u001b[0m in \u001b[0;36mparser_f\u001b[0;34m(filepath_or_buffer, sep, delimiter, header, names, index_col, usecols, squeeze, prefix, mangle_dupe_cols, dtype, engine, converters, true_values, false_values, skipinitialspace, skiprows, skipfooter, nrows, na_values, keep_default_na, na_filter, verbose, skip_blank_lines, parse_dates, infer_datetime_format, keep_date_col, date_parser, dayfirst, iterator, chunksize, compression, thousands, decimal, lineterminator, quotechar, quoting, doublequote, escapechar, comment, encoding, dialect, tupleize_cols, error_bad_lines, warn_bad_lines, delim_whitespace, low_memory, memory_map, float_precision)\u001b[0m\n\u001b[1;32m    695\u001b[0m                     skip_blank_lines=skip_blank_lines)\n\u001b[1;32m    696\u001b[0m \u001b[0;34m\u001b[0m\u001b[0m\n\u001b[0;32m--> 697\u001b[0;31m         \u001b[0;32mreturn\u001b[0m \u001b[0m_read\u001b[0m\u001b[0;34m(\u001b[0m\u001b[0mfilepath_or_buffer\u001b[0m\u001b[0;34m,\u001b[0m \u001b[0mkwds\u001b[0m\u001b[0;34m)\u001b[0m\u001b[0;34m\u001b[0m\u001b[0;34m\u001b[0m\u001b[0m\n\u001b[0m\u001b[1;32m    698\u001b[0m \u001b[0;34m\u001b[0m\u001b[0m\n\u001b[1;32m    699\u001b[0m     \u001b[0mparser_f\u001b[0m\u001b[0;34m.\u001b[0m\u001b[0m__name__\u001b[0m \u001b[0;34m=\u001b[0m \u001b[0mname\u001b[0m\u001b[0;34m\u001b[0m\u001b[0;34m\u001b[0m\u001b[0m\n",
      "\u001b[0;32m~/anaconda3/lib/python3.6/site-packages/pandas/io/parsers.py\u001b[0m in \u001b[0;36m_read\u001b[0;34m(filepath_or_buffer, kwds)\u001b[0m\n\u001b[1;32m    422\u001b[0m \u001b[0;34m\u001b[0m\u001b[0m\n\u001b[1;32m    423\u001b[0m     \u001b[0;31m# Create the parser.\u001b[0m\u001b[0;34m\u001b[0m\u001b[0;34m\u001b[0m\u001b[0;34m\u001b[0m\u001b[0m\n\u001b[0;32m--> 424\u001b[0;31m     \u001b[0mparser\u001b[0m \u001b[0;34m=\u001b[0m \u001b[0mTextFileReader\u001b[0m\u001b[0;34m(\u001b[0m\u001b[0mfilepath_or_buffer\u001b[0m\u001b[0;34m,\u001b[0m \u001b[0;34m**\u001b[0m\u001b[0mkwds\u001b[0m\u001b[0;34m)\u001b[0m\u001b[0;34m\u001b[0m\u001b[0;34m\u001b[0m\u001b[0m\n\u001b[0m\u001b[1;32m    425\u001b[0m \u001b[0;34m\u001b[0m\u001b[0m\n\u001b[1;32m    426\u001b[0m     \u001b[0;32mif\u001b[0m \u001b[0mchunksize\u001b[0m \u001b[0;32mor\u001b[0m \u001b[0miterator\u001b[0m\u001b[0;34m:\u001b[0m\u001b[0;34m\u001b[0m\u001b[0;34m\u001b[0m\u001b[0m\n",
      "\u001b[0;32m~/anaconda3/lib/python3.6/site-packages/pandas/io/parsers.py\u001b[0m in \u001b[0;36m__init__\u001b[0;34m(self, f, engine, **kwds)\u001b[0m\n\u001b[1;32m    888\u001b[0m             \u001b[0mself\u001b[0m\u001b[0;34m.\u001b[0m\u001b[0moptions\u001b[0m\u001b[0;34m[\u001b[0m\u001b[0;34m'has_index_names'\u001b[0m\u001b[0;34m]\u001b[0m \u001b[0;34m=\u001b[0m \u001b[0mkwds\u001b[0m\u001b[0;34m[\u001b[0m\u001b[0;34m'has_index_names'\u001b[0m\u001b[0;34m]\u001b[0m\u001b[0;34m\u001b[0m\u001b[0;34m\u001b[0m\u001b[0m\n\u001b[1;32m    889\u001b[0m \u001b[0;34m\u001b[0m\u001b[0m\n\u001b[0;32m--> 890\u001b[0;31m         \u001b[0mself\u001b[0m\u001b[0;34m.\u001b[0m\u001b[0m_make_engine\u001b[0m\u001b[0;34m(\u001b[0m\u001b[0mself\u001b[0m\u001b[0;34m.\u001b[0m\u001b[0mengine\u001b[0m\u001b[0;34m)\u001b[0m\u001b[0;34m\u001b[0m\u001b[0;34m\u001b[0m\u001b[0m\n\u001b[0m\u001b[1;32m    891\u001b[0m \u001b[0;34m\u001b[0m\u001b[0m\n\u001b[1;32m    892\u001b[0m     \u001b[0;32mdef\u001b[0m \u001b[0mclose\u001b[0m\u001b[0;34m(\u001b[0m\u001b[0mself\u001b[0m\u001b[0;34m)\u001b[0m\u001b[0;34m:\u001b[0m\u001b[0;34m\u001b[0m\u001b[0;34m\u001b[0m\u001b[0m\n",
      "\u001b[0;32m~/anaconda3/lib/python3.6/site-packages/pandas/io/parsers.py\u001b[0m in \u001b[0;36m_make_engine\u001b[0;34m(self, engine)\u001b[0m\n\u001b[1;32m   1115\u001b[0m     \u001b[0;32mdef\u001b[0m \u001b[0m_make_engine\u001b[0m\u001b[0;34m(\u001b[0m\u001b[0mself\u001b[0m\u001b[0;34m,\u001b[0m \u001b[0mengine\u001b[0m\u001b[0;34m=\u001b[0m\u001b[0;34m'c'\u001b[0m\u001b[0;34m)\u001b[0m\u001b[0;34m:\u001b[0m\u001b[0;34m\u001b[0m\u001b[0;34m\u001b[0m\u001b[0m\n\u001b[1;32m   1116\u001b[0m         \u001b[0;32mif\u001b[0m \u001b[0mengine\u001b[0m \u001b[0;34m==\u001b[0m \u001b[0;34m'c'\u001b[0m\u001b[0;34m:\u001b[0m\u001b[0;34m\u001b[0m\u001b[0;34m\u001b[0m\u001b[0m\n\u001b[0;32m-> 1117\u001b[0;31m             \u001b[0mself\u001b[0m\u001b[0;34m.\u001b[0m\u001b[0m_engine\u001b[0m \u001b[0;34m=\u001b[0m \u001b[0mCParserWrapper\u001b[0m\u001b[0;34m(\u001b[0m\u001b[0mself\u001b[0m\u001b[0;34m.\u001b[0m\u001b[0mf\u001b[0m\u001b[0;34m,\u001b[0m \u001b[0;34m**\u001b[0m\u001b[0mself\u001b[0m\u001b[0;34m.\u001b[0m\u001b[0moptions\u001b[0m\u001b[0;34m)\u001b[0m\u001b[0;34m\u001b[0m\u001b[0;34m\u001b[0m\u001b[0m\n\u001b[0m\u001b[1;32m   1118\u001b[0m         \u001b[0;32melse\u001b[0m\u001b[0;34m:\u001b[0m\u001b[0;34m\u001b[0m\u001b[0;34m\u001b[0m\u001b[0m\n\u001b[1;32m   1119\u001b[0m             \u001b[0;32mif\u001b[0m \u001b[0mengine\u001b[0m \u001b[0;34m==\u001b[0m \u001b[0;34m'python'\u001b[0m\u001b[0;34m:\u001b[0m\u001b[0;34m\u001b[0m\u001b[0;34m\u001b[0m\u001b[0m\n",
      "\u001b[0;32m~/anaconda3/lib/python3.6/site-packages/pandas/io/parsers.py\u001b[0m in \u001b[0;36m__init__\u001b[0;34m(self, src, **kwds)\u001b[0m\n\u001b[1;32m   1846\u001b[0m         \u001b[0mkwds\u001b[0m\u001b[0;34m[\u001b[0m\u001b[0;34m'usecols'\u001b[0m\u001b[0;34m]\u001b[0m \u001b[0;34m=\u001b[0m \u001b[0mself\u001b[0m\u001b[0;34m.\u001b[0m\u001b[0musecols\u001b[0m\u001b[0;34m\u001b[0m\u001b[0;34m\u001b[0m\u001b[0m\n\u001b[1;32m   1847\u001b[0m \u001b[0;34m\u001b[0m\u001b[0m\n\u001b[0;32m-> 1848\u001b[0;31m         \u001b[0mself\u001b[0m\u001b[0;34m.\u001b[0m\u001b[0m_reader\u001b[0m \u001b[0;34m=\u001b[0m \u001b[0mparsers\u001b[0m\u001b[0;34m.\u001b[0m\u001b[0mTextReader\u001b[0m\u001b[0;34m(\u001b[0m\u001b[0msrc\u001b[0m\u001b[0;34m,\u001b[0m \u001b[0;34m**\u001b[0m\u001b[0mkwds\u001b[0m\u001b[0;34m)\u001b[0m\u001b[0;34m\u001b[0m\u001b[0;34m\u001b[0m\u001b[0m\n\u001b[0m\u001b[1;32m   1849\u001b[0m         \u001b[0mself\u001b[0m\u001b[0;34m.\u001b[0m\u001b[0munnamed_cols\u001b[0m \u001b[0;34m=\u001b[0m \u001b[0mself\u001b[0m\u001b[0;34m.\u001b[0m\u001b[0m_reader\u001b[0m\u001b[0;34m.\u001b[0m\u001b[0munnamed_cols\u001b[0m\u001b[0;34m\u001b[0m\u001b[0;34m\u001b[0m\u001b[0m\n\u001b[1;32m   1850\u001b[0m \u001b[0;34m\u001b[0m\u001b[0m\n",
      "\u001b[0;32mpandas/_libs/parsers.pyx\u001b[0m in \u001b[0;36mpandas._libs.parsers.TextReader.__cinit__\u001b[0;34m()\u001b[0m\n",
      "\u001b[0;32mpandas/_libs/parsers.pyx\u001b[0m in \u001b[0;36mpandas._libs.parsers.TextReader._setup_parser_source\u001b[0;34m()\u001b[0m\n",
      "\u001b[0;31mFileNotFoundError\u001b[0m: [Errno 2] File b'/home/bsplab/Desktop/manikanta/16khz_data/NEWFRAME_SHIFTING_DATA/SVM+MFCC_newshifting/100ms/testing/cryingtest_100ms.csv' does not exist: b'/home/bsplab/Desktop/manikanta/16khz_data/NEWFRAME_SHIFTING_DATA/SVM+MFCC_newshifting/100ms/testing/cryingtest_100ms.csv'"
     ]
    }
   ],
   "source": [
    "df1=pd.read_csv(\"/home/bsplab/Desktop/manikanta/16khz_data/NEWFRAME_SHIFTING_DATA/SVM+MFCC_newshifting/100ms/testing/cryingtest_100ms.csv\",na_values=['NA','?'])\n",
    "df1.columns=['MFCC0', 'MFCC1','MFCC2','MFCC3','MFCC4','MFCC5','MFCC6','MFCC7','MFCC8', \n",
    "            'MFCC9', 'MFCC10' ,'MFCC11', 'MFCC12']\n",
    "#filename_write = os.path.join(path,\"7class-out-of-sample_mySVM_500ms.csv\")\n",
    "df1.head()"
   ]
  },
  {
   "cell_type": "code",
   "execution_count": null,
   "metadata": {},
   "outputs": [],
   "source": [
    "scaler_file = \"my_scaler_100ms.save\"\n",
    "scaler = joblib.load(scaler_file) "
   ]
  },
  {
   "cell_type": "code",
   "execution_count": null,
   "metadata": {},
   "outputs": [],
   "source": [
    "X = scaler.transform(df1) ## Performing preprocessing on tested data"
   ]
  },
  {
   "cell_type": "code",
   "execution_count": null,
   "metadata": {},
   "outputs": [],
   "source": [
    "tic=time.time()\n",
    "holdout_pred_rbf1 = loaded_model_rbf1.predict(X)\n",
    "toc=time.time()\n",
    "print(str(1000*(toc-tic))+\"ms\")"
   ]
  },
  {
   "cell_type": "code",
   "execution_count": null,
   "metadata": {},
   "outputs": [],
   "source": [
    "p1=holdout_pred_rbf1.size\n",
    "print(\"The size of prediction \" + str (p1))\n",
    "a1=sum(holdout_pred_rbf1==\"CRYING\")\n",
    "print(\"Total no. of predcited Crying \"+str(a1))\n",
    "Acc1=a1/p1*100\n",
    "print(\"The accuracy of the new environment crying data is \"+ str(Acc1)+ \" percent\")"
   ]
  },
  {
   "cell_type": "markdown",
   "metadata": {},
   "source": [
    "### V"
   ]
  },
  {
   "cell_type": "code",
   "execution_count": null,
   "metadata": {},
   "outputs": [],
   "source": [
    "df6=pd.read_csv(\"/home/bsplab/Desktop/manikanta/16khz_data/NEWFRAME_SHIFTING_DATA/SVM+MFCC_newshifting/100ms/testing/musictest_100ms.csv\",na_values=['NA','?'])\n",
    "df6.columns=['MFCC0', 'MFCC1','MFCC2','MFCC3','MFCC4','MFCC5','MFCC6','MFCC7','MFCC8', \n",
    "            'MFCC9', 'MFCC10' ,'MFCC11', 'MFCC12']\n",
    "#filename_write = os.path.join(path,\"7class-out-of-sample_mySVM_500ms.csv\")\n",
    "\n",
    "X6= scaler.transform(df6) ## Direct Do this\n",
    "tic=time.time()\n",
    "holdout_pred_rbf6 = loaded_model_rbf1.predict(X6)\n",
    "toc=time.time()\n",
    "print(str(1000*(toc-tic))+\"ms\")\n",
    "p6=holdout_pred_rbf6.size\n",
    "print(\"The size of prediction \" + str (p6))\n",
    "a6=sum(holdout_pred_rbf6==\"MUSIC\")\n",
    "print(\"Total no. of predcited music \"+str(a6))\n",
    "Acc6=a6/p6*100\n",
    "print(\"The accuracy of the new environment music data is \"+ str(Acc6)+ \" percent\")"
   ]
  },
  {
   "cell_type": "code",
   "execution_count": null,
   "metadata": {},
   "outputs": [],
   "source": [
    "df7=pd.read_csv(\"/home/bsplab/Desktop/manikanta/16khz_data/NEWFRAME_SHIFTING_DATA/SVM+MFCC_newshifting/100ms/testing/speechtest_100ms.csv\",na_values=['NA','?'])\n",
    "df7.columns=['MFCC0', 'MFCC1','MFCC2','MFCC3','MFCC4','MFCC5','MFCC6','MFCC7','MFCC8', \n",
    "            'MFCC9', 'MFCC10' ,'MFCC11', 'MFCC12']\n",
    "#filename_write = os.path.join(path,\"7class-out-of-sample_mySVM_500ms.csv\")\n",
    "df7.head()\n",
    "X7= scaler.transform(df7) ## Direct Do this\n",
    "tic=time.time()\n",
    "holdout_pred_rbf7 = loaded_model_rbf1.predict(X7)\n",
    "toc=time.time()\n",
    "print(str(1000*(toc-tic))+\"ms\")\n",
    "p7=holdout_pred_rbf7.size\n",
    "print(\"The size of prediction \" + str (p7))\n",
    "a7=sum(holdout_pred_rbf7==\"SPEECH\")\n",
    "print(\"Total no. of predcited speech \"+str(a7))\n",
    "Acc7=a7/p7*100\n",
    "print(\"The accuracy of the new environment speech data is \"+ str(Acc7)+ \" percent\")"
   ]
  },
  {
   "cell_type": "markdown",
   "metadata": {},
   "source": [
    "#### S"
   ]
  },
  {
   "cell_type": "code",
   "execution_count": null,
   "metadata": {},
   "outputs": [],
   "source": [
    "df8=pd.read_csv(\"/home/bsplab/Desktop/manikanta/16khz_data/NEWFRAME_SHIFTING_DATA/SVM+MFCC_newshifting/100ms/testing/fanactest_100ms.csv\",na_values=['NA','?'])\n",
    "df8.columns=['MFCC0', 'MFCC1','MFCC2','MFCC3','MFCC4','MFCC5','MFCC6','MFCC7','MFCC8', \n",
    "            'MFCC9', 'MFCC10' ,'MFCC11', 'MFCC12']\n",
    "#filename_write = os.path.join(path,\"7class-out-of-sample_mySVM_500ms.csv\")\n",
    "df8.head()\n",
    "X8= scaler.transform(df8) ## Direct Do this\n",
    "tic=time.time()\n",
    "holdout_pred_rbf8 = loaded_model_rbf1.predict(X8)\n",
    "toc=time.time()\n",
    "print(str(1000*(toc-tic))+\"ms\")\n",
    "p8=holdout_pred_rbf8.size\n",
    "print(\"The size of prediction \" + str (p8))\n",
    "a8=sum(holdout_pred_rbf8==\"AC & FAN\")\n",
    "print(\"Total no. of predcited AC & FAN \"+str(a8))\n",
    "Acc8=a8/p8*100\n",
    "print(\"The accuracy of the new environment AC & FAN data is \"+ str(Acc8)+ \" percent\")"
   ]
  },
  {
   "cell_type": "code",
   "execution_count": null,
   "metadata": {},
   "outputs": [],
   "source": []
  }
 ],
 "metadata": {
  "kernelspec": {
   "display_name": "Python 3",
   "language": "python",
   "name": "python3"
  },
  "language_info": {
   "codemirror_mode": {
    "name": "ipython",
    "version": 3
   },
   "file_extension": ".py",
   "mimetype": "text/x-python",
   "name": "python",
   "nbconvert_exporter": "python",
   "pygments_lexer": "ipython3",
   "version": "3.6.8"
  }
 },
 "nbformat": 4,
 "nbformat_minor": 2
}
