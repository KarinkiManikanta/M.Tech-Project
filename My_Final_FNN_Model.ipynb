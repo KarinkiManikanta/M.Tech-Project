{
 "cells": [
  {
   "cell_type": "code",
   "execution_count": 1,
   "metadata": {},
   "outputs": [],
   "source": [
    "from sklearn import preprocessing\n",
    "import matplotlib.pyplot as plt\n",
    "import numpy as np\n",
    "import pandas as pd\n",
    "import shutil\n",
    "import os\n",
    "import requests\n",
    "import base64\n",
    "\n",
    "\n",
    "# Encode text values to dummy variables(i.e. [1,0,0],[0,1,0],[0,0,1] for red,green,blue)\n",
    "def encode_text_dummy(df, name):\n",
    "    dummies = pd.get_dummies(df[name])\n",
    "    for x in dummies.columns:\n",
    "        dummy_name = \"{}-{}\".format(name, x)\n",
    "        df[dummy_name] = dummies[x]\n",
    "    df.drop(name, axis=1, inplace=True)\n",
    "\n",
    "\n",
    "# Encode text values to a single dummy variable.  The new columns (which do not replace the old) will have a 1\n",
    "# at every location where the original column (name) matches each of the target_values.  One column is added for\n",
    "# each target value.\n",
    "def encode_text_single_dummy(df, name, target_values):\n",
    "    for tv in target_values:\n",
    "        l = list(df[name].astype(str))\n",
    "        l = [1 if str(x) == str(tv) else 0 for x in l]\n",
    "        name2 = \"{}-{}\".format(name, tv)\n",
    "        df[name2] = l\n",
    "\n",
    "\n",
    "# Encode text values to indexes(i.e. [1],[2],[3] for red,green,blue).\n",
    "def encode_text_index(df, name):\n",
    "    le = preprocessing.LabelEncoder()\n",
    "    df[name] = le.fit_transform(df[name])\n",
    "    return le.classes_\n",
    "\n",
    "\n",
    "# Encode a numeric column as zscores\n",
    "def encode_numeric_zscore(df, name, mean=None, sd=None):\n",
    "    if mean is None:\n",
    "        mean = df[name].mean()\n",
    "\n",
    "    if sd is None:\n",
    "        sd = df[name].std()\n",
    "\n",
    "    df[name] = (df[name] - mean) / sd\n",
    "\n",
    "\n",
    "# Convert all missing values in the specified column to the median\n",
    "def missing_median(df, name):\n",
    "    med = df[name].median()\n",
    "    df[name] = df[name].fillna(med)\n",
    "\n",
    "\n",
    "# Convert all missing values in the specified column to the default\n",
    "def missing_default(df, name, default_value):\n",
    "    df[name] = df[name].fillna(default_value)\n",
    "\n",
    "\n",
    "# Convert a Pandas dataframe to the x,y inputs that TensorFlow needs\n",
    "def to_xy(df, target):\n",
    "    result = []\n",
    "    for x in df.columns:\n",
    "        if x != target:\n",
    "            result.append(x)\n",
    "    # find out the type of the target column.  Is it really this hard? :(\n",
    "    target_type = df[target].dtypes\n",
    "    target_type = target_type[0] if hasattr(target_type, '__iter__') else target_type\n",
    "    # Encode to int for classification, float otherwise. TensorFlow likes 32 bits.\n",
    "    if target_type in (np.int64, np.int32):\n",
    "        # Classification\n",
    "        dummies = pd.get_dummies(df[target])\n",
    "        return df.as_matrix(result).astype(np.float32), dummies.as_matrix().astype(np.float32)\n",
    "    else:\n",
    "        # Regression\n",
    "        return df.as_matrix(result).astype(np.float32), df.as_matrix([target]).astype(np.float32)\n",
    "\n",
    "# Nicely formatted time string\n",
    "def hms_string(sec_elapsed):\n",
    "    h = int(sec_elapsed / (60 * 60))\n",
    "    m = int((sec_elapsed % (60 * 60)) / 60)\n",
    "    s = sec_elapsed % 60\n",
    "    return \"{}:{:>02}:{:>05.2f}\".format(h, m, s)\n",
    "\n",
    "\n",
    "# Regression chart.\n",
    "def chart_regression(pred,y,sort=True):\n",
    "    t = pd.DataFrame({'pred' : pred, 'y' : y.flatten()})\n",
    "    if sort:\n",
    "        t.sort_values(by=['y'],inplace=True)\n",
    "    a = plt.plot(t['y'].tolist(),label='expected')\n",
    "    b = plt.plot(t['pred'].tolist(),label='prediction')\n",
    "    plt.ylabel('output')\n",
    "    plt.legend()\n",
    "    plt.show()\n",
    "\n",
    "# Remove all rows where the specified column is +/- sd standard deviations\n",
    "def remove_outliers(df, name, sd):\n",
    "    drop_rows = df.index[(np.abs(df[name] - df[name].mean()) >= (sd * df[name].std()))]\n",
    "    df.drop(drop_rows, axis=0, inplace=True)\n",
    "\n",
    "\n",
    "# Encode a column to a range between normalized_low and normalized_high.\n",
    "def encode_numeric_range(df, name, normalized_low=-1, normalized_high=1,\n",
    "                         data_low=None, data_high=None):\n",
    "    if data_low is None:\n",
    "        data_low = min(df[name])\n",
    "        data_high = max(df[name])\n",
    "\n",
    "    df[name] = ((df[name] - data_low) / (data_high - data_low)) \\\n",
    "               * (normalized_high - normalized_low) + normalized_low\n",
    "    %matplotlib inline\n",
    "    \n",
    "import matplotlib.pyplot as plt\n",
    "from sklearn.metrics import roc_curve, auc\n",
    "\n",
    "# Plot a confusion matrix.\n",
    "# cm is the confusion matrix, names are the names of the classes.\n",
    "def plot_confusion_matrix(cm, names, title='Confusion matrix', cmap=plt.cm.Blues):\n",
    "    plt.imshow(cm, interpolation='nearest', cmap=cmap)\n",
    "    plt.title(title)\n",
    "    plt.colorbar()\n",
    "    tick_marks = np.arange(len(names))\n",
    "    plt.xticks(tick_marks, names, rotation=45)\n",
    "    plt.yticks(tick_marks, names)\n",
    "    plt.tight_layout()\n",
    "    plt.ylabel('True label')\n",
    "    plt.xlabel('Predicted label')\n",
    "        "
   ]
  },
  {
   "cell_type": "code",
   "execution_count": 2,
   "metadata": {},
   "outputs": [
    {
     "name": "stderr",
     "output_type": "stream",
     "text": [
      "/home/iit/anaconda3/lib/python3.6/site-packages/h5py/__init__.py:36: FutureWarning: Conversion of the second argument of issubdtype from `float` to `np.floating` is deprecated. In future, it will be treated as `np.float64 == np.dtype(float).type`.\n",
      "  from ._conv import register_converters as _register_converters\n",
      "Using TensorFlow backend.\n"
     ]
    }
   ],
   "source": [
    "import pandas as pd\n",
    "import os\n",
    "import time\n",
    "import numpy as np\n",
    "import io\n",
    "import requests\n",
    "from sklearn import metrics\n",
    "from scipy.stats import zscore\n",
    "from sklearn.model_selection import train_test_split\n",
    "from sklearn.model_selection import KFold\n",
    "from keras.models import Sequential\n",
    "from keras.layers.core import Dense, Activation\n",
    "from keras.callbacks import EarlyStopping\n",
    "import tensorflow as tf\n",
    "from keras.callbacks import ModelCheckpoint\n",
    "import matplotlib.pyplot as plt\n",
    "from sklearn import svm, datasets\n",
    "from sklearn.metrics import confusion_matrix"
   ]
  },
  {
   "cell_type": "code",
   "execution_count": 6,
   "metadata": {},
   "outputs": [
    {
     "data": {
      "text/html": [
       "<div>\n",
       "<style scoped>\n",
       "    .dataframe tbody tr th:only-of-type {\n",
       "        vertical-align: middle;\n",
       "    }\n",
       "\n",
       "    .dataframe tbody tr th {\n",
       "        vertical-align: top;\n",
       "    }\n",
       "\n",
       "    .dataframe thead th {\n",
       "        text-align: right;\n",
       "    }\n",
       "</style>\n",
       "<table border=\"1\" class=\"dataframe\">\n",
       "  <thead>\n",
       "    <tr style=\"text-align: right;\">\n",
       "      <th></th>\n",
       "      <th>MFCC0</th>\n",
       "      <th>MFCC1</th>\n",
       "      <th>MFCC2</th>\n",
       "      <th>MFCC3</th>\n",
       "      <th>MFCC4</th>\n",
       "      <th>MFCC5</th>\n",
       "      <th>MFCC6</th>\n",
       "      <th>MFCC7</th>\n",
       "      <th>MFCC8</th>\n",
       "      <th>MFCC9</th>\n",
       "      <th>MFCC10</th>\n",
       "      <th>MFCC11</th>\n",
       "      <th>MFCC12</th>\n",
       "      <th>Label</th>\n",
       "    </tr>\n",
       "  </thead>\n",
       "  <tbody>\n",
       "    <tr>\n",
       "      <th>0</th>\n",
       "      <td>-5.134120</td>\n",
       "      <td>22.534925</td>\n",
       "      <td>16.256354</td>\n",
       "      <td>15.571196</td>\n",
       "      <td>6.151718</td>\n",
       "      <td>10.189238</td>\n",
       "      <td>3.403501</td>\n",
       "      <td>5.576244</td>\n",
       "      <td>2.865339</td>\n",
       "      <td>1.756562</td>\n",
       "      <td>2.039639</td>\n",
       "      <td>0.308196</td>\n",
       "      <td>-0.069477</td>\n",
       "      <td>AC</td>\n",
       "    </tr>\n",
       "    <tr>\n",
       "      <th>1</th>\n",
       "      <td>-5.729284</td>\n",
       "      <td>18.445406</td>\n",
       "      <td>27.355768</td>\n",
       "      <td>29.713338</td>\n",
       "      <td>5.136650</td>\n",
       "      <td>6.819951</td>\n",
       "      <td>-1.589000</td>\n",
       "      <td>2.541730</td>\n",
       "      <td>1.910421</td>\n",
       "      <td>0.585029</td>\n",
       "      <td>2.101978</td>\n",
       "      <td>0.280134</td>\n",
       "      <td>-0.125808</td>\n",
       "      <td>AC</td>\n",
       "    </tr>\n",
       "    <tr>\n",
       "      <th>2</th>\n",
       "      <td>-4.808883</td>\n",
       "      <td>24.352262</td>\n",
       "      <td>25.142641</td>\n",
       "      <td>19.897518</td>\n",
       "      <td>4.414094</td>\n",
       "      <td>8.809319</td>\n",
       "      <td>-0.032421</td>\n",
       "      <td>1.812527</td>\n",
       "      <td>1.582176</td>\n",
       "      <td>-0.045355</td>\n",
       "      <td>1.088389</td>\n",
       "      <td>0.269761</td>\n",
       "      <td>-0.092001</td>\n",
       "      <td>AC</td>\n",
       "    </tr>\n",
       "    <tr>\n",
       "      <th>3</th>\n",
       "      <td>-4.543803</td>\n",
       "      <td>24.764735</td>\n",
       "      <td>28.873515</td>\n",
       "      <td>18.804799</td>\n",
       "      <td>2.090060</td>\n",
       "      <td>6.575556</td>\n",
       "      <td>1.366874</td>\n",
       "      <td>2.194397</td>\n",
       "      <td>5.139603</td>\n",
       "      <td>0.865666</td>\n",
       "      <td>0.428243</td>\n",
       "      <td>0.411056</td>\n",
       "      <td>-0.036403</td>\n",
       "      <td>AC</td>\n",
       "    </tr>\n",
       "    <tr>\n",
       "      <th>4</th>\n",
       "      <td>-5.426780</td>\n",
       "      <td>21.955622</td>\n",
       "      <td>23.657540</td>\n",
       "      <td>19.045338</td>\n",
       "      <td>3.968842</td>\n",
       "      <td>7.702331</td>\n",
       "      <td>3.959141</td>\n",
       "      <td>1.370562</td>\n",
       "      <td>5.936281</td>\n",
       "      <td>0.764971</td>\n",
       "      <td>0.784953</td>\n",
       "      <td>0.279222</td>\n",
       "      <td>0.038844</td>\n",
       "      <td>AC</td>\n",
       "    </tr>\n",
       "  </tbody>\n",
       "</table>\n",
       "</div>"
      ],
      "text/plain": [
       "      MFCC0      MFCC1      MFCC2      MFCC3     MFCC4      MFCC5     MFCC6  \\\n",
       "0 -5.134120  22.534925  16.256354  15.571196  6.151718  10.189238  3.403501   \n",
       "1 -5.729284  18.445406  27.355768  29.713338  5.136650   6.819951 -1.589000   \n",
       "2 -4.808883  24.352262  25.142641  19.897518  4.414094   8.809319 -0.032421   \n",
       "3 -4.543803  24.764735  28.873515  18.804799  2.090060   6.575556  1.366874   \n",
       "4 -5.426780  21.955622  23.657540  19.045338  3.968842   7.702331  3.959141   \n",
       "\n",
       "      MFCC7     MFCC8     MFCC9    MFCC10    MFCC11    MFCC12 Label  \n",
       "0  5.576244  2.865339  1.756562  2.039639  0.308196 -0.069477    AC  \n",
       "1  2.541730  1.910421  0.585029  2.101978  0.280134 -0.125808    AC  \n",
       "2  1.812527  1.582176 -0.045355  1.088389  0.269761 -0.092001    AC  \n",
       "3  2.194397  5.139603  0.865666  0.428243  0.411056 -0.036403    AC  \n",
       "4  1.370562  5.936281  0.764971  0.784953  0.279222  0.038844    AC  "
      ]
     },
     "execution_count": 6,
     "metadata": {},
     "output_type": "execute_result"
    }
   ],
   "source": [
    "# Read MFCCs feature CSV file of audio of 100ms block\n",
    "\n",
    "path=\"./project_mani\"\n",
    "#filename=os.path.join(path,\"5class_100ms_file.csv\")\n",
    "#filename=os.path.join(path,\"/home/iit/Desktop/project_mani/5classfet1.csv\")\n",
    "df=pd.read_csv(\"5class.csv\")\n",
    "df.columns=['MFCC0', 'MFCC1','MFCC2','MFCC3','MFCC4','MFCC5','MFCC6','MFCC7','MFCC8', 'MFCC9', 'MFCC10' ,'MFCC11', 'MFCC12', 'Label']\n",
    "filename_write = os.path.join(path,\"/home/iit/Manikanta/5class_write.csv\")\n",
    "#df=pd.read_csv(filename)\n",
    "df.head()"
   ]
  },
  {
   "cell_type": "code",
   "execution_count": 7,
   "metadata": {},
   "outputs": [],
   "source": [
    "# Shuffle\n",
    "np.random.seed(42)\n",
    "df = df.reindex(np.random.permutation(df.index))\n",
    "df.reset_index(inplace=True, drop=True)\n"
   ]
  },
  {
   "cell_type": "code",
   "execution_count": 8,
   "metadata": {},
   "outputs": [
    {
     "name": "stdout",
     "output_type": "stream",
     "text": [
      "Labelling is:['AC' 'CRYING' 'FAN' 'SPEECH' 'TV']\n"
     ]
    },
    {
     "name": "stderr",
     "output_type": "stream",
     "text": [
      "/home/iit/anaconda3/lib/python3.6/site-packages/ipykernel_launcher.py:73: FutureWarning: Method .as_matrix will be removed in a future version. Use .values instead.\n"
     ]
    }
   ],
   "source": [
    "# Encode to a 2D matrix for training\n",
    "Label=encode_text_index(df,'Label')\n",
    "print(\"Labelling is:{}\".format(Label))\n",
    "\n",
    "############################################################################################\n",
    "\n",
    "# Sperating Independent variable and Target Variable\n",
    "x,y=to_xy(df,'Label')"
   ]
  },
  {
   "cell_type": "code",
   "execution_count": 9,
   "metadata": {},
   "outputs": [],
   "source": [
    "# Keep a 20% holdout\n",
    "x_main, x_holdout, y_main, y_holdout = train_test_split(    \n",
    "    x, y, test_size=0.20) "
   ]
  },
  {
   "cell_type": "code",
   "execution_count": 10,
   "metadata": {},
   "outputs": [
    {
     "name": "stdout",
     "output_type": "stream",
     "text": [
      "Shape of x : (724498, 13)\n",
      "Shape of y : (724498, 5)\n",
      "Shape of x_main : (579598, 13)\n",
      "Shape of x_holdout : (144900, 13)\n",
      "Shape of y_main : (579598, 5)\n",
      "Shape of y_holdout : (144900, 5)\n"
     ]
    }
   ],
   "source": [
    "print(\"Shape of x : {}\".format(x.shape))\n",
    "print(\"Shape of y : {}\".format(y.shape))\n",
    "print(\"Shape of x_main : {}\".format(x_main.shape))\n",
    "print(\"Shape of x_holdout : {}\".format(x_holdout.shape))\n",
    "print(\"Shape of y_main : {}\".format(y_main.shape))\n",
    "print(\"Shape of y_holdout : {}\".format(y_holdout.shape))"
   ]
  },
  {
   "cell_type": "code",
   "execution_count": 12,
   "metadata": {},
   "outputs": [
    {
     "name": "stdout",
     "output_type": "stream",
     "text": [
      "Fold #1\n",
      "Fold score (accuracy): 0.9952294685990338\n",
      "Elapsed time: 0:01:19.69\n",
      "Confusion matrix, without normalization\n",
      "[[22806     1   132     3    35]\n",
      " [    0 23120     0     1     3]\n",
      " [  231     0 23064     6     5]\n",
      " [   13     4     9 22954    17]\n",
      " [   39    19     7    28 23423]]\n",
      "Fold #2\n",
      "Fold score (accuracy): 0.9950138026224983\n",
      "Elapsed time: 0:01:20.25\n",
      "Confusion matrix, without normalization\n",
      "[[22980     0   210     1    22]\n",
      " [    0 22853     1     0     1]\n",
      " [  226     0 23070     4     4]\n",
      " [    7     5     5 22715    27]\n",
      " [   32    20     6     7 23724]]\n",
      "Fold #3\n",
      "Fold score (accuracy): 0.9945824706694272\n",
      "Elapsed time: 0:01:21.49\n",
      "Confusion matrix, without normalization\n",
      "[[22773     0   134     1    60]\n",
      " [    0 23062     0     0     5]\n",
      " [  309     0 23211     2     4]\n",
      " [   16     3    14 23031    25]\n",
      " [   21    12     8    14 23215]]\n",
      "Fold #4\n",
      "Epoch 00030: early stopping\n",
      "Fold score (accuracy): 0.9945220369395871\n",
      "Elapsed time: 0:01:22.33\n",
      "Confusion matrix, without normalization\n",
      "[[22925     0   311     6    32]\n",
      " [    0 23068     0     1     3]\n",
      " [  137     0 22783     3     8]\n",
      " [   18     1    12 23277    17]\n",
      " [   31    23    10    22 23231]]\n",
      "Fold #5\n",
      "Fold score (accuracy): 0.9946169307878777\n",
      "Elapsed time: 0:01:22.65\n",
      "Confusion matrix, without normalization\n",
      "[[22707     3   190     4    57]\n",
      " [    1 23001     0     2     6]\n",
      " [  232     0 22890     5     7]\n",
      " [    8     4    13 23152    14]\n",
      " [   18    17     7    36 23545]]\n",
      "Final score (accuracy): 0.9947929426947643\n",
      "_________________________________________________________________\n",
      "Layer (type)                 Output Shape              Param #   \n",
      "=================================================================\n",
      "dense_21 (Dense)             (None, 50)                700       \n",
      "_________________________________________________________________\n",
      "dense_22 (Dense)             (None, 25)                1275      \n",
      "_________________________________________________________________\n",
      "dense_23 (Dense)             (None, 12)                312       \n",
      "_________________________________________________________________\n",
      "dense_24 (Dense)             (None, 5)                 65        \n",
      "=================================================================\n",
      "Total params: 2,352\n",
      "Trainable params: 2,352\n",
      "Non-trainable params: 0\n",
      "_________________________________________________________________\n"
     ]
    }
   ],
   "source": [
    "# Cross-validate\n",
    "kf = KFold(5)\n",
    "epochs=30\n",
    "oos_y = []\n",
    "oos_pred = []\n",
    "fold = 0\n",
    "plot_loss = np.empty ((0,epochs))\n",
    "plot_acc = np.empty ((0,epochs))\n",
    "for train, test in kf.split(x_main):\n",
    "    fold+=1\n",
    "    print(\"Fold #{}\".format(fold))\n",
    "        \n",
    "    x_train = x_main[train]\n",
    "    y_train = y_main[train]\n",
    "    x_test = x_main[test]\n",
    "    y_test = y_main[test]\n",
    "#####################################################################################    \n",
    "# Training \n",
    "# Fully Connected Neural Network Model    \n",
    "    model = Sequential()\n",
    "    model.add(Dense(50, input_dim=x.shape[1], activation='relu')) # Hidden 1\n",
    "    model.add(Dense(25, activation='relu')) # Hidden 2\n",
    "    model.add(Dense(12, activation='relu')) # Hidden 3\n",
    "    model.add(Dense(y.shape[1],activation='softmax')) # Output\n",
    "    model.compile(loss='categorical_crossentropy', optimizer='adam',metrics=['acc'])\n",
    "    monitor = EarlyStopping(monitor='val_loss', min_delta=1e-3, patience=10, verbose=1, mode='auto') \n",
    "    checkpointer = ModelCheckpoint(filepath=\"best_weights_myFNN.hdf5\",\n",
    "                               verbose=2,\n",
    "                               save_best_only=True) # save best model\n",
    "\n",
    "    start_time = time.time()\n",
    "    history=model.fit(x_train,y_train,validation_data=(x_test,y_test),callbacks=[monitor],\n",
    "                      verbose=0,batch_size=1024,epochs=epochs)\n",
    "    \n",
    "    #################################################################################\n",
    "    ## Testing \n",
    "    \n",
    "    pred = model.predict(x_test)\n",
    "    \n",
    "    oos_y.append(y_test)\n",
    "    pred = np.argmax(pred,axis=1) # raw probabilities to chosen class (highest probability)\n",
    "    oos_pred.append(pred)\n",
    "    \n",
    "#############################################################################################\n",
    "    \n",
    "    # Measure this fold's accuracy\n",
    "    y_compare = np.argmax(y_test,axis=1) # For accuracy calculation\n",
    "    score = metrics.accuracy_score(y_compare, pred)\n",
    "    print(\"Fold score (accuracy): {}\".format(score))\n",
    "    \n",
    "#######################\n",
    "    elapsed_time = time.time() - start_time\n",
    "    print(\"Elapsed time: {}\".format(hms_string(elapsed_time))) \n",
    "    \n",
    "####################################################################################################\n",
    "\n",
    "    ###############################################\n",
    "    loss = history.history['loss']\n",
    "    #plt.plot(epochs,loss,label=='Training loss')\n",
    "    acc = history.history['acc']\n",
    "    plot_loss = np.append (plot_loss, [loss],axis=0)\n",
    "    plot_acc = np.append (plot_acc, [acc],axis=0)\n",
    "    ###############################################\n",
    "    cm = confusion_matrix(y_compare,pred)\n",
    "    np.set_printoptions(precision=2)\n",
    "    print('Confusion matrix, without normalization')\n",
    "    print(cm)\n",
    "    ##############################################\n",
    "\n",
    "\n",
    "\n",
    "# Build the oos prediction list and calculate the error.\n",
    "oos_y = np.concatenate(oos_y)\n",
    "oos_pred = np.concatenate(oos_pred)\n",
    "oos_y_compare = np.argmax(oos_y,axis=1) # For accuracy calculation\n",
    "\n",
    "score = metrics.accuracy_score(oos_y_compare, oos_pred)\n",
    "print(\"Final score (accuracy): {}\".format(score))  \n",
    "\n",
    "#######################################################################################################    \n",
    "\n",
    "# Write the cross-validated prediction\n",
    "oos_y = pd.DataFrame(oos_y)\n",
    "oos_pred = pd.DataFrame(oos_pred)\n",
    "oosDF = pd.concat( [df, oos_y, oos_pred],axis=1 )\n",
    "oosDF.to_csv(filename_write,index=False)\n",
    "\n",
    "#####################################################################\n",
    "\n",
    "model.summary()"
   ]
  },
  {
   "cell_type": "code",
   "execution_count": 13,
   "metadata": {},
   "outputs": [
    {
     "data": {
      "image/png": "[encoded data removed]",
      "text/plain": [
       "<Figure size 432x288 with 1 Axes>"
      ]
     },
     "metadata": {},
     "output_type": "display_data"
    }
   ],
   "source": [
    "plot_loss_graph = plot_loss\n",
    "itr=range(1,(epochs+1))\n",
    "for i in range(1,fold+1):\n",
    "    plt.plot(itr,plot_loss_graph[i-1],label=\"Fold #{}\".format(i))\n",
    "plt.title('Training and validation loss')\n",
    "plt.xlabel('Epochs')\n",
    "plt.ylabel('Loss')\n",
    "plt.legend()\n",
    "plt.grid()\n",
    "plt.savefig(\"mani_5C_loss.eps\")\n",
    "plt.savefig(\"mani_5class_loss.png\",dpi=150)\n",
    "plt.show()"
   ]
  },
  {
   "cell_type": "code",
   "execution_count": 14,
   "metadata": {},
   "outputs": [
    {
     "data": {
      "image/png": "[encoded data removed]",
      "text/plain": [
       "<Figure size 432x288 with 1 Axes>"
      ]
     },
     "metadata": {},
     "output_type": "display_data"
    }
   ],
   "source": [
    "plt.clf()\n",
    "plot_acc_graph = plot_acc\n",
    "itr=range(1,(epochs+1))\n",
    "for i in range(1,fold+1):\n",
    "    plt.plot(itr,plot_acc_graph[i-1],label=\"Fold #{}\".format(i))\n",
    "plt.title('Training and validation accuracy')\n",
    "plt.xlabel('Epochs')\n",
    "plt.ylabel('Accuracy')\n",
    "plt.legend()\n",
    "plt.grid()\n",
    "plt.savefig(\"mani_k-fold_acc.eps\",dpi=150)\n",
    "plt.savefig('mani_k-fold_acc.png',dpi=150)\n",
    "plt.show()"
   ]
  },
  {
   "cell_type": "code",
   "execution_count": 23,
   "metadata": {},
   "outputs": [],
   "source": [
    "from keras.utils.vis_utils import plot_model\n",
    "plot_model(model, to_file='my_mani.png', show_shapes=True, show_layer_names=True)"
   ]
  },
  {
   "cell_type": "code",
   "execution_count": 24,
   "metadata": {},
   "outputs": [
    {
     "name": "stdout",
     "output_type": "stream",
     "text": [
      "Populating the interactive namespace from numpy and matplotlib\n"
     ]
    },
    {
     "name": "stderr",
     "output_type": "stream",
     "text": [
      "/home/iit/anaconda3/lib/python3.6/site-packages/IPython/core/magics/pylab.py:160: UserWarning: pylab import has clobbered these variables: ['cm', 'test']\n",
      "`%matplotlib` prevents importing * from pylab and numpy\n",
      "  \"\\n`%matplotlib` prevents importing * from pylab and numpy\"\n"
     ]
    },
    {
     "data": {
      "image/png": "[encoded data removed]",
      "text/plain": [
       "<Figure size 432x288 with 1 Axes>"
      ]
     },
     "metadata": {},
     "output_type": "display_data"
    }
   ],
   "source": [
    "%pylab inline\n",
    "import matplotlib.pyplot as plt\n",
    "import matplotlib.image as mpimg\n",
    "img=mpimg.imread('my_mani.png')\n",
    "imgplot = plt.imshow(img)\n",
    "plt.show()\n",
    "from PIL import Image\n",
    "image = Image.open('my_mani.png')\n",
    "image.show()\n"
   ]
  },
  {
   "cell_type": "code",
   "execution_count": 15,
   "metadata": {},
   "outputs": [],
   "source": [
    "## Turn off the scintific notation \n",
    "np.set_printoptions(suppress=True)"
   ]
  },
  {
   "cell_type": "code",
   "execution_count": 16,
   "metadata": {},
   "outputs": [],
   "source": [
    "# Write the cross-validated prediction \n",
    "holdout_pred = model.predict(x_holdout)"
   ]
  },
  {
   "cell_type": "code",
   "execution_count": 17,
   "metadata": {},
   "outputs": [
    {
     "name": "stdout",
     "output_type": "stream",
     "text": [
      "Log loss score of Holdout data: 0.015383495537958218\n"
     ]
    }
   ],
   "source": [
    "score = metrics.log_loss(y_holdout, holdout_pred)\n",
    "print(\"Log loss score of Holdout data: {}\".format(score))"
   ]
  },
  {
   "cell_type": "code",
   "execution_count": 18,
   "metadata": {},
   "outputs": [
    {
     "name": "stdout",
     "output_type": "stream",
     "text": [
      "Holdout accuracy: 0.9953002070393375\n",
      "Elapsed time: 0:01:47.61\n"
     ]
    }
   ],
   "source": [
    "# Measure accuracy\n",
    "holdout_pred = model.predict(x_holdout)\n",
    "holdout_pred = np.argmax(holdout_pred, axis=1)\n",
    "y_holdout_compare = np.argmax(y_holdout, axis=1)\n",
    "score = metrics.accuracy_score(y_holdout_compare, holdout_pred)\n",
    "print(\"Holdout accuracy: {}\".format(score))\n",
    "\n",
    "elapsed_time = time.time() - start_time\n",
    "print(\"Elapsed time: {}\".format(hms_string(elapsed_time)))"
   ]
  },
  {
   "cell_type": "code",
   "execution_count": 19,
   "metadata": {},
   "outputs": [
    {
     "name": "stdout",
     "output_type": "stream",
     "text": [
      "Confusion matrix, without normalization\n",
      "[[28825     0   226     2    54]\n",
      " [    0 28746     0     1     0]\n",
      " [  237     3 28569     7     7]\n",
      " [   14     3    10 28646    17]\n",
      " [   27    25     7    41 29433]]\n"
     ]
    },
    {
     "data": {
      "image/png": "[encoded data removed]",
      "text/plain": [
       "<Figure size 432x288 with 2 Axes>"
      ]
     },
     "metadata": {},
     "output_type": "display_data"
    }
   ],
   "source": [
    "\n",
    "\n",
    "# Compute confusion matrix\n",
    "cm = confusion_matrix(y_holdout_compare, holdout_pred)\n",
    "np.set_printoptions(precision=2)\n",
    "print('Confusion matrix, without normalization')\n",
    "print(cm)\n",
    "plt.figure()\n",
    "plot_confusion_matrix(cm, Label)\n",
    "plt.savefig('cm_holdout_myFNN.png',dpi=150)"
   ]
  },
  {
   "cell_type": "code",
   "execution_count": 20,
   "metadata": {},
   "outputs": [
    {
     "name": "stdout",
     "output_type": "stream",
     "text": [
      "Normalized confusion matrix\n",
      "[[0.99 0.   0.01 0.   0.  ]\n",
      " [0.   1.   0.   0.   0.  ]\n",
      " [0.01 0.   0.99 0.   0.  ]\n",
      " [0.   0.   0.   1.   0.  ]\n",
      " [0.   0.   0.   0.   1.  ]]\n"
     ]
    },
    {
     "data": {
      "image/png": "[encoded data removed]",
      "text/plain": [
       "<Figure size 432x288 with 2 Axes>"
      ]
     },
     "metadata": {},
     "output_type": "display_data"
    }
   ],
   "source": [
    "# Normalize the confusion matrix by row (i.e by the number of samples\n",
    "# in each class)\n",
    "cm_normalized = cm.astype('float') / cm.sum(axis=1)[:, np.newaxis]\n",
    "print('Normalized confusion matrix')\n",
    "print(cm_normalized)\n",
    "plt.figure()\n",
    "plot_confusion_matrix(cm_normalized, Label, title='Normalized confusion matrix of Holdout Prediction')\n",
    "plt.savefig('norm_cm_holdout_myFNN.png',dpi=150)\n",
    "plt.show()"
   ]
  },
  {
   "cell_type": "code",
   "execution_count": 21,
   "metadata": {},
   "outputs": [
    {
     "name": "stdout",
     "output_type": "stream",
     "text": [
      "[[28825     0   226     2    54]\n",
      " [    0 28746     0     1     0]\n",
      " [  237     3 28569     7     7]\n",
      " [   14     3    10 28646    17]\n",
      " [   27    25     7    41 29433]]\n",
      "             precision    recall  f1-score   support\n",
      "\n",
      "          0       0.99      0.99      0.99     29107\n",
      "          1       1.00      1.00      1.00     28747\n",
      "          2       0.99      0.99      0.99     28823\n",
      "          3       1.00      1.00      1.00     28690\n",
      "          4       1.00      1.00      1.00     29533\n",
      "\n",
      "avg / total       1.00      1.00      1.00    144900\n",
      "\n"
     ]
    }
   ],
   "source": [
    "from sklearn.metrics import classification_report, confusion_matrix  \n",
    "print(confusion_matrix(y_holdout_compare, holdout_pred))  \n",
    "print(classification_report(y_holdout_compare, holdout_pred))"
   ]
  },
  {
   "cell_type": "code",
   "execution_count": 22,
   "metadata": {},
   "outputs": [
    {
     "name": "stdout",
     "output_type": "stream",
     "text": [
      "Overall Accuracy:  99.53002070393376\n",
      "Precision:  99.53002070393376\n",
      "Sensitivity/Recall:  99.53002070393376\n",
      "Specificity:  99.53002070393376\n",
      "Error Rate:  0.46997929606624744\n",
      "F1-Score:  99.53002070393376\n"
     ]
    }
   ],
   "source": [
    "[[C1,E1,N1,S1,V1],[C2,E2,N2,S2,V2],[C3,E3,N3,S3,V3],[C4,E4,N4,S4,V4],[C5,E5,N5,S5,V5]]=cm\n",
    "\n",
    "TP=(cm[0][0]+cm[1][1]+cm[2][2]+cm[3][3]+cm[4][4])\n",
    "TN=(cm[0][0]+cm[1][1]+cm[2][2]+cm[3][3]+cm[4][4])\n",
    "FP=np.sum(cm)-TP\n",
    "FN=FP\n",
    "\n",
    "\n",
    "Acc=(cm[0][0]+cm[1][1]+cm[2][2]+cm[3][3]+cm[4][4])/np.sum(cm)\n",
    "print(\"Overall Accuracy: \",Acc*100)\n",
    "\n",
    "Pr=(TP)/(TP+FP)\n",
    "print(\"Precision: \",Pr*100)\n",
    "\n",
    "Se=(TP)/(TP+FN)\n",
    "print(\"Sensitivity/Recall: \",Se*100)\n",
    "\n",
    "Sp=(TN)/(TN+FP)\n",
    "print(\"Specificity: \",Sp*100)\n",
    "\n",
    "ER=1-Acc\n",
    "print(\"Error Rate: \",100*ER)\n",
    "\n",
    "F_score = 2*TP /(2*TP + FP + FN)\n",
    "print(\"F1-Score: \",F_score*100)"
   ]
  },
  {
   "cell_type": "code",
   "execution_count": 20,
   "metadata": {},
   "outputs": [
    {
     "name": "stdout",
     "output_type": "stream",
     "text": [
      "Elapsed time: 0:02:49.56\n"
     ]
    }
   ],
   "source": [
    "model.save('manikanta_FeedforwardNN_5class.h5')\n",
    "\n",
    "\n",
    "elapsed_time = time.time() - start_time\n",
    "print(\"Elapsed time: {}\".format(hms_string(elapsed_time)))"
   ]
  },
  {
   "cell_type": "code",
   "execution_count": 26,
   "metadata": {},
   "outputs": [
    {
     "data": {
      "text/html": [
       "<div>\n",
       "<style scoped>\n",
       "    .dataframe tbody tr th:only-of-type {\n",
       "        vertical-align: middle;\n",
       "    }\n",
       "\n",
       "    .dataframe tbody tr th {\n",
       "        vertical-align: top;\n",
       "    }\n",
       "\n",
       "    .dataframe thead th {\n",
       "        text-align: right;\n",
       "    }\n",
       "</style>\n",
       "<table border=\"1\" class=\"dataframe\">\n",
       "  <thead>\n",
       "    <tr style=\"text-align: right;\">\n",
       "      <th></th>\n",
       "      <th>MFCC0</th>\n",
       "      <th>MFCC1</th>\n",
       "      <th>MFCC2</th>\n",
       "      <th>MFCC3</th>\n",
       "      <th>MFCC4</th>\n",
       "      <th>MFCC5</th>\n",
       "      <th>MFCC6</th>\n",
       "      <th>MFCC7</th>\n",
       "      <th>MFCC8</th>\n",
       "      <th>MFCC9</th>\n",
       "      <th>MFCC10</th>\n",
       "      <th>MFCC11</th>\n",
       "      <th>MFCC12</th>\n",
       "    </tr>\n",
       "  </thead>\n",
       "  <tbody>\n",
       "    <tr>\n",
       "      <th>0</th>\n",
       "      <td>-4.768194</td>\n",
       "      <td>34.031533</td>\n",
       "      <td>17.272106</td>\n",
       "      <td>13.455052</td>\n",
       "      <td>4.734985</td>\n",
       "      <td>3.266335</td>\n",
       "      <td>-0.144751</td>\n",
       "      <td>-0.208921</td>\n",
       "      <td>-0.469237</td>\n",
       "      <td>0.421284</td>\n",
       "      <td>-0.114803</td>\n",
       "      <td>-0.237166</td>\n",
       "      <td>0.269319</td>\n",
       "    </tr>\n",
       "    <tr>\n",
       "      <th>1</th>\n",
       "      <td>-4.757876</td>\n",
       "      <td>32.552546</td>\n",
       "      <td>17.127382</td>\n",
       "      <td>12.057852</td>\n",
       "      <td>4.428186</td>\n",
       "      <td>3.726634</td>\n",
       "      <td>1.710152</td>\n",
       "      <td>0.551984</td>\n",
       "      <td>-1.204261</td>\n",
       "      <td>-0.723768</td>\n",
       "      <td>-0.446487</td>\n",
       "      <td>-0.312606</td>\n",
       "      <td>0.329525</td>\n",
       "    </tr>\n",
       "    <tr>\n",
       "      <th>2</th>\n",
       "      <td>-4.603864</td>\n",
       "      <td>31.965787</td>\n",
       "      <td>15.760231</td>\n",
       "      <td>13.788702</td>\n",
       "      <td>5.945601</td>\n",
       "      <td>6.304809</td>\n",
       "      <td>2.731478</td>\n",
       "      <td>2.311371</td>\n",
       "      <td>-0.055208</td>\n",
       "      <td>0.147039</td>\n",
       "      <td>-0.571475</td>\n",
       "      <td>-0.146211</td>\n",
       "      <td>0.148147</td>\n",
       "    </tr>\n",
       "    <tr>\n",
       "      <th>3</th>\n",
       "      <td>-4.583379</td>\n",
       "      <td>32.728263</td>\n",
       "      <td>20.435069</td>\n",
       "      <td>13.349465</td>\n",
       "      <td>7.721975</td>\n",
       "      <td>4.465763</td>\n",
       "      <td>2.096007</td>\n",
       "      <td>0.176928</td>\n",
       "      <td>-0.435706</td>\n",
       "      <td>-0.117059</td>\n",
       "      <td>0.019186</td>\n",
       "      <td>0.023602</td>\n",
       "      <td>0.044150</td>\n",
       "    </tr>\n",
       "    <tr>\n",
       "      <th>4</th>\n",
       "      <td>-4.773001</td>\n",
       "      <td>43.643621</td>\n",
       "      <td>26.089989</td>\n",
       "      <td>6.452514</td>\n",
       "      <td>7.704668</td>\n",
       "      <td>3.460699</td>\n",
       "      <td>3.486486</td>\n",
       "      <td>1.056610</td>\n",
       "      <td>-0.188047</td>\n",
       "      <td>-0.897772</td>\n",
       "      <td>-0.213563</td>\n",
       "      <td>-0.037604</td>\n",
       "      <td>0.109381</td>\n",
       "    </tr>\n",
       "  </tbody>\n",
       "</table>\n",
       "</div>"
      ],
      "text/plain": [
       "      MFCC0      MFCC1      MFCC2      MFCC3     MFCC4     MFCC5     MFCC6  \\\n",
       "0 -4.768194  34.031533  17.272106  13.455052  4.734985  3.266335 -0.144751   \n",
       "1 -4.757876  32.552546  17.127382  12.057852  4.428186  3.726634  1.710152   \n",
       "2 -4.603864  31.965787  15.760231  13.788702  5.945601  6.304809  2.731478   \n",
       "3 -4.583379  32.728263  20.435069  13.349465  7.721975  4.465763  2.096007   \n",
       "4 -4.773001  43.643621  26.089989   6.452514  7.704668  3.460699  3.486486   \n",
       "\n",
       "      MFCC7     MFCC8     MFCC9    MFCC10    MFCC11    MFCC12  \n",
       "0 -0.208921 -0.469237  0.421284 -0.114803 -0.237166  0.269319  \n",
       "1  0.551984 -1.204261 -0.723768 -0.446487 -0.312606  0.329525  \n",
       "2  2.311371 -0.055208  0.147039 -0.571475 -0.146211  0.148147  \n",
       "3  0.176928 -0.435706 -0.117059  0.019186  0.023602  0.044150  \n",
       "4  1.056610 -0.188047 -0.897772 -0.213563 -0.037604  0.109381  "
      ]
     },
     "execution_count": 26,
     "metadata": {},
     "output_type": "execute_result"
    }
   ],
   "source": [
    "df1=pd.read_csv('ac_1.csv')\n",
    "df1.columns=['MFCC0', 'MFCC1','MFCC2','MFCC3','MFCC4','MFCC5','MFCC6','MFCC7','MFCC8', 'MFCC9', 'MFCC10' ,'MFCC11', 'MFCC12']\n",
    "df1.head()"
   ]
  },
  {
   "cell_type": "code",
   "execution_count": 30,
   "metadata": {},
   "outputs": [
    {
     "data": {
      "text/plain": [
       "(36191, 5)"
      ]
     },
     "execution_count": 30,
     "metadata": {},
     "output_type": "execute_result"
    }
   ],
   "source": [
    "his=model.predict(df1)\n",
    "his.shape\n"
   ]
  },
  {
   "cell_type": "code",
   "execution_count": 31,
   "metadata": {},
   "outputs": [
    {
     "data": {
      "text/plain": [
       "array([3, 0, 0, 0, 3, 3, 3, 0, 3, 0, 2, 2, 0, 0, 0, 0, 0, 3, 0, 3, 0, 2,\n",
       "       0, 3, 3, 0, 3, 3, 3, 3, 3, 3, 0, 0, 3, 0, 2, 0, 0, 3, 3, 2, 3, 2,\n",
       "       0, 0, 0, 0, 0, 3, 0, 0, 0, 0, 0, 3, 0, 3, 0, 3, 3, 2, 2, 3, 0, 0,\n",
       "       0, 2, 2, 2, 0, 3, 3, 3, 0, 0, 0, 3, 2, 2, 0, 0, 0, 3, 3, 2, 3, 3,\n",
       "       3, 0, 3, 0, 0, 3, 0, 3, 0, 2, 0, 0, 0, 0, 0, 2, 2, 3, 3, 3, 3, 3,\n",
       "       3, 3, 0, 0, 0, 3, 2, 2, 0, 3, 0, 0, 3, 0, 2, 0, 0, 0, 0, 3, 0, 3,\n",
       "       0, 0, 0, 0, 0, 0, 0, 0, 3, 3, 3, 3, 0, 0, 0, 3, 0, 0, 0, 0, 0, 0,\n",
       "       0, 0, 0, 0, 0, 0, 0, 0, 0, 0, 3, 0, 0, 0, 0, 3, 3, 0, 3, 0, 3, 0,\n",
       "       2, 0, 3, 0, 3, 3, 0, 2, 0, 3, 0, 0, 3, 0, 0, 2, 3, 3, 0, 0, 3, 0,\n",
       "       3, 3, 0, 0, 0, 0, 0, 3, 3, 3, 3, 3, 3, 0, 0, 0, 3, 0, 0, 0, 2, 3,\n",
       "       3, 0, 2, 0, 0, 3, 0, 3, 0, 0])"
      ]
     },
     "execution_count": 31,
     "metadata": {},
     "output_type": "execute_result"
    }
   ],
   "source": [
    "test_pred = np.argmax(his, axis=1)\n",
    "test_pred[150:380]"
   ]
  },
  {
   "cell_type": "code",
   "execution_count": 32,
   "metadata": {},
   "outputs": [
    {
     "data": {
      "text/plain": [
       "17144"
      ]
     },
     "execution_count": 32,
     "metadata": {},
     "output_type": "execute_result"
    }
   ],
   "source": [
    "sum(test_pred==0)"
   ]
  },
  {
   "cell_type": "code",
   "execution_count": 34,
   "metadata": {},
   "outputs": [
    {
     "name": "stdout",
     "output_type": "stream",
     "text": [
      "Accuracy is for testing with new environment data of AC: 0.4737089331601779\n"
     ]
    }
   ],
   "source": [
    "x=17144/36191\n",
    "print('Accuracy is for testing with new environment data of AC:',x)"
   ]
  },
  {
   "cell_type": "code",
   "execution_count": 35,
   "metadata": {},
   "outputs": [],
   "source": [
    "model.save('manikanta_100ms_5class.h5')"
   ]
  },
  {
   "cell_type": "code",
   "execution_count": 36,
   "metadata": {},
   "outputs": [
    {
     "name": "stdout",
     "output_type": "stream",
     "text": [
      "Elapsed time: 0:12:53.86\n"
     ]
    }
   ],
   "source": [
    "elapsed_time = time.time() - start_time\n",
    "print(\"Elapsed time: {}\".format(hms_string(elapsed_time)))"
   ]
  },
  {
   "cell_type": "code",
   "execution_count": 28,
   "metadata": {},
   "outputs": [],
   "source": [
    "model.save('my_FNN.h5')"
   ]
  }
 ],
 "metadata": {
  "kernelspec": {
   "display_name": "Python 3",
   "language": "python",
   "name": "python3"
  },
  "language_info": {
   "codemirror_mode": {
    "name": "ipython",
    "version": 3
   },
   "file_extension": ".py",
   "mimetype": "text/x-python",
   "name": "python",
   "nbconvert_exporter": "python",
   "pygments_lexer": "ipython3",
   "version": "3.6.5"
  }
 },
 "nbformat": 4,
 "nbformat_minor": 2
}
