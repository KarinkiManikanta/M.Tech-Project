{
 "cells": [
  {
   "cell_type": "markdown",
   "metadata": {},
   "source": [
    "## SVM model for 4class audio with 100ms frame size"
   ]
  },
  {
   "cell_type": "markdown",
   "metadata": {},
   "source": [
    "## Important Libraries "
   ]
  },
  {
   "cell_type": "code",
   "execution_count": 1,
   "metadata": {},
   "outputs": [
    {
     "name": "stderr",
     "output_type": "stream",
     "text": [
      "C:\\ProgramData\\Anaconda3\\lib\\site-packages\\h5py\\__init__.py:36: FutureWarning: Conversion of the second argument of issubdtype from `float` to `np.floating` is deprecated. In future, it will be treated as `np.float64 == np.dtype(float).type`.\n",
      "  from ._conv import register_converters as _register_converters\n",
      "Using TensorFlow backend.\n"
     ]
    }
   ],
   "source": [
    "import io\n",
    "import time\n",
    "from sklearn import metrics\n",
    "from scipy.stats import zscore\n",
    "from sklearn.model_selection import train_test_split\n",
    "from sklearn.model_selection import KFold\n",
    "from keras.models import Sequential\n",
    "from keras.layers.core import Dense, Activation\n",
    "from keras.callbacks import EarlyStopping\n",
    "import tensorflow as tf\n",
    "from sklearn import svm, datasets\n",
    "import matplotlib.pyplot as plt\n",
    "%matplotlib inline\n",
    "from sklearn.svm import SVC\n",
    "from sklearn.metrics import accuracy_score\n",
    "from sklearn.metrics import classification_report, confusion_matrix  \n",
    "from sklearn.model_selection import cross_val_score\n",
    "from sklearn.model_selection import learning_curve\n",
    "import pickle\n",
    "from sklearn.metrics import roc_curve, auc\n",
    "from sklearn.metrics import log_loss\n",
    "\n",
    "from sklearn import preprocessing\n",
    "import matplotlib.pyplot as plt\n",
    "import numpy as np\n",
    "import pandas as pd\n",
    "import shutil\n",
    "import os\n",
    "import requests\n",
    "import base64"
   ]
  },
  {
   "cell_type": "markdown",
   "metadata": {},
   "source": [
    "### Useful Functions"
   ]
  },
  {
   "cell_type": "code",
   "execution_count": 2,
   "metadata": {},
   "outputs": [],
   "source": [
    "\n",
    "# Encode text values to dummy variables(i.e. [1,0,0],[0,1,0],[0,0,1] for red,green,blue)\n",
    "def encode_text_dummy(df, name):\n",
    "    dummies = pd.get_dummies(df[name])\n",
    "    for x in dummies.columns:\n",
    "        dummy_name = \"{}-{}\".format(name, x)\n",
    "        df[dummy_name] = dummies[x]\n",
    "    df.drop(name, axis=1, inplace=True)\n",
    "\n",
    "\n",
    "# Encode text values to a single dummy variable.  The new columns (which do not replace the old) will have a 1\n",
    "# at every location where the original column (name) matches each of the target_values.  One column is added for\n",
    "# each target value.\n",
    "def encode_text_single_dummy(df, name, target_values):\n",
    "    for tv in target_values:\n",
    "        l = list(df[name].astype(str))\n",
    "        l = [1 if str(x) == str(tv) else 0 for x in l]\n",
    "        name2 = \"{}-{}\".format(name, tv)\n",
    "        df[name2] = l\n",
    "\n",
    "\n",
    "# Encode text values to indexes(i.e. [1],[2],[3] for red,green,blue).\n",
    "def encode_text_index(df, name):\n",
    "    le = preprocessing.LabelEncoder()\n",
    "    df[name] = le.fit_transform(df[name])\n",
    "    return le.classes_\n",
    "\n",
    "\n",
    "# Encode a numeric column as zscores\n",
    "def encode_numeric_zscore(df, name, mean=None, sd=None):\n",
    "    if mean is None:\n",
    "        mean = df[name].mean()\n",
    "\n",
    "    if sd is None:\n",
    "        sd = df[name].std()\n",
    "\n",
    "    df[name] = (df[name] - mean) / sd\n",
    "\n",
    "\n",
    "# Convert all missing values in the specified column to the median\n",
    "def missing_median(df, name):\n",
    "    med = df[name].median()\n",
    "    df[name] = df[name].fillna(med)\n",
    "\n",
    "\n",
    "# Convert all missing values in the specified column to the default\n",
    "def missing_default(df, name, default_value):\n",
    "    df[name] = df[name].fillna(default_value)\n",
    "\n",
    "\n",
    "# Convert a Pandas dataframe to the x,y inputs that TensorFlow needs\n",
    "def to_xy(df, target):\n",
    "    result = []\n",
    "    for x in df.columns:\n",
    "        if x != target:\n",
    "            result.append(x)\n",
    "    # find out the type of the target column.  Is it really this hard? :(\n",
    "    target_type = df[target].dtypes\n",
    "    target_type = target_type[0] if hasattr(target_type, '__iter__') else target_type\n",
    "    # Encode to int for classification, float otherwise. TensorFlow likes 32 bits.\n",
    "    if target_type in (np.int64, np.int32):\n",
    "        # Classification\n",
    "        dummies = pd.get_dummies(df[target])\n",
    "        return df.as_matrix(result).astype(np.float32), dummies.as_matrix().astype(np.float32)\n",
    "    else:\n",
    "        # Regression\n",
    "        return df.as_matrix(result).astype(np.float32), df.as_matrix([target]).astype(np.float32)\n",
    "\n",
    "# Nicely formatted time string\n",
    "def hms_string(sec_elapsed):\n",
    "    h = int(sec_elapsed / (60 * 60))\n",
    "    m = int((sec_elapsed % (60 * 60)) / 60)\n",
    "    s = sec_elapsed % 60\n",
    "    return \"{}:{:>02}:{:>05.2f}\".format(h, m, s)\n",
    "\n",
    "\n",
    "# Regression chart.\n",
    "def chart_regression(pred,y,sort=True):\n",
    "    t = pd.DataFrame({'pred' : pred, 'y' : y.flatten()})\n",
    "    if sort:\n",
    "        t.sort_values(by=['y'],inplace=True)\n",
    "    a = plt.plot(t['y'].tolist(),label='expected')\n",
    "    b = plt.plot(t['pred'].tolist(),label='prediction')\n",
    "    plt.ylabel('output')\n",
    "    plt.legend()\n",
    "    plt.show()\n",
    "\n",
    "# Remove all rows where the specified column is +/- sd standard deviations\n",
    "def remove_outliers(df, name, sd):\n",
    "    drop_rows = df.index[(np.abs(df[name] - df[name].mean()) >= (sd * df[name].std()))]\n",
    "    df.drop(drop_rows, axis=0, inplace=True)\n",
    "\n",
    "\n",
    "# Encode a column to a range between normalized_low and normalized_high.\n",
    "def encode_numeric_range(df, name, normalized_low=-1, normalized_high=1,\n",
    "                         data_low=None, data_high=None):\n",
    "    if data_low is None:\n",
    "        data_low = min(df[name])\n",
    "        data_high = max(df[name])\n",
    "\n",
    "    df[name] = ((df[name] - data_low) / (data_high - data_low)) \\\n",
    "               * (normalized_high - normalized_low) + normalized_low\n",
    "\n",
    "    # Plot a confusion matrix.\n",
    "# cm is the confusion matrix, names are the names of the classes.\n",
    "def plot_confusion_matrix(cm, names, title='Confusion matrix', cmap=plt.cm.Blues):\n",
    "    plt.imshow(cm, interpolation='nearest', cmap=cmap)\n",
    "    plt.title(title)\n",
    "    plt.colorbar()\n",
    "    tick_marks = np.arange(len(names))\n",
    "    plt.xticks(tick_marks, names, rotation=45)\n",
    "    plt.yticks(tick_marks, names)\n",
    "    plt.tight_layout()\n",
    "    plt.ylabel('True label')\n",
    "    plt.xlabel('Predicted label')"
   ]
  },
  {
   "cell_type": "markdown",
   "metadata": {},
   "source": [
    "#### Read MFCCs feature CSV file of audio of 500ms block"
   ]
  },
  {
   "cell_type": "code",
   "execution_count": 3,
   "metadata": {},
   "outputs": [
    {
     "data": {
      "text/html": [
       "<div>\n",
       "<style scoped>\n",
       "    .dataframe tbody tr th:only-of-type {\n",
       "        vertical-align: middle;\n",
       "    }\n",
       "\n",
       "    .dataframe tbody tr th {\n",
       "        vertical-align: top;\n",
       "    }\n",
       "\n",
       "    .dataframe thead th {\n",
       "        text-align: right;\n",
       "    }\n",
       "</style>\n",
       "<table border=\"1\" class=\"dataframe\">\n",
       "  <thead>\n",
       "    <tr style=\"text-align: right;\">\n",
       "      <th></th>\n",
       "      <th>MFCC0</th>\n",
       "      <th>MFCC1</th>\n",
       "      <th>MFCC2</th>\n",
       "      <th>MFCC3</th>\n",
       "      <th>MFCC4</th>\n",
       "      <th>MFCC5</th>\n",
       "      <th>MFCC6</th>\n",
       "      <th>MFCC7</th>\n",
       "      <th>MFCC8</th>\n",
       "      <th>MFCC9</th>\n",
       "      <th>MFCC10</th>\n",
       "      <th>MFCC11</th>\n",
       "      <th>MFCC12</th>\n",
       "      <th>Label</th>\n",
       "    </tr>\n",
       "  </thead>\n",
       "  <tbody>\n",
       "    <tr>\n",
       "      <th>0</th>\n",
       "      <td>-0.361833</td>\n",
       "      <td>30.413287</td>\n",
       "      <td>14.026782</td>\n",
       "      <td>3.524097</td>\n",
       "      <td>-1.126189</td>\n",
       "      <td>1.995557</td>\n",
       "      <td>-2.024195</td>\n",
       "      <td>6.487043</td>\n",
       "      <td>-0.866477</td>\n",
       "      <td>7.117056</td>\n",
       "      <td>0.499036</td>\n",
       "      <td>4.950554</td>\n",
       "      <td>1.120927</td>\n",
       "      <td>AC &amp; FAN</td>\n",
       "    </tr>\n",
       "    <tr>\n",
       "      <th>1</th>\n",
       "      <td>-0.314923</td>\n",
       "      <td>30.727571</td>\n",
       "      <td>14.676690</td>\n",
       "      <td>3.474063</td>\n",
       "      <td>-1.228633</td>\n",
       "      <td>2.278191</td>\n",
       "      <td>-1.999299</td>\n",
       "      <td>6.654512</td>\n",
       "      <td>-0.886767</td>\n",
       "      <td>7.060178</td>\n",
       "      <td>0.484853</td>\n",
       "      <td>4.293945</td>\n",
       "      <td>0.555153</td>\n",
       "      <td>AC &amp; FAN</td>\n",
       "    </tr>\n",
       "    <tr>\n",
       "      <th>2</th>\n",
       "      <td>-0.322472</td>\n",
       "      <td>30.330372</td>\n",
       "      <td>14.470898</td>\n",
       "      <td>3.451456</td>\n",
       "      <td>-1.049604</td>\n",
       "      <td>2.263557</td>\n",
       "      <td>-2.018792</td>\n",
       "      <td>6.586320</td>\n",
       "      <td>0.119022</td>\n",
       "      <td>7.385747</td>\n",
       "      <td>0.928325</td>\n",
       "      <td>4.774701</td>\n",
       "      <td>0.638041</td>\n",
       "      <td>AC &amp; FAN</td>\n",
       "    </tr>\n",
       "    <tr>\n",
       "      <th>3</th>\n",
       "      <td>-0.242023</td>\n",
       "      <td>30.538032</td>\n",
       "      <td>15.071904</td>\n",
       "      <td>3.793800</td>\n",
       "      <td>-0.413262</td>\n",
       "      <td>2.643561</td>\n",
       "      <td>-2.797349</td>\n",
       "      <td>5.827424</td>\n",
       "      <td>-0.243589</td>\n",
       "      <td>7.820150</td>\n",
       "      <td>2.213806</td>\n",
       "      <td>6.117095</td>\n",
       "      <td>0.799352</td>\n",
       "      <td>AC &amp; FAN</td>\n",
       "    </tr>\n",
       "    <tr>\n",
       "      <th>4</th>\n",
       "      <td>-0.247731</td>\n",
       "      <td>30.773976</td>\n",
       "      <td>15.205313</td>\n",
       "      <td>3.309456</td>\n",
       "      <td>-1.786837</td>\n",
       "      <td>2.169586</td>\n",
       "      <td>-2.345875</td>\n",
       "      <td>5.909542</td>\n",
       "      <td>-0.580713</td>\n",
       "      <td>7.892582</td>\n",
       "      <td>1.763518</td>\n",
       "      <td>6.078295</td>\n",
       "      <td>1.073195</td>\n",
       "      <td>AC &amp; FAN</td>\n",
       "    </tr>\n",
       "  </tbody>\n",
       "</table>\n",
       "</div>"
      ],
      "text/plain": [
       "      MFCC0      MFCC1      MFCC2     MFCC3     MFCC4     MFCC5     MFCC6  \\\n",
       "0 -0.361833  30.413287  14.026782  3.524097 -1.126189  1.995557 -2.024195   \n",
       "1 -0.314923  30.727571  14.676690  3.474063 -1.228633  2.278191 -1.999299   \n",
       "2 -0.322472  30.330372  14.470898  3.451456 -1.049604  2.263557 -2.018792   \n",
       "3 -0.242023  30.538032  15.071904  3.793800 -0.413262  2.643561 -2.797349   \n",
       "4 -0.247731  30.773976  15.205313  3.309456 -1.786837  2.169586 -2.345875   \n",
       "\n",
       "      MFCC7     MFCC8     MFCC9    MFCC10    MFCC11    MFCC12     Label  \n",
       "0  6.487043 -0.866477  7.117056  0.499036  4.950554  1.120927  AC & FAN  \n",
       "1  6.654512 -0.886767  7.060178  0.484853  4.293945  0.555153  AC & FAN  \n",
       "2  6.586320  0.119022  7.385747  0.928325  4.774701  0.638041  AC & FAN  \n",
       "3  5.827424 -0.243589  7.820150  2.213806  6.117095  0.799352  AC & FAN  \n",
       "4  5.909542 -0.580713  7.892582  1.763518  6.078295  1.073195  AC & FAN  "
      ]
     },
     "execution_count": 3,
     "metadata": {},
     "output_type": "execute_result"
    }
   ],
   "source": [
    "path=\"/Users/pc/Desktop/SVM+MFCC_newshifting/500ms\"\n",
    "df=pd.read_csv(\"/Users/pc/Desktop/SVM+MFCC_newshifting/500ms/training/final_500ms.csv\",na_values=['NA','?'])\n",
    "df.columns=['MFCC0', 'MFCC1','MFCC2','MFCC3','MFCC4','MFCC5','MFCC6','MFCC7','MFCC8', \n",
    "            'MFCC9', 'MFCC10' ,'MFCC11', 'MFCC12', 'Label']\n",
    "filename_write = os.path.join(path,\"/Users/pc/Desktop/SVM+MFCC_newshifting/500ms/training/out-of-sample_mySVM_500ms.csv\")\n",
    "df.head()\n"
   ]
  },
  {
   "cell_type": "markdown",
   "metadata": {},
   "source": [
    "#### Shuffle"
   ]
  },
  {
   "cell_type": "code",
   "execution_count": 4,
   "metadata": {},
   "outputs": [
    {
     "data": {
      "text/plain": [
       "Index(['MFCC0', 'MFCC1', 'MFCC2', 'MFCC3', 'MFCC4', 'MFCC5', 'MFCC6', 'MFCC7',\n",
       "       'MFCC8', 'MFCC9', 'MFCC10', 'MFCC11', 'MFCC12', 'Label'],\n",
       "      dtype='object')"
      ]
     },
     "execution_count": 4,
     "metadata": {},
     "output_type": "execute_result"
    }
   ],
   "source": [
    "np.random.seed(42)\n",
    "df = df.reindex(np.random.permutation(df.index))\n",
    "df.reset_index(inplace=True, drop=True)\n",
    "df.columns"
   ]
  },
  {
   "cell_type": "code",
   "execution_count": 5,
   "metadata": {},
   "outputs": [
    {
     "data": {
      "text/html": [
       "<div>\n",
       "<style scoped>\n",
       "    .dataframe tbody tr th:only-of-type {\n",
       "        vertical-align: middle;\n",
       "    }\n",
       "\n",
       "    .dataframe tbody tr th {\n",
       "        vertical-align: top;\n",
       "    }\n",
       "\n",
       "    .dataframe thead th {\n",
       "        text-align: right;\n",
       "    }\n",
       "</style>\n",
       "<table border=\"1\" class=\"dataframe\">\n",
       "  <thead>\n",
       "    <tr style=\"text-align: right;\">\n",
       "      <th></th>\n",
       "      <th>MFCC0</th>\n",
       "      <th>MFCC1</th>\n",
       "      <th>MFCC2</th>\n",
       "      <th>MFCC3</th>\n",
       "      <th>MFCC4</th>\n",
       "      <th>MFCC5</th>\n",
       "      <th>MFCC6</th>\n",
       "      <th>MFCC7</th>\n",
       "      <th>MFCC8</th>\n",
       "      <th>MFCC9</th>\n",
       "      <th>MFCC10</th>\n",
       "      <th>MFCC11</th>\n",
       "      <th>MFCC12</th>\n",
       "      <th>Label</th>\n",
       "    </tr>\n",
       "  </thead>\n",
       "  <tbody>\n",
       "    <tr>\n",
       "      <th>0</th>\n",
       "      <td>-2.394311</td>\n",
       "      <td>29.810488</td>\n",
       "      <td>13.422348</td>\n",
       "      <td>5.041158</td>\n",
       "      <td>-0.675740</td>\n",
       "      <td>3.085593</td>\n",
       "      <td>-0.737344</td>\n",
       "      <td>5.990743</td>\n",
       "      <td>-2.730853</td>\n",
       "      <td>3.797039</td>\n",
       "      <td>-1.984848</td>\n",
       "      <td>-1.319223</td>\n",
       "      <td>-2.938877</td>\n",
       "      <td>AC &amp; FAN</td>\n",
       "    </tr>\n",
       "    <tr>\n",
       "      <th>1</th>\n",
       "      <td>-1.005663</td>\n",
       "      <td>-24.179173</td>\n",
       "      <td>-39.348118</td>\n",
       "      <td>-19.687649</td>\n",
       "      <td>-33.000625</td>\n",
       "      <td>-22.143411</td>\n",
       "      <td>5.512445</td>\n",
       "      <td>-3.212025</td>\n",
       "      <td>-0.127826</td>\n",
       "      <td>-27.297233</td>\n",
       "      <td>-0.793497</td>\n",
       "      <td>-2.717658</td>\n",
       "      <td>16.901237</td>\n",
       "      <td>MUSIC</td>\n",
       "    </tr>\n",
       "    <tr>\n",
       "      <th>2</th>\n",
       "      <td>0.389163</td>\n",
       "      <td>-10.897454</td>\n",
       "      <td>-35.689718</td>\n",
       "      <td>-30.623394</td>\n",
       "      <td>-9.579081</td>\n",
       "      <td>-18.441173</td>\n",
       "      <td>3.574754</td>\n",
       "      <td>-9.036672</td>\n",
       "      <td>-8.098490</td>\n",
       "      <td>-18.698142</td>\n",
       "      <td>11.395906</td>\n",
       "      <td>-4.487409</td>\n",
       "      <td>13.965894</td>\n",
       "      <td>MUSIC</td>\n",
       "    </tr>\n",
       "    <tr>\n",
       "      <th>3</th>\n",
       "      <td>-0.421217</td>\n",
       "      <td>-5.714487</td>\n",
       "      <td>-5.557554</td>\n",
       "      <td>13.435520</td>\n",
       "      <td>-18.589183</td>\n",
       "      <td>-17.645619</td>\n",
       "      <td>-27.622267</td>\n",
       "      <td>2.044846</td>\n",
       "      <td>-24.317833</td>\n",
       "      <td>2.905796</td>\n",
       "      <td>8.945288</td>\n",
       "      <td>2.933459</td>\n",
       "      <td>-12.077112</td>\n",
       "      <td>SPEECH</td>\n",
       "    </tr>\n",
       "    <tr>\n",
       "      <th>4</th>\n",
       "      <td>0.061676</td>\n",
       "      <td>43.293709</td>\n",
       "      <td>10.810026</td>\n",
       "      <td>7.372252</td>\n",
       "      <td>3.384792</td>\n",
       "      <td>-4.271613</td>\n",
       "      <td>-1.987545</td>\n",
       "      <td>2.069687</td>\n",
       "      <td>-0.594472</td>\n",
       "      <td>-2.012608</td>\n",
       "      <td>-3.609498</td>\n",
       "      <td>-2.693153</td>\n",
       "      <td>-1.781564</td>\n",
       "      <td>AC &amp; FAN</td>\n",
       "    </tr>\n",
       "  </tbody>\n",
       "</table>\n",
       "</div>"
      ],
      "text/plain": [
       "      MFCC0      MFCC1      MFCC2      MFCC3      MFCC4      MFCC5      MFCC6  \\\n",
       "0 -2.394311  29.810488  13.422348   5.041158  -0.675740   3.085593  -0.737344   \n",
       "1 -1.005663 -24.179173 -39.348118 -19.687649 -33.000625 -22.143411   5.512445   \n",
       "2  0.389163 -10.897454 -35.689718 -30.623394  -9.579081 -18.441173   3.574754   \n",
       "3 -0.421217  -5.714487  -5.557554  13.435520 -18.589183 -17.645619 -27.622267   \n",
       "4  0.061676  43.293709  10.810026   7.372252   3.384792  -4.271613  -1.987545   \n",
       "\n",
       "      MFCC7      MFCC8      MFCC9     MFCC10    MFCC11     MFCC12     Label  \n",
       "0  5.990743  -2.730853   3.797039  -1.984848 -1.319223  -2.938877  AC & FAN  \n",
       "1 -3.212025  -0.127826 -27.297233  -0.793497 -2.717658  16.901237     MUSIC  \n",
       "2 -9.036672  -8.098490 -18.698142  11.395906 -4.487409  13.965894     MUSIC  \n",
       "3  2.044846 -24.317833   2.905796   8.945288  2.933459 -12.077112    SPEECH  \n",
       "4  2.069687  -0.594472  -2.012608  -3.609498 -2.693153  -1.781564  AC & FAN  "
      ]
     },
     "execution_count": 5,
     "metadata": {},
     "output_type": "execute_result"
    }
   ],
   "source": [
    "df.head()"
   ]
  },
  {
   "cell_type": "markdown",
   "metadata": {},
   "source": [
    "#### Sperating Independent variable and Target Variable"
   ]
  },
  {
   "cell_type": "code",
   "execution_count": 6,
   "metadata": {},
   "outputs": [],
   "source": [
    "X = df[['MFCC0', 'MFCC1', 'MFCC2', 'MFCC3', 'MFCC4', 'MFCC5', 'MFCC6', 'MFCC7',\n",
    "       'MFCC8', 'MFCC9', 'MFCC10', 'MFCC11', 'MFCC12']]\n",
    "y = df['Label']"
   ]
  },
  {
   "cell_type": "markdown",
   "metadata": {},
   "source": [
    "#### Encode to a 2D matrix for training"
   ]
  },
  {
   "cell_type": "code",
   "execution_count": 7,
   "metadata": {},
   "outputs": [
    {
     "name": "stdout",
     "output_type": "stream",
     "text": [
      "Labelling is:['AC & FAN' 'CRYING' 'MUSIC' 'SPEECH']\n"
     ]
    }
   ],
   "source": [
    "# Encode to a 2D matrix for training\n",
    "Label=encode_text_index(df,'Label')\n",
    "print(\"Labelling is:{}\".format(Label))"
   ]
  },
  {
   "cell_type": "markdown",
   "metadata": {},
   "source": [
    "#### Keeping Holdout Data"
   ]
  },
  {
   "cell_type": "code",
   "execution_count": 8,
   "metadata": {},
   "outputs": [],
   "source": [
    "# 25 % holdout data\n",
    "x_main, x_holdout, y_main, y_holdout = train_test_split(X, y, test_size=0.20,random_state = 0)"
   ]
  },
  {
   "cell_type": "code",
   "execution_count": 9,
   "metadata": {},
   "outputs": [
    {
     "name": "stdout",
     "output_type": "stream",
     "text": [
      "Shape of X : (575855, 13)\n",
      "Shape of y : (575855,)\n",
      "Shape of x_main : (460684, 13)\n",
      "Shape of x_holdout : (115171, 13)\n",
      "Shape of y_main : (460684,)\n",
      "Shape of y_holdout : (115171,)\n"
     ]
    }
   ],
   "source": [
    "print(\"Shape of X : {}\".format(X.shape))\n",
    "print(\"Shape of y : {}\".format(y.shape))\n",
    "print(\"Shape of x_main : {}\".format(x_main.shape))\n",
    "print(\"Shape of x_holdout : {}\".format(x_holdout.shape))\n",
    "print(\"Shape of y_main : {}\".format(y_main.shape))\n",
    "print(\"Shape of y_holdout : {}\".format(y_holdout.shape))"
   ]
  },
  {
   "cell_type": "markdown",
   "metadata": {},
   "source": [
    "#### dividing X, y into train and test data"
   ]
  },
  {
   "cell_type": "code",
   "execution_count": 10,
   "metadata": {},
   "outputs": [],
   "source": [
    "# dividing X, y into train and test data\n",
    "x_train, x_test, y_train, y_test = train_test_split(x_main, y_main, test_size=0.20,random_state = 0)"
   ]
  },
  {
   "cell_type": "code",
   "execution_count": 11,
   "metadata": {},
   "outputs": [
    {
     "name": "stdout",
     "output_type": "stream",
     "text": [
      "Shape of x_train : (368547, 13)\n",
      "Shape of x_test : (92137, 13)\n",
      "Shape of y_train : (368547,)\n",
      "Shape of y_test : (92137,)\n"
     ]
    }
   ],
   "source": [
    "print(\"Shape of x_train : {}\".format(x_train.shape))\n",
    "print(\"Shape of x_test : {}\".format(x_test.shape))\n",
    "print(\"Shape of y_train : {}\".format(y_train.shape))\n",
    "print(\"Shape of y_test : {}\".format(y_test.shape))"
   ]
  },
  {
   "cell_type": "markdown",
   "metadata": {},
   "source": [
    "#### preprocessing of training data, testing data , holdout data"
   ]
  },
  {
   "cell_type": "code",
   "execution_count": 12,
   "metadata": {},
   "outputs": [],
   "source": [
    "# preprocessing of training data\n",
    "scaler = preprocessing.StandardScaler().fit(x_train)\n",
    "#scaler"
   ]
  },
  {
   "cell_type": "code",
   "execution_count": 13,
   "metadata": {},
   "outputs": [],
   "source": [
    "X_train = scaler.transform(x_train)\n",
    "X_holdout = scaler.transform(x_holdout) \n",
    "# preprocessing of testing data\n",
    "X_test= scaler.transform(x_test) "
   ]
  },
  {
   "cell_type": "code",
   "execution_count": 14,
   "metadata": {},
   "outputs": [
    {
     "data": {
      "text/plain": [
       "['my_scaler_500ms.save']"
      ]
     },
     "execution_count": 14,
     "metadata": {},
     "output_type": "execute_result"
    }
   ],
   "source": [
    "from sklearn.externals import joblib\n",
    "scaler_file = \"my_scaler_500ms.save\"\n",
    "joblib.dump(scaler, scaler_file) "
   ]
  },
  {
   "cell_type": "markdown",
   "metadata": {},
   "source": [
    "## Model Creation"
   ]
  },
  {
   "cell_type": "markdown",
   "metadata": {},
   "source": [
    "## RBF kernel"
   ]
  },
  {
   "cell_type": "markdown",
   "metadata": {},
   "source": [
    "### Training"
   ]
  },
  {
   "cell_type": "code",
   "execution_count": 15,
   "metadata": {},
   "outputs": [
    {
     "name": "stdout",
     "output_type": "stream",
     "text": [
      "[LibSVM]4544021.376848221ms\n"
     ]
    }
   ],
   "source": [
    "## RBF kernel training\n",
    "#### Training\n",
    "tic=time.time()\n",
    "svclassifier_rbf = SVC(kernel='rbf',C=1, max_iter=-1,verbose=True,probability=True) \n",
    "svclassifier_rbf.fit(X_train, y_train)\n",
    "#scores = cross_val_score( svclassifier_rbf, X_train, y_train, cv=5,scoring='f1_macro')\n",
    "toc=time.time()\n",
    "print(str(1000*(toc-tic))+\"ms\")"
   ]
  },
  {
   "cell_type": "markdown",
   "metadata": {},
   "source": [
    "### Validation"
   ]
  },
  {
   "cell_type": "code",
   "execution_count": 16,
   "metadata": {},
   "outputs": [
    {
     "name": "stdout",
     "output_type": "stream",
     "text": [
      "88167.96684265137ms\n"
     ]
    }
   ],
   "source": [
    "## Testing\n",
    "\n",
    "tic=time.time()\n",
    "y_rbf = svclassifier_rbf.predict(X_test)\n",
    "toc=time.time()\n",
    "print(str(1000*(toc-tic))+\"ms\")"
   ]
  },
  {
   "cell_type": "code",
   "execution_count": 17,
   "metadata": {},
   "outputs": [
    {
     "name": "stdout",
     "output_type": "stream",
     "text": [
      "0.9796607226195774\n"
     ]
    }
   ],
   "source": [
    "# model accuracy for X_test  \n",
    "accuracy = accuracy_score(y_test, y_rbf)\n",
    "print (accuracy)"
   ]
  },
  {
   "cell_type": "code",
   "execution_count": 18,
   "metadata": {},
   "outputs": [
    {
     "name": "stdout",
     "output_type": "stream",
     "text": [
      "[[22991     0     1     0]\n",
      " [    9 22511   196   355]\n",
      " [   16   161 22219   588]\n",
      " [    5   195   348 22542]]\n",
      "             precision    recall  f1-score   support\n",
      "\n",
      "   AC & FAN       1.00      1.00      1.00     22992\n",
      "     CRYING       0.98      0.98      0.98     23071\n",
      "      MUSIC       0.98      0.97      0.97     22984\n",
      "     SPEECH       0.96      0.98      0.97     23090\n",
      "\n",
      "avg / total       0.98      0.98      0.98     92137\n",
      "\n"
     ]
    }
   ],
   "source": [
    "## Evaluation of Algorithm\n",
    "print(confusion_matrix(y_test, y_rbf))  \n",
    "print(classification_report(y_test, y_rbf))"
   ]
  },
  {
   "cell_type": "markdown",
   "metadata": {},
   "source": [
    "### Saving RBF kernel Trained Model"
   ]
  },
  {
   "cell_type": "code",
   "execution_count": 19,
   "metadata": {},
   "outputs": [],
   "source": [
    "# save the model to disk\n",
    "filename = 'SVM_500ms_Rbf_model.save'\n",
    "joblib.dump(svclassifier_rbf, open(filename, 'wb'))"
   ]
  },
  {
   "cell_type": "code",
   "execution_count": 20,
   "metadata": {},
   "outputs": [],
   "source": [
    " # load the model from disk\n",
    "loaded_model_rbf = joblib.load(open(filename, 'rb'))"
   ]
  },
  {
   "cell_type": "markdown",
   "metadata": {},
   "source": [
    "### Holdout Predction"
   ]
  },
  {
   "cell_type": "code",
   "execution_count": 21,
   "metadata": {},
   "outputs": [
    {
     "name": "stdout",
     "output_type": "stream",
     "text": [
      "110293.42222213745ms\n"
     ]
    }
   ],
   "source": [
    "tic=time.time()\n",
    "holdout_pred_rbf = loaded_model_rbf.predict(X_holdout)\n",
    "toc=time.time()\n",
    "print(str(1000*(toc-tic))+\"ms\")"
   ]
  },
  {
   "cell_type": "code",
   "execution_count": 22,
   "metadata": {},
   "outputs": [
    {
     "name": "stdout",
     "output_type": "stream",
     "text": [
      "Holdout accuracy with rbf kernel is: 0.9788401594151306\n"
     ]
    }
   ],
   "source": [
    "rbf_score = accuracy_score(y_holdout, holdout_pred_rbf)\n",
    "print(\"Holdout accuracy with rbf kernel is: {}\".format(rbf_score))"
   ]
  },
  {
   "cell_type": "code",
   "execution_count": 23,
   "metadata": {},
   "outputs": [],
   "source": [
    "## Turn off the scintific notation \n",
    "np.set_printoptions(suppress=True)"
   ]
  },
  {
   "cell_type": "code",
   "execution_count": 24,
   "metadata": {},
   "outputs": [
    {
     "name": "stdout",
     "output_type": "stream",
     "text": [
      "Confusion matrix, without normalization\n",
      "[[28760     0     0     0]\n",
      " [    8 28024   272   409]\n",
      " [   20   213 27757   761]\n",
      " [   13   254   487 28193]]\n"
     ]
    },
    {
     "data": {
      "image/png": "[encoded data removed]",
      "text/plain": [
       "<Figure size 432x288 with 2 Axes>"
      ]
     },
     "metadata": {},
     "output_type": "display_data"
    }
   ],
   "source": [
    "cm = confusion_matrix(y_holdout, holdout_pred_rbf)\n",
    "np.set_printoptions(precision=2)\n",
    "print('Confusion matrix, without normalization')\n",
    "print(cm)\n",
    "plt.figure()\n",
    "plot_confusion_matrix(cm, Label)\n",
    "plt.savefig('cm_holdout_mySVM_500ms_mani_rbf.png',dpi=150)"
   ]
  },
  {
   "cell_type": "code",
   "execution_count": 25,
   "metadata": {},
   "outputs": [
    {
     "name": "stdout",
     "output_type": "stream",
     "text": [
      "Confusion matrix, without normalization\n"
     ]
    },
    {
     "data": {
      "image/png": "[encoded data removed]",
      "text/plain": [
       "<Figure size 360x216 with 2 Axes>"
      ]
     },
     "metadata": {},
     "output_type": "display_data"
    }
   ],
   "source": [
    "import matplotlib.pyplot as plt\n",
    "from sklearn.metrics import confusion_matrix\n",
    "import itertools\n",
    "def plot_confusion_matrix(cm, classes,\n",
    "                          normalize=False,\n",
    "                          title='Confusion matrix',\n",
    "                          cmap=plt.cm.Blues):\n",
    "    \"\"\"\n",
    "    This function prints and plots the confusion matrix.\n",
    "    Normalization can be applied by setting `normalize=True`.\n",
    "    \"\"\"\n",
    "    if normalize:\n",
    "        cm = cm.astype('float') / cm.sum(axis=1)[:, np.newaxis]\n",
    "        print(\"Normalized confusion matrix\")\n",
    "    else:\n",
    "        print('Confusion matrix, without normalization')\n",
    "\n",
    "    plt.imshow(cm, interpolation='nearest', cmap=cmap)\n",
    "    plt.title(title)\n",
    "    plt.colorbar()\n",
    "    tick_marks = np.arange(len(classes))\n",
    "    plt.xticks(tick_marks, classes, rotation=45)\n",
    "    plt.yticks(tick_marks, classes)\n",
    "\n",
    "    fmt = '.2f' if normalize else 'd'\n",
    "    thresh = cm.max() / 2.\n",
    "    for i, j in itertools.product(range(cm.shape[0]), range(cm.shape[1])):\n",
    "        plt.text(j, i, format(cm[i, j], fmt),\n",
    "                 horizontalalignment=\"center\",\n",
    "                 color=\"white\" if cm[i, j] > thresh else \"black\")\n",
    "\n",
    "    plt.tight_layout()\n",
    "    plt.ylabel('True label')\n",
    "    plt.xlabel('Predicted label')\n",
    "\n",
    "# Compute confusion matrix\n",
    "cnf_matrix = confusion_matrix(y_holdout, holdout_pred_rbf)\n",
    "np.set_printoptions(precision=2)\n",
    "\n",
    "\n",
    "# Plot non-normalized confusion matrix\n",
    "plt.figure(figsize=(5,3))\n",
    "plot_confusion_matrix(cnf_matrix, classes=['AC & FAN', 'CRYING','MUSIC', 'SPEECH'],\n",
    "                      title='Confusion matrix_500ms')\n",
    "\n",
    "plt.savefig('mani1_svm_500ms.png')"
   ]
  },
  {
   "cell_type": "code",
   "execution_count": 26,
   "metadata": {},
   "outputs": [
    {
     "name": "stdout",
     "output_type": "stream",
     "text": [
      "             precision    recall  f1-score   support\n",
      "\n",
      "   AC & FAN       1.00      1.00      1.00     28760\n",
      "     CRYING       0.98      0.98      0.98     28713\n",
      "      MUSIC       0.97      0.97      0.97     28751\n",
      "     SPEECH       0.96      0.97      0.97     28947\n",
      "\n",
      "avg / total       0.98      0.98      0.98    115171\n",
      "\n"
     ]
    }
   ],
   "source": [
    "print(classification_report(y_holdout, holdout_pred_rbf))"
   ]
  },
  {
   "cell_type": "code",
   "execution_count": 27,
   "metadata": {},
   "outputs": [
    {
     "name": "stdout",
     "output_type": "stream",
     "text": [
      "Log loss score of Holdout data for RBF kernel: 0.0635966241232474\n"
     ]
    }
   ],
   "source": [
    "model_prob_rbf = loaded_model_rbf.predict_proba(X_holdout) ##need prob for getting logloss\n",
    "rbf_log_loss = log_loss(y_holdout, model_prob_rbf)\n",
    "print(\"Log loss score of Holdout data for RBF kernel: {}\".format(rbf_log_loss))"
   ]
  },
  {
   "cell_type": "markdown",
   "metadata": {},
   "source": [
    "## Loading Saved Model"
   ]
  },
  {
   "cell_type": "code",
   "execution_count": 2,
   "metadata": {},
   "outputs": [],
   "source": [
    "from sklearn.externals import joblib\n",
    "import pandas as pd\n",
    "import numpy as np\n",
    "import time"
   ]
  },
  {
   "cell_type": "code",
   "execution_count": 3,
   "metadata": {},
   "outputs": [],
   "source": [
    "filename = 'SVM_500ms_Rbf_model.save' # call first saved model file"
   ]
  },
  {
   "cell_type": "code",
   "execution_count": 4,
   "metadata": {},
   "outputs": [],
   "source": [
    " # load the model from disk\n",
    "loaded_model_rbf1 = joblib.load(open(filename, 'rb'))"
   ]
  },
  {
   "cell_type": "markdown",
   "metadata": {},
   "source": [
    "### A"
   ]
  },
  {
   "cell_type": "code",
   "execution_count": 9,
   "metadata": {},
   "outputs": [
    {
     "data": {
      "text/html": [
       "<div>\n",
       "<style scoped>\n",
       "    .dataframe tbody tr th:only-of-type {\n",
       "        vertical-align: middle;\n",
       "    }\n",
       "\n",
       "    .dataframe tbody tr th {\n",
       "        vertical-align: top;\n",
       "    }\n",
       "\n",
       "    .dataframe thead th {\n",
       "        text-align: right;\n",
       "    }\n",
       "</style>\n",
       "<table border=\"1\" class=\"dataframe\">\n",
       "  <thead>\n",
       "    <tr style=\"text-align: right;\">\n",
       "      <th></th>\n",
       "      <th>MFCC0</th>\n",
       "      <th>MFCC1</th>\n",
       "      <th>MFCC2</th>\n",
       "      <th>MFCC3</th>\n",
       "      <th>MFCC4</th>\n",
       "      <th>MFCC5</th>\n",
       "      <th>MFCC6</th>\n",
       "      <th>MFCC7</th>\n",
       "      <th>MFCC8</th>\n",
       "      <th>MFCC9</th>\n",
       "      <th>MFCC10</th>\n",
       "      <th>MFCC11</th>\n",
       "      <th>MFCC12</th>\n",
       "    </tr>\n",
       "  </thead>\n",
       "  <tbody>\n",
       "    <tr>\n",
       "      <th>0</th>\n",
       "      <td>0.608042</td>\n",
       "      <td>-30.940753</td>\n",
       "      <td>-27.159607</td>\n",
       "      <td>5.345244</td>\n",
       "      <td>25.946790</td>\n",
       "      <td>-6.822781</td>\n",
       "      <td>-13.691598</td>\n",
       "      <td>7.267448</td>\n",
       "      <td>-6.761558</td>\n",
       "      <td>18.124799</td>\n",
       "      <td>-21.399074</td>\n",
       "      <td>-5.863374</td>\n",
       "      <td>26.848989</td>\n",
       "    </tr>\n",
       "    <tr>\n",
       "      <th>1</th>\n",
       "      <td>2.566048</td>\n",
       "      <td>-38.049089</td>\n",
       "      <td>-42.226694</td>\n",
       "      <td>-17.603180</td>\n",
       "      <td>-2.100800</td>\n",
       "      <td>-19.395015</td>\n",
       "      <td>-13.348083</td>\n",
       "      <td>13.026216</td>\n",
       "      <td>7.050743</td>\n",
       "      <td>20.365930</td>\n",
       "      <td>-24.065191</td>\n",
       "      <td>0.415657</td>\n",
       "      <td>20.892712</td>\n",
       "    </tr>\n",
       "    <tr>\n",
       "      <th>2</th>\n",
       "      <td>2.578959</td>\n",
       "      <td>-40.044976</td>\n",
       "      <td>-45.729119</td>\n",
       "      <td>-22.430032</td>\n",
       "      <td>-7.769700</td>\n",
       "      <td>-25.052723</td>\n",
       "      <td>-19.106227</td>\n",
       "      <td>7.284098</td>\n",
       "      <td>1.478592</td>\n",
       "      <td>14.785409</td>\n",
       "      <td>-29.064009</td>\n",
       "      <td>-4.092647</td>\n",
       "      <td>16.663434</td>\n",
       "    </tr>\n",
       "    <tr>\n",
       "      <th>3</th>\n",
       "      <td>2.979923</td>\n",
       "      <td>-34.028767</td>\n",
       "      <td>-41.768890</td>\n",
       "      <td>-26.959979</td>\n",
       "      <td>-15.497842</td>\n",
       "      <td>-11.995418</td>\n",
       "      <td>-1.491131</td>\n",
       "      <td>24.434800</td>\n",
       "      <td>1.733556</td>\n",
       "      <td>9.399367</td>\n",
       "      <td>-29.313156</td>\n",
       "      <td>-4.852593</td>\n",
       "      <td>25.135717</td>\n",
       "    </tr>\n",
       "    <tr>\n",
       "      <th>4</th>\n",
       "      <td>3.486683</td>\n",
       "      <td>-31.588030</td>\n",
       "      <td>-38.511233</td>\n",
       "      <td>-25.265812</td>\n",
       "      <td>-14.348102</td>\n",
       "      <td>0.705937</td>\n",
       "      <td>3.463126</td>\n",
       "      <td>26.816061</td>\n",
       "      <td>-10.173797</td>\n",
       "      <td>15.004500</td>\n",
       "      <td>-19.319196</td>\n",
       "      <td>1.847799</td>\n",
       "      <td>26.732329</td>\n",
       "    </tr>\n",
       "  </tbody>\n",
       "</table>\n",
       "</div>"
      ],
      "text/plain": [
       "      MFCC0      MFCC1      MFCC2      MFCC3      MFCC4      MFCC5      MFCC6  \\\n",
       "0  0.608042 -30.940753 -27.159607   5.345244  25.946790  -6.822781 -13.691598   \n",
       "1  2.566048 -38.049089 -42.226694 -17.603180  -2.100800 -19.395015 -13.348083   \n",
       "2  2.578959 -40.044976 -45.729119 -22.430032  -7.769700 -25.052723 -19.106227   \n",
       "3  2.979923 -34.028767 -41.768890 -26.959979 -15.497842 -11.995418  -1.491131   \n",
       "4  3.486683 -31.588030 -38.511233 -25.265812 -14.348102   0.705937   3.463126   \n",
       "\n",
       "       MFCC7      MFCC8      MFCC9     MFCC10    MFCC11     MFCC12  \n",
       "0   7.267448  -6.761558  18.124799 -21.399074 -5.863374  26.848989  \n",
       "1  13.026216   7.050743  20.365930 -24.065191  0.415657  20.892712  \n",
       "2   7.284098   1.478592  14.785409 -29.064009 -4.092647  16.663434  \n",
       "3  24.434800   1.733556   9.399367 -29.313156 -4.852593  25.135717  \n",
       "4  26.816061 -10.173797  15.004500 -19.319196  1.847799  26.732329  "
      ]
     },
     "execution_count": 9,
     "metadata": {},
     "output_type": "execute_result"
    }
   ],
   "source": [
    "df1=pd.read_csv(\"/Users/pc/Desktop/SVM+MFCC_newshifting/500ms/testing/crytest_500ms.csv\",na_values=['NA','?'])\n",
    "df1.columns=['MFCC0', 'MFCC1','MFCC2','MFCC3','MFCC4','MFCC5','MFCC6','MFCC7','MFCC8', \n",
    "            'MFCC9', 'MFCC10' ,'MFCC11', 'MFCC12']\n",
    "#filename_write = os.path.join(path,\"7class-out-of-sample_mySVM_500ms.csv\")\n",
    "df1.head()"
   ]
  },
  {
   "cell_type": "code",
   "execution_count": 11,
   "metadata": {},
   "outputs": [],
   "source": [
    "scaler_file = \"my_scaler_500ms.save\"\n",
    "scaler = joblib.load(scaler_file) "
   ]
  },
  {
   "cell_type": "code",
   "execution_count": 12,
   "metadata": {},
   "outputs": [],
   "source": [
    "X = scaler.transform(df1) ## Performing preprocessing on tested data"
   ]
  },
  {
   "cell_type": "code",
   "execution_count": 13,
   "metadata": {},
   "outputs": [
    {
     "name": "stdout",
     "output_type": "stream",
     "text": [
      "72024.11961555481ms\n"
     ]
    }
   ],
   "source": [
    "tic=time.time()\n",
    "holdout_pred_rbf1 = loaded_model_rbf1.predict(X)\n",
    "toc=time.time()\n",
    "print(str(1000*(toc-tic))+\"ms\")"
   ]
  },
  {
   "cell_type": "code",
   "execution_count": 21,
   "metadata": {},
   "outputs": [
    {
     "name": "stdout",
     "output_type": "stream",
     "text": [
      "The size of prediction 71981\n",
      "Total no. of predcited Crying 7705\n",
      "The accuracy of the new environment crying data is 10.704213611925368 percent\n"
     ]
    }
   ],
   "source": [
    "p1=holdout_pred_rbf1.size\n",
    "print(\"The size of prediction \" + str (p1))\n",
    "a1=sum(holdout_pred_rbf1==\"SPEECH\")\n",
    "print(\"Total no. of predcited Crying \"+str(a1))\n",
    "Acc1=a1/p1*100\n",
    "print(\"The accuracy of the new environment crying data is \"+ str(Acc1)+ \" percent\")"
   ]
  },
  {
   "cell_type": "markdown",
   "metadata": {},
   "source": [
    "### V"
   ]
  },
  {
   "cell_type": "code",
   "execution_count": 28,
   "metadata": {},
   "outputs": [
    {
     "name": "stdout",
     "output_type": "stream",
     "text": [
      "70787.04881668091ms\n",
      "The size of prediction 71981\n",
      "Total no. of predcited music 8116\n",
      "The accuracy of the new environment music data is 11.275197621594588 percent\n"
     ]
    }
   ],
   "source": [
    "df6=pd.read_csv(\"/Users/pc/Desktop/SVM+MFCC_newshifting/500ms/testing/musictest_500ms.csv\",na_values=['NA','?'])\n",
    "df6.columns=['MFCC0', 'MFCC1','MFCC2','MFCC3','MFCC4','MFCC5','MFCC6','MFCC7','MFCC8', \n",
    "            'MFCC9', 'MFCC10' ,'MFCC11', 'MFCC12']\n",
    "#filename_write = os.path.join(path,\"7class-out-of-sample_mySVM_500ms.csv\")\n",
    "\n",
    "X6= scaler.transform(df6) ## Direct Do this\n",
    "tic=time.time()\n",
    "holdout_pred_rbf6 = loaded_model_rbf1.predict(X6)\n",
    "toc=time.time()\n",
    "print(str(1000*(toc-tic))+\"ms\")\n",
    "p6=holdout_pred_rbf6.size\n",
    "print(\"The size of prediction \" + str (p6))\n",
    "a6=sum(holdout_pred_rbf6==\"SPEECH\")\n",
    "print(\"Total no. of predcited music \"+str(a6))\n",
    "Acc6=a6/p6*100\n",
    "print(\"The accuracy of the new environment music data is \"+ str(Acc6)+ \" percent\")"
   ]
  },
  {
   "cell_type": "code",
   "execution_count": 29,
   "metadata": {},
   "outputs": [
    {
     "name": "stdout",
     "output_type": "stream",
     "text": [
      "70854.05278205872ms\n",
      "The size of prediction 71981\n",
      "Total no. of predcited speech 1733\n",
      "The accuracy of the new environment speech data is 2.4075797779969714 percent\n"
     ]
    }
   ],
   "source": [
    "df7=pd.read_csv(\"/Users/pc/Desktop/SVM+MFCC_newshifting/500ms/testing/speechtest_500ms.csv\",na_values=['NA','?'])\n",
    "df7.columns=['MFCC0', 'MFCC1','MFCC2','MFCC3','MFCC4','MFCC5','MFCC6','MFCC7','MFCC8', \n",
    "            'MFCC9', 'MFCC10' ,'MFCC11', 'MFCC12']\n",
    "#filename_write = os.path.join(path,\"7class-out-of-sample_mySVM_500ms.csv\")\n",
    "df7.head()\n",
    "X7= scaler.transform(df7) ## Direct Do this\n",
    "tic=time.time()\n",
    "holdout_pred_rbf7 = loaded_model_rbf1.predict(X7)\n",
    "toc=time.time()\n",
    "print(str(1000*(toc-tic))+\"ms\")\n",
    "p7=holdout_pred_rbf7.size\n",
    "print(\"The size of prediction \" + str (p7))\n",
    "a7=sum(holdout_pred_rbf7==\"AC & FAN\")\n",
    "print(\"Total no. of predcited speech \"+str(a7))\n",
    "Acc7=a7/p7*100\n",
    "print(\"The accuracy of the new environment speech data is \"+ str(Acc7)+ \" percent\")"
   ]
  },
  {
   "cell_type": "markdown",
   "metadata": {},
   "source": [
    "#### S"
   ]
  },
  {
   "cell_type": "code",
   "execution_count": 31,
   "metadata": {},
   "outputs": [
    {
     "name": "stdout",
     "output_type": "stream",
     "text": [
      "70260.01858711243ms\n",
      "The size of prediction 71981\n",
      "Total no. of predcited AC & FAN 60\n",
      "The accuracy of the new environment AC & FAN data is 0.08335532987871799 percent\n"
     ]
    }
   ],
   "source": [
    "df8=pd.read_csv(\"/Users/pc/Desktop/SVM+MFCC_newshifting/500ms/testing/fanactest_500ms.csv\",na_values=['NA','?'])\n",
    "df8.columns=['MFCC0', 'MFCC1','MFCC2','MFCC3','MFCC4','MFCC5','MFCC6','MFCC7','MFCC8', \n",
    "            'MFCC9', 'MFCC10' ,'MFCC11', 'MFCC12']\n",
    "#filename_write = os.path.join(path,\"7class-out-of-sample_mySVM_500ms.csv\")\n",
    "df8.head()\n",
    "X8= scaler.transform(df8) ## Direct Do this\n",
    "tic=time.time()\n",
    "holdout_pred_rbf8 = loaded_model_rbf1.predict(X8)\n",
    "toc=time.time()\n",
    "print(str(1000*(toc-tic))+\"ms\")\n",
    "p8=holdout_pred_rbf8.size\n",
    "print(\"The size of prediction \" + str (p8))\n",
    "a8=sum(holdout_pred_rbf8==\"SPEECH\")\n",
    "print(\"Total no. of predcited AC & FAN \"+str(a8))\n",
    "Acc8=a8/p8*100\n",
    "print(\"The accuracy of the new environment AC & FAN data is \"+ str(Acc8)+ \" percent\")"
   ]
  },
  {
   "cell_type": "code",
   "execution_count": null,
   "metadata": {},
   "outputs": [],
   "source": []
  }
 ],
 "metadata": {
  "kernelspec": {
   "display_name": "Python 3",
   "language": "python",
   "name": "python3"
  },
  "language_info": {
   "codemirror_mode": {
    "name": "ipython",
    "version": 3
   },
   "file_extension": ".py",
   "mimetype": "text/x-python",
   "name": "python",
   "nbconvert_exporter": "python",
   "pygments_lexer": "ipython3",
   "version": "3.6.5"
  }
 },
 "nbformat": 4,
 "nbformat_minor": 2
}
