{
 "cells": [
  {
   "cell_type": "code",
   "execution_count": 1,
   "metadata": {},
   "outputs": [],
   "source": [
    "import cv2\n",
    "import numpy as np\n",
    "import pandas as pd\n",
    "from PIL import Image\n",
    "from scipy.io import wavfile\n",
    "import matplotlib\n",
    "# matplotlib.use('agg')\n",
    "from matplotlib import cm\n",
    "from matplotlib import pyplot as plt\n",
    "from numpy.lib import stride_tricks\n",
    "import librosa"
   ]
  },
  {
   "cell_type": "code",
   "execution_count": 2,
   "metadata": {},
   "outputs": [],
   "source": [
    "\"\"\" short time fourier transform of audio signal \"\"\"\n",
    "def stft(sig, frameSize, overlapFac=0.9, window=np.hanning):\n",
    "    win = window(frameSize)\n",
    "    hopSize = int(frameSize - np.floor(overlapFac * frameSize))\n",
    "\n",
    "    # zeros at beginning (thus center of 1st window should be for sample nr. 0)   \n",
    "    samples = np.append(np.zeros(int(np.floor(frameSize/2.0))), sig)    \n",
    "    # cols for windowing\n",
    "    cols = np.ceil( (len(samples) - frameSize) / float(hopSize)) + 1\n",
    "    # zeros at end (thus samples can be fully covered by frames)\n",
    "    samples = np.append(samples, np.zeros(frameSize))\n",
    "\n",
    "    frames = stride_tricks.as_strided(samples, shape=(int(cols), frameSize), strides=(samples.strides[0]*hopSize, samples.strides[0])).copy()\n",
    "    frames *= win\n",
    "\n",
    "    return np.fft.rfft(frames)    "
   ]
  },
  {
   "cell_type": "code",
   "execution_count": 3,
   "metadata": {},
   "outputs": [],
   "source": [
    "\"\"\" scale frequency axis logarithmically \"\"\"    \n",
    "def logscale_spec(spec, sr=44100, factor=20.):\n",
    "    timebins, freqbins = np.shape(spec)\n",
    "\n",
    "    scale = np.linspace(0, 1, freqbins) ** factor\n",
    "    scale *= (freqbins-1)/max(scale)\n",
    "    scale = np.unique(np.round(scale))\n",
    "\n",
    "    # create spectrogram with new freq bins\n",
    "    newspec = np.complex128(np.zeros([timebins, len(scale)]))\n",
    "    for i in range(0, len(scale)):        \n",
    "        if i == len(scale)-1:\n",
    "            newspec[:,i] = np.sum(spec[:,int(scale[i]):], axis=1)\n",
    "        else:        \n",
    "            newspec[:,i] = np.sum(spec[:,int(scale[i]):int(scale[i+1])], axis=1)\n",
    "\n",
    "    # list center freq of bins\n",
    "    allfreqs = np.abs(np.fft.fftfreq(freqbins*2, 1./sr)[:freqbins+1])\n",
    "    freqs = []\n",
    "    for i in range(0, len(scale)):\n",
    "        if i == len(scale)-1:\n",
    "            freqs += [np.mean(allfreqs[int(scale[i]):])]\n",
    "        else:\n",
    "            freqs += [np.mean(allfreqs[int(scale[i]):int(scale[i+1])])]\n",
    "\n",
    "    return newspec, freqs"
   ]
  },
  {
   "cell_type": "code",
   "execution_count": 4,
   "metadata": {},
   "outputs": [],
   "source": [
    "\"\"\" plot spectrogram\"\"\"\n",
    "def plotstft(samples, samplerate, binsize=400, plotpath=None, colormap=\"jet\"):\n",
    "    plt.close('all')\n",
    "\n",
    "    s = stft(samples, binsize)\n",
    "    sshow, freq = logscale_spec(s, factor=1.0, sr=samplerate)\n",
    "    ims = 20.*np.log10(np.abs(sshow)/10e-6) # amplitude to decibel\n",
    "\n",
    "#     timebins, freqbins = np.shape(ims)\n",
    "#     print(\"timebins: \", timebins)\n",
    "#     print(\"freqbins: \", freqbins)\n",
    "    \n",
    "#     w = ims.shape[0]/100.0\n",
    "#     h = ims.shape[1]/100.0\n",
    "\n",
    "    w = ims.shape[0]/610.0\n",
    "    h = ims.shape[1]/1250.0\n",
    "    plt.figure(figsize=(w,h))\n",
    "    plt.axis('off')\n",
    " #   plt.axes([0.,0.,1.,1.], frameon=False, xticks=[], yticks=[]) # Remove the white edge\n",
    "    fig = plt.imshow(ims.T, origin=\"lower\", aspect=\"auto\", cmap=colormap, interpolation=\"nearest\")\n",
    "    fig.axes.get_xaxis().set_visible(False)\n",
    "    fig.axes.get_yaxis().set_visible(False)\n",
    "    \n",
    "#    plt.colorbar()\n",
    "\n",
    "#      plt.xlabel(\"time (s)\")\n",
    "#      plt.ylabel(\"frequency (hz)\")\n",
    "#     plt.xlim([0, timebins-1])\n",
    "#     plt.ylim([0, freqbins])\n",
    "\n",
    "#    xlocs = np.float32(np.linspace(0, timebins-1, 5))\n",
    "#    plt.xticks(xlocs, [\"%.02f\" % l for l in ((xlocs*len(samples)/timebins)+(0.5*binsize))/samplerate])\n",
    "#   ylocs = np.int16(np.round(np.linspace(0, freqbins-1, 10)))   \n",
    "#    yti = ylocs\n",
    "#   print(freq[20])\n",
    "#   print(freq[40])\n",
    "#   print(freq[60])\n",
    "#   plt.yticks(ylocs, [\"%.02f\" % freq[i] for i in ylocs])\n",
    "\n",
    "#   plotpath = 'temp.png'\n",
    "    if plotpath:\n",
    "        plt.savefig(plotpath, bbox_inches=\"tight\", pad_inches=0., dpi=1000)\n",
    "       # image = cv2.imread(plotpath, 1)\n",
    "        #print(image.shape)\n",
    "    else:\n",
    "        plt.show()\n",
    "\n",
    "    plt.clf()\n",
    "\n",
    "    return ims"
   ]
  },
  {
   "cell_type": "code",
   "execution_count": 5,
   "metadata": {},
   "outputs": [
    {
     "name": "stdout",
     "output_type": "stream",
     "text": [
      "4000\n",
      "2000\n",
      "100\n",
      "['C', 'FA', 'M', 'S']\n",
      "4\n",
      "250ms\n"
     ]
    }
   ],
   "source": [
    "fs = 16000\n",
    "fsize = 4000\n",
    "hop = fsize // 2\n",
    "hop_length = fsize // 40\n",
    "classes = ['C', 'FA', 'M', 'S']\n",
    "num_classes = 4\n",
    "\n",
    "print(fsize)\n",
    "print(hop)\n",
    "print(hop_length)\n",
    "print(classes)\n",
    "print(num_classes)\n",
    "print(str((fsize*1000)//fs)+'ms')\n"
   ]
  },
  {
   "cell_type": "code",
   "execution_count": 6,
   "metadata": {},
   "outputs": [
    {
     "name": "stdout",
     "output_type": "stream",
     "text": [
      "C\n",
      "FA\n",
      "M\n",
      "S\n"
     ]
    },
    {
     "data": {
      "text/plain": [
       "<Figure size 11.3311x11.5776 with 0 Axes>"
      ]
     },
     "metadata": {},
     "output_type": "display_data"
    }
   ],
   "source": [
    "for k in range(0, num_classes):\n",
    "    y, fs = librosa.load(classes[k] + '.wav', sr = None)\n",
    "    rng = y.shape[0]//hop - 1\n",
    "    print(classes[k])\n",
    "\n",
    "    for i in range(0, rng):\n",
    "        data = y[i*hop:i*hop+fsize]\n",
    "        path = './' + str((fsize*1000)//fs) + 'ms/training_set/' + classes[k] + '/' + str(i+1) + '.png'\n",
    "        ims = plotstft(data, fs, plotpath=path)"
   ]
  },
  {
   "cell_type": "code",
   "execution_count": 7,
   "metadata": {},
   "outputs": [],
   "source": [
    "import os\n",
    "import numpy as np\n",
    "from shutil import copyfile\n",
    "for i in range(0, num_classes):\n",
    "    src = './250ms/training_set/' + classes[i] + '/'\n",
    "    numImages = len(os.listdir(src))\n",
    "    indices = np.random.permutation(numImages) + 1\n",
    "    \n",
    "    dstTest = './250ms/testing_set/' + classes[i] + '/'\n",
    "    for j in range(int(0.6 * numImages), int(0.8 * numImages)):\n",
    "        img = str(indices[j]) + '.png'\n",
    "        copyfile(src+img, dstTest+img)\n",
    "        os.remove(src+img)\n",
    "\n",
    "    dstHold = './250ms/hold_out/' + classes[i] + '/'\n",
    "    for j in range(int(0.8 * numImages), numImages):\n",
    "        img = str(indices[j]) + '.png'\n",
    "        copyfile(src+img, dstHold+img)\n",
    "        os.remove(src+img)"
   ]
  },
  {
   "cell_type": "code",
   "execution_count": 8,
   "metadata": {},
   "outputs": [],
   "source": [
    "#y,fs =librosa.load('C.wav', sr=None)"
   ]
  },
  {
   "cell_type": "code",
   "execution_count": 9,
   "metadata": {},
   "outputs": [],
   "source": [
    "# For individually checking\n",
    "#ims = plotstft(y[0:8000], fs, plotpath='1.png')"
   ]
  },
  {
   "cell_type": "code",
   "execution_count": null,
   "metadata": {},
   "outputs": [],
   "source": []
  }
 ],
 "metadata": {
  "kernelspec": {
   "display_name": "Python 3",
   "language": "python",
   "name": "python3"
  },
  "language_info": {
   "codemirror_mode": {
    "name": "ipython",
    "version": 3
   },
   "file_extension": ".py",
   "mimetype": "text/x-python",
   "name": "python",
   "nbconvert_exporter": "python",
   "pygments_lexer": "ipython3",
   "version": "3.6.5"
  }
 },
 "nbformat": 4,
 "nbformat_minor": 2
}
