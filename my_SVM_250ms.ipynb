{
 "cells": [
  {
   "cell_type": "markdown",
   "metadata": {},
   "source": [
    "## SVM model for 4class audio with 100ms frame size"
   ]
  },
  {
   "cell_type": "markdown",
   "metadata": {},
   "source": [
    "## Important Libraries "
   ]
  },
  {
   "cell_type": "code",
   "execution_count": 1,
   "metadata": {},
   "outputs": [
    {
     "name": "stderr",
     "output_type": "stream",
     "text": [
      "C:\\ProgramData\\Anaconda3\\lib\\site-packages\\h5py\\__init__.py:36: FutureWarning: Conversion of the second argument of issubdtype from `float` to `np.floating` is deprecated. In future, it will be treated as `np.float64 == np.dtype(float).type`.\n",
      "  from ._conv import register_converters as _register_converters\n",
      "Using TensorFlow backend.\n"
     ]
    }
   ],
   "source": [
    "import io\n",
    "import time\n",
    "from sklearn import metrics\n",
    "from scipy.stats import zscore\n",
    "from sklearn.model_selection import train_test_split\n",
    "from sklearn.model_selection import KFold\n",
    "from keras.models import Sequential\n",
    "from keras.layers.core import Dense, Activation\n",
    "from keras.callbacks import EarlyStopping\n",
    "import tensorflow as tf\n",
    "from sklearn import svm, datasets\n",
    "import matplotlib.pyplot as plt\n",
    "%matplotlib inline\n",
    "from sklearn.svm import SVC\n",
    "from sklearn.metrics import accuracy_score\n",
    "from sklearn.metrics import classification_report, confusion_matrix  \n",
    "from sklearn.model_selection import cross_val_score\n",
    "from sklearn.model_selection import learning_curve\n",
    "import pickle\n",
    "from sklearn.metrics import roc_curve, auc\n",
    "from sklearn.metrics import log_loss\n",
    "\n",
    "from sklearn import preprocessing\n",
    "import matplotlib.pyplot as plt\n",
    "import numpy as np\n",
    "import pandas as pd\n",
    "import shutil\n",
    "import os\n",
    "import requests\n",
    "import base64"
   ]
  },
  {
   "cell_type": "markdown",
   "metadata": {},
   "source": [
    "### Useful Functions"
   ]
  },
  {
   "cell_type": "code",
   "execution_count": 2,
   "metadata": {},
   "outputs": [],
   "source": [
    "\n",
    "# Encode text values to dummy variables(i.e. [1,0,0],[0,1,0],[0,0,1] for red,green,blue)\n",
    "def encode_text_dummy(df, name):\n",
    "    dummies = pd.get_dummies(df[name])\n",
    "    for x in dummies.columns:\n",
    "        dummy_name = \"{}-{}\".format(name, x)\n",
    "        df[dummy_name] = dummies[x]\n",
    "    df.drop(name, axis=1, inplace=True)\n",
    "\n",
    "\n",
    "# Encode text values to a single dummy variable.  The new columns (which do not replace the old) will have a 1\n",
    "# at every location where the original column (name) matches each of the target_values.  One column is added for\n",
    "# each target value.\n",
    "def encode_text_single_dummy(df, name, target_values):\n",
    "    for tv in target_values:\n",
    "        l = list(df[name].astype(str))\n",
    "        l = [1 if str(x) == str(tv) else 0 for x in l]\n",
    "        name2 = \"{}-{}\".format(name, tv)\n",
    "        df[name2] = l\n",
    "\n",
    "\n",
    "# Encode text values to indexes(i.e. [1],[2],[3] for red,green,blue).\n",
    "def encode_text_index(df, name):\n",
    "    le = preprocessing.LabelEncoder()\n",
    "    df[name] = le.fit_transform(df[name])\n",
    "    return le.classes_\n",
    "\n",
    "\n",
    "# Encode a numeric column as zscores\n",
    "def encode_numeric_zscore(df, name, mean=None, sd=None):\n",
    "    if mean is None:\n",
    "        mean = df[name].mean()\n",
    "\n",
    "    if sd is None:\n",
    "        sd = df[name].std()\n",
    "\n",
    "    df[name] = (df[name] - mean) / sd\n",
    "\n",
    "\n",
    "# Convert all missing values in the specified column to the median\n",
    "def missing_median(df, name):\n",
    "    med = df[name].median()\n",
    "    df[name] = df[name].fillna(med)\n",
    "\n",
    "\n",
    "# Convert all missing values in the specified column to the default\n",
    "def missing_default(df, name, default_value):\n",
    "    df[name] = df[name].fillna(default_value)\n",
    "\n",
    "\n",
    "# Convert a Pandas dataframe to the x,y inputs that TensorFlow needs\n",
    "def to_xy(df, target):\n",
    "    result = []\n",
    "    for x in df.columns:\n",
    "        if x != target:\n",
    "            result.append(x)\n",
    "    # find out the type of the target column.  Is it really this hard? :(\n",
    "    target_type = df[target].dtypes\n",
    "    target_type = target_type[0] if hasattr(target_type, '__iter__') else target_type\n",
    "    # Encode to int for classification, float otherwise. TensorFlow likes 32 bits.\n",
    "    if target_type in (np.int64, np.int32):\n",
    "        # Classification\n",
    "        dummies = pd.get_dummies(df[target])\n",
    "        return df.as_matrix(result).astype(np.float32), dummies.as_matrix().astype(np.float32)\n",
    "    else:\n",
    "        # Regression\n",
    "        return df.as_matrix(result).astype(np.float32), df.as_matrix([target]).astype(np.float32)\n",
    "\n",
    "# Nicely formatted time string\n",
    "def hms_string(sec_elapsed):\n",
    "    h = int(sec_elapsed / (60 * 60))\n",
    "    m = int((sec_elapsed % (60 * 60)) / 60)\n",
    "    s = sec_elapsed % 60\n",
    "    return \"{}:{:>02}:{:>05.2f}\".format(h, m, s)\n",
    "\n",
    "\n",
    "# Regression chart.\n",
    "def chart_regression(pred,y,sort=True):\n",
    "    t = pd.DataFrame({'pred' : pred, 'y' : y.flatten()})\n",
    "    if sort:\n",
    "        t.sort_values(by=['y'],inplace=True)\n",
    "    a = plt.plot(t['y'].tolist(),label='expected')\n",
    "    b = plt.plot(t['pred'].tolist(),label='prediction')\n",
    "    plt.ylabel('output')\n",
    "    plt.legend()\n",
    "    plt.show()\n",
    "\n",
    "# Remove all rows where the specified column is +/- sd standard deviations\n",
    "def remove_outliers(df, name, sd):\n",
    "    drop_rows = df.index[(np.abs(df[name] - df[name].mean()) >= (sd * df[name].std()))]\n",
    "    df.drop(drop_rows, axis=0, inplace=True)\n",
    "\n",
    "\n",
    "# Encode a column to a range between normalized_low and normalized_high.\n",
    "def encode_numeric_range(df, name, normalized_low=-1, normalized_high=1,\n",
    "                         data_low=None, data_high=None):\n",
    "    if data_low is None:\n",
    "        data_low = min(df[name])\n",
    "        data_high = max(df[name])\n",
    "\n",
    "    df[name] = ((df[name] - data_low) / (data_high - data_low)) \\\n",
    "               * (normalized_high - normalized_low) + normalized_low\n",
    "\n",
    "    # Plot a confusion matrix.\n",
    "# cm is the confusion matrix, names are the names of the classes.\n",
    "def plot_confusion_matrix(cm, names, title='Confusion matrix', cmap=plt.cm.Blues):\n",
    "    plt.imshow(cm, interpolation='nearest', cmap=cmap)\n",
    "    plt.title(title)\n",
    "    plt.colorbar()\n",
    "    tick_marks = np.arange(len(names))\n",
    "    plt.xticks(tick_marks, names, rotation=45)\n",
    "    plt.yticks(tick_marks, names)\n",
    "    plt.tight_layout()\n",
    "    plt.ylabel('True label')\n",
    "    plt.xlabel('Predicted label')"
   ]
  },
  {
   "cell_type": "markdown",
   "metadata": {},
   "source": [
    "#### Read MFCCs feature CSV file of audio of 500ms block"
   ]
  },
  {
   "cell_type": "code",
   "execution_count": 3,
   "metadata": {},
   "outputs": [
    {
     "data": {
      "text/html": [
       "<div>\n",
       "<style scoped>\n",
       "    .dataframe tbody tr th:only-of-type {\n",
       "        vertical-align: middle;\n",
       "    }\n",
       "\n",
       "    .dataframe tbody tr th {\n",
       "        vertical-align: top;\n",
       "    }\n",
       "\n",
       "    .dataframe thead th {\n",
       "        text-align: right;\n",
       "    }\n",
       "</style>\n",
       "<table border=\"1\" class=\"dataframe\">\n",
       "  <thead>\n",
       "    <tr style=\"text-align: right;\">\n",
       "      <th></th>\n",
       "      <th>MFCC0</th>\n",
       "      <th>MFCC1</th>\n",
       "      <th>MFCC2</th>\n",
       "      <th>MFCC3</th>\n",
       "      <th>MFCC4</th>\n",
       "      <th>MFCC5</th>\n",
       "      <th>MFCC6</th>\n",
       "      <th>MFCC7</th>\n",
       "      <th>MFCC8</th>\n",
       "      <th>MFCC9</th>\n",
       "      <th>MFCC10</th>\n",
       "      <th>MFCC11</th>\n",
       "      <th>MFCC12</th>\n",
       "      <th>Label</th>\n",
       "    </tr>\n",
       "  </thead>\n",
       "  <tbody>\n",
       "    <tr>\n",
       "      <th>0</th>\n",
       "      <td>-1.156698</td>\n",
       "      <td>30.177571</td>\n",
       "      <td>14.660770</td>\n",
       "      <td>3.607221</td>\n",
       "      <td>0.288360</td>\n",
       "      <td>2.769165</td>\n",
       "      <td>-3.234655</td>\n",
       "      <td>6.639185</td>\n",
       "      <td>-1.344169</td>\n",
       "      <td>4.468443</td>\n",
       "      <td>-2.958039</td>\n",
       "      <td>2.068470</td>\n",
       "      <td>1.180088</td>\n",
       "      <td>AC &amp; FAN</td>\n",
       "    </tr>\n",
       "    <tr>\n",
       "      <th>1</th>\n",
       "      <td>-1.057954</td>\n",
       "      <td>30.020239</td>\n",
       "      <td>14.655350</td>\n",
       "      <td>4.016522</td>\n",
       "      <td>0.670491</td>\n",
       "      <td>2.716826</td>\n",
       "      <td>-2.725660</td>\n",
       "      <td>6.585149</td>\n",
       "      <td>-0.531257</td>\n",
       "      <td>5.018496</td>\n",
       "      <td>-1.769480</td>\n",
       "      <td>2.426556</td>\n",
       "      <td>1.197883</td>\n",
       "      <td>AC &amp; FAN</td>\n",
       "    </tr>\n",
       "    <tr>\n",
       "      <th>2</th>\n",
       "      <td>-1.038729</td>\n",
       "      <td>30.297200</td>\n",
       "      <td>14.477445</td>\n",
       "      <td>4.185600</td>\n",
       "      <td>-0.013551</td>\n",
       "      <td>2.507586</td>\n",
       "      <td>-2.385098</td>\n",
       "      <td>7.583516</td>\n",
       "      <td>0.821473</td>\n",
       "      <td>5.668451</td>\n",
       "      <td>-2.216360</td>\n",
       "      <td>1.834316</td>\n",
       "      <td>0.287000</td>\n",
       "      <td>AC &amp; FAN</td>\n",
       "    </tr>\n",
       "    <tr>\n",
       "      <th>3</th>\n",
       "      <td>-1.031753</td>\n",
       "      <td>30.308872</td>\n",
       "      <td>14.390459</td>\n",
       "      <td>4.556633</td>\n",
       "      <td>-0.998314</td>\n",
       "      <td>2.591629</td>\n",
       "      <td>-2.220589</td>\n",
       "      <td>7.024910</td>\n",
       "      <td>-0.051632</td>\n",
       "      <td>5.291946</td>\n",
       "      <td>-1.373251</td>\n",
       "      <td>1.892320</td>\n",
       "      <td>0.522117</td>\n",
       "      <td>AC &amp; FAN</td>\n",
       "    </tr>\n",
       "    <tr>\n",
       "      <th>4</th>\n",
       "      <td>-1.008919</td>\n",
       "      <td>30.663115</td>\n",
       "      <td>14.199688</td>\n",
       "      <td>3.618487</td>\n",
       "      <td>-2.098603</td>\n",
       "      <td>1.240299</td>\n",
       "      <td>-3.486570</td>\n",
       "      <td>8.769523</td>\n",
       "      <td>1.134318</td>\n",
       "      <td>5.685237</td>\n",
       "      <td>-0.009215</td>\n",
       "      <td>2.604023</td>\n",
       "      <td>0.304691</td>\n",
       "      <td>AC &amp; FAN</td>\n",
       "    </tr>\n",
       "  </tbody>\n",
       "</table>\n",
       "</div>"
      ],
      "text/plain": [
       "      MFCC0      MFCC1      MFCC2     MFCC3     MFCC4     MFCC5     MFCC6  \\\n",
       "0 -1.156698  30.177571  14.660770  3.607221  0.288360  2.769165 -3.234655   \n",
       "1 -1.057954  30.020239  14.655350  4.016522  0.670491  2.716826 -2.725660   \n",
       "2 -1.038729  30.297200  14.477445  4.185600 -0.013551  2.507586 -2.385098   \n",
       "3 -1.031753  30.308872  14.390459  4.556633 -0.998314  2.591629 -2.220589   \n",
       "4 -1.008919  30.663115  14.199688  3.618487 -2.098603  1.240299 -3.486570   \n",
       "\n",
       "      MFCC7     MFCC8     MFCC9    MFCC10    MFCC11    MFCC12     Label  \n",
       "0  6.639185 -1.344169  4.468443 -2.958039  2.068470  1.180088  AC & FAN  \n",
       "1  6.585149 -0.531257  5.018496 -1.769480  2.426556  1.197883  AC & FAN  \n",
       "2  7.583516  0.821473  5.668451 -2.216360  1.834316  0.287000  AC & FAN  \n",
       "3  7.024910 -0.051632  5.291946 -1.373251  1.892320  0.522117  AC & FAN  \n",
       "4  8.769523  1.134318  5.685237 -0.009215  2.604023  0.304691  AC & FAN  "
      ]
     },
     "execution_count": 3,
     "metadata": {},
     "output_type": "execute_result"
    }
   ],
   "source": [
    "path=\"/Users/pc/Desktop/SVM+MFCC_newshifting/250ms\"\n",
    "df=pd.read_csv(\"/Users/pc/Desktop/SVM+MFCC_newshifting/250ms/training/final_250ms.csv\",na_values=['NA','?'])\n",
    "df.columns=['MFCC0', 'MFCC1','MFCC2','MFCC3','MFCC4','MFCC5','MFCC6','MFCC7','MFCC8', \n",
    "            'MFCC9', 'MFCC10' ,'MFCC11', 'MFCC12', 'Label']\n",
    "filename_write = os.path.join(path,\"/Users/pc/Desktop/SVM+MFCC_newshifting/250ms/training/out-of-sample_mySVM_100ms.csv\")\n",
    "df.head()\n"
   ]
  },
  {
   "cell_type": "markdown",
   "metadata": {},
   "source": [
    "#### Shuffle"
   ]
  },
  {
   "cell_type": "code",
   "execution_count": 4,
   "metadata": {},
   "outputs": [
    {
     "data": {
      "text/plain": [
       "Index(['MFCC0', 'MFCC1', 'MFCC2', 'MFCC3', 'MFCC4', 'MFCC5', 'MFCC6', 'MFCC7',\n",
       "       'MFCC8', 'MFCC9', 'MFCC10', 'MFCC11', 'MFCC12', 'Label'],\n",
       "      dtype='object')"
      ]
     },
     "execution_count": 4,
     "metadata": {},
     "output_type": "execute_result"
    }
   ],
   "source": [
    "np.random.seed(42)\n",
    "df = df.reindex(np.random.permutation(df.index))\n",
    "df.reset_index(inplace=True, drop=True)\n",
    "df.columns"
   ]
  },
  {
   "cell_type": "code",
   "execution_count": 5,
   "metadata": {},
   "outputs": [
    {
     "data": {
      "text/html": [
       "<div>\n",
       "<style scoped>\n",
       "    .dataframe tbody tr th:only-of-type {\n",
       "        vertical-align: middle;\n",
       "    }\n",
       "\n",
       "    .dataframe tbody tr th {\n",
       "        vertical-align: top;\n",
       "    }\n",
       "\n",
       "    .dataframe thead th {\n",
       "        text-align: right;\n",
       "    }\n",
       "</style>\n",
       "<table border=\"1\" class=\"dataframe\">\n",
       "  <thead>\n",
       "    <tr style=\"text-align: right;\">\n",
       "      <th></th>\n",
       "      <th>MFCC0</th>\n",
       "      <th>MFCC1</th>\n",
       "      <th>MFCC2</th>\n",
       "      <th>MFCC3</th>\n",
       "      <th>MFCC4</th>\n",
       "      <th>MFCC5</th>\n",
       "      <th>MFCC6</th>\n",
       "      <th>MFCC7</th>\n",
       "      <th>MFCC8</th>\n",
       "      <th>MFCC9</th>\n",
       "      <th>MFCC10</th>\n",
       "      <th>MFCC11</th>\n",
       "      <th>MFCC12</th>\n",
       "      <th>Label</th>\n",
       "    </tr>\n",
       "  </thead>\n",
       "  <tbody>\n",
       "    <tr>\n",
       "      <th>0</th>\n",
       "      <td>-2.258577</td>\n",
       "      <td>-15.339601</td>\n",
       "      <td>-2.788815</td>\n",
       "      <td>-25.249022</td>\n",
       "      <td>-30.498448</td>\n",
       "      <td>-23.184589</td>\n",
       "      <td>-6.682635</td>\n",
       "      <td>-2.963845</td>\n",
       "      <td>-29.011377</td>\n",
       "      <td>-6.843955</td>\n",
       "      <td>-6.695362</td>\n",
       "      <td>15.474780</td>\n",
       "      <td>7.171197</td>\n",
       "      <td>CRYING</td>\n",
       "    </tr>\n",
       "    <tr>\n",
       "      <th>1</th>\n",
       "      <td>3.573552</td>\n",
       "      <td>-29.801286</td>\n",
       "      <td>-32.800348</td>\n",
       "      <td>18.600491</td>\n",
       "      <td>-18.167120</td>\n",
       "      <td>0.516414</td>\n",
       "      <td>8.259454</td>\n",
       "      <td>-13.633365</td>\n",
       "      <td>-6.569277</td>\n",
       "      <td>9.981354</td>\n",
       "      <td>36.312308</td>\n",
       "      <td>14.698279</td>\n",
       "      <td>-5.105866</td>\n",
       "      <td>CRYING</td>\n",
       "    </tr>\n",
       "    <tr>\n",
       "      <th>2</th>\n",
       "      <td>-0.516653</td>\n",
       "      <td>45.215485</td>\n",
       "      <td>8.872781</td>\n",
       "      <td>3.358796</td>\n",
       "      <td>2.520323</td>\n",
       "      <td>-5.653455</td>\n",
       "      <td>0.178937</td>\n",
       "      <td>0.699667</td>\n",
       "      <td>-1.335385</td>\n",
       "      <td>-2.408092</td>\n",
       "      <td>-1.213109</td>\n",
       "      <td>0.568330</td>\n",
       "      <td>-2.395452</td>\n",
       "      <td>AC &amp; FAN</td>\n",
       "    </tr>\n",
       "    <tr>\n",
       "      <th>3</th>\n",
       "      <td>-1.613895</td>\n",
       "      <td>-18.737258</td>\n",
       "      <td>9.198962</td>\n",
       "      <td>8.345222</td>\n",
       "      <td>-28.993521</td>\n",
       "      <td>-43.917886</td>\n",
       "      <td>-37.541138</td>\n",
       "      <td>-6.779316</td>\n",
       "      <td>-23.546223</td>\n",
       "      <td>6.951527</td>\n",
       "      <td>8.173892</td>\n",
       "      <td>15.333574</td>\n",
       "      <td>-16.777706</td>\n",
       "      <td>SPEECH</td>\n",
       "    </tr>\n",
       "    <tr>\n",
       "      <th>4</th>\n",
       "      <td>-1.902842</td>\n",
       "      <td>-4.279856</td>\n",
       "      <td>-7.496576</td>\n",
       "      <td>20.133896</td>\n",
       "      <td>-34.027908</td>\n",
       "      <td>2.676867</td>\n",
       "      <td>-22.437339</td>\n",
       "      <td>-25.099282</td>\n",
       "      <td>12.283905</td>\n",
       "      <td>-17.199786</td>\n",
       "      <td>15.678498</td>\n",
       "      <td>3.746951</td>\n",
       "      <td>-6.190123</td>\n",
       "      <td>SPEECH</td>\n",
       "    </tr>\n",
       "  </tbody>\n",
       "</table>\n",
       "</div>"
      ],
      "text/plain": [
       "      MFCC0      MFCC1      MFCC2      MFCC3      MFCC4      MFCC5      MFCC6  \\\n",
       "0 -2.258577 -15.339601  -2.788815 -25.249022 -30.498448 -23.184589  -6.682635   \n",
       "1  3.573552 -29.801286 -32.800348  18.600491 -18.167120   0.516414   8.259454   \n",
       "2 -0.516653  45.215485   8.872781   3.358796   2.520323  -5.653455   0.178937   \n",
       "3 -1.613895 -18.737258   9.198962   8.345222 -28.993521 -43.917886 -37.541138   \n",
       "4 -1.902842  -4.279856  -7.496576  20.133896 -34.027908   2.676867 -22.437339   \n",
       "\n",
       "       MFCC7      MFCC8      MFCC9     MFCC10     MFCC11     MFCC12     Label  \n",
       "0  -2.963845 -29.011377  -6.843955  -6.695362  15.474780   7.171197    CRYING  \n",
       "1 -13.633365  -6.569277   9.981354  36.312308  14.698279  -5.105866    CRYING  \n",
       "2   0.699667  -1.335385  -2.408092  -1.213109   0.568330  -2.395452  AC & FAN  \n",
       "3  -6.779316 -23.546223   6.951527   8.173892  15.333574 -16.777706    SPEECH  \n",
       "4 -25.099282  12.283905 -17.199786  15.678498   3.746951  -6.190123    SPEECH  "
      ]
     },
     "execution_count": 5,
     "metadata": {},
     "output_type": "execute_result"
    }
   ],
   "source": [
    "df.head()"
   ]
  },
  {
   "cell_type": "markdown",
   "metadata": {},
   "source": [
    "#### Sperating Independent variable and Target Variable"
   ]
  },
  {
   "cell_type": "code",
   "execution_count": 6,
   "metadata": {},
   "outputs": [],
   "source": [
    "X = df[['MFCC0', 'MFCC1', 'MFCC2', 'MFCC3', 'MFCC4', 'MFCC5', 'MFCC6', 'MFCC7',\n",
    "       'MFCC8', 'MFCC9', 'MFCC10', 'MFCC11', 'MFCC12']]\n",
    "y = df['Label']"
   ]
  },
  {
   "cell_type": "markdown",
   "metadata": {},
   "source": [
    "#### Encode to a 2D matrix for training"
   ]
  },
  {
   "cell_type": "code",
   "execution_count": 7,
   "metadata": {},
   "outputs": [
    {
     "name": "stdout",
     "output_type": "stream",
     "text": [
      "Labelling is:['AC & FAN' 'CRYING' 'MUSIC' 'SPEECH']\n"
     ]
    }
   ],
   "source": [
    "# Encode to a 2D matrix for training\n",
    "Label=encode_text_index(df,'Label')\n",
    "print(\"Labelling is:{}\".format(Label))"
   ]
  },
  {
   "cell_type": "markdown",
   "metadata": {},
   "source": [
    "#### Keeping Holdout Data"
   ]
  },
  {
   "cell_type": "code",
   "execution_count": 8,
   "metadata": {},
   "outputs": [],
   "source": [
    "# 25 % holdout data\n",
    "x_main, x_holdout, y_main, y_holdout = train_test_split(X, y, test_size=0.20,random_state = 0)"
   ]
  },
  {
   "cell_type": "code",
   "execution_count": 9,
   "metadata": {},
   "outputs": [
    {
     "name": "stdout",
     "output_type": "stream",
     "text": [
      "Shape of X : (1151855, 13)\n",
      "Shape of y : (1151855,)\n",
      "Shape of x_main : (921484, 13)\n",
      "Shape of x_holdout : (230371, 13)\n",
      "Shape of y_main : (921484,)\n",
      "Shape of y_holdout : (230371,)\n"
     ]
    }
   ],
   "source": [
    "print(\"Shape of X : {}\".format(X.shape))\n",
    "print(\"Shape of y : {}\".format(y.shape))\n",
    "print(\"Shape of x_main : {}\".format(x_main.shape))\n",
    "print(\"Shape of x_holdout : {}\".format(x_holdout.shape))\n",
    "print(\"Shape of y_main : {}\".format(y_main.shape))\n",
    "print(\"Shape of y_holdout : {}\".format(y_holdout.shape))"
   ]
  },
  {
   "cell_type": "markdown",
   "metadata": {},
   "source": [
    "#### dividing X, y into train and test data"
   ]
  },
  {
   "cell_type": "code",
   "execution_count": 10,
   "metadata": {},
   "outputs": [],
   "source": [
    "# dividing X, y into train and test data\n",
    "x_train, x_test, y_train, y_test = train_test_split(x_main, y_main, test_size=0.20,random_state = 0)"
   ]
  },
  {
   "cell_type": "code",
   "execution_count": 11,
   "metadata": {},
   "outputs": [
    {
     "name": "stdout",
     "output_type": "stream",
     "text": [
      "Shape of x_train : (737187, 13)\n",
      "Shape of x_test : (184297, 13)\n",
      "Shape of y_train : (737187,)\n",
      "Shape of y_test : (184297,)\n"
     ]
    }
   ],
   "source": [
    "print(\"Shape of x_train : {}\".format(x_train.shape))\n",
    "print(\"Shape of x_test : {}\".format(x_test.shape))\n",
    "print(\"Shape of y_train : {}\".format(y_train.shape))\n",
    "print(\"Shape of y_test : {}\".format(y_test.shape))"
   ]
  },
  {
   "cell_type": "markdown",
   "metadata": {},
   "source": [
    "#### preprocessing of training data, testing data , holdout data"
   ]
  },
  {
   "cell_type": "code",
   "execution_count": 12,
   "metadata": {},
   "outputs": [],
   "source": [
    "# preprocessing of training data\n",
    "scaler = preprocessing.StandardScaler().fit(x_train)\n",
    "#scaler"
   ]
  },
  {
   "cell_type": "code",
   "execution_count": 13,
   "metadata": {},
   "outputs": [],
   "source": [
    "X_train = scaler.transform(x_train)\n",
    "X_holdout = scaler.transform(x_holdout) \n",
    "# preprocessing of testing data\n",
    "X_test= scaler.transform(x_test) "
   ]
  },
  {
   "cell_type": "code",
   "execution_count": 14,
   "metadata": {},
   "outputs": [
    {
     "data": {
      "text/plain": [
       "['my_scaler_250ms.save']"
      ]
     },
     "execution_count": 14,
     "metadata": {},
     "output_type": "execute_result"
    }
   ],
   "source": [
    "from sklearn.externals import joblib\n",
    "scaler_file = \"my_scaler_250ms.save\"\n",
    "joblib.dump(scaler, scaler_file) "
   ]
  },
  {
   "cell_type": "markdown",
   "metadata": {},
   "source": [
    "## Model Creation"
   ]
  },
  {
   "cell_type": "markdown",
   "metadata": {},
   "source": [
    "## RBF kernel"
   ]
  },
  {
   "cell_type": "markdown",
   "metadata": {},
   "source": [
    "### Training"
   ]
  },
  {
   "cell_type": "code",
   "execution_count": 15,
   "metadata": {},
   "outputs": [
    {
     "name": "stdout",
     "output_type": "stream",
     "text": [
      "[LibSVM]20655637.010097504ms\n"
     ]
    }
   ],
   "source": [
    "## RBF kernel training\n",
    "#### Training\n",
    "tic=time.time()\n",
    "svclassifier_rbf = SVC(kernel='rbf',C=1, max_iter=-1,verbose=True,probability=True) \n",
    "svclassifier_rbf.fit(X_train, y_train)\n",
    "#scores = cross_val_score( svclassifier_rbf, X_train, y_train, cv=5,scoring='f1_macro')\n",
    "toc=time.time()\n",
    "print(str(1000*(toc-tic))+\"ms\")"
   ]
  },
  {
   "cell_type": "markdown",
   "metadata": {},
   "source": [
    "### Validation"
   ]
  },
  {
   "cell_type": "code",
   "execution_count": 16,
   "metadata": {},
   "outputs": [
    {
     "name": "stdout",
     "output_type": "stream",
     "text": [
      "379563.9750957489ms\n"
     ]
    }
   ],
   "source": [
    "## Testing\n",
    "\n",
    "tic=time.time()\n",
    "y_rbf = svclassifier_rbf.predict(X_test)\n",
    "toc=time.time()\n",
    "print(str(1000*(toc-tic))+\"ms\")"
   ]
  },
  {
   "cell_type": "code",
   "execution_count": 17,
   "metadata": {},
   "outputs": [
    {
     "name": "stdout",
     "output_type": "stream",
     "text": [
      "0.9748612294285853\n"
     ]
    }
   ],
   "source": [
    "# model accuracy for X_test  \n",
    "accuracy = accuracy_score(y_test, y_rbf)\n",
    "print (accuracy)"
   ]
  },
  {
   "cell_type": "code",
   "execution_count": 18,
   "metadata": {},
   "outputs": [
    {
     "name": "stdout",
     "output_type": "stream",
     "text": [
      "[[46140     0     0     0]\n",
      " [   12 44798   594   786]\n",
      " [   42   476 44382  1293]\n",
      " [   26   543   861 44344]]\n",
      "             precision    recall  f1-score   support\n",
      "\n",
      "   AC & FAN       1.00      1.00      1.00     46140\n",
      "     CRYING       0.98      0.97      0.97     46190\n",
      "      MUSIC       0.97      0.96      0.96     46193\n",
      "     SPEECH       0.96      0.97      0.96     45774\n",
      "\n",
      "avg / total       0.97      0.97      0.97    184297\n",
      "\n"
     ]
    }
   ],
   "source": [
    "## Evaluation of Algorithm\n",
    "print(confusion_matrix(y_test, y_rbf))  \n",
    "print(classification_report(y_test, y_rbf))"
   ]
  },
  {
   "cell_type": "markdown",
   "metadata": {},
   "source": [
    "### Saving RBF kernel Trained Model"
   ]
  },
  {
   "cell_type": "code",
   "execution_count": 19,
   "metadata": {},
   "outputs": [],
   "source": [
    "# save the model to disk\n",
    "filename = 'SVM_250ms_Rbf_model.save'\n",
    "joblib.dump(svclassifier_rbf, open(filename, 'wb'))"
   ]
  },
  {
   "cell_type": "code",
   "execution_count": 20,
   "metadata": {},
   "outputs": [],
   "source": [
    " # load the model from disk\n",
    "loaded_model_rbf = joblib.load(open(filename, 'rb'))"
   ]
  },
  {
   "cell_type": "markdown",
   "metadata": {},
   "source": [
    "### Holdout Predction"
   ]
  },
  {
   "cell_type": "code",
   "execution_count": 21,
   "metadata": {},
   "outputs": [
    {
     "name": "stdout",
     "output_type": "stream",
     "text": [
      "481715.86894989014ms\n"
     ]
    }
   ],
   "source": [
    "tic=time.time()\n",
    "holdout_pred_rbf = loaded_model_rbf.predict(X_holdout)\n",
    "toc=time.time()\n",
    "print(str(1000*(toc-tic))+\"ms\")"
   ]
  },
  {
   "cell_type": "code",
   "execution_count": 22,
   "metadata": {},
   "outputs": [
    {
     "name": "stdout",
     "output_type": "stream",
     "text": [
      "Holdout accuracy with rbf kernel is: 0.9751053735062138\n"
     ]
    }
   ],
   "source": [
    "rbf_score = accuracy_score(y_holdout, holdout_pred_rbf)\n",
    "print(\"Holdout accuracy with rbf kernel is: {}\".format(rbf_score))"
   ]
  },
  {
   "cell_type": "code",
   "execution_count": 23,
   "metadata": {},
   "outputs": [],
   "source": [
    "## Turn off the scintific notation \n",
    "np.set_printoptions(suppress=True)"
   ]
  },
  {
   "cell_type": "code",
   "execution_count": 24,
   "metadata": {},
   "outputs": [
    {
     "name": "stdout",
     "output_type": "stream",
     "text": [
      "Confusion matrix, without normalization\n",
      "[[57805     0     5     0]\n",
      " [    8 55727   751   910]\n",
      " [   53   576 55470  1613]\n",
      " [   22   740  1057 55634]]\n"
     ]
    },
    {
     "data": {
      "image/png": "[encoded data removed]",
      "text/plain": [
       "<Figure size 432x288 with 2 Axes>"
      ]
     },
     "metadata": {},
     "output_type": "display_data"
    }
   ],
   "source": [
    "cm = confusion_matrix(y_holdout, holdout_pred_rbf)\n",
    "np.set_printoptions(precision=2)\n",
    "print('Confusion matrix, without normalization')\n",
    "print(cm)\n",
    "plt.figure()\n",
    "plot_confusion_matrix(cm, Label)\n",
    "plt.savefig('cm_holdout_mySVM_250ms_mani_rbf.png',dpi=150)"
   ]
  },
  {
   "cell_type": "code",
   "execution_count": 25,
   "metadata": {},
   "outputs": [
    {
     "name": "stdout",
     "output_type": "stream",
     "text": [
      "Confusion matrix, without normalization\n"
     ]
    },
    {
     "data": {
      "image/png": "[encoded data removed]",
      "text/plain": [
       "<Figure size 360x216 with 2 Axes>"
      ]
     },
     "metadata": {},
     "output_type": "display_data"
    }
   ],
   "source": [
    "import matplotlib.pyplot as plt\n",
    "from sklearn.metrics import confusion_matrix\n",
    "import itertools\n",
    "def plot_confusion_matrix(cm, classes,\n",
    "                          normalize=False,\n",
    "                          title='Confusion matrix',\n",
    "                          cmap=plt.cm.Blues):\n",
    "    \"\"\"\n",
    "    This function prints and plots the confusion matrix.\n",
    "    Normalization can be applied by setting `normalize=True`.\n",
    "    \"\"\"\n",
    "    if normalize:\n",
    "        cm = cm.astype('float') / cm.sum(axis=1)[:, np.newaxis]\n",
    "        print(\"Normalized confusion matrix\")\n",
    "    else:\n",
    "        print('Confusion matrix, without normalization')\n",
    "\n",
    "    plt.imshow(cm, interpolation='nearest', cmap=cmap)\n",
    "    plt.title(title)\n",
    "    plt.colorbar()\n",
    "    tick_marks = np.arange(len(classes))\n",
    "    plt.xticks(tick_marks, classes, rotation=45)\n",
    "    plt.yticks(tick_marks, classes)\n",
    "\n",
    "    fmt = '.2f' if normalize else 'd'\n",
    "    thresh = cm.max() / 2.\n",
    "    for i, j in itertools.product(range(cm.shape[0]), range(cm.shape[1])):\n",
    "        plt.text(j, i, format(cm[i, j], fmt),\n",
    "                 horizontalalignment=\"center\",\n",
    "                 color=\"white\" if cm[i, j] > thresh else \"black\")\n",
    "\n",
    "    plt.tight_layout()\n",
    "    plt.ylabel('True label')\n",
    "    plt.xlabel('Predicted label')\n",
    "\n",
    "# Compute confusion matrix\n",
    "cnf_matrix = confusion_matrix(y_holdout, holdout_pred_rbf)\n",
    "np.set_printoptions(precision=2)\n",
    "\n",
    "\n",
    "# Plot non-normalized confusion matrix\n",
    "plt.figure(figsize=(5,3))\n",
    "plot_confusion_matrix(cnf_matrix, classes=['AC & FAN', 'CRYING','MUSIC', 'SPEECH'],\n",
    "                      title='Confusion matrix_250')\n",
    "\n",
    "plt.savefig('mani1_250_svm.png')"
   ]
  },
  {
   "cell_type": "code",
   "execution_count": 26,
   "metadata": {},
   "outputs": [
    {
     "name": "stdout",
     "output_type": "stream",
     "text": [
      "             precision    recall  f1-score   support\n",
      "\n",
      "   AC & FAN       1.00      1.00      1.00     57810\n",
      "     CRYING       0.98      0.97      0.97     57396\n",
      "      MUSIC       0.97      0.96      0.96     57712\n",
      "     SPEECH       0.96      0.97      0.96     57453\n",
      "\n",
      "avg / total       0.98      0.98      0.98    230371\n",
      "\n"
     ]
    }
   ],
   "source": [
    "print(classification_report(y_holdout, holdout_pred_rbf))"
   ]
  },
  {
   "cell_type": "code",
   "execution_count": 27,
   "metadata": {},
   "outputs": [
    {
     "name": "stdout",
     "output_type": "stream",
     "text": [
      "Log loss score of Holdout data for RBF kernel: 0.07443460145313176\n"
     ]
    }
   ],
   "source": [
    "model_prob_rbf = loaded_model_rbf.predict_proba(X_holdout) ##need prob for getting logloss\n",
    "rbf_log_loss = log_loss(y_holdout, model_prob_rbf)\n",
    "print(\"Log loss score of Holdout data for RBF kernel: {}\".format(rbf_log_loss))"
   ]
  },
  {
   "cell_type": "markdown",
   "metadata": {},
   "source": [
    "## Loading Saved Model"
   ]
  },
  {
   "cell_type": "code",
   "execution_count": 1,
   "metadata": {},
   "outputs": [],
   "source": [
    "from sklearn.externals import joblib\n",
    "import pandas as pd\n",
    "import numpy as np\n",
    "import time"
   ]
  },
  {
   "cell_type": "code",
   "execution_count": 10,
   "metadata": {},
   "outputs": [],
   "source": [
    "filename = 'SVM_250ms_Rbf_model.save' # call first saved model file"
   ]
  },
  {
   "cell_type": "code",
   "execution_count": 11,
   "metadata": {},
   "outputs": [],
   "source": [
    " # load the model from disk\n",
    "loaded_model_rbf1 = joblib.load(open(filename, 'rb'))"
   ]
  },
  {
   "cell_type": "markdown",
   "metadata": {},
   "source": [
    "### A"
   ]
  },
  {
   "cell_type": "code",
   "execution_count": 12,
   "metadata": {},
   "outputs": [
    {
     "data": {
      "text/html": [
       "<div>\n",
       "<style scoped>\n",
       "    .dataframe tbody tr th:only-of-type {\n",
       "        vertical-align: middle;\n",
       "    }\n",
       "\n",
       "    .dataframe tbody tr th {\n",
       "        vertical-align: top;\n",
       "    }\n",
       "\n",
       "    .dataframe thead th {\n",
       "        text-align: right;\n",
       "    }\n",
       "</style>\n",
       "<table border=\"1\" class=\"dataframe\">\n",
       "  <thead>\n",
       "    <tr style=\"text-align: right;\">\n",
       "      <th></th>\n",
       "      <th>MFCC0</th>\n",
       "      <th>MFCC1</th>\n",
       "      <th>MFCC2</th>\n",
       "      <th>MFCC3</th>\n",
       "      <th>MFCC4</th>\n",
       "      <th>MFCC5</th>\n",
       "      <th>MFCC6</th>\n",
       "      <th>MFCC7</th>\n",
       "      <th>MFCC8</th>\n",
       "      <th>MFCC9</th>\n",
       "      <th>MFCC10</th>\n",
       "      <th>MFCC11</th>\n",
       "      <th>MFCC12</th>\n",
       "    </tr>\n",
       "  </thead>\n",
       "  <tbody>\n",
       "    <tr>\n",
       "      <th>0</th>\n",
       "      <td>-8.095517</td>\n",
       "      <td>-40.928589</td>\n",
       "      <td>-11.283037</td>\n",
       "      <td>-11.120009</td>\n",
       "      <td>-4.136025</td>\n",
       "      <td>0.669699</td>\n",
       "      <td>-4.562895</td>\n",
       "      <td>1.338511</td>\n",
       "      <td>-1.299369</td>\n",
       "      <td>1.942942</td>\n",
       "      <td>-8.822210</td>\n",
       "      <td>-6.907327</td>\n",
       "      <td>-4.427695</td>\n",
       "    </tr>\n",
       "    <tr>\n",
       "      <th>1</th>\n",
       "      <td>-7.880247</td>\n",
       "      <td>-40.343036</td>\n",
       "      <td>-10.699666</td>\n",
       "      <td>-13.257954</td>\n",
       "      <td>-6.047256</td>\n",
       "      <td>-1.898209</td>\n",
       "      <td>-5.260900</td>\n",
       "      <td>1.305905</td>\n",
       "      <td>-0.318195</td>\n",
       "      <td>3.280950</td>\n",
       "      <td>-6.743151</td>\n",
       "      <td>-6.882537</td>\n",
       "      <td>-3.812270</td>\n",
       "    </tr>\n",
       "    <tr>\n",
       "      <th>2</th>\n",
       "      <td>-7.722171</td>\n",
       "      <td>-38.703270</td>\n",
       "      <td>-8.784906</td>\n",
       "      <td>-12.351474</td>\n",
       "      <td>-5.241648</td>\n",
       "      <td>-1.322595</td>\n",
       "      <td>-3.209285</td>\n",
       "      <td>2.706275</td>\n",
       "      <td>0.683764</td>\n",
       "      <td>3.760362</td>\n",
       "      <td>-6.347248</td>\n",
       "      <td>-7.168957</td>\n",
       "      <td>-3.196146</td>\n",
       "    </tr>\n",
       "    <tr>\n",
       "      <th>3</th>\n",
       "      <td>-7.558341</td>\n",
       "      <td>-39.175531</td>\n",
       "      <td>-9.904624</td>\n",
       "      <td>-15.527202</td>\n",
       "      <td>-6.802992</td>\n",
       "      <td>-3.388236</td>\n",
       "      <td>-5.040289</td>\n",
       "      <td>0.199894</td>\n",
       "      <td>-1.262066</td>\n",
       "      <td>2.874513</td>\n",
       "      <td>-6.462555</td>\n",
       "      <td>-5.958353</td>\n",
       "      <td>-3.483960</td>\n",
       "    </tr>\n",
       "    <tr>\n",
       "      <th>4</th>\n",
       "      <td>-7.511335</td>\n",
       "      <td>-37.845630</td>\n",
       "      <td>-8.844158</td>\n",
       "      <td>-15.813363</td>\n",
       "      <td>-7.695126</td>\n",
       "      <td>-4.712958</td>\n",
       "      <td>-5.544584</td>\n",
       "      <td>0.323690</td>\n",
       "      <td>-0.175931</td>\n",
       "      <td>3.858462</td>\n",
       "      <td>-5.241707</td>\n",
       "      <td>-4.332614</td>\n",
       "      <td>-1.439539</td>\n",
       "    </tr>\n",
       "  </tbody>\n",
       "</table>\n",
       "</div>"
      ],
      "text/plain": [
       "      MFCC0      MFCC1      MFCC2      MFCC3     MFCC4     MFCC5     MFCC6  \\\n",
       "0 -8.095517 -40.928589 -11.283037 -11.120009 -4.136025  0.669699 -4.562895   \n",
       "1 -7.880247 -40.343036 -10.699666 -13.257954 -6.047256 -1.898209 -5.260900   \n",
       "2 -7.722171 -38.703270  -8.784906 -12.351474 -5.241648 -1.322595 -3.209285   \n",
       "3 -7.558341 -39.175531  -9.904624 -15.527202 -6.802992 -3.388236 -5.040289   \n",
       "4 -7.511335 -37.845630  -8.844158 -15.813363 -7.695126 -4.712958 -5.544584   \n",
       "\n",
       "      MFCC7     MFCC8     MFCC9    MFCC10    MFCC11    MFCC12  \n",
       "0  1.338511 -1.299369  1.942942 -8.822210 -6.907327 -4.427695  \n",
       "1  1.305905 -0.318195  3.280950 -6.743151 -6.882537 -3.812270  \n",
       "2  2.706275  0.683764  3.760362 -6.347248 -7.168957 -3.196146  \n",
       "3  0.199894 -1.262066  2.874513 -6.462555 -5.958353 -3.483960  \n",
       "4  0.323690 -0.175931  3.858462 -5.241707 -4.332614 -1.439539  "
      ]
     },
     "execution_count": 12,
     "metadata": {},
     "output_type": "execute_result"
    }
   ],
   "source": [
    "df1=pd.read_csv(\"/Users/pc/Desktop/SVM+MFCC_newshifting/250ms/testing/cryingtest_250ms.csv\",na_values=['NA','?'])\n",
    "df1.columns=['MFCC0', 'MFCC1','MFCC2','MFCC3','MFCC4','MFCC5','MFCC6','MFCC7','MFCC8', \n",
    "            'MFCC9', 'MFCC10' ,'MFCC11', 'MFCC12']\n",
    "#filename_write = os.path.join(path,\"7class-out-of-sample_mySVM_500ms.csv\")\n",
    "df1.head()"
   ]
  },
  {
   "cell_type": "code",
   "execution_count": 13,
   "metadata": {},
   "outputs": [],
   "source": [
    "scaler_file = \"my_scaler_250ms.save\"\n",
    "scaler = joblib.load(scaler_file) "
   ]
  },
  {
   "cell_type": "code",
   "execution_count": 14,
   "metadata": {},
   "outputs": [],
   "source": [
    "X = scaler.transform(df1) ## Performing preprocessing on tested data"
   ]
  },
  {
   "cell_type": "code",
   "execution_count": 15,
   "metadata": {},
   "outputs": [
    {
     "name": "stdout",
     "output_type": "stream",
     "text": [
      "321204.3719291687ms\n"
     ]
    }
   ],
   "source": [
    "tic=time.time()\n",
    "holdout_pred_rbf1 = loaded_model_rbf1.predict(X)\n",
    "toc=time.time()\n",
    "print(str(1000*(toc-tic))+\"ms\")"
   ]
  },
  {
   "cell_type": "code",
   "execution_count": 24,
   "metadata": {},
   "outputs": [
    {
     "name": "stdout",
     "output_type": "stream",
     "text": [
      "The size of prediction 143981\n",
      "Total no. of predcited Crying 16899\n",
      "The accuracy of the new environment crying data is 11.736965294031851 percent\n"
     ]
    }
   ],
   "source": [
    "p1=holdout_pred_rbf1.size\n",
    "print(\"The size of prediction \" + str (p1))\n",
    "a1=sum(holdout_pred_rbf1==\"SPEECH\")\n",
    "print(\"Total no. of predcited Crying \"+str(a1))\n",
    "Acc1=a1/p1*100\n",
    "print(\"The accuracy of the new environment crying data is \"+ str(Acc1)+ \" percent\")"
   ]
  },
  {
   "cell_type": "markdown",
   "metadata": {},
   "source": [
    "### V"
   ]
  },
  {
   "cell_type": "code",
   "execution_count": 32,
   "metadata": {},
   "outputs": [
    {
     "name": "stdout",
     "output_type": "stream",
     "text": [
      "312890.896320343ms\n",
      "The size of prediction 143981\n",
      "Total no. of predcited music 17460\n",
      "The accuracy of the new environment music data is 12.126600037504948 percent\n"
     ]
    }
   ],
   "source": [
    "df6=pd.read_csv(\"/Users/pc/Desktop/SVM+MFCC_newshifting/250ms/testing/musictest_250ms.csv\",na_values=['NA','?'])\n",
    "df6.columns=['MFCC0', 'MFCC1','MFCC2','MFCC3','MFCC4','MFCC5','MFCC6','MFCC7','MFCC8', \n",
    "            'MFCC9', 'MFCC10' ,'MFCC11', 'MFCC12']\n",
    "#filename_write = os.path.join(path,\"7class-out-of-sample_mySVM_500ms.csv\")\n",
    "\n",
    "X6= scaler.transform(df6) ## Direct Do this\n",
    "tic=time.time()\n",
    "holdout_pred_rbf6 = loaded_model_rbf1.predict(X6)\n",
    "toc=time.time()\n",
    "print(str(1000*(toc-tic))+\"ms\")\n",
    "p6=holdout_pred_rbf6.size\n",
    "print(\"The size of prediction \" + str (p6))\n",
    "a6=sum(holdout_pred_rbf6==\"SPEECH\")\n",
    "print(\"Total no. of predcited music \"+str(a6))\n",
    "Acc6=a6/p6*100\n",
    "print(\"The accuracy of the new environment music data is \"+ str(Acc6)+ \" percent\")"
   ]
  },
  {
   "cell_type": "code",
   "execution_count": 33,
   "metadata": {},
   "outputs": [
    {
     "name": "stdout",
     "output_type": "stream",
     "text": [
      "310674.7696399689ms\n",
      "The size of prediction 143981\n",
      "Total no. of predcited speech 2022\n",
      "The accuracy of the new environment speech data is 1.4043519631062433 percent\n"
     ]
    }
   ],
   "source": [
    "df7=pd.read_csv(\"/Users/pc/Desktop/SVM+MFCC_newshifting/250ms/testing/speechtest_250ms.csv\",na_values=['NA','?'])\n",
    "df7.columns=['MFCC0', 'MFCC1','MFCC2','MFCC3','MFCC4','MFCC5','MFCC6','MFCC7','MFCC8', \n",
    "            'MFCC9', 'MFCC10' ,'MFCC11', 'MFCC12']\n",
    "#filename_write = os.path.join(path,\"7class-out-of-sample_mySVM_500ms.csv\")\n",
    "df7.head()\n",
    "X7= scaler.transform(df7) ## Direct Do this\n",
    "tic=time.time()\n",
    "holdout_pred_rbf7 = loaded_model_rbf1.predict(X7)\n",
    "toc=time.time()\n",
    "print(str(1000*(toc-tic))+\"ms\")\n",
    "p7=holdout_pred_rbf7.size\n",
    "print(\"The size of prediction \" + str (p7))\n",
    "a7=sum(holdout_pred_rbf7==\"AC & FAN\")\n",
    "print(\"Total no. of predcited speech \"+str(a7))\n",
    "Acc7=a7/p7*100\n",
    "print(\"The accuracy of the new environment speech data is \"+ str(Acc7)+ \" percent\")"
   ]
  },
  {
   "cell_type": "markdown",
   "metadata": {},
   "source": [
    "#### S"
   ]
  },
  {
   "cell_type": "code",
   "execution_count": 27,
   "metadata": {},
   "outputs": [
    {
     "name": "stdout",
     "output_type": "stream",
     "text": [
      "323000.474691391ms\n",
      "The size of prediction 143981\n",
      "Total no. of predcited AC & FAN 4918\n",
      "The accuracy of the new environment AC & FAN data is 3.4157284641723558 percent\n"
     ]
    }
   ],
   "source": [
    "df8=pd.read_csv(\"/Users/pc/Desktop/SVM+MFCC_newshifting/250ms/testing/fanactest_250ms.csv\",na_values=['NA','?'])\n",
    "df8.columns=['MFCC0', 'MFCC1','MFCC2','MFCC3','MFCC4','MFCC5','MFCC6','MFCC7','MFCC8', \n",
    "            'MFCC9', 'MFCC10' ,'MFCC11', 'MFCC12']\n",
    "#filename_write = os.path.join(path,\"7class-out-of-sample_mySVM_500ms.csv\")\n",
    "df8.head()\n",
    "X8= scaler.transform(df8) ## Direct Do this\n",
    "tic=time.time()\n",
    "holdout_pred_rbf8 = loaded_model_rbf1.predict(X8)\n",
    "toc=time.time()\n",
    "print(str(1000*(toc-tic))+\"ms\")\n",
    "p8=holdout_pred_rbf8.size\n",
    "print(\"The size of prediction \" + str (p8))\n",
    "a8=sum(holdout_pred_rbf8==\"SPEECH\")\n",
    "print(\"Total no. of predcited AC & FAN \"+str(a8))\n",
    "Acc8=a8/p8*100\n",
    "print(\"The accuracy of the new environment AC & FAN data is \"+ str(Acc8)+ \" percent\")"
   ]
  },
  {
   "cell_type": "code",
   "execution_count": null,
   "metadata": {},
   "outputs": [],
   "source": []
  },
  {
   "cell_type": "code",
   "execution_count": null,
   "metadata": {},
   "outputs": [],
   "source": []
  }
 ],
 "metadata": {
  "kernelspec": {
   "display_name": "Python 3",
   "language": "python",
   "name": "python3"
  },
  "language_info": {
   "codemirror_mode": {
    "name": "ipython",
    "version": 3
   },
   "file_extension": ".py",
   "mimetype": "text/x-python",
   "name": "python",
   "nbconvert_exporter": "python",
   "pygments_lexer": "ipython3",
   "version": "3.6.5"
  }
 },
 "nbformat": 4,
 "nbformat_minor": 2
}
