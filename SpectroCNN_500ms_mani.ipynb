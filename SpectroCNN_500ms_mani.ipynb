{
 "cells": [
  {
   "cell_type": "code",
   "execution_count": 1,
   "metadata": {
    "colab": {
     "base_uri": "https://localhost:8080/",
     "height": 308
    },
    "colab_type": "code",
    "id": "ZdZaSP5B3vVb",
    "outputId": "2f6a98a5-f0a4-408d-871c-ea047699bfd0"
   },
   "outputs": [
    {
     "name": "stderr",
     "output_type": "stream",
     "text": [
      "C:\\ProgramData\\Anaconda3\\lib\\site-packages\\h5py\\__init__.py:36: FutureWarning: Conversion of the second argument of issubdtype from `float` to `np.floating` is deprecated. In future, it will be treated as `np.float64 == np.dtype(float).type`.\n",
      "  from ._conv import register_converters as _register_converters\n",
      "Using TensorFlow backend.\n"
     ]
    }
   ],
   "source": [
    "#!pip install cv2\n",
    "import os\n",
    "import sys\n",
    "import cv2\n",
    "import time\n",
    "import pickle\n",
    "import numpy as np \n",
    "import pandas as pd\n",
    "import scikitplot as skplt\n",
    "import matplotlib.pyplot as plt\n",
    "from sklearn.metrics import confusion_matrix, classification_report, accuracy_score\n",
    "from sklearn.model_selection import train_test_split, ShuffleSplit\n",
    "from keras.utils import np_utils\n",
    "from keras.models import Sequential, Model, load_model, model_from_json\n",
    "from keras.layers import Dense, Dropout, Flatten, Conv2D, MaxPooling2D, GlobalAveragePooling2D\n",
    "from keras.optimizers import Adam\n",
    "from keras.preprocessing.image import ImageDataGenerator\n",
    "from keras.callbacks import ModelCheckpoint\n",
    "from keras.callbacks import EarlyStopping\n",
    "import time\n",
    "import sklearn\n",
    "from sklearn import metrics\n",
    "from sklearn.metrics import classification_report"
   ]
  },
  {
   "cell_type": "code",
   "execution_count": 2,
   "metadata": {
    "colab": {
     "base_uri": "https://localhost:8080/",
     "height": 53
    },
    "colab_type": "code",
    "id": "nEf8t0-1qRS0",
    "outputId": "eeee774d-c9f4-4703-b9f2-ecc56da603f5"
   },
   "outputs": [
    {
     "name": "stdout",
     "output_type": "stream",
     "text": [
      "Found 34556 images belonging to 4 classes.\n",
      "Found 11520 images belonging to 4 classes.\n",
      "Found 11520 images belonging to 4 classes.\n"
     ]
    }
   ],
   "source": [
    "## generators to send image data to the sequential (cnn) model\n",
    "#classes = ['A', 'C', 'M', 'N', 'S', 'T', 'V']\n",
    "#classes = ['A', 'N', 'S', 'V']\n",
    "classes = ['C', 'FA', 'M', 'S']\n",
    "\n",
    "\n",
    "img_height,img_width = 128,128\n",
    "\n",
    "train_datagen = ImageDataGenerator(rescale=1./255)\n",
    "train_generator = train_datagen.flow_from_directory('500ms/training_set',\n",
    "                                                    target_size=(img_height,img_width),\n",
    "                                                    batch_size=20,\n",
    "                                                    shuffle=False,\n",
    "                                                    classes=classes,\n",
    "                                                    class_mode='categorical')\n",
    "\n",
    "test_datagen = ImageDataGenerator(rescale=1./255)\n",
    "test_generator = test_datagen.flow_from_directory('500ms/testing_set',\n",
    "                                                  target_size=(img_height,img_width),\n",
    "                                                  batch_size=20,\n",
    "                                                  shuffle=False,\n",
    "                                                  classes=classes,\n",
    "                                                  class_mode='categorical')\n",
    "\n",
    "hold_datagen = ImageDataGenerator(rescale=1./255)\n",
    "hold_generator = hold_datagen.flow_from_directory('500ms/hold_out',\n",
    "                                                  target_size=(img_height,img_width),\n",
    "                                                  batch_size=20,\n",
    "                                                  shuffle=False,\n",
    "                                                  classes=classes,\n",
    "                                                  class_mode='categorical')\n",
    "\n"
   ]
  },
  {
   "cell_type": "code",
   "execution_count": 3,
   "metadata": {
    "colab": {},
    "colab_type": "code",
    "id": "MZkaPh9h3Oo7"
   },
   "outputs": [],
   "source": [
    "num_category = 4\n",
    "\n",
    "## model building\n",
    "model = Sequential()\n",
    "\n",
    "## please modify the model as per your requirements\n",
    "model.add(Conv2D(16, kernel_size=(3, 7), activation='relu',\n",
    "                 input_shape=(img_height, img_width, 3)))\n",
    "model.add(MaxPooling2D(pool_size=(3, 7)))\n",
    "model.add(Dropout(rate=0.1))\n",
    "model.add(Conv2D(32, 3, activation='relu'))\n",
    "model.add(Conv2D(20, 3, activation='relu'))\n",
    "model.add(MaxPooling2D(pool_size=(3, 3)))\n",
    "model.add(Dropout(rate=0.2))\n",
    "model.add(Conv2D(120, 3, activation='relu'))\n",
    "model.add(Flatten())\n",
    "model.add(Dropout(rate=0.2))\n",
    "model.add(Dense(100, activation='relu'))\n",
    "model.add(Dense(100, activation='relu'))\n",
    "model.add(Dropout(rate=0.25))\n",
    "model.add(Dense(num_category, activation='softmax'))\n"
   ]
  },
  {
   "cell_type": "code",
   "execution_count": 4,
   "metadata": {
    "colab": {
     "base_uri": "https://localhost:8080/",
     "height": 453
    },
    "colab_type": "code",
    "id": "Wt1JuO9ooF6j",
    "outputId": "f712e381-2a87-4efb-a0c6-b68e26bb8383"
   },
   "outputs": [
    {
     "name": "stdout",
     "output_type": "stream",
     "text": [
      "_________________________________________________________________\n",
      "Layer (type)                 Output Shape              Param #   \n",
      "=================================================================\n",
      "conv2d_1 (Conv2D)            (None, 126, 122, 16)      1024      \n",
      "_________________________________________________________________\n",
      "max_pooling2d_1 (MaxPooling2 (None, 42, 17, 16)        0         \n",
      "_________________________________________________________________\n",
      "dropout_1 (Dropout)          (None, 42, 17, 16)        0         \n",
      "_________________________________________________________________\n",
      "conv2d_2 (Conv2D)            (None, 40, 15, 32)        4640      \n",
      "_________________________________________________________________\n",
      "conv2d_3 (Conv2D)            (None, 38, 13, 20)        5780      \n",
      "_________________________________________________________________\n",
      "max_pooling2d_2 (MaxPooling2 (None, 12, 4, 20)         0         \n",
      "_________________________________________________________________\n",
      "dropout_2 (Dropout)          (None, 12, 4, 20)         0         \n",
      "_________________________________________________________________\n",
      "conv2d_4 (Conv2D)            (None, 10, 2, 120)        21720     \n",
      "_________________________________________________________________\n",
      "flatten_1 (Flatten)          (None, 2400)              0         \n",
      "_________________________________________________________________\n",
      "dropout_3 (Dropout)          (None, 2400)              0         \n",
      "_________________________________________________________________\n",
      "dense_1 (Dense)              (None, 100)               240100    \n",
      "_________________________________________________________________\n",
      "dense_2 (Dense)              (None, 100)               10100     \n",
      "_________________________________________________________________\n",
      "dropout_4 (Dropout)          (None, 100)               0         \n",
      "_________________________________________________________________\n",
      "dense_3 (Dense)              (None, 4)                 404       \n",
      "=================================================================\n",
      "Total params: 283,768\n",
      "Trainable params: 283,768\n",
      "Non-trainable params: 0\n",
      "_________________________________________________________________\n",
      "None\n"
     ]
    }
   ],
   "source": [
    "model.compile(optimizer='adam', loss='categorical_crossentropy', metrics=['acc'])\n",
    "print(model.summary())\n",
    "monitor = [ EarlyStopping(monitor='val_loss',\n",
    "                            min_delta=1e-3,\n",
    "                            patience=5,\n",
    "                            verbose=0,\n",
    "                            mode='auto'),ModelCheckpoint(filepath=\"spec_500ms_mani_weights.h5\",\n",
    "                                   verbose=0,\n",
    "                                   save_best_only=True)] # save best model"
   ]
  },
  {
   "cell_type": "markdown",
   "metadata": {},
   "source": [
    "### Training model"
   ]
  },
  {
   "cell_type": "code",
   "execution_count": 5,
   "metadata": {
    "colab": {
     "base_uri": "https://localhost:8080/",
     "height": 818
    },
    "colab_type": "code",
    "id": "Ia-RWe4YpcZm",
    "outputId": "b7121a0b-b4c4-4d64-a4ae-b4f37a5c76a5"
   },
   "outputs": [
    {
     "name": "stdout",
     "output_type": "stream",
     "text": [
      "Epoch 1/25\n",
      "1728/1728 [==============================] - 1104s 639ms/step - loss: 0.6565 - acc: 0.7252 - val_loss: 0.3091 - val_acc: 0.8755\n",
      "Epoch 2/25\n",
      "1728/1728 [==============================] - 2139s 1s/step - loss: 0.2225 - acc: 0.9191 - val_loss: 0.1928 - val_acc: 0.9269\n",
      "Epoch 3/25\n",
      "1728/1728 [==============================] - 1032s 597ms/step - loss: 0.1525 - acc: 0.9448 - val_loss: 0.1053 - val_acc: 0.9601\n",
      "Epoch 4/25\n",
      "1728/1728 [==============================] - 367s 213ms/step - loss: 0.1113 - acc: 0.9594 - val_loss: 0.0778 - val_acc: 0.9711\n",
      "Epoch 5/25\n",
      "1728/1728 [==============================] - 350s 202ms/step - loss: 0.0911 - acc: 0.9668 - val_loss: 0.0590 - val_acc: 0.9784TA: 3:48 - ETA: - ETA: 2s - loss: 0.0917 -  - ETA: 1s - loss: 0.0914 - acc: \n",
      "Epoch 6/25\n",
      "1728/1728 [==============================] - 344s 199ms/step - loss: 0.0804 - acc: 0.9709 - val_loss: 0.0657 - val_acc: 0.978500 -\n",
      "Epoch 7/25\n",
      "1728/1728 [==============================] - 342s 198ms/step - loss: 0.0742 - acc: 0.9730 - val_loss: 0.0529 - val_acc: 0.9815\n",
      "Epoch 8/25\n",
      "1728/1728 [==============================] - 348s 201ms/step - loss: 0.0680 - acc: 0.9766 - val_loss: 0.0483 - val_acc: 0.9831\n",
      "Epoch 9/25\n",
      "1728/1728 [==============================] - 415s 240ms/step - loss: 0.0592 - acc: 0.9787 - val_loss: 0.0481 - val_acc: 0.9829ETA: 4:03 - loss: 0.0521 - acc: - ETA: 4:01 - loss: 0.0524 - acc: 0.9 - ETA: 4:00 - l - ETA: 3:24 - loss:  - ETA: 3:17 - loss: 0.0 - ETA: 3:12 - lo - ETA: 2:29 - loss: 0.0582 - acc: 0.9 - ETA: 2:29 - loss - ETA: 1:51 - loss: 0. - - ETA: 0s - loss: 0.0592 - acc: 0.97 - ETA: 0s - loss: 0.0592 - acc: 0.97\n",
      "Epoch 10/25\n",
      "1728/1728 [==============================] - 365s 211ms/step - loss: 0.0599 - acc: 0.9791 - val_loss: 0.0545 - val_acc: 0.9801\n",
      "Epoch 11/25\n",
      "1728/1728 [==============================] - 338s 196ms/step - loss: 0.0504 - acc: 0.9831 - val_loss: 0.0356 - val_acc: 0.9883ss: 0.0574 - acc: 0.981 - ETA: 2:41 - loss: 0.0573 - a - ETA: 2:39 - loss: 0.0574 - acc: 0. - ETA: 2:39 - l - ETA: 2:35 - loss: 0.0565 - acc: 0. - ETA: 2:34 - ETA: 2:29 - loss:  - ETA: 2:26 - loss: 0.0567 - acc: - ETA: 2:25 - loss: 0.0563 - acc: 0.981 - ETA: 2:25 - loss: 0.0563 - acc: 0.981 - ETA: 2:25 - loss: 0.0562 -  - ET - ETA: 2:18 - loss: 0. - ETA: 2:15 - loss: 0.05 - ETA: 11s -  - ETA: 8s - loss: 0.0511 - ac - ETA: 7s - loss: 0.0510 - acc:  - ETA: 6s - loss: 0.0509 - acc: - ETA: \n",
      "Epoch 12/25\n",
      "1728/1728 [==============================] - 332s 192ms/step - loss: 0.0496 - acc: 0.9822 - val_loss: 0.0350 - val_acc: 0.9873\n",
      "Epoch 13/25\n",
      "1728/1728 [==============================] - 316s 183ms/step - loss: 0.0488 - acc: 0.9827 - val_loss: 0.0542 - val_acc: 0.9809: 0.0485 - a\n",
      "Epoch 14/25\n",
      "1728/1728 [==============================] - 320s 185ms/step - loss: 0.0422 - acc: 0.9848 - val_loss: 0.0343 - val_acc: 0.9880\n",
      "Epoch 15/25\n",
      "1728/1728 [==============================] - 324s 187ms/step - loss: 0.0425 - acc: 0.9845 - val_loss: 0.0475 - val_acc: 0.9828\n",
      "Epoch 16/25\n",
      "1728/1728 [==============================] - 326s 189ms/step - loss: 0.0420 - acc: 0.9863 - val_loss: 0.0379 - val_acc: 0.9878\n",
      "Epoch 17/25\n",
      "1728/1728 [==============================] - 318s 184ms/step - loss: 0.0389 - acc: 0.9856 - val_loss: 0.0443 - val_acc: 0.9844\n",
      "Epoch 18/25\n",
      "1728/1728 [==============================] - 319s 184ms/step - loss: 0.0439 - acc: 0.9848 - val_loss: 0.0431 - val_acc: 0.9870\n",
      "Epoch 19/25\n",
      "   4/1728 [..............................] - ETA: 1:55 - loss: 0.0774 - acc: 0.9750    "
     ]
    },
    {
     "name": "stderr",
     "output_type": "stream",
     "text": [
      "C:\\ProgramData\\Anaconda3\\lib\\site-packages\\keras\\callbacks.py:122: UserWarning: Method on_batch_end() is slow compared to the batch update (0.111200). Check your callbacks.\n",
      "  % delta_t_median)\n"
     ]
    },
    {
     "name": "stdout",
     "output_type": "stream",
     "text": [
      "1728/1728 [==============================] - 318s 184ms/step - loss: 0.0405 - acc: 0.9870 - val_loss: 0.0317 - val_acc: 0.9895s - loss: 0.0 - ETA: 2s - loss: 0.040\n",
      "Epoch 20/25\n",
      "1728/1728 [==============================] - 320s 185ms/step - loss: 0.0364 - acc: 0.9872 - val_loss: 0.0281 - val_acc: 0.9904\n",
      "Epoch 21/25\n",
      "1728/1728 [==============================] - 344s 199ms/step - loss: 0.0343 - acc: 0.9879 - val_loss: 0.0335 - val_acc: 0.9881 0.0346 - acc\n",
      "Epoch 22/25\n",
      "1728/1728 [==============================] - 950s 550ms/step - loss: 0.0360 - acc: 0.9882 - val_loss: 0.0311 - val_acc: 0.9893\n",
      "Epoch 23/25\n",
      "1728/1728 [==============================] - 2029s 1s/step - loss: 0.0342 - acc: 0.9878 - val_loss: 0.0324 - val_acc: 0.9889\n",
      "Epoch 24/25\n",
      "1728/1728 [==============================] - 1117s 646ms/step - loss: 0.0422 - acc: 0.9861 - val_loss: 0.0297 - val_acc: 0.9897\n",
      "Epoch 25/25\n",
      "1728/1728 [==============================] - 1510s 874ms/step - loss: 0.0296 - acc: 0.9900 - val_loss: 0.0342 - val_acc: 0.9893\n",
      "15989931.076288223ms\n"
     ]
    }
   ],
   "source": [
    "## no of steps per epoch (total no. of images / batch size of imagedatagenerator)\n",
    "train_steps = train_generator.n//train_generator.batch_size+1\n",
    "test_steps = test_generator.n//test_generator.batch_size+1\n",
    "\n",
    "train_generator.reset()\n",
    "test_generator.reset()\n",
    "\n",
    "tic=time.time()\n",
    "history = model.fit_generator(train_generator,\n",
    "                              steps_per_epoch=train_steps,\n",
    "                              epochs=25,callbacks= monitor,\n",
    "                              validation_data=test_generator,\n",
    "                              validation_steps=test_steps,\n",
    "                              verbose=1)     \n",
    "toc=time.time()\n",
    "print(str(1000*(toc-tic))+\"ms\")"
   ]
  },
  {
   "cell_type": "code",
   "execution_count": 6,
   "metadata": {},
   "outputs": [],
   "source": [
    "model.save('mani_spectrogrammodel_cnn_500ms.h5') # saving the model"
   ]
  },
  {
   "cell_type": "code",
   "execution_count": 7,
   "metadata": {},
   "outputs": [
    {
     "name": "stdout",
     "output_type": "stream",
     "text": [
      "dict_keys(['val_loss', 'val_acc', 'loss', 'acc'])\n"
     ]
    },
    {
     "data": {
      "image/png": "[encoded data removed]",
      "text/plain": [
       "<Figure size 432x288 with 1 Axes>"
      ]
     },
     "metadata": {},
     "output_type": "display_data"
    }
   ],
   "source": [
    "# list all data in history\n",
    "print(history.history.keys())\n",
    "# summarize history for accuracy\n",
    "plt.plot(history.history['acc'])\n",
    "plt.plot(history.history['val_acc'])\n",
    "plt.title('model accuracy')\n",
    "plt.ylabel('accuracy')\n",
    "plt.xlabel('epoch')\n",
    "plt.legend(['train', 'test'], loc='upper left')\n",
    "plt.savefig(\"spec_500ms_acc.eps\")\n",
    "plt.savefig(\"spec_500ms_acc.png\",dpi=150)\n",
    "plt.show()\n"
   ]
  },
  {
   "cell_type": "code",
   "execution_count": 8,
   "metadata": {},
   "outputs": [
    {
     "data": {
      "image/png": "[encoded data removed]",
      "text/plain": [
       "<Figure size 432x288 with 1 Axes>"
      ]
     },
     "metadata": {},
     "output_type": "display_data"
    }
   ],
   "source": [
    "# summarize history for loss\n",
    "plt.plot(history.history['loss'])\n",
    "plt.plot(history.history['val_loss'])\n",
    "plt.title('model loss')\n",
    "plt.ylabel('loss')\n",
    "plt.xlabel('epoch')\n",
    "plt.legend(['train', 'test'], loc='upper left')\n",
    "plt.savefig(\"spec_500ms_loss.eps\")\n",
    "plt.savefig(\"spec_500ms_loss.png\",dpi=150)\n",
    "plt.show()\n"
   ]
  },
  {
   "cell_type": "code",
   "execution_count": 9,
   "metadata": {},
   "outputs": [],
   "source": [
    "## to get confusion matrix for training_set\n",
    "#test_generator.reset()\n",
    "#test_steps = test_generator.n//test_generator.batch_size \n",
    "\n",
    "#y = np.ones((len(os.listdir('./500ms/hold_out/' + classes[0] + '/')),1))\n",
    "#for i in range(1,num_category ):\n",
    "    #y = np.vstack((y, np.ones((len(os.listdir('./500ms/hold_out/' + classes[i] + '/')),1))))\n",
    "\n",
    "#y_pred = model.predict_generator(test_generator,\n",
    "                                        #steps=test_steps,\n",
    "                                        #verbose=1)\n",
    "        #y_pred = np.argmax(y_pred, axis=1).astype('int8')\n",
    "#print(y_pred)\n",
    "#print(confusion_matrix(y, y_pred))\n",
    "#print(classification_report(y, y_pred))\n",
    "#print(accuracy_score(y, y_pred))\n",
    "#skplt.metrics.plot_confusion_matrix(y, y_pred)\n",
    "#plt.show()"
   ]
  },
  {
   "cell_type": "markdown",
   "metadata": {},
   "source": [
    "## Testing"
   ]
  },
  {
   "cell_type": "code",
   "execution_count": 10,
   "metadata": {},
   "outputs": [
    {
     "name": "stdout",
     "output_type": "stream",
     "text": [
      "576/576 [==============================] - 369s 640ms/step\n"
     ]
    }
   ],
   "source": [
    "test_generator.reset()\n",
    "test_steps = test_generator.n//test_generator.batch_size\n",
    "y_test = model.predict_generator(test_generator,\n",
    "                                        steps=test_steps,\n",
    "                                        verbose=1)"
   ]
  },
  {
   "cell_type": "code",
   "execution_count": 11,
   "metadata": {},
   "outputs": [],
   "source": [
    "y_test = np.argmax(y_test, axis=1).astype('int8')"
   ]
  },
  {
   "cell_type": "code",
   "execution_count": 12,
   "metadata": {},
   "outputs": [
    {
     "name": "stdout",
     "output_type": "stream",
     "text": [
      "[0 0 0 ... 3 3 3]\n",
      "['C', 'FA', 'M', 'S']\n"
     ]
    }
   ],
   "source": [
    "true_classes = test_generator.classes\n",
    "class_labels = list(test_generator.class_indices.keys())\n",
    "print(true_classes)\n",
    "print(class_labels)"
   ]
  },
  {
   "cell_type": "code",
   "execution_count": 13,
   "metadata": {},
   "outputs": [
    {
     "name": "stdout",
     "output_type": "stream",
     "text": [
      "             precision    recall  f1-score   support\n",
      "\n",
      "          C       0.98      0.99      0.99      2880\n",
      "         FA       1.00      1.00      1.00      2880\n",
      "          M       0.99      0.99      0.99      2880\n",
      "          S       0.99      0.97      0.98      2880\n",
      "\n",
      "avg / total       0.99      0.99      0.99     11520\n",
      "\n"
     ]
    }
   ],
   "source": [
    "from sklearn import metrics\n",
    "from sklearn.metrics import classification_report\n",
    "report = metrics.classification_report(true_classes, y_test, target_names=class_labels)\n",
    "print(report)   "
   ]
  },
  {
   "cell_type": "code",
   "execution_count": 14,
   "metadata": {},
   "outputs": [
    {
     "data": {
      "image/png": "[encoded data removed]",
      "text/plain": [
       "<Figure size 432x288 with 2 Axes>"
      ]
     },
     "metadata": {},
     "output_type": "display_data"
    }
   ],
   "source": [
    "skplt.metrics.plot_confusion_matrix(true_classes, y_test,title='Confusion matrix')\n",
    "plt.show()"
   ]
  },
  {
   "cell_type": "code",
   "execution_count": 15,
   "metadata": {},
   "outputs": [
    {
     "name": "stdout",
     "output_type": "stream",
     "text": [
      "Accuracy Score: 0.9892361111111111\n"
     ]
    }
   ],
   "source": [
    "Acc= accuracy_score(true_classes, y_test)\n",
    "print('Accuracy Score:', Acc)"
   ]
  },
  {
   "cell_type": "markdown",
   "metadata": {},
   "source": [
    "## Holdout Prediction"
   ]
  },
  {
   "cell_type": "code",
   "execution_count": 16,
   "metadata": {},
   "outputs": [
    {
     "name": "stdout",
     "output_type": "stream",
     "text": [
      "576/576 [==============================] - 248s 431ms/step\n",
      "-370854.0327548981ms\n"
     ]
    }
   ],
   "source": [
    "hold_generator.reset()\n",
    "hold_steps = hold_generator.n//hold_generator.batch_size\n",
    "tic=time.time()\n",
    "y_holdout = model.predict_generator(hold_generator,\n",
    "                                        steps=hold_steps,\n",
    "                                        verbose=1)\n",
    "tcc=time.time()\n",
    "print(str(1000*(toc-tic))+\"ms\")\n",
    "y_holdout = np.argmax(y_holdout, axis=1).astype('int8')\n",
    "\n"
   ]
  },
  {
   "cell_type": "code",
   "execution_count": 17,
   "metadata": {},
   "outputs": [
    {
     "name": "stdout",
     "output_type": "stream",
     "text": [
      "[0 0 0 ... 3 3 3]\n",
      "['C', 'FA', 'M', 'S']\n",
      "             precision    recall  f1-score   support\n",
      "\n",
      "          C       0.98      0.99      0.99      2880\n",
      "         FA       1.00      1.00      1.00      2880\n",
      "          M       0.98      0.99      0.99      2880\n",
      "          S       0.99      0.97      0.98      2880\n",
      "\n",
      "avg / total       0.99      0.99      0.99     11520\n",
      "\n"
     ]
    },
    {
     "data": {
      "image/png": "[encoded data removed]",
      "text/plain": [
       "<Figure size 432x288 with 2 Axes>"
      ]
     },
     "metadata": {},
     "output_type": "display_data"
    },
    {
     "name": "stdout",
     "output_type": "stream",
     "text": [
      "0.9892361111111111\n"
     ]
    }
   ],
   "source": [
    "true_classes1 = hold_generator.classes\n",
    "class_labels1 = list(hold_generator.class_indices.keys())\n",
    "print(true_classes1)\n",
    "print(class_labels1)\n",
    "report1 = metrics.classification_report(true_classes1, y_holdout, target_names=class_labels1)\n",
    "print(report1)   \n",
    "skplt.metrics.plot_confusion_matrix(true_classes1, y_holdout )\n",
    "plt.show()\n",
    "print(accuracy_score(true_classes, y_test))"
   ]
  },
  {
   "cell_type": "markdown",
   "metadata": {},
   "source": [
    "### testing using evaluate genrerator"
   ]
  },
  {
   "cell_type": "code",
   "execution_count": 18,
   "metadata": {},
   "outputs": [
    {
     "name": "stdout",
     "output_type": "stream",
     "text": [
      "576/576 [==============================] - 312s 542ms/step\n",
      "test acc 0.9892361090622015\n",
      "test loss: 0.03428491618863553\n"
     ]
    }
   ],
   "source": [
    "## to get confusion matrix for training_set\n",
    "test_generator.reset()\n",
    "test_steps = test_generator.n//test_generator.batch_size \n",
    "y = np.ones((len(os.listdir('./500ms/testing_set/' + classes[0] + '/')),1))\n",
    "for i in range(1,num_category ):\n",
    "    y = np.vstack((y, np.ones((len(os.listdir('./500ms/testing_set/' + classes[i] + '/')),1))))\n",
    "\n",
    "test_loss, test_acc = model.evaluate_generator(test_generator,\n",
    "                                        steps=test_steps,\n",
    "                                        verbose=1)\n",
    "print('test acc', test_acc)\n",
    "print('test loss:', test_loss)"
   ]
  },
  {
   "cell_type": "code",
   "execution_count": null,
   "metadata": {},
   "outputs": [],
   "source": []
  },
  {
   "cell_type": "code",
   "execution_count": null,
   "metadata": {},
   "outputs": [],
   "source": []
  },
  {
   "cell_type": "code",
   "execution_count": null,
   "metadata": {},
   "outputs": [],
   "source": []
  }
 ],
 "metadata": {
  "accelerator": "GPU",
  "colab": {
   "collapsed_sections": [],
   "name": "SpectroCNN.ipynb",
   "provenance": [],
   "version": "0.3.2"
  },
  "kernelspec": {
   "display_name": "Python 3",
   "language": "python",
   "name": "python3"
  },
  "language_info": {
   "codemirror_mode": {
    "name": "ipython",
    "version": 3
   },
   "file_extension": ".py",
   "mimetype": "text/x-python",
   "name": "python",
   "nbconvert_exporter": "python",
   "pygments_lexer": "ipython3",
   "version": "3.6.5"
  }
 },
 "nbformat": 4,
 "nbformat_minor": 1
}
