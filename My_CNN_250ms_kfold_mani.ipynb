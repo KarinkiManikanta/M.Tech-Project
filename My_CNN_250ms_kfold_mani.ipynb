{
 "cells": [
  {
   "cell_type": "markdown",
   "metadata": {},
   "source": [
    "# Helpful Functions"
   ]
  },
  {
   "cell_type": "code",
   "execution_count": 1,
   "metadata": {},
   "outputs": [],
   "source": [
    "from sklearn import preprocessing\n",
    "import matplotlib.pyplot as plt\n",
    "import numpy as np\n",
    "import pandas as pd\n",
    "import shutil\n",
    "import os\n",
    "import requests\n",
    "import base64\n",
    "\n",
    "\n",
    "# Encode text values to dummy variables(i.e. [1,0,0],[0,1,0],[0,0,1] for red,green,blue)\n",
    "def encode_text_dummy(df, name):\n",
    "    dummies = pd.get_dummies(df[name])\n",
    "    for x in dummies.columns:\n",
    "        dummy_name = \"{}-{}\".format(name, x)\n",
    "        df[dummy_name] = dummies[x]\n",
    "    df.drop(name, axis=1, inplace=True)\n",
    "\n",
    "\n",
    "# Encode text values to a single dummy variable.  The new columns (which do not replace the old) will have a 1\n",
    "# at every location where the original column (name) matches each of the target_values.  One column is added for\n",
    "# each target value.\n",
    "def encode_text_single_dummy(df, name, target_values):\n",
    "    for tv in target_values:\n",
    "        l = list(df[name].astype(str))\n",
    "        l = [1 if str(x) == str(tv) else 0 for x in l]\n",
    "        name2 = \"{}-{}\".format(name, tv)\n",
    "        df[name2] = l\n",
    "\n",
    "\n",
    "# Encode text values to indexes(i.e. [1],[2],[3] for red,green,blue).\n",
    "def encode_text_index(df, name):\n",
    "    le = preprocessing.LabelEncoder()\n",
    "    df[name] = le.fit_transform(df[name])\n",
    "    return le.classes_\n",
    "\n",
    "\n",
    "# Encode a numeric column as zscores\n",
    "def encode_numeric_zscore(df, name, mean=None, sd=None):\n",
    "    if mean is None:\n",
    "        mean = df[name].mean()\n",
    "\n",
    "    if sd is None:\n",
    "        sd = df[name].std()\n",
    "\n",
    "    df[name] = (df[name] - mean) / sd\n",
    "\n",
    "\n",
    "# Convert all missing values in the specified column to the median\n",
    "def missing_median(df, name):\n",
    "    med = df[name].median()\n",
    "    df[name] = df[name].fillna(med)\n",
    "\n",
    "\n",
    "# Convert all missing values in the specified column to the default\n",
    "def missing_default(df, name, default_value):\n",
    "    df[name] = df[name].fillna(default_value)\n",
    "\n",
    "\n",
    "# Convert a Pandas dataframe to the x,y inputs that TensorFlow needs\n",
    "def to_xy(df, target):\n",
    "    result = []\n",
    "    for x in df.columns:\n",
    "        if x != target:\n",
    "            result.append(x)\n",
    "    # find out the type of the target column.  Is it really this hard? :(\n",
    "    target_type = df[target].dtypes\n",
    "    target_type = target_type[0] if hasattr(target_type, '__iter__') else target_type\n",
    "    # Encode to int for classification, float otherwise. TensorFlow likes 32 bits.\n",
    "    if target_type in (np.int64, np.int32):\n",
    "        # Classification\n",
    "        dummies = pd.get_dummies(df[target])\n",
    "        return df.as_matrix(result).astype(np.float32), dummies.as_matrix().astype(np.float32)\n",
    "    else:\n",
    "        # Regression\n",
    "        return df.as_matrix(result).astype(np.float32), df.as_matrix([target]).astype(np.float32)\n",
    "\n",
    "# Nicely formatted time string\n",
    "def hms_string(sec_elapsed):\n",
    "    h = int(sec_elapsed / (60 * 60))\n",
    "    m = int((sec_elapsed % (60 * 60)) / 60)\n",
    "    s = sec_elapsed % 60\n",
    "    return \"{}:{:>02}:{:>05.2f}\".format(h, m, s)\n",
    "\n",
    "\n",
    "# Regression chart.\n",
    "def chart_regression(pred,y,sort=True):\n",
    "    t = pd.DataFrame({'pred' : pred, 'y' : y.flatten()})\n",
    "    if sort:\n",
    "        t.sort_values(by=['y'],inplace=True)\n",
    "    a = plt.plot(t['y'].tolist(),label='expected')\n",
    "    b = plt.plot(t['pred'].tolist(),label='prediction')\n",
    "    plt.ylabel('output')\n",
    "    plt.legend()\n",
    "    plt.show()\n",
    "\n",
    "# Remove all rows where the specified column is +/- sd standard deviations\n",
    "def remove_outliers(df, name, sd):\n",
    "    drop_rows = df.index[(np.abs(df[name] - df[name].mean()) >= (sd * df[name].std()))]\n",
    "    df.drop(drop_rows, axis=0, inplace=True)\n",
    "\n",
    "\n",
    "# Encode a column to a range between normalized_low and normalized_high.\n",
    "def encode_numeric_range(df, name, normalized_low=-1, normalized_high=1,\n",
    "                         data_low=None, data_high=None):\n",
    "    if data_low is None:\n",
    "        data_low = min(df[name])\n",
    "        data_high = max(df[name])\n",
    "\n",
    "    df[name] = ((df[name] - data_low) / (data_high - data_low)) \\\n",
    "               * (normalized_high - normalized_low) + normalized_low\n"
   ]
  },
  {
   "cell_type": "code",
   "execution_count": 1,
   "metadata": {},
   "outputs": [
    {
     "name": "stderr",
     "output_type": "stream",
     "text": [
      "Using TensorFlow backend.\n"
     ]
    }
   ],
   "source": [
    "import pandas as pd\n",
    "import os\n",
    "import numpy as np\n",
    "from sklearn import metrics\n",
    "from scipy.stats import zscore\n",
    "from sklearn.model_selection import KFold\n",
    "from keras.models import Sequential\n",
    "from keras import layers\n",
    "from keras.callbacks import EarlyStopping\n",
    "import keras\n",
    "from sklearn.model_selection import train_test_split\n",
    "import tensorflow as tf\n",
    "from keras.callbacks import ModelCheckpoint\n",
    "from keras import backend as K\n",
    "import matplotlib.pyplot as plt\n",
    "from sklearn.metrics import confusion_matrix\n",
    "import time\n",
    "from keras.layers import Dense, Dropout, Flatten, Reshape, GlobalAveragePooling1D\n"
   ]
  },
  {
   "cell_type": "code",
   "execution_count": 3,
   "metadata": {},
   "outputs": [
    {
     "name": "stdout",
     "output_type": "stream",
     "text": [
      "(1151855, 14)\n"
     ]
    },
    {
     "data": {
      "text/html": [
       "<div>\n",
       "<style scoped>\n",
       "    .dataframe tbody tr th:only-of-type {\n",
       "        vertical-align: middle;\n",
       "    }\n",
       "\n",
       "    .dataframe tbody tr th {\n",
       "        vertical-align: top;\n",
       "    }\n",
       "\n",
       "    .dataframe thead th {\n",
       "        text-align: right;\n",
       "    }\n",
       "</style>\n",
       "<table border=\"1\" class=\"dataframe\">\n",
       "  <thead>\n",
       "    <tr style=\"text-align: right;\">\n",
       "      <th></th>\n",
       "      <th>MFCC0</th>\n",
       "      <th>MFCC1</th>\n",
       "      <th>MFCC2</th>\n",
       "      <th>MFCC3</th>\n",
       "      <th>MFCC4</th>\n",
       "      <th>MFCC5</th>\n",
       "      <th>MFCC6</th>\n",
       "      <th>MFCC7</th>\n",
       "      <th>MFCC8</th>\n",
       "      <th>MFCC9</th>\n",
       "      <th>MFCC10</th>\n",
       "      <th>MFCC11</th>\n",
       "      <th>MFCC12</th>\n",
       "      <th>Label</th>\n",
       "    </tr>\n",
       "  </thead>\n",
       "  <tbody>\n",
       "    <tr>\n",
       "      <th>0</th>\n",
       "      <td>-1.156698</td>\n",
       "      <td>30.177571</td>\n",
       "      <td>14.660770</td>\n",
       "      <td>3.607221</td>\n",
       "      <td>0.288360</td>\n",
       "      <td>2.769165</td>\n",
       "      <td>-3.234655</td>\n",
       "      <td>6.639185</td>\n",
       "      <td>-1.344169</td>\n",
       "      <td>4.468443</td>\n",
       "      <td>-2.958039</td>\n",
       "      <td>2.068470</td>\n",
       "      <td>1.180088</td>\n",
       "      <td>AC &amp; FAN</td>\n",
       "    </tr>\n",
       "    <tr>\n",
       "      <th>1</th>\n",
       "      <td>-1.057954</td>\n",
       "      <td>30.020239</td>\n",
       "      <td>14.655350</td>\n",
       "      <td>4.016522</td>\n",
       "      <td>0.670491</td>\n",
       "      <td>2.716826</td>\n",
       "      <td>-2.725660</td>\n",
       "      <td>6.585149</td>\n",
       "      <td>-0.531257</td>\n",
       "      <td>5.018496</td>\n",
       "      <td>-1.769480</td>\n",
       "      <td>2.426556</td>\n",
       "      <td>1.197883</td>\n",
       "      <td>AC &amp; FAN</td>\n",
       "    </tr>\n",
       "    <tr>\n",
       "      <th>2</th>\n",
       "      <td>-1.038729</td>\n",
       "      <td>30.297200</td>\n",
       "      <td>14.477445</td>\n",
       "      <td>4.185600</td>\n",
       "      <td>-0.013551</td>\n",
       "      <td>2.507586</td>\n",
       "      <td>-2.385098</td>\n",
       "      <td>7.583516</td>\n",
       "      <td>0.821473</td>\n",
       "      <td>5.668451</td>\n",
       "      <td>-2.216360</td>\n",
       "      <td>1.834316</td>\n",
       "      <td>0.287000</td>\n",
       "      <td>AC &amp; FAN</td>\n",
       "    </tr>\n",
       "    <tr>\n",
       "      <th>3</th>\n",
       "      <td>-1.031753</td>\n",
       "      <td>30.308872</td>\n",
       "      <td>14.390459</td>\n",
       "      <td>4.556633</td>\n",
       "      <td>-0.998314</td>\n",
       "      <td>2.591629</td>\n",
       "      <td>-2.220589</td>\n",
       "      <td>7.024910</td>\n",
       "      <td>-0.051632</td>\n",
       "      <td>5.291946</td>\n",
       "      <td>-1.373251</td>\n",
       "      <td>1.892320</td>\n",
       "      <td>0.522117</td>\n",
       "      <td>AC &amp; FAN</td>\n",
       "    </tr>\n",
       "    <tr>\n",
       "      <th>4</th>\n",
       "      <td>-1.008919</td>\n",
       "      <td>30.663115</td>\n",
       "      <td>14.199688</td>\n",
       "      <td>3.618487</td>\n",
       "      <td>-2.098603</td>\n",
       "      <td>1.240299</td>\n",
       "      <td>-3.486570</td>\n",
       "      <td>8.769523</td>\n",
       "      <td>1.134318</td>\n",
       "      <td>5.685237</td>\n",
       "      <td>-0.009215</td>\n",
       "      <td>2.604023</td>\n",
       "      <td>0.304691</td>\n",
       "      <td>AC &amp; FAN</td>\n",
       "    </tr>\n",
       "  </tbody>\n",
       "</table>\n",
       "</div>"
      ],
      "text/plain": [
       "      MFCC0      MFCC1      MFCC2     MFCC3     MFCC4     MFCC5     MFCC6  \\\n",
       "0 -1.156698  30.177571  14.660770  3.607221  0.288360  2.769165 -3.234655   \n",
       "1 -1.057954  30.020239  14.655350  4.016522  0.670491  2.716826 -2.725660   \n",
       "2 -1.038729  30.297200  14.477445  4.185600 -0.013551  2.507586 -2.385098   \n",
       "3 -1.031753  30.308872  14.390459  4.556633 -0.998314  2.591629 -2.220589   \n",
       "4 -1.008919  30.663115  14.199688  3.618487 -2.098603  1.240299 -3.486570   \n",
       "\n",
       "      MFCC7     MFCC8     MFCC9    MFCC10    MFCC11    MFCC12     Label  \n",
       "0  6.639185 -1.344169  4.468443 -2.958039  2.068470  1.180088  AC & FAN  \n",
       "1  6.585149 -0.531257  5.018496 -1.769480  2.426556  1.197883  AC & FAN  \n",
       "2  7.583516  0.821473  5.668451 -2.216360  1.834316  0.287000  AC & FAN  \n",
       "3  7.024910 -0.051632  5.291946 -1.373251  1.892320  0.522117  AC & FAN  \n",
       "4  8.769523  1.134318  5.685237 -0.009215  2.604023  0.304691  AC & FAN  "
      ]
     },
     "execution_count": 3,
     "metadata": {},
     "output_type": "execute_result"
    }
   ],
   "source": [
    "# Read MFCCs feature CSV file of audio of 100ms block\n",
    "\n",
    "path=\"/home/bsplab/Desktop/manikanta/16khz_data/NEWFRAME_SHIFTING_DATA/CNN+MFCC_newshifting/250ms/training\"\n",
    "#filename=os.path.join(path,\"100ms_7C.csv\")\n",
    "df=pd.read_csv(\"/home/bsplab/Desktop/manikanta/16khz_data/NEWFRAME_SHIFTING_DATA/CNN+MFCC_newshifting/250ms/training/final_250ms.csv\", na_values=['NA','?'])\n",
    "df.columns=['MFCC0', 'MFCC1','MFCC2','MFCC3','MFCC4','MFCC5','MFCC6','MFCC7','MFCC8', \n",
    "            'MFCC9', 'MFCC10' ,'MFCC11', 'MFCC12', 'Label']\n",
    "#df=pd.read_csv(filename,na_values=['NA','?'])\n",
    "filename_write = os.path.join(path,\"/home/bsplab/Desktop/manikanta/16khz_data/NEWFRAME_SHIFTING_DATA/CNN+MFCC_newshifting/250ms/training/output_cnnkfold_250ms.csv\")\n",
    "print(df.shape)\n",
    "df.head()"
   ]
  },
  {
   "cell_type": "code",
   "execution_count": 4,
   "metadata": {},
   "outputs": [
    {
     "name": "stdout",
     "output_type": "stream",
     "text": [
      "Label has na? False\n"
     ]
    }
   ],
   "source": [
    "print(\"Label has na? {}\".format(pd.isnull(df['Label']).values.any()))"
   ]
  },
  {
   "cell_type": "code",
   "execution_count": 5,
   "metadata": {},
   "outputs": [
    {
     "data": {
      "text/plain": [
       "(1151855, 14)"
      ]
     },
     "execution_count": 5,
     "metadata": {},
     "output_type": "execute_result"
    }
   ],
   "source": [
    "df=df.dropna()\n",
    "df.shape"
   ]
  },
  {
   "cell_type": "code",
   "execution_count": 6,
   "metadata": {},
   "outputs": [
    {
     "name": "stdout",
     "output_type": "stream",
     "text": [
      "Label has na? False\n"
     ]
    }
   ],
   "source": [
    "print(\"Label has na? {}\".format(pd.isnull(df['Label']).values.any()))"
   ]
  },
  {
   "cell_type": "code",
   "execution_count": 7,
   "metadata": {},
   "outputs": [
    {
     "data": {
      "text/html": [
       "<div>\n",
       "<style scoped>\n",
       "    .dataframe tbody tr th:only-of-type {\n",
       "        vertical-align: middle;\n",
       "    }\n",
       "\n",
       "    .dataframe tbody tr th {\n",
       "        vertical-align: top;\n",
       "    }\n",
       "\n",
       "    .dataframe thead th {\n",
       "        text-align: right;\n",
       "    }\n",
       "</style>\n",
       "<table border=\"1\" class=\"dataframe\">\n",
       "  <thead>\n",
       "    <tr style=\"text-align: right;\">\n",
       "      <th></th>\n",
       "      <th>MFCC0</th>\n",
       "      <th>MFCC1</th>\n",
       "      <th>MFCC2</th>\n",
       "      <th>MFCC3</th>\n",
       "      <th>MFCC4</th>\n",
       "      <th>MFCC5</th>\n",
       "      <th>MFCC6</th>\n",
       "      <th>MFCC7</th>\n",
       "      <th>MFCC8</th>\n",
       "      <th>MFCC9</th>\n",
       "      <th>MFCC10</th>\n",
       "      <th>MFCC11</th>\n",
       "      <th>MFCC12</th>\n",
       "      <th>Label</th>\n",
       "    </tr>\n",
       "  </thead>\n",
       "  <tbody>\n",
       "    <tr>\n",
       "      <th>0</th>\n",
       "      <td>-2.258577</td>\n",
       "      <td>-15.339601</td>\n",
       "      <td>-2.788815</td>\n",
       "      <td>-25.249022</td>\n",
       "      <td>-30.498448</td>\n",
       "      <td>-23.184589</td>\n",
       "      <td>-6.682635</td>\n",
       "      <td>-2.963845</td>\n",
       "      <td>-29.011377</td>\n",
       "      <td>-6.843955</td>\n",
       "      <td>-6.695362</td>\n",
       "      <td>15.474780</td>\n",
       "      <td>7.171197</td>\n",
       "      <td>CRYING</td>\n",
       "    </tr>\n",
       "    <tr>\n",
       "      <th>1</th>\n",
       "      <td>3.573552</td>\n",
       "      <td>-29.801286</td>\n",
       "      <td>-32.800348</td>\n",
       "      <td>18.600491</td>\n",
       "      <td>-18.167120</td>\n",
       "      <td>0.516414</td>\n",
       "      <td>8.259454</td>\n",
       "      <td>-13.633365</td>\n",
       "      <td>-6.569277</td>\n",
       "      <td>9.981354</td>\n",
       "      <td>36.312308</td>\n",
       "      <td>14.698279</td>\n",
       "      <td>-5.105866</td>\n",
       "      <td>CRYING</td>\n",
       "    </tr>\n",
       "    <tr>\n",
       "      <th>2</th>\n",
       "      <td>-0.516653</td>\n",
       "      <td>45.215485</td>\n",
       "      <td>8.872781</td>\n",
       "      <td>3.358796</td>\n",
       "      <td>2.520323</td>\n",
       "      <td>-5.653455</td>\n",
       "      <td>0.178937</td>\n",
       "      <td>0.699667</td>\n",
       "      <td>-1.335385</td>\n",
       "      <td>-2.408092</td>\n",
       "      <td>-1.213109</td>\n",
       "      <td>0.568330</td>\n",
       "      <td>-2.395452</td>\n",
       "      <td>AC &amp; FAN</td>\n",
       "    </tr>\n",
       "    <tr>\n",
       "      <th>3</th>\n",
       "      <td>-1.613895</td>\n",
       "      <td>-18.737258</td>\n",
       "      <td>9.198962</td>\n",
       "      <td>8.345222</td>\n",
       "      <td>-28.993521</td>\n",
       "      <td>-43.917886</td>\n",
       "      <td>-37.541138</td>\n",
       "      <td>-6.779316</td>\n",
       "      <td>-23.546223</td>\n",
       "      <td>6.951527</td>\n",
       "      <td>8.173892</td>\n",
       "      <td>15.333574</td>\n",
       "      <td>-16.777706</td>\n",
       "      <td>SPEECH</td>\n",
       "    </tr>\n",
       "    <tr>\n",
       "      <th>4</th>\n",
       "      <td>-1.902842</td>\n",
       "      <td>-4.279856</td>\n",
       "      <td>-7.496576</td>\n",
       "      <td>20.133896</td>\n",
       "      <td>-34.027908</td>\n",
       "      <td>2.676867</td>\n",
       "      <td>-22.437339</td>\n",
       "      <td>-25.099282</td>\n",
       "      <td>12.283905</td>\n",
       "      <td>-17.199786</td>\n",
       "      <td>15.678498</td>\n",
       "      <td>3.746951</td>\n",
       "      <td>-6.190123</td>\n",
       "      <td>SPEECH</td>\n",
       "    </tr>\n",
       "  </tbody>\n",
       "</table>\n",
       "</div>"
      ],
      "text/plain": [
       "      MFCC0      MFCC1      MFCC2      MFCC3      MFCC4      MFCC5      MFCC6  \\\n",
       "0 -2.258577 -15.339601  -2.788815 -25.249022 -30.498448 -23.184589  -6.682635   \n",
       "1  3.573552 -29.801286 -32.800348  18.600491 -18.167120   0.516414   8.259454   \n",
       "2 -0.516653  45.215485   8.872781   3.358796   2.520323  -5.653455   0.178937   \n",
       "3 -1.613895 -18.737258   9.198962   8.345222 -28.993521 -43.917886 -37.541138   \n",
       "4 -1.902842  -4.279856  -7.496576  20.133896 -34.027908   2.676867 -22.437339   \n",
       "\n",
       "       MFCC7      MFCC8      MFCC9     MFCC10     MFCC11     MFCC12     Label  \n",
       "0  -2.963845 -29.011377  -6.843955  -6.695362  15.474780   7.171197    CRYING  \n",
       "1 -13.633365  -6.569277   9.981354  36.312308  14.698279  -5.105866    CRYING  \n",
       "2   0.699667  -1.335385  -2.408092  -1.213109   0.568330  -2.395452  AC & FAN  \n",
       "3  -6.779316 -23.546223   6.951527   8.173892  15.333574 -16.777706    SPEECH  \n",
       "4 -25.099282  12.283905 -17.199786  15.678498   3.746951  -6.190123    SPEECH  "
      ]
     },
     "execution_count": 7,
     "metadata": {},
     "output_type": "execute_result"
    }
   ],
   "source": [
    "# Shuffle\n",
    "np.random.seed(42)# set a seed so that the results are consistent\n",
    "df = df.reindex(np.random.permutation(df.index))\n",
    "df.reset_index(inplace=True, drop=True)\n",
    "df.head()"
   ]
  },
  {
   "cell_type": "code",
   "execution_count": 8,
   "metadata": {},
   "outputs": [
    {
     "name": "stdout",
     "output_type": "stream",
     "text": [
      "Labelling is:['AC & FAN' 'CRYING' 'MUSIC' 'SPEECH']\n"
     ]
    },
    {
     "name": "stderr",
     "output_type": "stream",
     "text": [
      "/home/bsplab/anaconda3/lib/python3.6/site-packages/ipykernel_launcher.py:73: FutureWarning: Method .as_matrix will be removed in a future version. Use .values instead.\n"
     ]
    }
   ],
   "source": [
    "# Encode to a 2D matrix for training\n",
    "Label = encode_text_index(df,'Label')\n",
    "print(\"Labelling is:{}\".format(Label))\n",
    "\n",
    "############################################################################################\n",
    "\n",
    "# Sperating Independent variable and Target Variable\n",
    "x,y=to_xy(df,'Label')"
   ]
  },
  {
   "cell_type": "code",
   "execution_count": 9,
   "metadata": {},
   "outputs": [],
   "source": [
    "# Keep a 20% holdout\n",
    "x_main, x_holdout, y_main, y_holdout = train_test_split(    \n",
    "    x, y, test_size=0.20)"
   ]
  },
  {
   "cell_type": "code",
   "execution_count": 10,
   "metadata": {},
   "outputs": [
    {
     "name": "stdout",
     "output_type": "stream",
     "text": [
      "Shape of x : (1151855, 13)\n",
      "Shape of y : (1151855, 4)\n",
      "Shape of x_main : (921484, 13)\n",
      "Shape of x_holdout : (230371, 13)\n",
      "Shape of y_main : (921484, 4)\n",
      "Shape of y_holdout : (230371, 4)\n"
     ]
    }
   ],
   "source": [
    "print(\"Shape of x : {}\".format(x.shape))\n",
    "print(\"Shape of y : {}\".format(y.shape))\n",
    "print(\"Shape of x_main : {}\".format(x_main.shape))\n",
    "print(\"Shape of x_holdout : {}\".format(x_holdout.shape))\n",
    "print(\"Shape of y_main : {}\".format(y_main.shape))\n",
    "print(\"Shape of y_holdout : {}\".format(y_holdout.shape))"
   ]
  },
  {
   "cell_type": "code",
   "execution_count": 11,
   "metadata": {},
   "outputs": [
    {
     "name": "stdout",
     "output_type": "stream",
     "text": [
      "Fold #1\n",
      "Fold score (accuracy): 0.982229770424912\n",
      "Elapsed time: 0:15:47.54\n",
      "Confusion matrix, without normalization\n",
      "[[45939     1     3     1]\n",
      " [    1 45026   458   446]\n",
      " [    4   297 44855   958]\n",
      " [    3   288   815 45202]]\n",
      "Fold #2\n",
      "Fold score (accuracy): 0.9819150610156432\n",
      "Elapsed time: 0:31:46.51\n",
      "Confusion matrix, without normalization\n",
      "[[45822     1     8     2]\n",
      " [    0 45240   666   501]\n",
      " [    3   195 45088   807]\n",
      " [    6   265   879 44814]]\n",
      "Fold #3\n",
      "Fold score (accuracy): 0.9816600378736496\n",
      "Elapsed time: 0:47:51.41\n",
      "Confusion matrix, without normalization\n",
      "[[45843     4     1     0]\n",
      " [    0 45448   341   307]\n",
      " [   10   589 44838   947]\n",
      " [    7   499   675 44788]]\n",
      "Fold #4\n",
      "Fold score (accuracy): 0.9826095921257535\n",
      "Elapsed time: 1:04:08.18\n",
      "Confusion matrix, without normalization\n",
      "[[45993     0     2     0]\n",
      " [    3 45099   533   356]\n",
      " [    6   278 44775   909]\n",
      " [    2   388   728 45225]]\n",
      "Fold #5\n",
      "Fold score (accuracy): 0.9820506142292833\n",
      "Elapsed time: 1:20:39.02\n",
      "Confusion matrix, without normalization\n",
      "[[46532     0     3     1]\n",
      " [    3 45094   546   467]\n",
      " [    7   259 44503   996]\n",
      " [   11   304   711 44859]]\n",
      "_________________________________________________________________\n",
      "Layer (type)                 Output Shape              Param #   \n",
      "=================================================================\n",
      "conv1d_17 (Conv1D)           (None, 12, 50)            150       \n",
      "_________________________________________________________________\n",
      "conv1d_18 (Conv1D)           (None, 11, 50)            5050      \n",
      "_________________________________________________________________\n",
      "max_pooling1d_5 (MaxPooling1 (None, 5, 50)             0         \n",
      "_________________________________________________________________\n",
      "conv1d_19 (Conv1D)           (None, 4, 100)            10100     \n",
      "_________________________________________________________________\n",
      "conv1d_20 (Conv1D)           (None, 3, 100)            20100     \n",
      "_________________________________________________________________\n",
      "flatten_5 (Flatten)          (None, 300)               0         \n",
      "_________________________________________________________________\n",
      "dropout_9 (Dropout)          (None, 300)               0         \n",
      "_________________________________________________________________\n",
      "dense_9 (Dense)              (None, 100)               30100     \n",
      "_________________________________________________________________\n",
      "dropout_10 (Dropout)         (None, 100)               0         \n",
      "_________________________________________________________________\n",
      "dense_10 (Dense)             (None, 4)                 404       \n",
      "=================================================================\n",
      "Total params: 65,904\n",
      "Trainable params: 65,904\n",
      "Non-trainable params: 0\n",
      "_________________________________________________________________\n",
      "None\n",
      "Final score (accuracy): 0.982093015179862\n"
     ]
    }
   ],
   "source": [
    "epochs=30\n",
    "batch_size = 128\n",
    "num_classes = 4\n",
    "start_time = time.time()\n",
    "# Cross-validate\n",
    "kf = KFold(5)\n",
    "    \n",
    "oos_y = []\n",
    "oos_pred = []\n",
    "fold = 0\n",
    "plot_loss = np.empty ((0,epochs))\n",
    "plot_acc = np.empty ((0,epochs))\n",
    "\n",
    "for train, test in kf.split(x_main):\n",
    "    fold+=1\n",
    "    print(\"Fold #{}\".format(fold))\n",
    "        \n",
    "    x_train = x_main[train]\n",
    "    y_train = y_main[train]\n",
    "    x_test = x_main[test]\n",
    "    y_test = y_main[test]\n",
    "    \n",
    "    X_train = np.expand_dims(x_train, axis=2) # reshape (569, 30) to (569, 30, 1) \n",
    "    #y_train = np.expand_dims(y_train, axis=2)\n",
    "    #y_test = np.expand_dims(y_test, axis=2)\n",
    "    X_test = np.expand_dims(x_test, axis=2)\n",
    "   \n",
    "\n",
    "    model = Sequential()\n",
    "    model.add(layers.Conv1D(50,2,activation='relu',input_shape=(13,1)))\n",
    "    model.add(layers.Conv1D(50,2,activation='relu'))\n",
    "    model.add(layers.MaxPooling1D(2))\n",
    "    model.add(layers.Conv1D(100,2,activation='relu'))\n",
    "    model.add(layers.Conv1D(100,2,activation='relu'))\n",
    "    model.add(layers.Flatten())\n",
    "    model.add(Dropout(0.2))\n",
    "    model.add(layers.Dense(100, activation='relu'))\n",
    "    model.add(Dropout(0.2))\n",
    "    model.add(layers.Dense(y_train.shape[1],activation='softmax'))\n",
    "    #model.summary()\n",
    "    model.compile(loss='categorical_crossentropy',optimizer='adam', metrics=['accuracy'])\n",
    "    monitor = [ EarlyStopping(monitor='val_loss',\n",
    "                            min_delta=1e-3,\n",
    "                            patience=10,\n",
    "                            verbose=0,\n",
    "                            mode='auto'),ModelCheckpoint(filepath=\"best_weights_mycnn_250ms_mani.h5\",\n",
    "                                   verbose=0,\n",
    "                                   save_best_only=True)] # save best model\n",
    "\n",
    "    history = model.fit(X_train, y_train,\n",
    "                        batch_size=batch_size,\n",
    "                        epochs=epochs,\n",
    "                        callbacks= monitor,\n",
    "                        verbose=0,\n",
    "                        validation_data=(X_test, y_test))\n",
    "   # model.compile(loss='categorical_crossentropy',optimizer='adam', metrics=['accuracy'])\n",
    "\n",
    "    \n",
    "   \n",
    "    \n",
    "    \n",
    "    \n",
    "    \n",
    "\n",
    "\n",
    "\n",
    "    ####################\n",
    "    pred = model.predict(X_test)\n",
    "    \n",
    "    oos_y.append(y_test)\n",
    "    pred = np.argmax(pred,axis=1) # raw probabilities to chosen class (highest probability)\n",
    "    oos_pred.append(pred)        \n",
    "\n",
    "    # Measure this fold's accuracy\n",
    "    y_compare = np.argmax(y_test,axis=1) # For accuracy calculation\n",
    "    score = metrics.accuracy_score(y_compare, pred)\n",
    "    print(\"Fold score (accuracy): {}\".format(score))\n",
    "    \n",
    "    #######################\n",
    "    elapsed_time = time.time() - start_time\n",
    "    print(\"Elapsed time: {}\".format(hms_string(elapsed_time))) \n",
    "    \n",
    "    ###############################################\n",
    "    loss = history.history['loss']\n",
    "    #plt.plot(epochs,loss,label=='Training loss')\n",
    "    acc = history.history['acc']\n",
    "    plot_loss = np.append (plot_loss, [loss],axis=0)\n",
    "    plot_acc = np.append (plot_acc, [acc],axis=0)\n",
    "    ###############################################\n",
    "    cm = confusion_matrix(y_compare,pred)\n",
    "    np.set_printoptions(precision=2)\n",
    "    print('Confusion matrix, without normalization')\n",
    "    print(cm)\n",
    "\n",
    "print(model.summary())\n",
    "    \n",
    "    \n",
    "# Build the oos prediction list and calculate the error.\n",
    "oos_y = np.concatenate(oos_y)\n",
    "oos_pred = np.concatenate(oos_pred)\n",
    "oos_y_compare = np.argmax(oos_y,axis=1) # For accuracy calculation\n",
    "\n",
    "score = metrics.accuracy_score(oos_y_compare, oos_pred)\n",
    "\n",
    "print(\"Final score (accuracy): {}\".format(score))    \n",
    "    \n",
    "# Write the cross-validated prediction\n",
    "oos_y = pd.DataFrame(oos_y)\n",
    "oos_pred = pd.DataFrame(oos_pred)\n",
    "oosDF = pd.concat( [df, oos_y, oos_pred],axis=1 )\n",
    "oosDF.to_csv(filename_write,index=False)\n",
    "\n"
   ]
  },
  {
   "cell_type": "code",
   "execution_count": 12,
   "metadata": {},
   "outputs": [
    {
     "data": {
      "image/png": "[encoded data removed]",
      "text/plain": [
       "<Figure size 432x288 with 1 Axes>"
      ]
     },
     "metadata": {
      "needs_background": "light"
     },
     "output_type": "display_data"
    }
   ],
   "source": [
    "plot_loss_graph = plot_loss\n",
    "itr=range(1,(epochs+1))\n",
    "for i in range(1,fold+1):\n",
    "    plt.plot(itr,plot_loss_graph[i-1],label=\"Fold #{}\".format(i))\n",
    "plt.xlabel('Epochs')\n",
    "plt.ylabel('Loss')\n",
    "plt.legend()\n",
    "plt.grid()\n",
    "plt.savefig(\"k-fold_loss_cnn_250ms_mani.eps\")\n",
    "plt.savefig(\"k-fold_loss_cnn_250ms_mani.png\",dpi=150)\n",
    "plt.show()"
   ]
  },
  {
   "cell_type": "code",
   "execution_count": 13,
   "metadata": {},
   "outputs": [
    {
     "data": {
      "image/png": "[encoded data removed]",
      "text/plain": [
       "<Figure size 432x288 with 1 Axes>"
      ]
     },
     "metadata": {
      "needs_background": "light"
     },
     "output_type": "display_data"
    }
   ],
   "source": [
    "plt.clf()\n",
    "plot_acc_graph = plot_acc\n",
    "itr=range(1,(epochs+1))\n",
    "for i in range(1,fold+1):\n",
    "    plt.plot(itr,plot_acc_graph[i-1],label=\"Fold #{}\".format(i))\n",
    "\n",
    "plt.xlabel('Epochs')\n",
    "plt.ylabel('Accuracy')\n",
    "plt.legend()\n",
    "plt.grid()\n",
    "plt.savefig(\"k-fold_acc_cnn_250ms_mani.eps\",dpi=150)\n",
    "plt.savefig('k-fold_acc_cnn_250ms_mani.png',dpi=150)\n",
    "plt.show()"
   ]
  },
  {
   "cell_type": "code",
   "execution_count": 14,
   "metadata": {
    "scrolled": true
   },
   "outputs": [
    {
     "name": "stdout",
     "output_type": "stream",
     "text": [
      "13840.60788154602ms\n"
     ]
    }
   ],
   "source": [
    "# Write the cross-validated prediction (from the last neural network)\n",
    "import time\n",
    "tic=time.time()\n",
    "X_holdout = np.expand_dims(x_holdout, axis=2)\n",
    "holdout_pred = model.predict(X_holdout)\n",
    "toc=time.time()\n",
    "print(str(1000*(toc-tic))+\"ms\")\n"
   ]
  },
  {
   "cell_type": "code",
   "execution_count": 15,
   "metadata": {},
   "outputs": [
    {
     "name": "stdout",
     "output_type": "stream",
     "text": [
      "Holdout score (accuracy): 0.9823719131314271\n"
     ]
    }
   ],
   "source": [
    "holdout_pred1 = np.argmax(holdout_pred, axis=1)\n",
    "y_holdout_compare = np.argmax(y_holdout, axis=1)\n",
    "score = metrics.accuracy_score(y_holdout_compare,holdout_pred1)\n",
    "print(\"Holdout score (accuracy): {}\".format(score))"
   ]
  },
  {
   "cell_type": "code",
   "execution_count": 16,
   "metadata": {},
   "outputs": [
    {
     "name": "stdout",
     "output_type": "stream",
     "text": [
      "Log loss score: 0.0508298723748531\n"
     ]
    }
   ],
   "source": [
    "#X_holdout = np.expand_dims(x_holdout, axis=2)\n",
    "#holdout_pred = model.predict(X_holdout)\n",
    "score = metrics.log_loss(y_holdout, holdout_pred)\n",
    "print(\"Log loss score: {}\".format(score))"
   ]
  },
  {
   "cell_type": "code",
   "execution_count": 17,
   "metadata": {},
   "outputs": [],
   "source": [
    "%matplotlib inline\n",
    "import matplotlib.pyplot as plt\n",
    "from sklearn.metrics import roc_curve, auc\n",
    "import numpy as np\n",
    "from sklearn import svm, datasets\n",
    "from sklearn.model_selection import train_test_split\n",
    "from sklearn.metrics import confusion_matrix\n",
    "\n",
    "# Plot a confusion matrix.\n",
    "# cm is the confusion matrix, names are the names of the classes.\n",
    "def plot_confusion_matrix(cm, names, title='Confusion matrix', cmap=plt.cm.Blues):\n",
    "    plt.imshow(cm, interpolation='nearest', cmap=cmap)\n",
    "    plt.title(title)\n",
    "    plt.colorbar()\n",
    "    tick_marks = np.arange(len(names))\n",
    "    plt.xticks(tick_marks, names, rotation=45)\n",
    "    plt.yticks(tick_marks, names)\n",
    "    plt.tight_layout()\n",
    "    plt.ylabel('True label')\n",
    "    plt.xlabel('Predicted label')\n",
    "    "
   ]
  },
  {
   "cell_type": "code",
   "execution_count": 18,
   "metadata": {},
   "outputs": [],
   "source": [
    "## Turn off the scintific notation \n",
    "np.set_printoptions(suppress=True)"
   ]
  },
  {
   "cell_type": "code",
   "execution_count": 19,
   "metadata": {
    "scrolled": false
   },
   "outputs": [
    {
     "name": "stdout",
     "output_type": "stream",
     "text": [
      "Confusion matrix, without normalization\n",
      "[[57803     0     4     0]\n",
      " [    5 56117   695   612]\n",
      " [   15   275 56102  1248]\n",
      " [    6   377   824 56288]]\n"
     ]
    },
    {
     "data": {
      "image/png": "[encoded data removed]",
      "text/plain": [
       "<Figure size 432x288 with 2 Axes>"
      ]
     },
     "metadata": {
      "needs_background": "light"
     },
     "output_type": "display_data"
    }
   ],
   "source": [
    "\n",
    "# Compute confusion matrix\n",
    "cm = confusion_matrix(y_holdout_compare, holdout_pred1)\n",
    "np.set_printoptions(precision=2)\n",
    "print('Confusion matrix, without normalization')\n",
    "print(cm)\n",
    "plt.figure()\n",
    "plot_confusion_matrix(cm, Label)\n",
    "plt.savefig('cm_cnn_250ms_mani.png',dpi=150)\n",
    "plt.savefig('cm_cnn_250ms_mani.eps',dpi=150)\n",
    "\n"
   ]
  },
  {
   "cell_type": "code",
   "execution_count": 20,
   "metadata": {},
   "outputs": [
    {
     "name": "stdout",
     "output_type": "stream",
     "text": [
      "[[57803     0     4     0]\n",
      " [    5 56117   695   612]\n",
      " [   15   275 56102  1248]\n",
      " [    6   377   824 56288]]\n",
      "              precision    recall  f1-score   support\n",
      "\n",
      "           0       1.00      1.00      1.00     57807\n",
      "           1       0.99      0.98      0.98     57429\n",
      "           2       0.97      0.97      0.97     57640\n",
      "           3       0.97      0.98      0.97     57495\n",
      "\n",
      "   micro avg       0.98      0.98      0.98    230371\n",
      "   macro avg       0.98      0.98      0.98    230371\n",
      "weighted avg       0.98      0.98      0.98    230371\n",
      "\n"
     ]
    }
   ],
   "source": [
    "from sklearn.metrics import classification_report, confusion_matrix  \n",
    "print(confusion_matrix(y_holdout_compare, holdout_pred1))  \n",
    "print(classification_report(y_holdout_compare, holdout_pred1))"
   ]
  },
  {
   "cell_type": "code",
   "execution_count": 21,
   "metadata": {},
   "outputs": [
    {
     "name": "stdout",
     "output_type": "stream",
     "text": [
      "Confusion matrix, without normalization\n"
     ]
    },
    {
     "data": {
      "image/png": "[encoded data removed]",
      "text/plain": [
       "<Figure size 360x216 with 2 Axes>"
      ]
     },
     "metadata": {
      "needs_background": "light"
     },
     "output_type": "display_data"
    }
   ],
   "source": [
    "import matplotlib.pyplot as plt\n",
    "from sklearn.metrics import confusion_matrix\n",
    "import itertools\n",
    "def plot_confusion_matrix(cm, classes,\n",
    "                          normalize=False,\n",
    "                          title='Confusion matrix',\n",
    "                          cmap=plt.cm.Blues):\n",
    "    \"\"\"\n",
    "    This function prints and plots the confusion matrix.\n",
    "    Normalization can be applied by setting `normalize=True`.\n",
    "    \"\"\"\n",
    "    if normalize:\n",
    "        cm = cm.astype('float') / cm.sum(axis=1)[:, np.newaxis]\n",
    "        print(\"Normalized confusion matrix\")\n",
    "    else:\n",
    "        print('Confusion matrix, without normalization')\n",
    "\n",
    "    plt.imshow(cm, interpolation='nearest', cmap=cmap)\n",
    "    plt.title(title)\n",
    "    plt.colorbar()\n",
    "    tick_marks = np.arange(len(classes))\n",
    "    plt.xticks(tick_marks, classes, rotation=45)\n",
    "    plt.yticks(tick_marks, classes)\n",
    "\n",
    "    fmt = '.2f' if normalize else 'd'\n",
    "    thresh = cm.max() / 2.\n",
    "    for i, j in itertools.product(range(cm.shape[0]), range(cm.shape[1])):\n",
    "        plt.text(j, i, format(cm[i, j], fmt),\n",
    "                 horizontalalignment=\"center\",\n",
    "                 color=\"white\" if cm[i, j] > thresh else \"black\")\n",
    "\n",
    "    plt.tight_layout()\n",
    "    plt.ylabel('True label')\n",
    "    plt.xlabel('Predicted label')\n",
    "\n",
    "# Compute confusion matrix\n",
    "cnf_matrix = confusion_matrix(y_holdout_compare, holdout_pred1)\n",
    "np.set_printoptions(precision=2)\n",
    "\n",
    "\n",
    "# Plot non-normalized confusion matrix\n",
    "plt.figure(figsize=(5,3))\n",
    "plot_confusion_matrix(cnf_matrix, classes=['AC & FAN', 'CRYING','MUSIC', 'SPEECH'],\n",
    "                      title='Confusion matrix_250ms')\n",
    "\n",
    "plt.savefig('cnn_confusiponmatrix_250ms.png')"
   ]
  },
  {
   "cell_type": "code",
   "execution_count": 22,
   "metadata": {},
   "outputs": [
    {
     "name": "stdout",
     "output_type": "stream",
     "text": [
      "Overall Accuracy:  98.23719131314272\n",
      "Precision:  98.23719131314272\n",
      "Sensitivity/Recall:  98.23719131314272\n",
      "Specificity:  98.23719131314272\n",
      "Error Rate:  1.7628086868572868\n",
      "F1-Score:  98.23719131314272\n"
     ]
    }
   ],
   "source": [
    "[[B1,C1,M1,N1],[B2,C2,M2,N2],[B3,C3,M3,N3],\n",
    " [B4,C4,M4,N4]]=cm\n",
    "\n",
    "TP=(cm[0][0]+cm[1][1]+cm[2][2]+cm[3][3])\n",
    "TN=(cm[0][0]+cm[1][1]+cm[2][2]+cm[3][3])\n",
    "FP=np.sum(cm)-TP\n",
    "FN=FP\n",
    "\n",
    "\n",
    "Acc=(cm[0][0]+cm[1][1]+cm[2][2]+cm[3][3])/np.sum(cm)\n",
    "print(\"Overall Accuracy: \",Acc*100)\n",
    "\n",
    "Pr=(TP)/(TP+FP)\n",
    "print(\"Precision: \",Pr*100)\n",
    "\n",
    "Se=(TP)/(TP+FN)\n",
    "print(\"Sensitivity/Recall: \",Se*100)\n",
    "\n",
    "Sp=(TN)/(TN+FP)\n",
    "print(\"Specificity: \",Sp*100)\n",
    "\n",
    "ER=1-Acc\n",
    "print(\"Error Rate: \",100*ER)\n",
    "\n",
    "F_score = 2*TP /(2*TP + FP + FN)\n",
    "print(\"F1-Score: \",F_score*100)"
   ]
  },
  {
   "cell_type": "code",
   "execution_count": 23,
   "metadata": {},
   "outputs": [
    {
     "name": "stdout",
     "output_type": "stream",
     "text": [
      "68.02153587341309ms\n"
     ]
    }
   ],
   "source": [
    "tic=time.time()\n",
    "model.save('my_CNN_250ms_mani.h5')\n",
    "toc=time.time()\n",
    "print(str(1000*(toc-tic))+\"ms\")"
   ]
  },
  {
   "cell_type": "code",
   "execution_count": 2,
   "metadata": {},
   "outputs": [
    {
     "name": "stdout",
     "output_type": "stream",
     "text": [
      "1495.570182800293ms\n"
     ]
    }
   ],
   "source": [
    "from keras.models import load_model\n",
    "import time\n",
    "tic=time.time()\n",
    "my_model=load_model('my_CNN_250ms_mani.h5')\n",
    "toc=time.time()\n",
    "print(str(1000*(toc-tic))+\"ms\")"
   ]
  },
  {
   "cell_type": "code",
   "execution_count": 3,
   "metadata": {},
   "outputs": [
    {
     "data": {
      "text/plain": [
       "(143981, 13)"
      ]
     },
     "execution_count": 3,
     "metadata": {},
     "output_type": "execute_result"
    }
   ],
   "source": [
    "df1=pd.read_csv(\"/home/bsplab/Desktop/manikanta/16khz_data/NEWFRAME_SHIFTING_DATA/CNN+MFCC_newshifting/250ms/testing/cryingtest_250ms.csv\")\n",
    "df1.columns=['MFCC0', 'MFCC1','MFCC2','MFCC3','MFCC4','MFCC5','MFCC6','MFCC7','MFCC8', 'MFCC9', 'MFCC10' ,'MFCC11', 'MFCC12']\n",
    "df1.head()\n",
    "df1.shape"
   ]
  },
  {
   "cell_type": "code",
   "execution_count": 4,
   "metadata": {},
   "outputs": [
    {
     "data": {
      "text/plain": [
       "(143981, 13, 1)"
      ]
     },
     "execution_count": 4,
     "metadata": {},
     "output_type": "execute_result"
    }
   ],
   "source": [
    "df2 = np.expand_dims(df1, axis=2)# We have to add 1dimension more for testing\n",
    "df2.shape"
   ]
  },
  {
   "cell_type": "code",
   "execution_count": 5,
   "metadata": {},
   "outputs": [
    {
     "name": "stdout",
     "output_type": "stream",
     "text": [
      "7162.415266036987ms\n"
     ]
    }
   ],
   "source": [
    "tic=time.time()\n",
    "my_his1=my_model.predict(df2)\n",
    "toc=time.time()\n",
    "print(str(1000*(toc-tic))+\"ms\")"
   ]
  },
  {
   "cell_type": "code",
   "execution_count": 6,
   "metadata": {},
   "outputs": [
    {
     "name": "stdout",
     "output_type": "stream",
     "text": [
      "(143981,)\n"
     ]
    }
   ],
   "source": [
    "test_pred1 = np.argmax(my_his1, axis=1)\n",
    "test_pred1[150:380]\n",
    "print(test_pred1.shape)"
   ]
  },
  {
   "cell_type": "code",
   "execution_count": 10,
   "metadata": {},
   "outputs": [
    {
     "name": "stdout",
     "output_type": "stream",
     "text": [
      "The tested audio is crying\n",
      "Count is 95638\n"
     ]
    }
   ],
   "source": [
    "c =0\n",
    "for i in  test_pred1:\n",
    "    if i== 1:\n",
    "         c += 1\n",
    "    else:\n",
    "        continue \n",
    "if c > test_pred1.size/2:\n",
    "    print(\"The tested audio is crying\")\n",
    "else:\n",
    "    print(\"Error\")\n",
    "       \n",
    "        \n",
    "print(\"Count is \" + str(c))"
   ]
  },
  {
   "cell_type": "code",
   "execution_count": 31,
   "metadata": {},
   "outputs": [
    {
     "name": "stdout",
     "output_type": "stream",
     "text": [
      "Accuracy is for testing with new environment data of CRYING: 66.42404206110528\n"
     ]
    }
   ],
   "source": [
    "x=c/test_pred1.size\n",
    "print('Accuracy is for testing with new environment data of CRYING:',100*x)"
   ]
  },
  {
   "cell_type": "code",
   "execution_count": 11,
   "metadata": {},
   "outputs": [
    {
     "data": {
      "text/html": [
       "<div>\n",
       "<style scoped>\n",
       "    .dataframe tbody tr th:only-of-type {\n",
       "        vertical-align: middle;\n",
       "    }\n",
       "\n",
       "    .dataframe tbody tr th {\n",
       "        vertical-align: top;\n",
       "    }\n",
       "\n",
       "    .dataframe thead th {\n",
       "        text-align: right;\n",
       "    }\n",
       "</style>\n",
       "<table border=\"1\" class=\"dataframe\">\n",
       "  <thead>\n",
       "    <tr style=\"text-align: right;\">\n",
       "      <th></th>\n",
       "      <th>MFCC0</th>\n",
       "      <th>MFCC1</th>\n",
       "      <th>MFCC2</th>\n",
       "      <th>MFCC3</th>\n",
       "      <th>MFCC4</th>\n",
       "      <th>MFCC5</th>\n",
       "      <th>MFCC6</th>\n",
       "      <th>MFCC7</th>\n",
       "      <th>MFCC8</th>\n",
       "      <th>MFCC9</th>\n",
       "      <th>MFCC10</th>\n",
       "      <th>MFCC11</th>\n",
       "      <th>MFCC12</th>\n",
       "    </tr>\n",
       "  </thead>\n",
       "  <tbody>\n",
       "    <tr>\n",
       "      <th>0</th>\n",
       "      <td>-1.528069</td>\n",
       "      <td>24.999825</td>\n",
       "      <td>24.165910</td>\n",
       "      <td>12.674782</td>\n",
       "      <td>5.653173</td>\n",
       "      <td>7.214385</td>\n",
       "      <td>1.485795</td>\n",
       "      <td>8.789789</td>\n",
       "      <td>0.917394</td>\n",
       "      <td>6.621611</td>\n",
       "      <td>0.824606</td>\n",
       "      <td>1.492313</td>\n",
       "      <td>0.517273</td>\n",
       "    </tr>\n",
       "    <tr>\n",
       "      <th>1</th>\n",
       "      <td>-1.528101</td>\n",
       "      <td>25.323181</td>\n",
       "      <td>23.664504</td>\n",
       "      <td>13.609752</td>\n",
       "      <td>4.870912</td>\n",
       "      <td>8.285742</td>\n",
       "      <td>0.533066</td>\n",
       "      <td>9.859222</td>\n",
       "      <td>0.080067</td>\n",
       "      <td>7.785783</td>\n",
       "      <td>0.155050</td>\n",
       "      <td>2.907563</td>\n",
       "      <td>-0.180629</td>\n",
       "    </tr>\n",
       "    <tr>\n",
       "      <th>2</th>\n",
       "      <td>-1.662120</td>\n",
       "      <td>24.555502</td>\n",
       "      <td>27.534773</td>\n",
       "      <td>14.598178</td>\n",
       "      <td>3.038607</td>\n",
       "      <td>6.588641</td>\n",
       "      <td>-0.130420</td>\n",
       "      <td>10.277530</td>\n",
       "      <td>-1.088754</td>\n",
       "      <td>6.092309</td>\n",
       "      <td>-0.413334</td>\n",
       "      <td>3.373767</td>\n",
       "      <td>0.487513</td>\n",
       "    </tr>\n",
       "    <tr>\n",
       "      <th>3</th>\n",
       "      <td>-1.720085</td>\n",
       "      <td>25.011542</td>\n",
       "      <td>29.660180</td>\n",
       "      <td>15.009168</td>\n",
       "      <td>1.298934</td>\n",
       "      <td>6.233285</td>\n",
       "      <td>-0.534297</td>\n",
       "      <td>11.863069</td>\n",
       "      <td>-1.174127</td>\n",
       "      <td>5.151966</td>\n",
       "      <td>-0.809689</td>\n",
       "      <td>3.493457</td>\n",
       "      <td>0.284411</td>\n",
       "    </tr>\n",
       "    <tr>\n",
       "      <th>4</th>\n",
       "      <td>-1.617799</td>\n",
       "      <td>25.549126</td>\n",
       "      <td>29.992581</td>\n",
       "      <td>15.009510</td>\n",
       "      <td>1.345690</td>\n",
       "      <td>7.089722</td>\n",
       "      <td>-0.331442</td>\n",
       "      <td>12.892941</td>\n",
       "      <td>-1.058761</td>\n",
       "      <td>6.255099</td>\n",
       "      <td>-0.216735</td>\n",
       "      <td>3.898345</td>\n",
       "      <td>0.023903</td>\n",
       "    </tr>\n",
       "  </tbody>\n",
       "</table>\n",
       "</div>"
      ],
      "text/plain": [
       "      MFCC0      MFCC1      MFCC2      MFCC3     MFCC4     MFCC5     MFCC6  \\\n",
       "0 -1.528069  24.999825  24.165910  12.674782  5.653173  7.214385  1.485795   \n",
       "1 -1.528101  25.323181  23.664504  13.609752  4.870912  8.285742  0.533066   \n",
       "2 -1.662120  24.555502  27.534773  14.598178  3.038607  6.588641 -0.130420   \n",
       "3 -1.720085  25.011542  29.660180  15.009168  1.298934  6.233285 -0.534297   \n",
       "4 -1.617799  25.549126  29.992581  15.009510  1.345690  7.089722 -0.331442   \n",
       "\n",
       "       MFCC7     MFCC8     MFCC9    MFCC10    MFCC11    MFCC12  \n",
       "0   8.789789  0.917394  6.621611  0.824606  1.492313  0.517273  \n",
       "1   9.859222  0.080067  7.785783  0.155050  2.907563 -0.180629  \n",
       "2  10.277530 -1.088754  6.092309 -0.413334  3.373767  0.487513  \n",
       "3  11.863069 -1.174127  5.151966 -0.809689  3.493457  0.284411  \n",
       "4  12.892941 -1.058761  6.255099 -0.216735  3.898345  0.023903  "
      ]
     },
     "execution_count": 11,
     "metadata": {},
     "output_type": "execute_result"
    }
   ],
   "source": [
    "df3=pd.read_csv(\"/home/bsplab/Desktop/manikanta/16khz_data/NEWFRAME_SHIFTING_DATA/CNN+MFCC_newshifting/250ms/testing/fanactest_250ms.csv\")\n",
    "df3.columns=['MFCC0', 'MFCC1','MFCC2','MFCC3','MFCC4','MFCC5','MFCC6','MFCC7','MFCC8', 'MFCC9', 'MFCC10' ,'MFCC11', 'MFCC12']\n",
    "df3.head()"
   ]
  },
  {
   "cell_type": "code",
   "execution_count": 12,
   "metadata": {},
   "outputs": [
    {
     "data": {
      "text/plain": [
       "(143981, 13, 1)"
      ]
     },
     "execution_count": 12,
     "metadata": {},
     "output_type": "execute_result"
    }
   ],
   "source": [
    "df4= np.expand_dims(df3, axis=2)# We have to add 1dimension more for testing\n",
    "df4.shape"
   ]
  },
  {
   "cell_type": "code",
   "execution_count": 13,
   "metadata": {},
   "outputs": [
    {
     "name": "stdout",
     "output_type": "stream",
     "text": [
      "6893.26024055481ms\n"
     ]
    }
   ],
   "source": [
    "tic=time.time()\n",
    "my_his2=my_model.predict(df4)\n",
    "toc=time.time()\n",
    "print(str(1000*(toc-tic))+\"ms\")"
   ]
  },
  {
   "cell_type": "code",
   "execution_count": 14,
   "metadata": {},
   "outputs": [
    {
     "name": "stdout",
     "output_type": "stream",
     "text": [
      "(143981,)\n"
     ]
    }
   ],
   "source": [
    "test_pred2 = np.argmax(my_his2, axis=1)\n",
    "test_pred2[150:380]\n",
    "print(test_pred2.shape)"
   ]
  },
  {
   "cell_type": "code",
   "execution_count": 18,
   "metadata": {},
   "outputs": [
    {
     "name": "stdout",
     "output_type": "stream",
     "text": [
      "The tested audio is ac&fan\n",
      "Count is 92492\n"
     ]
    }
   ],
   "source": [
    "c =0\n",
    "for i in  test_pred2:\n",
    "    if i== 0:\n",
    "         c += 1\n",
    "    else:\n",
    "        continue \n",
    "if c > test_pred2.size/2:\n",
    "    print(\"The tested audio is ac&fan\")\n",
    "else:\n",
    "    print(\"Error\")\n",
    "       \n",
    "        \n",
    "print(\"Count is \" + str(c))"
   ]
  },
  {
   "cell_type": "code",
   "execution_count": 37,
   "metadata": {},
   "outputs": [
    {
     "name": "stdout",
     "output_type": "stream",
     "text": [
      "Accuracy is for testing with new environment data of ac&fan: 64.23903153888361\n"
     ]
    }
   ],
   "source": [
    "x=c/test_pred1.size\n",
    "print('Accuracy is for testing with new environment data of ac&fan:',100*x)"
   ]
  },
  {
   "cell_type": "code",
   "execution_count": 19,
   "metadata": {},
   "outputs": [
    {
     "data": {
      "text/html": [
       "<div>\n",
       "<style scoped>\n",
       "    .dataframe tbody tr th:only-of-type {\n",
       "        vertical-align: middle;\n",
       "    }\n",
       "\n",
       "    .dataframe tbody tr th {\n",
       "        vertical-align: top;\n",
       "    }\n",
       "\n",
       "    .dataframe thead th {\n",
       "        text-align: right;\n",
       "    }\n",
       "</style>\n",
       "<table border=\"1\" class=\"dataframe\">\n",
       "  <thead>\n",
       "    <tr style=\"text-align: right;\">\n",
       "      <th></th>\n",
       "      <th>MFCC0</th>\n",
       "      <th>MFCC1</th>\n",
       "      <th>MFCC2</th>\n",
       "      <th>MFCC3</th>\n",
       "      <th>MFCC4</th>\n",
       "      <th>MFCC5</th>\n",
       "      <th>MFCC6</th>\n",
       "      <th>MFCC7</th>\n",
       "      <th>MFCC8</th>\n",
       "      <th>MFCC9</th>\n",
       "      <th>MFCC10</th>\n",
       "      <th>MFCC11</th>\n",
       "      <th>MFCC12</th>\n",
       "    </tr>\n",
       "  </thead>\n",
       "  <tbody>\n",
       "    <tr>\n",
       "      <th>0</th>\n",
       "      <td>-1.134541</td>\n",
       "      <td>-20.487844</td>\n",
       "      <td>-13.760015</td>\n",
       "      <td>3.246202</td>\n",
       "      <td>-32.597762</td>\n",
       "      <td>17.587059</td>\n",
       "      <td>-33.695512</td>\n",
       "      <td>2.830326</td>\n",
       "      <td>1.710832</td>\n",
       "      <td>-8.700560</td>\n",
       "      <td>18.110851</td>\n",
       "      <td>-2.603898</td>\n",
       "      <td>8.202629</td>\n",
       "    </tr>\n",
       "    <tr>\n",
       "      <th>1</th>\n",
       "      <td>-1.179964</td>\n",
       "      <td>-20.141188</td>\n",
       "      <td>-13.259199</td>\n",
       "      <td>3.242886</td>\n",
       "      <td>-32.428630</td>\n",
       "      <td>17.984391</td>\n",
       "      <td>-33.479255</td>\n",
       "      <td>2.263041</td>\n",
       "      <td>2.143565</td>\n",
       "      <td>-7.287058</td>\n",
       "      <td>18.174474</td>\n",
       "      <td>-2.908441</td>\n",
       "      <td>8.665985</td>\n",
       "    </tr>\n",
       "    <tr>\n",
       "      <th>2</th>\n",
       "      <td>-1.215126</td>\n",
       "      <td>-20.138310</td>\n",
       "      <td>-14.068503</td>\n",
       "      <td>3.102818</td>\n",
       "      <td>-33.122855</td>\n",
       "      <td>16.316123</td>\n",
       "      <td>-33.694333</td>\n",
       "      <td>2.081717</td>\n",
       "      <td>1.175639</td>\n",
       "      <td>-8.196891</td>\n",
       "      <td>17.370584</td>\n",
       "      <td>-4.274559</td>\n",
       "      <td>8.534495</td>\n",
       "    </tr>\n",
       "    <tr>\n",
       "      <th>3</th>\n",
       "      <td>-1.253640</td>\n",
       "      <td>-18.963374</td>\n",
       "      <td>-15.976393</td>\n",
       "      <td>0.004072</td>\n",
       "      <td>-34.315426</td>\n",
       "      <td>18.325803</td>\n",
       "      <td>-26.561250</td>\n",
       "      <td>6.338449</td>\n",
       "      <td>-3.368631</td>\n",
       "      <td>-13.922574</td>\n",
       "      <td>14.799424</td>\n",
       "      <td>-3.884607</td>\n",
       "      <td>15.216122</td>\n",
       "    </tr>\n",
       "    <tr>\n",
       "      <th>4</th>\n",
       "      <td>-1.193043</td>\n",
       "      <td>-19.310359</td>\n",
       "      <td>-18.713185</td>\n",
       "      <td>0.081081</td>\n",
       "      <td>-36.636470</td>\n",
       "      <td>16.946856</td>\n",
       "      <td>-19.715096</td>\n",
       "      <td>5.869658</td>\n",
       "      <td>-8.002131</td>\n",
       "      <td>-13.980317</td>\n",
       "      <td>16.757785</td>\n",
       "      <td>-2.942272</td>\n",
       "      <td>18.947688</td>\n",
       "    </tr>\n",
       "  </tbody>\n",
       "</table>\n",
       "</div>"
      ],
      "text/plain": [
       "      MFCC0      MFCC1      MFCC2     MFCC3      MFCC4      MFCC5      MFCC6  \\\n",
       "0 -1.134541 -20.487844 -13.760015  3.246202 -32.597762  17.587059 -33.695512   \n",
       "1 -1.179964 -20.141188 -13.259199  3.242886 -32.428630  17.984391 -33.479255   \n",
       "2 -1.215126 -20.138310 -14.068503  3.102818 -33.122855  16.316123 -33.694333   \n",
       "3 -1.253640 -18.963374 -15.976393  0.004072 -34.315426  18.325803 -26.561250   \n",
       "4 -1.193043 -19.310359 -18.713185  0.081081 -36.636470  16.946856 -19.715096   \n",
       "\n",
       "      MFCC7     MFCC8      MFCC9     MFCC10    MFCC11     MFCC12  \n",
       "0  2.830326  1.710832  -8.700560  18.110851 -2.603898   8.202629  \n",
       "1  2.263041  2.143565  -7.287058  18.174474 -2.908441   8.665985  \n",
       "2  2.081717  1.175639  -8.196891  17.370584 -4.274559   8.534495  \n",
       "3  6.338449 -3.368631 -13.922574  14.799424 -3.884607  15.216122  \n",
       "4  5.869658 -8.002131 -13.980317  16.757785 -2.942272  18.947688  "
      ]
     },
     "execution_count": 19,
     "metadata": {},
     "output_type": "execute_result"
    }
   ],
   "source": [
    "df7=pd.read_csv(\"/home/bsplab/Desktop/manikanta/16khz_data/NEWFRAME_SHIFTING_DATA/CNN+MFCC_newshifting/250ms/testing/musictest_250ms.csv\")\n",
    "df7.columns=['MFCC0', 'MFCC1','MFCC2','MFCC3','MFCC4','MFCC5','MFCC6','MFCC7','MFCC8', 'MFCC9', 'MFCC10' ,'MFCC11', 'MFCC12']\n",
    "df7.head()"
   ]
  },
  {
   "cell_type": "code",
   "execution_count": 20,
   "metadata": {},
   "outputs": [
    {
     "data": {
      "text/plain": [
       "(143981, 13, 1)"
      ]
     },
     "execution_count": 20,
     "metadata": {},
     "output_type": "execute_result"
    }
   ],
   "source": [
    "df8 = np.expand_dims(df7, axis=2)# We have to add 1dimension more for testing\n",
    "df8.shape"
   ]
  },
  {
   "cell_type": "code",
   "execution_count": 21,
   "metadata": {},
   "outputs": [
    {
     "name": "stdout",
     "output_type": "stream",
     "text": [
      "6729.68602180481ms\n"
     ]
    }
   ],
   "source": [
    "tic=time.time()\n",
    "my_his4=my_model.predict(df8)\n",
    "toc=time.time()\n",
    "print(str(1000*(toc-tic))+\"ms\")"
   ]
  },
  {
   "cell_type": "code",
   "execution_count": 22,
   "metadata": {},
   "outputs": [
    {
     "name": "stdout",
     "output_type": "stream",
     "text": [
      "(143981,)\n"
     ]
    }
   ],
   "source": [
    "test_pred4 = np.argmax(my_his4, axis=1)\n",
    "test_pred4[150:380]\n",
    "print(test_pred4.shape)"
   ]
  },
  {
   "cell_type": "code",
   "execution_count": 26,
   "metadata": {},
   "outputs": [
    {
     "name": "stdout",
     "output_type": "stream",
     "text": [
      "The tested audio is music\n",
      "Count is 118836\n"
     ]
    }
   ],
   "source": [
    "c =0\n",
    "for i in  test_pred4:\n",
    "    if i== 2:\n",
    "         c += 1\n",
    "    else:\n",
    "        continue \n",
    "if c > test_pred4.size/2:\n",
    "    print(\"The tested audio is music\")\n",
    "else:\n",
    "    print(\"Error\")\n",
    "       \n",
    "        \n",
    "print(\"Count is \" + str(c))"
   ]
  },
  {
   "cell_type": "code",
   "execution_count": 43,
   "metadata": {},
   "outputs": [
    {
     "name": "stdout",
     "output_type": "stream",
     "text": [
      "Accuracy is for testing with new environment data of music: 82.53589015217285\n"
     ]
    }
   ],
   "source": [
    "x=c/test_pred1.size\n",
    "print('Accuracy is for testing with new environment data of music:',100*x)"
   ]
  },
  {
   "cell_type": "code",
   "execution_count": 27,
   "metadata": {},
   "outputs": [
    {
     "data": {
      "text/html": [
       "<div>\n",
       "<style scoped>\n",
       "    .dataframe tbody tr th:only-of-type {\n",
       "        vertical-align: middle;\n",
       "    }\n",
       "\n",
       "    .dataframe tbody tr th {\n",
       "        vertical-align: top;\n",
       "    }\n",
       "\n",
       "    .dataframe thead th {\n",
       "        text-align: right;\n",
       "    }\n",
       "</style>\n",
       "<table border=\"1\" class=\"dataframe\">\n",
       "  <thead>\n",
       "    <tr style=\"text-align: right;\">\n",
       "      <th></th>\n",
       "      <th>MFCC0</th>\n",
       "      <th>MFCC1</th>\n",
       "      <th>MFCC2</th>\n",
       "      <th>MFCC3</th>\n",
       "      <th>MFCC4</th>\n",
       "      <th>MFCC5</th>\n",
       "      <th>MFCC6</th>\n",
       "      <th>MFCC7</th>\n",
       "      <th>MFCC8</th>\n",
       "      <th>MFCC9</th>\n",
       "      <th>MFCC10</th>\n",
       "      <th>MFCC11</th>\n",
       "      <th>MFCC12</th>\n",
       "    </tr>\n",
       "  </thead>\n",
       "  <tbody>\n",
       "    <tr>\n",
       "      <th>0</th>\n",
       "      <td>-0.289875</td>\n",
       "      <td>2.258400</td>\n",
       "      <td>-41.914954</td>\n",
       "      <td>-4.024645</td>\n",
       "      <td>-7.902380</td>\n",
       "      <td>-19.871502</td>\n",
       "      <td>-13.919534</td>\n",
       "      <td>-1.636795</td>\n",
       "      <td>-0.808601</td>\n",
       "      <td>-35.921280</td>\n",
       "      <td>-5.589058</td>\n",
       "      <td>-10.004502</td>\n",
       "      <td>-11.870955</td>\n",
       "    </tr>\n",
       "    <tr>\n",
       "      <th>1</th>\n",
       "      <td>-0.932115</td>\n",
       "      <td>4.651622</td>\n",
       "      <td>-35.209450</td>\n",
       "      <td>-1.746077</td>\n",
       "      <td>-7.467012</td>\n",
       "      <td>-22.130116</td>\n",
       "      <td>-17.880100</td>\n",
       "      <td>-6.702932</td>\n",
       "      <td>-6.508224</td>\n",
       "      <td>-35.590233</td>\n",
       "      <td>-3.761109</td>\n",
       "      <td>-10.575987</td>\n",
       "      <td>-12.329757</td>\n",
       "    </tr>\n",
       "    <tr>\n",
       "      <th>2</th>\n",
       "      <td>-2.332744</td>\n",
       "      <td>9.115780</td>\n",
       "      <td>-20.119954</td>\n",
       "      <td>-1.832084</td>\n",
       "      <td>-8.780608</td>\n",
       "      <td>-25.854842</td>\n",
       "      <td>-24.363579</td>\n",
       "      <td>-2.415750</td>\n",
       "      <td>-7.440496</td>\n",
       "      <td>-37.154831</td>\n",
       "      <td>-1.612570</td>\n",
       "      <td>-15.719020</td>\n",
       "      <td>-8.436165</td>\n",
       "    </tr>\n",
       "    <tr>\n",
       "      <th>3</th>\n",
       "      <td>-3.042283</td>\n",
       "      <td>11.471622</td>\n",
       "      <td>-12.403395</td>\n",
       "      <td>6.392536</td>\n",
       "      <td>-20.568994</td>\n",
       "      <td>-21.510535</td>\n",
       "      <td>-38.058389</td>\n",
       "      <td>-11.107811</td>\n",
       "      <td>-4.817670</td>\n",
       "      <td>-23.795946</td>\n",
       "      <td>-9.637637</td>\n",
       "      <td>-25.883666</td>\n",
       "      <td>-7.959838</td>\n",
       "    </tr>\n",
       "    <tr>\n",
       "      <th>4</th>\n",
       "      <td>-3.085255</td>\n",
       "      <td>13.708118</td>\n",
       "      <td>-16.291657</td>\n",
       "      <td>-4.319005</td>\n",
       "      <td>-20.464945</td>\n",
       "      <td>-8.739739</td>\n",
       "      <td>-31.295461</td>\n",
       "      <td>-25.391509</td>\n",
       "      <td>-20.898807</td>\n",
       "      <td>-15.938178</td>\n",
       "      <td>-21.201083</td>\n",
       "      <td>-23.255454</td>\n",
       "      <td>-11.559138</td>\n",
       "    </tr>\n",
       "  </tbody>\n",
       "</table>\n",
       "</div>"
      ],
      "text/plain": [
       "      MFCC0      MFCC1      MFCC2     MFCC3      MFCC4      MFCC5      MFCC6  \\\n",
       "0 -0.289875   2.258400 -41.914954 -4.024645  -7.902380 -19.871502 -13.919534   \n",
       "1 -0.932115   4.651622 -35.209450 -1.746077  -7.467012 -22.130116 -17.880100   \n",
       "2 -2.332744   9.115780 -20.119954 -1.832084  -8.780608 -25.854842 -24.363579   \n",
       "3 -3.042283  11.471622 -12.403395  6.392536 -20.568994 -21.510535 -38.058389   \n",
       "4 -3.085255  13.708118 -16.291657 -4.319005 -20.464945  -8.739739 -31.295461   \n",
       "\n",
       "       MFCC7      MFCC8      MFCC9     MFCC10     MFCC11     MFCC12  \n",
       "0  -1.636795  -0.808601 -35.921280  -5.589058 -10.004502 -11.870955  \n",
       "1  -6.702932  -6.508224 -35.590233  -3.761109 -10.575987 -12.329757  \n",
       "2  -2.415750  -7.440496 -37.154831  -1.612570 -15.719020  -8.436165  \n",
       "3 -11.107811  -4.817670 -23.795946  -9.637637 -25.883666  -7.959838  \n",
       "4 -25.391509 -20.898807 -15.938178 -21.201083 -23.255454 -11.559138  "
      ]
     },
     "execution_count": 27,
     "metadata": {},
     "output_type": "execute_result"
    }
   ],
   "source": [
    "df9=pd.read_csv(\"/home/bsplab/Desktop/manikanta/16khz_data/NEWFRAME_SHIFTING_DATA/CNN+MFCC_newshifting/250ms/testing/speechtest_250.csv\")\n",
    "df9.columns=['MFCC0', 'MFCC1','MFCC2','MFCC3','MFCC4','MFCC5','MFCC6','MFCC7','MFCC8', 'MFCC9', 'MFCC10' ,'MFCC11', 'MFCC12']\n",
    "df9.head()"
   ]
  },
  {
   "cell_type": "code",
   "execution_count": 28,
   "metadata": {},
   "outputs": [
    {
     "data": {
      "text/plain": [
       "(143981, 13, 1)"
      ]
     },
     "execution_count": 28,
     "metadata": {},
     "output_type": "execute_result"
    }
   ],
   "source": [
    "df10 = np.expand_dims(df9, axis=2)# We have to add 1dimension more for testing\n",
    "df10.shape"
   ]
  },
  {
   "cell_type": "code",
   "execution_count": 29,
   "metadata": {},
   "outputs": [
    {
     "name": "stdout",
     "output_type": "stream",
     "text": [
      "6989.554882049561ms\n"
     ]
    }
   ],
   "source": [
    "tic=time.time()\n",
    "my_his5=my_model.predict(df10)\n",
    "toc=time.time()\n",
    "print(str(1000*(toc-tic))+\"ms\")"
   ]
  },
  {
   "cell_type": "code",
   "execution_count": 30,
   "metadata": {},
   "outputs": [
    {
     "name": "stdout",
     "output_type": "stream",
     "text": [
      "(143981,)\n"
     ]
    }
   ],
   "source": [
    "test_pred5 = np.argmax(my_his5, axis=1)\n",
    "test_pred5[150:380]\n",
    "print(test_pred5.shape)"
   ]
  },
  {
   "cell_type": "code",
   "execution_count": 34,
   "metadata": {},
   "outputs": [
    {
     "name": "stdout",
     "output_type": "stream",
     "text": [
      "The tested audio is speech\n",
      "Count is 132977\n"
     ]
    }
   ],
   "source": [
    "c =0\n",
    "for i in  test_pred5:\n",
    "    if i== 3:\n",
    "         c += 1\n",
    "    else:\n",
    "        continue \n",
    "if c > test_pred5.size/2:\n",
    "    print(\"The tested audio is speech\")\n",
    "else:\n",
    "    print(\"Error\")\n",
    "       \n",
    "        \n",
    "print(\"Count is \" + str(c))"
   ]
  },
  {
   "cell_type": "code",
   "execution_count": 51,
   "metadata": {},
   "outputs": [
    {
     "name": "stdout",
     "output_type": "stream",
     "text": [
      "Accuracy is for testing with new environment data of speech: 92.35732492481647\n"
     ]
    }
   ],
   "source": [
    "x=c/test_pred1.size\n",
    "print('Accuracy is for testing with new environment data of speech:',100*x)"
   ]
  },
  {
   "cell_type": "code",
   "execution_count": null,
   "metadata": {},
   "outputs": [],
   "source": []
  }
 ],
 "metadata": {
  "kernelspec": {
   "display_name": "Python 3",
   "language": "python",
   "name": "python3"
  },
  "language_info": {
   "codemirror_mode": {
    "name": "ipython",
    "version": 3
   },
   "file_extension": ".py",
   "mimetype": "text/x-python",
   "name": "python",
   "nbconvert_exporter": "python",
   "pygments_lexer": "ipython3",
   "version": "3.6.8"
  }
 },
 "nbformat": 4,
 "nbformat_minor": 2
}
